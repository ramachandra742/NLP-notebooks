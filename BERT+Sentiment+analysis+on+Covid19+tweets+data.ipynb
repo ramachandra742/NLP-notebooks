{
  "nbformat": 4,
  "nbformat_minor": 0,
  "metadata": {
    "kernelspec": {
      "display_name": "Python 3",
      "language": "python",
      "name": "python3"
    },
    "language_info": {
      "codemirror_mode": {
        "name": "ipython",
        "version": 3
      },
      "file_extension": ".py",
      "mimetype": "text/x-python",
      "name": "python",
      "nbconvert_exporter": "python",
      "pygments_lexer": "ipython3",
      "version": "3.7.6"
    },
    "papermill": {
      "duration": 15955.088994,
      "end_time": "2020-11-05T13:15:49.749921",
      "environment_variables": {},
      "exception": null,
      "input_path": "__notebook__.ipynb",
      "output_path": "__notebook__.ipynb",
      "parameters": {},
      "start_time": "2020-11-05T08:49:54.660927",
      "version": "2.1.0"
    },
    "colab": {
      "name": "BERT+Sentiment+analysis+on+Covid19+tweets+data.ipynb",
      "provenance": [],
      "collapsed_sections": [
        "lHoqYJ3aXUln",
        "LF_-831Jtrj1",
        "Q7pt-8TKtva9",
        "hngvutBoxSqc",
        "RgHByWsy1r_f",
        "wklVbR5ek4E8",
        "OB9r1YKU6rzo",
        "g810P-fa62Yk",
        "PnU6Yl_8OBEg",
        "bYMtjin_Rb2I",
        "cd-ombgDeb3o",
        "yW5e6-eXfW1_"
      ]
    }
  },
  "cells": [
    {
      "cell_type": "code",
      "metadata": {
        "execution": {
          "iopub.execute_input": "2020-11-05T08:49:59.669889Z",
          "iopub.status.busy": "2020-11-05T08:49:59.668858Z",
          "iopub.status.idle": "2020-11-05T08:50:09.936161Z",
          "shell.execute_reply": "2020-11-05T08:50:09.935382Z"
        },
        "id": "D4C411Q_0Zx2",
        "papermill": {
          "duration": 10.364623,
          "end_time": "2020-11-05T08:50:09.936307",
          "exception": false,
          "start_time": "2020-11-05T08:49:59.571684",
          "status": "completed"
        },
        "tags": [],
        "outputId": "c551e65b-3923-4d89-f894-72d616862ad8"
      },
      "source": [
        "# import required libraries\n",
        "import pandas as pd\n",
        "import numpy as np\n",
        "import seaborn as sns\n",
        "import re\n",
        "import matplotlib.pyplot as plt\n",
        "from collections import defaultdict\n",
        "\n",
        "from sklearn.model_selection import train_test_split\n",
        "from sklearn.preprocessing import LabelEncoder,label_binarize\n",
        "from sklearn.metrics import confusion_matrix,classification_report\n",
        "from sklearn.metrics import precision_recall_curve,roc_auc_score,roc_curve\n",
        "\n",
        "from keras.preprocessing.sequence import pad_sequences\n",
        "\n",
        "from imblearn.over_sampling import SMOTE\n",
        "\n",
        "import transformers\n",
        "from transformers import BertModel, BertTokenizerFast\n",
        "from transformers import AdamW, AdamWeightDecay, get_linear_schedule_with_warmup\n",
        "\n",
        "import torch\n",
        "from torch import optim, nn\n",
        "from torch.utils.data import DataLoader, Dataset\n",
        "import torch.nn.functional as F \n",
        "\n",
        "%config InlineBackend.figure_format='retina'\n",
        "%matplotlib inline\n",
        "\n",
        "sns.set(style='whitegrid')\n",
        "\n",
        "import warnings\n",
        "warnings.filterwarnings('ignore')\n",
        "\n",
        "seed=123\n",
        "np.random.seed(seed)\n",
        "torch.manual_seed(seed)"
      ],
      "execution_count": null,
      "outputs": [
        {
          "output_type": "stream",
          "text": [
            "\u001b[34m\u001b[1mwandb\u001b[0m: \u001b[33mWARNING\u001b[0m W&B installed but not logged in.  Run `wandb login` or set the WANDB_API_KEY env variable.\n"
          ],
          "name": "stderr"
        },
        {
          "output_type": "execute_result",
          "data": {
            "text/plain": [
              "<torch._C.Generator at 0x7fa92444d350>"
            ]
          },
          "metadata": {
            "tags": []
          },
          "execution_count": 1
        }
      ]
    },
    {
      "cell_type": "code",
      "metadata": {
        "execution": {
          "iopub.execute_input": "2020-11-05T08:50:10.066660Z",
          "iopub.status.busy": "2020-11-05T08:50:10.065552Z",
          "iopub.status.idle": "2020-11-05T08:50:10.069069Z",
          "shell.execute_reply": "2020-11-05T08:50:10.069560Z"
        },
        "id": "lSuDZ8ClkDGh",
        "papermill": {
          "duration": 0.073034,
          "end_time": "2020-11-05T08:50:10.069685",
          "exception": false,
          "start_time": "2020-11-05T08:50:09.996651",
          "status": "completed"
        },
        "tags": [],
        "outputId": "b95d1dd2-059d-41c4-ec96-44832ec45d74"
      },
      "source": [
        "device=torch.device('cuda:0')\n",
        "torch.cuda.get_device_name(0)"
      ],
      "execution_count": null,
      "outputs": [
        {
          "output_type": "execute_result",
          "data": {
            "text/plain": [
              "'Tesla P100-PCIE-16GB'"
            ]
          },
          "metadata": {
            "tags": []
          },
          "execution_count": 2
        }
      ]
    },
    {
      "cell_type": "markdown",
      "metadata": {
        "id": "aTgmiAIR0GJ4",
        "papermill": {
          "duration": 0.061317,
          "end_time": "2020-11-05T08:50:10.192139",
          "exception": false,
          "start_time": "2020-11-05T08:50:10.130822",
          "status": "completed"
        },
        "tags": []
      },
      "source": [
        "## Read the datasets"
      ]
    },
    {
      "cell_type": "code",
      "metadata": {
        "execution": {
          "iopub.execute_input": "2020-11-05T08:50:10.316300Z",
          "iopub.status.busy": "2020-11-05T08:50:10.315493Z",
          "iopub.status.idle": "2020-11-05T08:50:17.334952Z",
          "shell.execute_reply": "2020-11-05T08:50:17.334136Z"
        },
        "id": "DCc6TTW20Bku",
        "papermill": {
          "duration": 7.083104,
          "end_time": "2020-11-05T08:50:17.335083",
          "exception": false,
          "start_time": "2020-11-05T08:50:10.251979",
          "status": "completed"
        },
        "tags": []
      },
      "source": [
        "test_df=pd.read_excel('../input/coronavirus-tweets/Corona_NLP_test.xlsx')\n",
        "train_df=pd.read_excel('../input/coronavirus-tweets/Corona_NLP_train.xlsx')"
      ],
      "execution_count": null,
      "outputs": []
    },
    {
      "cell_type": "code",
      "metadata": {
        "execution": {
          "iopub.execute_input": "2020-11-05T08:50:17.456849Z",
          "iopub.status.busy": "2020-11-05T08:50:17.454133Z",
          "iopub.status.idle": "2020-11-05T08:50:17.459751Z",
          "shell.execute_reply": "2020-11-05T08:50:17.458884Z"
        },
        "id": "iRjBL4hJ1xzr",
        "papermill": {
          "duration": 0.067618,
          "end_time": "2020-11-05T08:50:17.459906",
          "exception": false,
          "start_time": "2020-11-05T08:50:17.392288",
          "status": "completed"
        },
        "tags": [],
        "outputId": "ff4da60e-a547-4ee6-9ad2-cdaabc945eef"
      },
      "source": [
        "print(f'Shape of the train dataset: {train_df.shape}')\n",
        "print(f'Shape of the test dataset: {test_df.shape}')"
      ],
      "execution_count": null,
      "outputs": [
        {
          "output_type": "stream",
          "text": [
            "Shape of the train dataset: (41157, 6)\n",
            "Shape of the test dataset: (3798, 6)\n"
          ],
          "name": "stdout"
        }
      ]
    },
    {
      "cell_type": "code",
      "metadata": {
        "execution": {
          "iopub.execute_input": "2020-11-05T08:50:17.585444Z",
          "iopub.status.busy": "2020-11-05T08:50:17.583972Z",
          "iopub.status.idle": "2020-11-05T08:50:17.590681Z",
          "shell.execute_reply": "2020-11-05T08:50:17.590211Z"
        },
        "id": "k7NEPX4J2QkJ",
        "papermill": {
          "duration": 0.073944,
          "end_time": "2020-11-05T08:50:17.590803",
          "exception": false,
          "start_time": "2020-11-05T08:50:17.516859",
          "status": "completed"
        },
        "tags": [],
        "outputId": "eadb521c-68ab-41ee-ed70-671977da77ed"
      },
      "source": [
        "# Unique classes in target variable (Sentiment)\n",
        "train_df.Sentiment.unique()"
      ],
      "execution_count": null,
      "outputs": [
        {
          "output_type": "execute_result",
          "data": {
            "text/plain": [
              "array(['Neutral', 'Positive', 'Extremely Negative', 'Negative',\n",
              "       'Extremely Positive'], dtype=object)"
            ]
          },
          "metadata": {
            "tags": []
          },
          "execution_count": 5
        }
      ]
    },
    {
      "cell_type": "code",
      "metadata": {
        "execution": {
          "iopub.execute_input": "2020-11-05T08:50:17.727309Z",
          "iopub.status.busy": "2020-11-05T08:50:17.723901Z",
          "iopub.status.idle": "2020-11-05T08:50:17.736651Z",
          "shell.execute_reply": "2020-11-05T08:50:17.737222Z"
        },
        "id": "gDdrr7CV9r67",
        "papermill": {
          "duration": 0.087042,
          "end_time": "2020-11-05T08:50:17.737365",
          "exception": false,
          "start_time": "2020-11-05T08:50:17.650323",
          "status": "completed"
        },
        "tags": [],
        "outputId": "525292cd-c534-4837-b303-cc235be7054b"
      },
      "source": [
        "train_df.head()"
      ],
      "execution_count": null,
      "outputs": [
        {
          "output_type": "execute_result",
          "data": {
            "text/html": [
              "<div>\n",
              "<style scoped>\n",
              "    .dataframe tbody tr th:only-of-type {\n",
              "        vertical-align: middle;\n",
              "    }\n",
              "\n",
              "    .dataframe tbody tr th {\n",
              "        vertical-align: top;\n",
              "    }\n",
              "\n",
              "    .dataframe thead th {\n",
              "        text-align: right;\n",
              "    }\n",
              "</style>\n",
              "<table border=\"1\" class=\"dataframe\">\n",
              "  <thead>\n",
              "    <tr style=\"text-align: right;\">\n",
              "      <th></th>\n",
              "      <th>UserName</th>\n",
              "      <th>ScreenName</th>\n",
              "      <th>Location</th>\n",
              "      <th>TweetAt</th>\n",
              "      <th>OriginalTweet</th>\n",
              "      <th>Sentiment</th>\n",
              "    </tr>\n",
              "  </thead>\n",
              "  <tbody>\n",
              "    <tr>\n",
              "      <th>0</th>\n",
              "      <td>3799</td>\n",
              "      <td>48751</td>\n",
              "      <td>London</td>\n",
              "      <td>16-03-2020</td>\n",
              "      <td>@MeNyrbie @Phil_Gahan @Chrisitv https://t.co/i...</td>\n",
              "      <td>Neutral</td>\n",
              "    </tr>\n",
              "    <tr>\n",
              "      <th>1</th>\n",
              "      <td>3800</td>\n",
              "      <td>48752</td>\n",
              "      <td>UK</td>\n",
              "      <td>16-03-2020</td>\n",
              "      <td>advice Talk to your neighbours family to excha...</td>\n",
              "      <td>Positive</td>\n",
              "    </tr>\n",
              "    <tr>\n",
              "      <th>2</th>\n",
              "      <td>3801</td>\n",
              "      <td>48753</td>\n",
              "      <td>Vagabonds</td>\n",
              "      <td>16-03-2020</td>\n",
              "      <td>Coronavirus Australia: Woolworths to give elde...</td>\n",
              "      <td>Positive</td>\n",
              "    </tr>\n",
              "    <tr>\n",
              "      <th>3</th>\n",
              "      <td>3802</td>\n",
              "      <td>48754</td>\n",
              "      <td>NaN</td>\n",
              "      <td>16-03-2020</td>\n",
              "      <td>My food stock is not the only one which is emp...</td>\n",
              "      <td>Positive</td>\n",
              "    </tr>\n",
              "    <tr>\n",
              "      <th>4</th>\n",
              "      <td>3803</td>\n",
              "      <td>48755</td>\n",
              "      <td>NaN</td>\n",
              "      <td>16-03-2020</td>\n",
              "      <td>Me, ready to go at supermarket during the #COV...</td>\n",
              "      <td>Extremely Negative</td>\n",
              "    </tr>\n",
              "  </tbody>\n",
              "</table>\n",
              "</div>"
            ],
            "text/plain": [
              "   UserName  ScreenName   Location     TweetAt  \\\n",
              "0      3799       48751     London  16-03-2020   \n",
              "1      3800       48752         UK  16-03-2020   \n",
              "2      3801       48753  Vagabonds  16-03-2020   \n",
              "3      3802       48754        NaN  16-03-2020   \n",
              "4      3803       48755        NaN  16-03-2020   \n",
              "\n",
              "                                       OriginalTweet           Sentiment  \n",
              "0  @MeNyrbie @Phil_Gahan @Chrisitv https://t.co/i...             Neutral  \n",
              "1  advice Talk to your neighbours family to excha...            Positive  \n",
              "2  Coronavirus Australia: Woolworths to give elde...            Positive  \n",
              "3  My food stock is not the only one which is emp...            Positive  \n",
              "4  Me, ready to go at supermarket during the #COV...  Extremely Negative  "
            ]
          },
          "metadata": {
            "tags": []
          },
          "execution_count": 6
        }
      ]
    },
    {
      "cell_type": "code",
      "metadata": {
        "execution": {
          "iopub.execute_input": "2020-11-05T08:50:17.871182Z",
          "iopub.status.busy": "2020-11-05T08:50:17.869979Z",
          "iopub.status.idle": "2020-11-05T08:50:17.875897Z",
          "shell.execute_reply": "2020-11-05T08:50:17.875280Z"
        },
        "id": "64P3SYgZ9VJ6",
        "papermill": {
          "duration": 0.07966,
          "end_time": "2020-11-05T08:50:17.876017",
          "exception": false,
          "start_time": "2020-11-05T08:50:17.796357",
          "status": "completed"
        },
        "tags": [],
        "outputId": "18320f4c-5251-4a9a-d80f-ebf91643710d"
      },
      "source": [
        "test_df.head()"
      ],
      "execution_count": null,
      "outputs": [
        {
          "output_type": "execute_result",
          "data": {
            "text/html": [
              "<div>\n",
              "<style scoped>\n",
              "    .dataframe tbody tr th:only-of-type {\n",
              "        vertical-align: middle;\n",
              "    }\n",
              "\n",
              "    .dataframe tbody tr th {\n",
              "        vertical-align: top;\n",
              "    }\n",
              "\n",
              "    .dataframe thead th {\n",
              "        text-align: right;\n",
              "    }\n",
              "</style>\n",
              "<table border=\"1\" class=\"dataframe\">\n",
              "  <thead>\n",
              "    <tr style=\"text-align: right;\">\n",
              "      <th></th>\n",
              "      <th>UserName</th>\n",
              "      <th>ScreenName</th>\n",
              "      <th>Location</th>\n",
              "      <th>TweetAt</th>\n",
              "      <th>OriginalTweet</th>\n",
              "      <th>Sentiment</th>\n",
              "    </tr>\n",
              "  </thead>\n",
              "  <tbody>\n",
              "    <tr>\n",
              "      <th>0</th>\n",
              "      <td>1</td>\n",
              "      <td>44953</td>\n",
              "      <td>NYC</td>\n",
              "      <td>2020-02-03 00:00:00</td>\n",
              "      <td>TRENDING: New Yorkers encounter empty supermar...</td>\n",
              "      <td>Extremely Negative</td>\n",
              "    </tr>\n",
              "    <tr>\n",
              "      <th>1</th>\n",
              "      <td>2</td>\n",
              "      <td>44954</td>\n",
              "      <td>Seattle, WA</td>\n",
              "      <td>2020-02-03 00:00:00</td>\n",
              "      <td>When I couldn't find hand sanitizer at Fred Me...</td>\n",
              "      <td>Positive</td>\n",
              "    </tr>\n",
              "    <tr>\n",
              "      <th>2</th>\n",
              "      <td>3</td>\n",
              "      <td>44955</td>\n",
              "      <td>NaN</td>\n",
              "      <td>2020-02-03 00:00:00</td>\n",
              "      <td>Find out how you can protect yourself and love...</td>\n",
              "      <td>Extremely Positive</td>\n",
              "    </tr>\n",
              "    <tr>\n",
              "      <th>3</th>\n",
              "      <td>4</td>\n",
              "      <td>44956</td>\n",
              "      <td>Chicagoland</td>\n",
              "      <td>2020-02-03 00:00:00</td>\n",
              "      <td>#Panic buying hits #NewYork City as anxious sh...</td>\n",
              "      <td>Negative</td>\n",
              "    </tr>\n",
              "    <tr>\n",
              "      <th>4</th>\n",
              "      <td>5</td>\n",
              "      <td>44957</td>\n",
              "      <td>Melbourne, Victoria</td>\n",
              "      <td>2020-03-03 00:00:00</td>\n",
              "      <td>#toiletpaper #dunnypaper #coronavirus #coronav...</td>\n",
              "      <td>Neutral</td>\n",
              "    </tr>\n",
              "  </tbody>\n",
              "</table>\n",
              "</div>"
            ],
            "text/plain": [
              "   UserName  ScreenName             Location              TweetAt  \\\n",
              "0         1       44953                  NYC  2020-02-03 00:00:00   \n",
              "1         2       44954          Seattle, WA  2020-02-03 00:00:00   \n",
              "2         3       44955                  NaN  2020-02-03 00:00:00   \n",
              "3         4       44956          Chicagoland  2020-02-03 00:00:00   \n",
              "4         5       44957  Melbourne, Victoria  2020-03-03 00:00:00   \n",
              "\n",
              "                                       OriginalTweet           Sentiment  \n",
              "0  TRENDING: New Yorkers encounter empty supermar...  Extremely Negative  \n",
              "1  When I couldn't find hand sanitizer at Fred Me...            Positive  \n",
              "2  Find out how you can protect yourself and love...  Extremely Positive  \n",
              "3  #Panic buying hits #NewYork City as anxious sh...            Negative  \n",
              "4  #toiletpaper #dunnypaper #coronavirus #coronav...             Neutral  "
            ]
          },
          "metadata": {
            "tags": []
          },
          "execution_count": 7
        }
      ]
    },
    {
      "cell_type": "markdown",
      "metadata": {
        "id": "AEeuuYeHWf2D",
        "papermill": {
          "duration": 0.064094,
          "end_time": "2020-11-05T08:50:18.005451",
          "exception": false,
          "start_time": "2020-11-05T08:50:17.941357",
          "status": "completed"
        },
        "tags": []
      },
      "source": [
        "Both train_df & test_df contains html tags,special characters (@,# etc), https links, which are not required for the Sentiment analysis. So we need to remove those by normalizing the tweets data to reduce dimensionality & noise in the data."
      ]
    },
    {
      "cell_type": "markdown",
      "metadata": {
        "id": "OHAYbmAJky3I",
        "papermill": {
          "duration": 0.058518,
          "end_time": "2020-11-05T08:50:18.124537",
          "exception": false,
          "start_time": "2020-11-05T08:50:18.066019",
          "status": "completed"
        },
        "tags": []
      },
      "source": [
        "Let's check missing values if there are any."
      ]
    },
    {
      "cell_type": "code",
      "metadata": {
        "execution": {
          "iopub.execute_input": "2020-11-05T08:50:18.267526Z",
          "iopub.status.busy": "2020-11-05T08:50:18.266505Z",
          "iopub.status.idle": "2020-11-05T08:50:18.283975Z",
          "shell.execute_reply": "2020-11-05T08:50:18.284714Z"
        },
        "id": "GYNF29Dvk1Ri",
        "papermill": {
          "duration": 0.100789,
          "end_time": "2020-11-05T08:50:18.284897",
          "exception": false,
          "start_time": "2020-11-05T08:50:18.184108",
          "status": "completed"
        },
        "tags": [],
        "outputId": "3e1a04f2-f3a2-4132-c174-87077df22f87"
      },
      "source": [
        "\n",
        "train_df.info()"
      ],
      "execution_count": null,
      "outputs": [
        {
          "output_type": "stream",
          "text": [
            "<class 'pandas.core.frame.DataFrame'>\n",
            "RangeIndex: 41157 entries, 0 to 41156\n",
            "Data columns (total 6 columns):\n",
            " #   Column         Non-Null Count  Dtype \n",
            "---  ------         --------------  ----- \n",
            " 0   UserName       41157 non-null  int64 \n",
            " 1   ScreenName     41157 non-null  int64 \n",
            " 2   Location       32563 non-null  object\n",
            " 3   TweetAt        41157 non-null  object\n",
            " 4   OriginalTweet  41157 non-null  object\n",
            " 5   Sentiment      41157 non-null  object\n",
            "dtypes: int64(2), object(4)\n",
            "memory usage: 1.9+ MB\n"
          ],
          "name": "stdout"
        }
      ]
    },
    {
      "cell_type": "code",
      "metadata": {
        "execution": {
          "iopub.execute_input": "2020-11-05T08:50:18.426372Z",
          "iopub.status.busy": "2020-11-05T08:50:18.425532Z",
          "iopub.status.idle": "2020-11-05T08:50:18.429839Z",
          "shell.execute_reply": "2020-11-05T08:50:18.430656Z"
        },
        "id": "mRBNv-Ezk94a",
        "papermill": {
          "duration": 0.079679,
          "end_time": "2020-11-05T08:50:18.430909",
          "exception": false,
          "start_time": "2020-11-05T08:50:18.351230",
          "status": "completed"
        },
        "tags": [],
        "outputId": "e1ea07ed-b3db-418c-e1dd-b5e5440ed1c1"
      },
      "source": [
        "test_df.info()"
      ],
      "execution_count": null,
      "outputs": [
        {
          "output_type": "stream",
          "text": [
            "<class 'pandas.core.frame.DataFrame'>\n",
            "RangeIndex: 3798 entries, 0 to 3797\n",
            "Data columns (total 6 columns):\n",
            " #   Column         Non-Null Count  Dtype \n",
            "---  ------         --------------  ----- \n",
            " 0   UserName       3798 non-null   int64 \n",
            " 1   ScreenName     3798 non-null   int64 \n",
            " 2   Location       2963 non-null   object\n",
            " 3   TweetAt        3798 non-null   object\n",
            " 4   OriginalTweet  3798 non-null   object\n",
            " 5   Sentiment      3798 non-null   object\n",
            "dtypes: int64(2), object(4)\n",
            "memory usage: 178.2+ KB\n"
          ],
          "name": "stdout"
        }
      ]
    },
    {
      "cell_type": "code",
      "metadata": {
        "execution": {
          "iopub.execute_input": "2020-11-05T08:50:18.576986Z",
          "iopub.status.busy": "2020-11-05T08:50:18.576100Z",
          "iopub.status.idle": "2020-11-05T08:50:18.579287Z",
          "shell.execute_reply": "2020-11-05T08:50:18.578674Z"
        },
        "id": "CfgMPXvSWXuX",
        "papermill": {
          "duration": 0.080057,
          "end_time": "2020-11-05T08:50:18.579419",
          "exception": false,
          "start_time": "2020-11-05T08:50:18.499362",
          "status": "completed"
        },
        "tags": []
      },
      "source": [
        "def preprocessing(df):\n",
        "    # drop unneeded columns\n",
        "    df=df.drop(['UserName','ScreenName'],axis=1)\n",
        "    \n",
        "    # Replace @,# etc by ' '\n",
        "    df['OriginalTweet']=df['OriginalTweet'].apply(lambda x: re.sub(r'[@#]',' ',x))\n",
        "    #Excluding html tags\n",
        "    df['OriginalTweet']=df['OriginalTweet'].apply(lambda x: re.sub(r'<[^<>]+>]',' ',x))\n",
        "    # Replace https links by ' '\n",
        "    df['OriginalTweet']=df['OriginalTweet'].apply(lambda x: re.sub(r'http://\\S+|https://\\S+',' ',x))\n",
        "    return df"
      ],
      "execution_count": null,
      "outputs": []
    },
    {
      "cell_type": "code",
      "metadata": {
        "execution": {
          "iopub.execute_input": "2020-11-05T08:50:18.720966Z",
          "iopub.status.busy": "2020-11-05T08:50:18.720230Z",
          "iopub.status.idle": "2020-11-05T08:50:19.289412Z",
          "shell.execute_reply": "2020-11-05T08:50:19.288834Z"
        },
        "id": "KIaQvoPvaAAT",
        "papermill": {
          "duration": 0.641405,
          "end_time": "2020-11-05T08:50:19.289536",
          "exception": false,
          "start_time": "2020-11-05T08:50:18.648131",
          "status": "completed"
        },
        "tags": []
      },
      "source": [
        "train_df=preprocessing(train_df)\n",
        "test_df=preprocessing(test_df)"
      ],
      "execution_count": null,
      "outputs": []
    },
    {
      "cell_type": "markdown",
      "metadata": {
        "id": "JNV-tB614BqO",
        "papermill": {
          "duration": 0.061695,
          "end_time": "2020-11-05T08:50:19.412054",
          "exception": false,
          "start_time": "2020-11-05T08:50:19.350359",
          "status": "completed"
        },
        "tags": []
      },
      "source": [
        "## Check class imbalance in target variable"
      ]
    },
    {
      "cell_type": "code",
      "metadata": {
        "execution": {
          "iopub.execute_input": "2020-11-05T08:50:19.542746Z",
          "iopub.status.busy": "2020-11-05T08:50:19.541933Z",
          "iopub.status.idle": "2020-11-05T08:50:19.826181Z",
          "shell.execute_reply": "2020-11-05T08:50:19.826742Z"
        },
        "id": "2ofbrlZvaGGq",
        "papermill": {
          "duration": 0.352428,
          "end_time": "2020-11-05T08:50:19.826917",
          "exception": false,
          "start_time": "2020-11-05T08:50:19.474489",
          "status": "completed"
        },
        "tags": [],
        "outputId": "a27cd0af-f821-47b6-a98e-59666e0fc29e"
      },
      "source": [
        "plt.figure(figsize=(10,6))\n",
        "sns.countplot(train_df['Sentiment'])"
      ],
      "execution_count": null,
      "outputs": [
        {
          "output_type": "execute_result",
          "data": {
            "text/plain": [
              "<matplotlib.axes._subplots.AxesSubplot at 0x7fa91138c990>"
            ]
          },
          "metadata": {
            "tags": []
          },
          "execution_count": 12
        },
        {
          "output_type": "display_data",
          "data": {
            "image/png": "[encoded data removed]",
            "text/plain": [
              "<Figure size 720x432 with 1 Axes>"
            ]
          },
          "metadata": {
            "tags": [],
            "image/png": {
              "height": 376,
              "width": 632
            }
          }
        }
      ]
    },
    {
      "cell_type": "markdown",
      "metadata": {
        "id": "lHoqYJ3aXUln",
        "papermill": {
          "duration": 0.066641,
          "end_time": "2020-11-05T08:50:19.959061",
          "exception": false,
          "start_time": "2020-11-05T08:50:19.892420",
          "status": "completed"
        },
        "tags": []
      },
      "source": [
        "## Encode our target labels"
      ]
    },
    {
      "cell_type": "code",
      "metadata": {
        "execution": {
          "iopub.execute_input": "2020-11-05T08:50:20.108934Z",
          "iopub.status.busy": "2020-11-05T08:50:20.096668Z",
          "iopub.status.idle": "2020-11-05T08:50:20.117301Z",
          "shell.execute_reply": "2020-11-05T08:50:20.116719Z"
        },
        "id": "yWxqQvhSXdyI",
        "papermill": {
          "duration": 0.093439,
          "end_time": "2020-11-05T08:50:20.117420",
          "exception": false,
          "start_time": "2020-11-05T08:50:20.023981",
          "status": "completed"
        },
        "tags": []
      },
      "source": [
        "le=LabelEncoder()\n",
        "train_df['Sentiment']=le.fit_transform(train_df['Sentiment'])\n",
        "test_df['Sentiment']=le.transform(test_df['Sentiment'])"
      ],
      "execution_count": null,
      "outputs": []
    },
    {
      "cell_type": "code",
      "metadata": {
        "execution": {
          "iopub.execute_input": "2020-11-05T08:50:20.259109Z",
          "iopub.status.busy": "2020-11-05T08:50:20.257951Z",
          "iopub.status.idle": "2020-11-05T08:50:20.263048Z",
          "shell.execute_reply": "2020-11-05T08:50:20.262458Z"
        },
        "id": "MAxMvuVU53NI",
        "papermill": {
          "duration": 0.077444,
          "end_time": "2020-11-05T08:50:20.263174",
          "exception": false,
          "start_time": "2020-11-05T08:50:20.185730",
          "status": "completed"
        },
        "tags": [],
        "outputId": "24031733-d71f-4bef-ef55-02dd304c735a"
      },
      "source": [
        "train_df.dtypes"
      ],
      "execution_count": null,
      "outputs": [
        {
          "output_type": "execute_result",
          "data": {
            "text/plain": [
              "Location         object\n",
              "TweetAt          object\n",
              "OriginalTweet    object\n",
              "Sentiment         int64\n",
              "dtype: object"
            ]
          },
          "metadata": {
            "tags": []
          },
          "execution_count": 14
        }
      ]
    },
    {
      "cell_type": "code",
      "metadata": {
        "execution": {
          "iopub.execute_input": "2020-11-05T08:50:20.396942Z",
          "iopub.status.busy": "2020-11-05T08:50:20.396051Z",
          "iopub.status.idle": "2020-11-05T08:50:20.399954Z",
          "shell.execute_reply": "2020-11-05T08:50:20.400642Z"
        },
        "id": "oPtHyqOPYfHl",
        "papermill": {
          "duration": 0.072657,
          "end_time": "2020-11-05T08:50:20.400822",
          "exception": false,
          "start_time": "2020-11-05T08:50:20.328165",
          "status": "completed"
        },
        "tags": [],
        "outputId": "9efb6d87-e11a-4db8-fd82-81a6af905752"
      },
      "source": [
        "le.classes_"
      ],
      "execution_count": null,
      "outputs": [
        {
          "output_type": "execute_result",
          "data": {
            "text/plain": [
              "array(['Extremely Negative', 'Extremely Positive', 'Negative', 'Neutral',\n",
              "       'Positive'], dtype=object)"
            ]
          },
          "metadata": {
            "tags": []
          },
          "execution_count": 15
        }
      ]
    },
    {
      "cell_type": "code",
      "metadata": {
        "execution": {
          "iopub.execute_input": "2020-11-05T08:50:20.536933Z",
          "iopub.status.busy": "2020-11-05T08:50:20.535888Z",
          "iopub.status.idle": "2020-11-05T08:50:20.538426Z",
          "shell.execute_reply": "2020-11-05T08:50:20.538959Z"
        },
        "id": "EmdkvMmSi5DT",
        "papermill": {
          "duration": 0.073036,
          "end_time": "2020-11-05T08:50:20.539092",
          "exception": false,
          "start_time": "2020-11-05T08:50:20.466056",
          "status": "completed"
        },
        "tags": []
      },
      "source": [
        "class_names=['Extremely Negative','Extremely Positive','Negative','Neutral','Positive']"
      ],
      "execution_count": null,
      "outputs": []
    },
    {
      "cell_type": "markdown",
      "metadata": {
        "id": "f2frW35vaoGt",
        "papermill": {
          "duration": 0.06643,
          "end_time": "2020-11-05T08:50:20.673109",
          "exception": false,
          "start_time": "2020-11-05T08:50:20.606679",
          "status": "completed"
        },
        "tags": []
      },
      "source": [
        "Here, 0 - Extremely Negative, 1 - Extremely Positive, 2 - Negative, 3 - Neutral, 4 - Positive"
      ]
    },
    {
      "cell_type": "markdown",
      "metadata": {
        "id": "2cg8xRFGuLEw",
        "papermill": {
          "duration": 0.064741,
          "end_time": "2020-11-05T08:50:20.802617",
          "exception": false,
          "start_time": "2020-11-05T08:50:20.737876",
          "status": "completed"
        },
        "tags": []
      },
      "source": [
        "# **BERT model**"
      ]
    },
    {
      "cell_type": "markdown",
      "metadata": {
        "id": "LF_-831Jtrj1",
        "papermill": {
          "duration": 0.067241,
          "end_time": "2020-11-05T08:50:20.936989",
          "exception": false,
          "start_time": "2020-11-05T08:50:20.869748",
          "status": "completed"
        },
        "tags": []
      },
      "source": [
        "### **Data Preprocessing**"
      ]
    },
    {
      "cell_type": "markdown",
      "metadata": {
        "id": "Q7pt-8TKtva9",
        "papermill": {
          "duration": 0.068982,
          "end_time": "2020-11-05T08:50:21.072219",
          "exception": false,
          "start_time": "2020-11-05T08:50:21.003237",
          "status": "completed"
        },
        "tags": []
      },
      "source": [
        "### Let's tokenize the text to convert from raw text to numbers."
      ]
    },
    {
      "cell_type": "code",
      "metadata": {
        "execution": {
          "iopub.execute_input": "2020-11-05T08:50:21.211988Z",
          "iopub.status.busy": "2020-11-05T08:50:21.210955Z",
          "iopub.status.idle": "2020-11-05T08:50:21.214135Z",
          "shell.execute_reply": "2020-11-05T08:50:21.213534Z"
        },
        "id": "eNB0Ku6lcnMT",
        "papermill": {
          "duration": 0.074431,
          "end_time": "2020-11-05T08:50:21.214248",
          "exception": false,
          "start_time": "2020-11-05T08:50:21.139817",
          "status": "completed"
        },
        "tags": []
      },
      "source": [
        "pre_trained_BERTmodel='bert-base-uncased'"
      ],
      "execution_count": null,
      "outputs": []
    },
    {
      "cell_type": "markdown",
      "metadata": {
        "id": "hngvutBoxSqc",
        "papermill": {
          "duration": 0.064327,
          "end_time": "2020-11-05T08:50:21.343013",
          "exception": false,
          "start_time": "2020-11-05T08:50:21.278686",
          "status": "completed"
        },
        "tags": []
      },
      "source": [
        "### Let's load a pre-trained BERT TokenizerFast:"
      ]
    },
    {
      "cell_type": "code",
      "metadata": {
        "execution": {
          "iopub.execute_input": "2020-11-05T08:50:21.480245Z",
          "iopub.status.busy": "2020-11-05T08:50:21.479256Z",
          "iopub.status.idle": "2020-11-05T08:50:27.013600Z",
          "shell.execute_reply": "2020-11-05T08:50:27.014473Z"
        },
        "id": "9STMVt1uxHId",
        "papermill": {
          "duration": 5.606393,
          "end_time": "2020-11-05T08:50:27.014709",
          "exception": false,
          "start_time": "2020-11-05T08:50:21.408316",
          "status": "completed"
        },
        "tags": [],
        "outputId": "c1788b36-65bf-47e9-bb84-aae5cea76833",
        "colab": {
          "referenced_widgets": [
            "6d624dcc3880402a8dcad5b81e995069",
            "cd480d5a8410496792d1f954a19c189e"
          ]
        }
      },
      "source": [
        "BERT_tokenizer=BertTokenizerFast.from_pretrained(pre_trained_BERTmodel)"
      ],
      "execution_count": null,
      "outputs": [
        {
          "output_type": "display_data",
          "data": {
            "application/vnd.jupyter.widget-view+json": {
              "model_id": "6d624dcc3880402a8dcad5b81e995069",
              "version_major": 2,
              "version_minor": 0
            },
            "text/plain": [
              "HBox(children=(FloatProgress(value=0.0, description='Downloading', max=231508.0, style=ProgressStyle(descripti…"
            ]
          },
          "metadata": {
            "tags": []
          }
        },
        {
          "output_type": "stream",
          "text": [
            "\n"
          ],
          "name": "stdout"
        },
        {
          "output_type": "display_data",
          "data": {
            "application/vnd.jupyter.widget-view+json": {
              "model_id": "cd480d5a8410496792d1f954a19c189e",
              "version_major": 2,
              "version_minor": 0
            },
            "text/plain": [
              "HBox(children=(FloatProgress(value=0.0, description='Downloading', max=466062.0, style=ProgressStyle(descripti…"
            ]
          },
          "metadata": {
            "tags": []
          }
        },
        {
          "output_type": "stream",
          "text": [
            "\n"
          ],
          "name": "stdout"
        }
      ]
    },
    {
      "cell_type": "markdown",
      "metadata": {
        "id": "RgHByWsy1r_f",
        "papermill": {
          "duration": 0.097126,
          "end_time": "2020-11-05T08:50:27.229271",
          "exception": false,
          "start_time": "2020-11-05T08:50:27.132145",
          "status": "completed"
        },
        "tags": []
      },
      "source": [
        "### Let's check a text sample to understand BERT tokenization:"
      ]
    },
    {
      "cell_type": "code",
      "metadata": {
        "execution": {
          "iopub.execute_input": "2020-11-05T08:50:27.439309Z",
          "iopub.status.busy": "2020-11-05T08:50:27.436103Z",
          "iopub.status.idle": "2020-11-05T08:50:27.445339Z",
          "shell.execute_reply": "2020-11-05T08:50:27.446127Z"
        },
        "id": "rFD_2Oz71GpY",
        "papermill": {
          "duration": 0.115366,
          "end_time": "2020-11-05T08:50:27.446343",
          "exception": false,
          "start_time": "2020-11-05T08:50:27.330977",
          "status": "completed"
        },
        "tags": [],
        "outputId": "1371d3f9-1357-4191-a716-f951e4c4689f"
      },
      "source": [
        "text= \"I was on cloud nine, when I got a new project.\"\n",
        "\n",
        "#Convert text to tokens & token_ids\n",
        "tokens=BERT_tokenizer.tokenize(text)\n",
        "token_ids=BERT_tokenizer.convert_tokens_to_ids(tokens)\n",
        "\n",
        "print(f'Sentence : {text}')\n",
        "print(f'Tokens :{tokens}')\n",
        "print(f'Token IDs : {token_ids}')"
      ],
      "execution_count": null,
      "outputs": [
        {
          "output_type": "stream",
          "text": [
            "Sentence : I was on cloud nine, when I got a new project.\n",
            "Tokens :['i', 'was', 'on', 'cloud', 'nine', ',', 'when', 'i', 'got', 'a', 'new', 'project', '.']\n",
            "Token IDs : [1045, 2001, 2006, 6112, 3157, 1010, 2043, 1045, 2288, 1037, 2047, 2622, 1012]\n"
          ],
          "name": "stdout"
        }
      ]
    },
    {
      "cell_type": "markdown",
      "metadata": {
        "id": "wklVbR5ek4E8",
        "papermill": {
          "duration": 0.085141,
          "end_time": "2020-11-05T08:50:27.635853",
          "exception": false,
          "start_time": "2020-11-05T08:50:27.550712",
          "status": "completed"
        },
        "tags": []
      },
      "source": [
        "### Add Special tokens\n",
        "\n",
        "BERT expects special tokens for each sentence,          \n",
        "[SEP] - marker at the end of each sentence             \n",
        "[CLS] - marker at the start of each sentence.            \n",
        "[PAD] - marker for padding sentence to a specific length"
      ]
    },
    {
      "cell_type": "code",
      "metadata": {
        "execution": {
          "iopub.execute_input": "2020-11-05T08:50:27.802658Z",
          "iopub.status.busy": "2020-11-05T08:50:27.801854Z",
          "iopub.status.idle": "2020-11-05T08:50:27.811346Z",
          "shell.execute_reply": "2020-11-05T08:50:27.810272Z"
        },
        "id": "arLw52uN220X",
        "papermill": {
          "duration": 0.091192,
          "end_time": "2020-11-05T08:50:27.811490",
          "exception": false,
          "start_time": "2020-11-05T08:50:27.720298",
          "status": "completed"
        },
        "tags": [],
        "outputId": "c0d19ae9-f430-4278-9719-5ecf2e30f9af"
      },
      "source": [
        "encoding=BERT_tokenizer.encode_plus(\n",
        "    text,\n",
        "    max_length=32,\n",
        "    add_special_tokens=True,   # 'Add [SEP] & [CLS]'\n",
        "    pad_to_max_length=True,\n",
        "    truncation=True,\n",
        "    return_attention_mask=True,  # Reurns array of 0's & 1's to distinguish padded tokens from real tokens.\n",
        "    return_token_type_ids=False,\n",
        "    return_tensors='pt'         # Returns pytorch tensors\n",
        ")\n",
        "\n",
        "encoding.keys()"
      ],
      "execution_count": null,
      "outputs": [
        {
          "output_type": "execute_result",
          "data": {
            "text/plain": [
              "dict_keys(['input_ids', 'attention_mask'])"
            ]
          },
          "metadata": {
            "tags": []
          },
          "execution_count": 20
        }
      ]
    },
    {
      "cell_type": "markdown",
      "metadata": {
        "id": "i1FeazrQoUgQ",
        "papermill": {
          "duration": 0.075401,
          "end_time": "2020-11-05T08:50:27.963702",
          "exception": false,
          "start_time": "2020-11-05T08:50:27.888301",
          "status": "completed"
        },
        "tags": []
      },
      "source": [
        "Encoding contains input_ids & attention masks of same length 32 for each sentence."
      ]
    },
    {
      "cell_type": "code",
      "metadata": {
        "execution": {
          "iopub.execute_input": "2020-11-05T08:50:28.124976Z",
          "iopub.status.busy": "2020-11-05T08:50:28.124040Z",
          "iopub.status.idle": "2020-11-05T08:50:28.138156Z",
          "shell.execute_reply": "2020-11-05T08:50:28.137537Z"
        },
        "id": "R_qiDJrZoN4j",
        "papermill": {
          "duration": 0.099866,
          "end_time": "2020-11-05T08:50:28.138292",
          "exception": false,
          "start_time": "2020-11-05T08:50:28.038426",
          "status": "completed"
        },
        "tags": [],
        "outputId": "f6ffd041-4050-46bf-d31c-009fc26ebb7e"
      },
      "source": [
        "# Check input_ids\n",
        "print('Maximum length of input_ids for each sentence : {}'.format(len(encoding['input_ids'][0])))\n",
        "encoding['input_ids'][0]"
      ],
      "execution_count": null,
      "outputs": [
        {
          "output_type": "stream",
          "text": [
            "Maximum length of input_ids for each sentence : 32\n"
          ],
          "name": "stdout"
        },
        {
          "output_type": "execute_result",
          "data": {
            "text/plain": [
              "tensor([ 101, 1045, 2001, 2006, 6112, 3157, 1010, 2043, 1045, 2288, 1037, 2047,\n",
              "        2622, 1012,  102,    0,    0,    0,    0,    0,    0,    0,    0,    0,\n",
              "           0,    0,    0,    0,    0,    0,    0,    0])"
            ]
          },
          "metadata": {
            "tags": []
          },
          "execution_count": 21
        }
      ]
    },
    {
      "cell_type": "markdown",
      "metadata": {
        "id": "523kAiEY4bZs",
        "papermill": {
          "duration": 0.071761,
          "end_time": "2020-11-05T08:50:28.282215",
          "exception": false,
          "start_time": "2020-11-05T08:50:28.210454",
          "status": "completed"
        },
        "tags": []
      },
      "source": [
        "In above tensor,        \n",
        "0 - Padded index (post -padding)   \n",
        "102 - [SEP] Special token    \n",
        "101 - [CLS] Special token"
      ]
    },
    {
      "cell_type": "code",
      "metadata": {
        "execution": {
          "iopub.execute_input": "2020-11-05T08:50:28.475772Z",
          "iopub.status.busy": "2020-11-05T08:50:28.474689Z",
          "iopub.status.idle": "2020-11-05T08:50:28.487237Z",
          "shell.execute_reply": "2020-11-05T08:50:28.486425Z"
        },
        "id": "8DPCd94H3UpE",
        "papermill": {
          "duration": 0.08977,
          "end_time": "2020-11-05T08:50:28.487398",
          "exception": false,
          "start_time": "2020-11-05T08:50:28.397628",
          "status": "completed"
        },
        "tags": [],
        "outputId": "40e3d259-2db8-43fc-af86-48a841750bb3"
      },
      "source": [
        "#check attention mask\n",
        "print(f\"Maximum length of attention mask for each sentence : {len(encoding['attention_mask'][0])}\")\n",
        "encoding['attention_mask'][0]"
      ],
      "execution_count": null,
      "outputs": [
        {
          "output_type": "stream",
          "text": [
            "Maximum length of attention mask for each sentence : 32\n"
          ],
          "name": "stdout"
        },
        {
          "output_type": "execute_result",
          "data": {
            "text/plain": [
              "tensor([1, 1, 1, 1, 1, 1, 1, 1, 1, 1, 1, 1, 1, 1, 1, 0, 0, 0, 0, 0, 0, 0, 0, 0,\n",
              "        0, 0, 0, 0, 0, 0, 0, 0])"
            ]
          },
          "metadata": {
            "tags": []
          },
          "execution_count": 22
        }
      ]
    },
    {
      "cell_type": "markdown",
      "metadata": {
        "id": "vhgLXYHW6BJH",
        "papermill": {
          "duration": 0.070722,
          "end_time": "2020-11-05T08:50:28.630647",
          "exception": false,
          "start_time": "2020-11-05T08:50:28.559925",
          "status": "completed"
        },
        "tags": []
      },
      "source": [
        "Let's have a look at the special tokens"
      ]
    },
    {
      "cell_type": "code",
      "metadata": {
        "execution": {
          "iopub.execute_input": "2020-11-05T08:50:28.783094Z",
          "iopub.status.busy": "2020-11-05T08:50:28.782148Z",
          "iopub.status.idle": "2020-11-05T08:50:28.788485Z",
          "shell.execute_reply": "2020-11-05T08:50:28.789088Z"
        },
        "id": "nkXOT4iG55gt",
        "papermill": {
          "duration": 0.084873,
          "end_time": "2020-11-05T08:50:28.789224",
          "exception": false,
          "start_time": "2020-11-05T08:50:28.704351",
          "status": "completed"
        },
        "tags": [],
        "outputId": "e2d218c2-99cf-4d17-cddc-4664978896ef"
      },
      "source": [
        "special_tokens=BERT_tokenizer.convert_ids_to_tokens(encoding['input_ids'][0])\n",
        "special_tokens"
      ],
      "execution_count": null,
      "outputs": [
        {
          "output_type": "execute_result",
          "data": {
            "text/plain": [
              "['[CLS]',\n",
              " 'i',\n",
              " 'was',\n",
              " 'on',\n",
              " 'cloud',\n",
              " 'nine',\n",
              " ',',\n",
              " 'when',\n",
              " 'i',\n",
              " 'got',\n",
              " 'a',\n",
              " 'new',\n",
              " 'project',\n",
              " '.',\n",
              " '[SEP]',\n",
              " '[PAD]',\n",
              " '[PAD]',\n",
              " '[PAD]',\n",
              " '[PAD]',\n",
              " '[PAD]',\n",
              " '[PAD]',\n",
              " '[PAD]',\n",
              " '[PAD]',\n",
              " '[PAD]',\n",
              " '[PAD]',\n",
              " '[PAD]',\n",
              " '[PAD]',\n",
              " '[PAD]',\n",
              " '[PAD]',\n",
              " '[PAD]',\n",
              " '[PAD]',\n",
              " '[PAD]']"
            ]
          },
          "metadata": {
            "tags": []
          },
          "execution_count": 23
        }
      ]
    },
    {
      "cell_type": "markdown",
      "metadata": {
        "id": "OB9r1YKU6rzo",
        "papermill": {
          "duration": 0.080261,
          "end_time": "2020-11-05T08:50:28.957006",
          "exception": false,
          "start_time": "2020-11-05T08:50:28.876745",
          "status": "completed"
        },
        "tags": []
      },
      "source": [
        "### **Choosing Sequence length for our dataset**"
      ]
    },
    {
      "cell_type": "markdown",
      "metadata": {
        "id": "g810P-fa62Yk",
        "papermill": {
          "duration": 0.084825,
          "end_time": "2020-11-05T08:50:29.112927",
          "exception": false,
          "start_time": "2020-11-05T08:50:29.028102",
          "status": "completed"
        },
        "tags": []
      },
      "source": [
        "#### Let's store the token length of each tweet"
      ]
    },
    {
      "cell_type": "code",
      "metadata": {
        "execution": {
          "iopub.execute_input": "2020-11-05T08:50:29.303348Z",
          "iopub.status.busy": "2020-11-05T08:50:29.282424Z",
          "iopub.status.idle": "2020-11-05T08:50:39.104466Z",
          "shell.execute_reply": "2020-11-05T08:50:39.103837Z"
        },
        "id": "INj5X3cX6Ki2",
        "papermill": {
          "duration": 9.917466,
          "end_time": "2020-11-05T08:50:39.104594",
          "exception": false,
          "start_time": "2020-11-05T08:50:29.187128",
          "status": "completed"
        },
        "tags": []
      },
      "source": [
        "token_lens=[]\n",
        "for tweet in train_df.OriginalTweet:\n",
        "  tokens_tweet=BERT_tokenizer.encode(tweet,max_length=150,truncation=True)\n",
        "  token_lens.append(len(tokens_tweet))"
      ],
      "execution_count": null,
      "outputs": []
    },
    {
      "cell_type": "code",
      "metadata": {
        "execution": {
          "iopub.execute_input": "2020-11-05T08:50:39.252777Z",
          "iopub.status.busy": "2020-11-05T08:50:39.251562Z",
          "iopub.status.idle": "2020-11-05T08:50:39.739331Z",
          "shell.execute_reply": "2020-11-05T08:50:39.739907Z"
        },
        "id": "TRHphSZB7Y6B",
        "papermill": {
          "duration": 0.565702,
          "end_time": "2020-11-05T08:50:39.740058",
          "exception": false,
          "start_time": "2020-11-05T08:50:39.174356",
          "status": "completed"
        },
        "tags": [],
        "outputId": "f69e6308-ab70-4aeb-913c-8bfe1d5e83f1"
      },
      "source": [
        "#Plot the tokens\n",
        "plt.figure(figsize=(8,6))\n",
        "sns.distplot(token_lens)\n",
        "plt.xlim([0,150])\n",
        "plt.xlabel('Token count')"
      ],
      "execution_count": null,
      "outputs": [
        {
          "output_type": "execute_result",
          "data": {
            "text/plain": [
              "Text(0.5, 0, 'Token count')"
            ]
          },
          "metadata": {
            "tags": []
          },
          "execution_count": 25
        },
        {
          "output_type": "display_data",
          "data": {
            "image/png": "[encoded data removed]",
            "text/plain": [
              "<Figure size 576x432 with 1 Axes>"
            ]
          },
          "metadata": {
            "tags": [],
            "image/png": {
              "height": 376,
              "width": 501
            }
          }
        }
      ]
    },
    {
      "cell_type": "markdown",
      "metadata": {
        "id": "5ctsOcLy71A4",
        "papermill": {
          "duration": 0.074045,
          "end_time": "2020-11-05T08:50:39.893544",
          "exception": false,
          "start_time": "2020-11-05T08:50:39.819499",
          "status": "completed"
        },
        "tags": []
      },
      "source": [
        "It appears that the length of most tokens lies between 0 & 100. On safer side, we are taking maximum sequence length of 120."
      ]
    },
    {
      "cell_type": "markdown",
      "metadata": {
        "id": "PnU6Yl_8OBEg",
        "papermill": {
          "duration": 0.070503,
          "end_time": "2020-11-05T08:50:40.038933",
          "exception": false,
          "start_time": "2020-11-05T08:50:39.968430",
          "status": "completed"
        },
        "tags": []
      },
      "source": [
        "## Create a Pytorch Dataset"
      ]
    },
    {
      "cell_type": "markdown",
      "metadata": {
        "id": "m2LPVKYXOVX7",
        "papermill": {
          "duration": 0.072122,
          "end_time": "2020-11-05T08:50:40.181573",
          "exception": false,
          "start_time": "2020-11-05T08:50:40.109451",
          "status": "completed"
        },
        "tags": []
      },
      "source": [
        "Pytorch dataset is of map-style i.e., it implements **getitem & len** protocols, & represents a map from indices/keys to datasamples."
      ]
    },
    {
      "cell_type": "code",
      "metadata": {
        "execution": {
          "iopub.execute_input": "2020-11-05T08:50:40.339440Z",
          "iopub.status.busy": "2020-11-05T08:50:40.335995Z",
          "iopub.status.idle": "2020-11-05T08:50:40.342292Z",
          "shell.execute_reply": "2020-11-05T08:50:40.341723Z"
        },
        "id": "9h76DECt7hdd",
        "papermill": {
          "duration": 0.087097,
          "end_time": "2020-11-05T08:50:40.342412",
          "exception": false,
          "start_time": "2020-11-05T08:50:40.255315",
          "status": "completed"
        },
        "tags": []
      },
      "source": [
        "class tweets_Dataset(Dataset):\n",
        "\n",
        "  def __init__(self,tweets,targets,tokenizer,max_length):\n",
        "    self.tweets=tweets\n",
        "    self.targets=targets\n",
        "    self.tokenizer=tokenizer\n",
        "    self.max_length=max_length\n",
        "\n",
        "  def __len__(self):\n",
        "    return len(self.tweets)\n",
        "\n",
        "  def __getitem__(self,item):\n",
        "    tweet = str(self.tweets[item])\n",
        "    targets = self.targets[item]\n",
        "\n",
        "    encoding = self.tokenizer.encode_plus(\n",
        "        tweet,\n",
        "        max_length=Max_length,\n",
        "        add_special_tokens=True,\n",
        "        pad_to_max_length=True,\n",
        "        truncation=True,\n",
        "        return_attention_mask=True,\n",
        "        return_token_type_ids=False,\n",
        "        return_tensors='pt'\n",
        "       )\n",
        "           \n",
        "    return {\n",
        "        'tweets_text':tweet,\n",
        "        'input_ids':encoding['input_ids'].flatten(),\n",
        "        'attention_mask':encoding['attention_mask'].flatten(),\n",
        "        'targets' : torch.tensor(targets,dtype=torch.long)\n",
        "    }"
      ],
      "execution_count": null,
      "outputs": []
    },
    {
      "cell_type": "markdown",
      "metadata": {
        "id": "bYMtjin_Rb2I",
        "papermill": {
          "duration": 0.074507,
          "end_time": "2020-11-05T08:50:40.490160",
          "exception": false,
          "start_time": "2020-11-05T08:50:40.415653",
          "status": "completed"
        },
        "tags": []
      },
      "source": [
        "### **Let's split the train data**"
      ]
    },
    {
      "cell_type": "code",
      "metadata": {
        "execution": {
          "iopub.execute_input": "2020-11-05T08:50:40.644046Z",
          "iopub.status.busy": "2020-11-05T08:50:40.643158Z",
          "iopub.status.idle": "2020-11-05T08:50:40.654511Z",
          "shell.execute_reply": "2020-11-05T08:50:40.655462Z"
        },
        "id": "Okb_UG-tRWXL",
        "papermill": {
          "duration": 0.093769,
          "end_time": "2020-11-05T08:50:40.655673",
          "exception": false,
          "start_time": "2020-11-05T08:50:40.561904",
          "status": "completed"
        },
        "tags": [],
        "outputId": "aca8d29e-e2cb-4ac0-a31e-89ef1cee56bd"
      },
      "source": [
        "df_train,df_val=train_test_split(train_df,test_size=0.15 ,random_state=123)\n",
        "\n",
        "print('Print the shape of datasets...')\n",
        "print(f'Training dataset : {df_train.shape} ')\n",
        "print(f'Testing dataset : {test_df.shape}') \n",
        "print(f'Validation dataset : {df_val.shape}')"
      ],
      "execution_count": null,
      "outputs": [
        {
          "output_type": "stream",
          "text": [
            "Print the shape of datasets...\n",
            "Training dataset : (34983, 4) \n",
            "Testing dataset : (3798, 4)\n",
            "Validation dataset : (6174, 4)\n"
          ],
          "name": "stdout"
        }
      ]
    },
    {
      "cell_type": "markdown",
      "metadata": {
        "id": "g2s6_S__cEzU",
        "papermill": {
          "duration": 0.07275,
          "end_time": "2020-11-05T08:50:40.802448",
          "exception": false,
          "start_time": "2020-11-05T08:50:40.729698",
          "status": "completed"
        },
        "tags": []
      },
      "source": [
        "Create a function for **Data loader**"
      ]
    },
    {
      "cell_type": "code",
      "metadata": {
        "execution": {
          "iopub.execute_input": "2020-11-05T08:50:40.962772Z",
          "iopub.status.busy": "2020-11-05T08:50:40.961935Z",
          "iopub.status.idle": "2020-11-05T08:50:40.965902Z",
          "shell.execute_reply": "2020-11-05T08:50:40.965371Z"
        },
        "id": "DM69L3afSzx6",
        "papermill": {
          "duration": 0.089602,
          "end_time": "2020-11-05T08:50:40.966007",
          "exception": false,
          "start_time": "2020-11-05T08:50:40.876405",
          "status": "completed"
        },
        "tags": []
      },
      "source": [
        "batch_size=8\n",
        "Max_length= 120\n",
        "def data_loader(df,tokenizer, max_length, batch):\n",
        "  ds=tweets_Dataset(\n",
        "      tweets=df.OriginalTweet.to_numpy(),\n",
        "      targets=df.Sentiment.to_numpy(),\n",
        "      tokenizer=tokenizer,\n",
        "      max_length=Max_length\n",
        "  )\n",
        "\n",
        "  return DataLoader(\n",
        "      ds,\n",
        "      batch_size=batch_size,\n",
        "      num_workers=4\n",
        "  )\n",
        "\n",
        "# Load datasets\n",
        "train_DataLoader=data_loader(df_train, BERT_tokenizer,Max_length,batch_size)\n",
        "test_DataLoader=data_loader(test_df, BERT_tokenizer,Max_length,batch_size)\n",
        "valid_DataLoader=data_loader(df_val, BERT_tokenizer,Max_length,batch_size)"
      ],
      "execution_count": null,
      "outputs": []
    },
    {
      "cell_type": "markdown",
      "metadata": {
        "id": "cd-ombgDeb3o",
        "papermill": {
          "duration": 0.071614,
          "end_time": "2020-11-05T08:50:41.108877",
          "exception": false,
          "start_time": "2020-11-05T08:50:41.037263",
          "status": "completed"
        },
        "tags": []
      },
      "source": [
        "#### Let's have a look at an example batch from **training DataLoader**"
      ]
    },
    {
      "cell_type": "code",
      "metadata": {
        "execution": {
          "iopub.execute_input": "2020-11-05T08:50:41.261108Z",
          "iopub.status.busy": "2020-11-05T08:50:41.260278Z",
          "iopub.status.idle": "2020-11-05T08:50:41.401036Z",
          "shell.execute_reply": "2020-11-05T08:50:41.400521Z"
        },
        "id": "TPpIwB-idSF0",
        "papermill": {
          "duration": 0.220381,
          "end_time": "2020-11-05T08:50:41.401149",
          "exception": false,
          "start_time": "2020-11-05T08:50:41.180768",
          "status": "completed"
        },
        "tags": [],
        "outputId": "9ce72fd7-3b8d-47ab-9f67-e8948a03d127"
      },
      "source": [
        "BERT_data=next(iter(train_DataLoader))\n",
        "BERT_data.keys()"
      ],
      "execution_count": null,
      "outputs": [
        {
          "output_type": "execute_result",
          "data": {
            "text/plain": [
              "dict_keys(['tweets_text', 'input_ids', 'attention_mask', 'targets'])"
            ]
          },
          "metadata": {
            "tags": []
          },
          "execution_count": 29
        }
      ]
    },
    {
      "cell_type": "code",
      "metadata": {
        "execution": {
          "iopub.execute_input": "2020-11-05T08:50:41.558284Z",
          "iopub.status.busy": "2020-11-05T08:50:41.557435Z",
          "iopub.status.idle": "2020-11-05T08:50:41.565269Z",
          "shell.execute_reply": "2020-11-05T08:50:41.564659Z"
        },
        "id": "6FYF41chela5",
        "papermill": {
          "duration": 0.088927,
          "end_time": "2020-11-05T08:50:41.565403",
          "exception": false,
          "start_time": "2020-11-05T08:50:41.476476",
          "status": "completed"
        },
        "tags": [],
        "outputId": "1edc7260-4199-47c8-ffcd-647ceafbeba3"
      },
      "source": [
        "print('Shape of the BERT_data keys...')\n",
        "print(f\"Input_ids : {BERT_data['input_ids'].shape}\")\n",
        "print(f\"Attention_mask : {BERT_data['attention_mask'].shape}\")\n",
        "print(f\"targets : {BERT_data['targets'].shape}\")"
      ],
      "execution_count": null,
      "outputs": [
        {
          "output_type": "stream",
          "text": [
            "Shape of the BERT_data keys...\n",
            "Input_ids : torch.Size([8, 120])\n",
            "Attention_mask : torch.Size([8, 120])\n",
            "targets : torch.Size([8])\n"
          ],
          "name": "stdout"
        }
      ]
    },
    {
      "cell_type": "markdown",
      "metadata": {
        "id": "taNFShYD7XvF",
        "papermill": {
          "duration": 0.073948,
          "end_time": "2020-11-05T08:50:41.713585",
          "exception": false,
          "start_time": "2020-11-05T08:50:41.639637",
          "status": "completed"
        },
        "tags": []
      },
      "source": [
        "Now move the batch training data to the GPU"
      ]
    },
    {
      "cell_type": "code",
      "metadata": {
        "execution": {
          "iopub.execute_input": "2020-11-05T08:50:41.868814Z",
          "iopub.status.busy": "2020-11-05T08:50:41.868059Z",
          "iopub.status.idle": "2020-11-05T08:50:47.172020Z",
          "shell.execute_reply": "2020-11-05T08:50:47.172539Z"
        },
        "id": "XzMqmRwd7Ppp",
        "papermill": {
          "duration": 5.384799,
          "end_time": "2020-11-05T08:50:47.172673",
          "exception": false,
          "start_time": "2020-11-05T08:50:41.787874",
          "status": "completed"
        },
        "tags": [],
        "outputId": "fc5aef34-1c5c-4bc1-d515-a896c221cc96"
      },
      "source": [
        "input_ids = BERT_data['input_ids'].to(device)\n",
        "attention_mask = BERT_data['attention_mask'].to(device)\n",
        "targets=BERT_data['targets'].to(device)\n",
        "print(input_ids.shape)      # batch size x seq length\n",
        "print(attention_mask.shape) # batch size x seq length"
      ],
      "execution_count": null,
      "outputs": [
        {
          "output_type": "stream",
          "text": [
            "torch.Size([8, 120])\n",
            "torch.Size([8, 120])\n"
          ],
          "name": "stdout"
        }
      ]
    },
    {
      "cell_type": "markdown",
      "metadata": {
        "id": "yW5e6-eXfW1_",
        "papermill": {
          "duration": 0.076185,
          "end_time": "2020-11-05T08:50:47.323525",
          "exception": false,
          "start_time": "2020-11-05T08:50:47.247340",
          "status": "completed"
        },
        "tags": []
      },
      "source": [
        "## Now build a Sentiment Classifier"
      ]
    },
    {
      "cell_type": "markdown",
      "metadata": {
        "id": "u8vPb96JD2SE",
        "papermill": {
          "duration": 0.075067,
          "end_time": "2020-11-05T08:50:47.473426",
          "exception": false,
          "start_time": "2020-11-05T08:50:47.398359",
          "status": "completed"
        },
        "tags": []
      },
      "source": [
        "[](http://)Let's load basic BERT model"
      ]
    },
    {
      "cell_type": "code",
      "metadata": {
        "execution": {
          "iopub.execute_input": "2020-11-05T08:50:47.628302Z",
          "iopub.status.busy": "2020-11-05T08:50:47.627358Z",
          "iopub.status.idle": "2020-11-05T08:51:20.522639Z",
          "shell.execute_reply": "2020-11-05T08:51:20.523186Z"
        },
        "id": "Sx7c3Zx_D0tx",
        "papermill": {
          "duration": 32.976642,
          "end_time": "2020-11-05T08:51:20.523371",
          "exception": false,
          "start_time": "2020-11-05T08:50:47.546729",
          "status": "completed"
        },
        "tags": [],
        "outputId": "268d5cf3-5481-41d5-86e0-7ba3fdbcf26e",
        "colab": {
          "referenced_widgets": [
            "6ac204e19a624a069c85ce809a7f546c",
            "c0c3c182c0284b649ab6453c3f4c0df0"
          ]
        }
      },
      "source": [
        "BERT_model = BertModel.from_pretrained(pre_trained_BERTmodel)\n",
        "BERT_model=BERT_model.to(device)"
      ],
      "execution_count": null,
      "outputs": [
        {
          "output_type": "display_data",
          "data": {
            "application/vnd.jupyter.widget-view+json": {
              "model_id": "6ac204e19a624a069c85ce809a7f546c",
              "version_major": 2,
              "version_minor": 0
            },
            "text/plain": [
              "HBox(children=(FloatProgress(value=0.0, description='Downloading', max=433.0, style=ProgressStyle(description_…"
            ]
          },
          "metadata": {
            "tags": []
          }
        },
        {
          "output_type": "stream",
          "text": [
            "\n"
          ],
          "name": "stdout"
        },
        {
          "output_type": "display_data",
          "data": {
            "application/vnd.jupyter.widget-view+json": {
              "model_id": "c0c3c182c0284b649ab6453c3f4c0df0",
              "version_major": 2,
              "version_minor": 0
            },
            "text/plain": [
              "HBox(children=(FloatProgress(value=0.0, description='Downloading', max=440473133.0, style=ProgressStyle(descri…"
            ]
          },
          "metadata": {
            "tags": []
          }
        },
        {
          "output_type": "stream",
          "text": [
            "\n"
          ],
          "name": "stdout"
        }
      ]
    },
    {
      "cell_type": "code",
      "metadata": {
        "execution": {
          "iopub.execute_input": "2020-11-05T08:51:20.685883Z",
          "iopub.status.busy": "2020-11-05T08:51:20.685037Z",
          "iopub.status.idle": "2020-11-05T08:51:20.688093Z",
          "shell.execute_reply": "2020-11-05T08:51:20.687539Z"
        },
        "id": "BrXh5HjbJzKn",
        "papermill": {
          "duration": 0.086772,
          "end_time": "2020-11-05T08:51:20.688217",
          "exception": false,
          "start_time": "2020-11-05T08:51:20.601445",
          "status": "completed"
        },
        "tags": []
      },
      "source": [
        "n_classes=5"
      ],
      "execution_count": null,
      "outputs": []
    },
    {
      "cell_type": "markdown",
      "metadata": {
        "id": "6i37Rx0tgD9Q",
        "papermill": {
          "duration": 0.077059,
          "end_time": "2020-11-05T08:51:20.842609",
          "exception": false,
          "start_time": "2020-11-05T08:51:20.765550",
          "status": "completed"
        },
        "tags": []
      },
      "source": [
        "Now create a classifier that uses BERT model"
      ]
    },
    {
      "cell_type": "code",
      "metadata": {
        "execution": {
          "iopub.execute_input": "2020-11-05T08:51:21.023991Z",
          "iopub.status.busy": "2020-11-05T08:51:21.023096Z",
          "iopub.status.idle": "2020-11-05T08:51:21.027183Z",
          "shell.execute_reply": "2020-11-05T08:51:21.026627Z"
        },
        "id": "cdVbCZqafqOO",
        "papermill": {
          "duration": 0.09355,
          "end_time": "2020-11-05T08:51:21.027297",
          "exception": false,
          "start_time": "2020-11-05T08:51:20.933747",
          "status": "completed"
        },
        "tags": []
      },
      "source": [
        "class BERT_SentimentClassifier(nn.Module):\n",
        "   def __init__(self, n_classes):\n",
        "     super(BERT_SentimentClassifier, self).__init__()\n",
        "     self.bert = BertModel.from_pretrained(pre_trained_BERTmodel)\n",
        "     self.drop = nn.Dropout(p=0.35)\n",
        "     self.hidden=nn.Linear(self.bert.config.hidden_size,128)\n",
        "     self.out = nn.Linear(128, n_classes)\n",
        "     #self.softmax=nn.Softmax(dim=1)\n",
        "   def forward(self, input_ids, attention_mask):\n",
        "     _, pooled_output = self.bert(\n",
        "         input_ids=input_ids,\n",
        "         attention_mask=attention_mask\n",
        "    )\n",
        "     output = self.drop(pooled_output)\n",
        "     output=self.hidden(output)\n",
        "     output=self.out(output)\n",
        "     #output=self.softmax(output)\n",
        "     return output"
      ],
      "execution_count": null,
      "outputs": []
    },
    {
      "cell_type": "markdown",
      "metadata": {
        "id": "-OfWP3Eshh5Y",
        "papermill": {
          "duration": 0.085969,
          "end_time": "2020-11-05T08:51:21.200628",
          "exception": false,
          "start_time": "2020-11-05T08:51:21.114659",
          "status": "completed"
        },
        "tags": []
      },
      "source": [
        "The **pooled_output** is the summary of the tweet.\n",
        "We are using a **dropout** layer for some regularization and 2 **fully-connected** layers for our output."
      ]
    },
    {
      "cell_type": "markdown",
      "metadata": {
        "id": "SaoNdyMVIIEU",
        "papermill": {
          "duration": 0.080207,
          "end_time": "2020-11-05T08:51:21.360108",
          "exception": false,
          "start_time": "2020-11-05T08:51:21.279901",
          "status": "completed"
        },
        "tags": []
      },
      "source": [
        "Let’s create an instance and move it to the GPU"
      ]
    },
    {
      "cell_type": "code",
      "metadata": {
        "execution": {
          "iopub.execute_input": "2020-11-05T08:51:21.523346Z",
          "iopub.status.busy": "2020-11-05T08:51:21.522370Z",
          "iopub.status.idle": "2020-11-05T08:51:26.449150Z",
          "shell.execute_reply": "2020-11-05T08:51:26.448430Z"
        },
        "id": "ZuRR-PEDDpCZ",
        "papermill": {
          "duration": 5.01106,
          "end_time": "2020-11-05T08:51:26.449292",
          "exception": false,
          "start_time": "2020-11-05T08:51:21.438232",
          "status": "completed"
        },
        "tags": []
      },
      "source": [
        "BERT_model = BERT_SentimentClassifier(len(class_names))\n",
        "BERT_model=BERT_model.to(device)"
      ],
      "execution_count": null,
      "outputs": []
    },
    {
      "cell_type": "markdown",
      "metadata": {
        "papermill": {
          "duration": 0.079515,
          "end_time": "2020-11-05T08:51:26.612040",
          "exception": false,
          "start_time": "2020-11-05T08:51:26.532525",
          "status": "completed"
        },
        "tags": [],
        "id": "ndwmiGD7Thgk"
      },
      "source": [
        "Apply softmax function to the classifier output:"
      ]
    },
    {
      "cell_type": "code",
      "metadata": {
        "execution": {
          "iopub.execute_input": "2020-11-05T08:51:26.776266Z",
          "iopub.status.busy": "2020-11-05T08:51:26.775510Z",
          "iopub.status.idle": "2020-11-05T08:51:27.466526Z",
          "shell.execute_reply": "2020-11-05T08:51:27.465442Z"
        },
        "id": "LxeJYwEFIHdu",
        "papermill": {
          "duration": 0.774654,
          "end_time": "2020-11-05T08:51:27.466656",
          "exception": false,
          "start_time": "2020-11-05T08:51:26.692002",
          "status": "completed"
        },
        "tags": [],
        "outputId": "f05bf02c-c1ab-4e9b-ec24-a51045134303"
      },
      "source": [
        "F.softmax(BERT_model(input_ids,attention_mask), dim=1).to(device)"
      ],
      "execution_count": null,
      "outputs": [
        {
          "output_type": "execute_result",
          "data": {
            "text/plain": [
              "tensor([[0.1820, 0.2898, 0.1474, 0.1466, 0.2342],\n",
              "        [0.1876, 0.3182, 0.1256, 0.1619, 0.2067],\n",
              "        [0.1363, 0.2759, 0.1716, 0.1366, 0.2796],\n",
              "        [0.2083, 0.2374, 0.1825, 0.1174, 0.2545],\n",
              "        [0.1408, 0.2771, 0.1493, 0.1558, 0.2769],\n",
              "        [0.1705, 0.2222, 0.1777, 0.1793, 0.2503],\n",
              "        [0.1351, 0.2870, 0.1662, 0.1803, 0.2314],\n",
              "        [0.1459, 0.2556, 0.1589, 0.1195, 0.3201]], device='cuda:0',\n",
              "       grad_fn=<SoftmaxBackward>)"
            ]
          },
          "metadata": {
            "tags": []
          },
          "execution_count": 36
        }
      ]
    },
    {
      "cell_type": "code",
      "metadata": {
        "execution": {
          "iopub.execute_input": "2020-11-05T08:51:27.654751Z",
          "iopub.status.busy": "2020-11-05T08:51:27.653670Z",
          "iopub.status.idle": "2020-11-05T08:51:27.660640Z",
          "shell.execute_reply": "2020-11-05T08:51:27.659941Z"
        },
        "id": "nmvAiuDMPyu5",
        "papermill": {
          "duration": 0.106585,
          "end_time": "2020-11-05T08:51:27.660776",
          "exception": false,
          "start_time": "2020-11-05T08:51:27.554191",
          "status": "completed"
        },
        "tags": [],
        "outputId": "cd59a279-88ce-449f-fd13-2b55ff5f3a4c"
      },
      "source": [
        "BERT_model"
      ],
      "execution_count": null,
      "outputs": [
        {
          "output_type": "execute_result",
          "data": {
            "text/plain": [
              "BERT_SentimentClassifier(\n",
              "  (bert): BertModel(\n",
              "    (embeddings): BertEmbeddings(\n",
              "      (word_embeddings): Embedding(30522, 768, padding_idx=0)\n",
              "      (position_embeddings): Embedding(512, 768)\n",
              "      (token_type_embeddings): Embedding(2, 768)\n",
              "      (LayerNorm): LayerNorm((768,), eps=1e-12, elementwise_affine=True)\n",
              "      (dropout): Dropout(p=0.1, inplace=False)\n",
              "    )\n",
              "    (encoder): BertEncoder(\n",
              "      (layer): ModuleList(\n",
              "        (0): BertLayer(\n",
              "          (attention): BertAttention(\n",
              "            (self): BertSelfAttention(\n",
              "              (query): Linear(in_features=768, out_features=768, bias=True)\n",
              "              (key): Linear(in_features=768, out_features=768, bias=True)\n",
              "              (value): Linear(in_features=768, out_features=768, bias=True)\n",
              "              (dropout): Dropout(p=0.1, inplace=False)\n",
              "            )\n",
              "            (output): BertSelfOutput(\n",
              "              (dense): Linear(in_features=768, out_features=768, bias=True)\n",
              "              (LayerNorm): LayerNorm((768,), eps=1e-12, elementwise_affine=True)\n",
              "              (dropout): Dropout(p=0.1, inplace=False)\n",
              "            )\n",
              "          )\n",
              "          (intermediate): BertIntermediate(\n",
              "            (dense): Linear(in_features=768, out_features=3072, bias=True)\n",
              "          )\n",
              "          (output): BertOutput(\n",
              "            (dense): Linear(in_features=3072, out_features=768, bias=True)\n",
              "            (LayerNorm): LayerNorm((768,), eps=1e-12, elementwise_affine=True)\n",
              "            (dropout): Dropout(p=0.1, inplace=False)\n",
              "          )\n",
              "        )\n",
              "        (1): BertLayer(\n",
              "          (attention): BertAttention(\n",
              "            (self): BertSelfAttention(\n",
              "              (query): Linear(in_features=768, out_features=768, bias=True)\n",
              "              (key): Linear(in_features=768, out_features=768, bias=True)\n",
              "              (value): Linear(in_features=768, out_features=768, bias=True)\n",
              "              (dropout): Dropout(p=0.1, inplace=False)\n",
              "            )\n",
              "            (output): BertSelfOutput(\n",
              "              (dense): Linear(in_features=768, out_features=768, bias=True)\n",
              "              (LayerNorm): LayerNorm((768,), eps=1e-12, elementwise_affine=True)\n",
              "              (dropout): Dropout(p=0.1, inplace=False)\n",
              "            )\n",
              "          )\n",
              "          (intermediate): BertIntermediate(\n",
              "            (dense): Linear(in_features=768, out_features=3072, bias=True)\n",
              "          )\n",
              "          (output): BertOutput(\n",
              "            (dense): Linear(in_features=3072, out_features=768, bias=True)\n",
              "            (LayerNorm): LayerNorm((768,), eps=1e-12, elementwise_affine=True)\n",
              "            (dropout): Dropout(p=0.1, inplace=False)\n",
              "          )\n",
              "        )\n",
              "        (2): BertLayer(\n",
              "          (attention): BertAttention(\n",
              "            (self): BertSelfAttention(\n",
              "              (query): Linear(in_features=768, out_features=768, bias=True)\n",
              "              (key): Linear(in_features=768, out_features=768, bias=True)\n",
              "              (value): Linear(in_features=768, out_features=768, bias=True)\n",
              "              (dropout): Dropout(p=0.1, inplace=False)\n",
              "            )\n",
              "            (output): BertSelfOutput(\n",
              "              (dense): Linear(in_features=768, out_features=768, bias=True)\n",
              "              (LayerNorm): LayerNorm((768,), eps=1e-12, elementwise_affine=True)\n",
              "              (dropout): Dropout(p=0.1, inplace=False)\n",
              "            )\n",
              "          )\n",
              "          (intermediate): BertIntermediate(\n",
              "            (dense): Linear(in_features=768, out_features=3072, bias=True)\n",
              "          )\n",
              "          (output): BertOutput(\n",
              "            (dense): Linear(in_features=3072, out_features=768, bias=True)\n",
              "            (LayerNorm): LayerNorm((768,), eps=1e-12, elementwise_affine=True)\n",
              "            (dropout): Dropout(p=0.1, inplace=False)\n",
              "          )\n",
              "        )\n",
              "        (3): BertLayer(\n",
              "          (attention): BertAttention(\n",
              "            (self): BertSelfAttention(\n",
              "              (query): Linear(in_features=768, out_features=768, bias=True)\n",
              "              (key): Linear(in_features=768, out_features=768, bias=True)\n",
              "              (value): Linear(in_features=768, out_features=768, bias=True)\n",
              "              (dropout): Dropout(p=0.1, inplace=False)\n",
              "            )\n",
              "            (output): BertSelfOutput(\n",
              "              (dense): Linear(in_features=768, out_features=768, bias=True)\n",
              "              (LayerNorm): LayerNorm((768,), eps=1e-12, elementwise_affine=True)\n",
              "              (dropout): Dropout(p=0.1, inplace=False)\n",
              "            )\n",
              "          )\n",
              "          (intermediate): BertIntermediate(\n",
              "            (dense): Linear(in_features=768, out_features=3072, bias=True)\n",
              "          )\n",
              "          (output): BertOutput(\n",
              "            (dense): Linear(in_features=3072, out_features=768, bias=True)\n",
              "            (LayerNorm): LayerNorm((768,), eps=1e-12, elementwise_affine=True)\n",
              "            (dropout): Dropout(p=0.1, inplace=False)\n",
              "          )\n",
              "        )\n",
              "        (4): BertLayer(\n",
              "          (attention): BertAttention(\n",
              "            (self): BertSelfAttention(\n",
              "              (query): Linear(in_features=768, out_features=768, bias=True)\n",
              "              (key): Linear(in_features=768, out_features=768, bias=True)\n",
              "              (value): Linear(in_features=768, out_features=768, bias=True)\n",
              "              (dropout): Dropout(p=0.1, inplace=False)\n",
              "            )\n",
              "            (output): BertSelfOutput(\n",
              "              (dense): Linear(in_features=768, out_features=768, bias=True)\n",
              "              (LayerNorm): LayerNorm((768,), eps=1e-12, elementwise_affine=True)\n",
              "              (dropout): Dropout(p=0.1, inplace=False)\n",
              "            )\n",
              "          )\n",
              "          (intermediate): BertIntermediate(\n",
              "            (dense): Linear(in_features=768, out_features=3072, bias=True)\n",
              "          )\n",
              "          (output): BertOutput(\n",
              "            (dense): Linear(in_features=3072, out_features=768, bias=True)\n",
              "            (LayerNorm): LayerNorm((768,), eps=1e-12, elementwise_affine=True)\n",
              "            (dropout): Dropout(p=0.1, inplace=False)\n",
              "          )\n",
              "        )\n",
              "        (5): BertLayer(\n",
              "          (attention): BertAttention(\n",
              "            (self): BertSelfAttention(\n",
              "              (query): Linear(in_features=768, out_features=768, bias=True)\n",
              "              (key): Linear(in_features=768, out_features=768, bias=True)\n",
              "              (value): Linear(in_features=768, out_features=768, bias=True)\n",
              "              (dropout): Dropout(p=0.1, inplace=False)\n",
              "            )\n",
              "            (output): BertSelfOutput(\n",
              "              (dense): Linear(in_features=768, out_features=768, bias=True)\n",
              "              (LayerNorm): LayerNorm((768,), eps=1e-12, elementwise_affine=True)\n",
              "              (dropout): Dropout(p=0.1, inplace=False)\n",
              "            )\n",
              "          )\n",
              "          (intermediate): BertIntermediate(\n",
              "            (dense): Linear(in_features=768, out_features=3072, bias=True)\n",
              "          )\n",
              "          (output): BertOutput(\n",
              "            (dense): Linear(in_features=3072, out_features=768, bias=True)\n",
              "            (LayerNorm): LayerNorm((768,), eps=1e-12, elementwise_affine=True)\n",
              "            (dropout): Dropout(p=0.1, inplace=False)\n",
              "          )\n",
              "        )\n",
              "        (6): BertLayer(\n",
              "          (attention): BertAttention(\n",
              "            (self): BertSelfAttention(\n",
              "              (query): Linear(in_features=768, out_features=768, bias=True)\n",
              "              (key): Linear(in_features=768, out_features=768, bias=True)\n",
              "              (value): Linear(in_features=768, out_features=768, bias=True)\n",
              "              (dropout): Dropout(p=0.1, inplace=False)\n",
              "            )\n",
              "            (output): BertSelfOutput(\n",
              "              (dense): Linear(in_features=768, out_features=768, bias=True)\n",
              "              (LayerNorm): LayerNorm((768,), eps=1e-12, elementwise_affine=True)\n",
              "              (dropout): Dropout(p=0.1, inplace=False)\n",
              "            )\n",
              "          )\n",
              "          (intermediate): BertIntermediate(\n",
              "            (dense): Linear(in_features=768, out_features=3072, bias=True)\n",
              "          )\n",
              "          (output): BertOutput(\n",
              "            (dense): Linear(in_features=3072, out_features=768, bias=True)\n",
              "            (LayerNorm): LayerNorm((768,), eps=1e-12, elementwise_affine=True)\n",
              "            (dropout): Dropout(p=0.1, inplace=False)\n",
              "          )\n",
              "        )\n",
              "        (7): BertLayer(\n",
              "          (attention): BertAttention(\n",
              "            (self): BertSelfAttention(\n",
              "              (query): Linear(in_features=768, out_features=768, bias=True)\n",
              "              (key): Linear(in_features=768, out_features=768, bias=True)\n",
              "              (value): Linear(in_features=768, out_features=768, bias=True)\n",
              "              (dropout): Dropout(p=0.1, inplace=False)\n",
              "            )\n",
              "            (output): BertSelfOutput(\n",
              "              (dense): Linear(in_features=768, out_features=768, bias=True)\n",
              "              (LayerNorm): LayerNorm((768,), eps=1e-12, elementwise_affine=True)\n",
              "              (dropout): Dropout(p=0.1, inplace=False)\n",
              "            )\n",
              "          )\n",
              "          (intermediate): BertIntermediate(\n",
              "            (dense): Linear(in_features=768, out_features=3072, bias=True)\n",
              "          )\n",
              "          (output): BertOutput(\n",
              "            (dense): Linear(in_features=3072, out_features=768, bias=True)\n",
              "            (LayerNorm): LayerNorm((768,), eps=1e-12, elementwise_affine=True)\n",
              "            (dropout): Dropout(p=0.1, inplace=False)\n",
              "          )\n",
              "        )\n",
              "        (8): BertLayer(\n",
              "          (attention): BertAttention(\n",
              "            (self): BertSelfAttention(\n",
              "              (query): Linear(in_features=768, out_features=768, bias=True)\n",
              "              (key): Linear(in_features=768, out_features=768, bias=True)\n",
              "              (value): Linear(in_features=768, out_features=768, bias=True)\n",
              "              (dropout): Dropout(p=0.1, inplace=False)\n",
              "            )\n",
              "            (output): BertSelfOutput(\n",
              "              (dense): Linear(in_features=768, out_features=768, bias=True)\n",
              "              (LayerNorm): LayerNorm((768,), eps=1e-12, elementwise_affine=True)\n",
              "              (dropout): Dropout(p=0.1, inplace=False)\n",
              "            )\n",
              "          )\n",
              "          (intermediate): BertIntermediate(\n",
              "            (dense): Linear(in_features=768, out_features=3072, bias=True)\n",
              "          )\n",
              "          (output): BertOutput(\n",
              "            (dense): Linear(in_features=3072, out_features=768, bias=True)\n",
              "            (LayerNorm): LayerNorm((768,), eps=1e-12, elementwise_affine=True)\n",
              "            (dropout): Dropout(p=0.1, inplace=False)\n",
              "          )\n",
              "        )\n",
              "        (9): BertLayer(\n",
              "          (attention): BertAttention(\n",
              "            (self): BertSelfAttention(\n",
              "              (query): Linear(in_features=768, out_features=768, bias=True)\n",
              "              (key): Linear(in_features=768, out_features=768, bias=True)\n",
              "              (value): Linear(in_features=768, out_features=768, bias=True)\n",
              "              (dropout): Dropout(p=0.1, inplace=False)\n",
              "            )\n",
              "            (output): BertSelfOutput(\n",
              "              (dense): Linear(in_features=768, out_features=768, bias=True)\n",
              "              (LayerNorm): LayerNorm((768,), eps=1e-12, elementwise_affine=True)\n",
              "              (dropout): Dropout(p=0.1, inplace=False)\n",
              "            )\n",
              "          )\n",
              "          (intermediate): BertIntermediate(\n",
              "            (dense): Linear(in_features=768, out_features=3072, bias=True)\n",
              "          )\n",
              "          (output): BertOutput(\n",
              "            (dense): Linear(in_features=3072, out_features=768, bias=True)\n",
              "            (LayerNorm): LayerNorm((768,), eps=1e-12, elementwise_affine=True)\n",
              "            (dropout): Dropout(p=0.1, inplace=False)\n",
              "          )\n",
              "        )\n",
              "        (10): BertLayer(\n",
              "          (attention): BertAttention(\n",
              "            (self): BertSelfAttention(\n",
              "              (query): Linear(in_features=768, out_features=768, bias=True)\n",
              "              (key): Linear(in_features=768, out_features=768, bias=True)\n",
              "              (value): Linear(in_features=768, out_features=768, bias=True)\n",
              "              (dropout): Dropout(p=0.1, inplace=False)\n",
              "            )\n",
              "            (output): BertSelfOutput(\n",
              "              (dense): Linear(in_features=768, out_features=768, bias=True)\n",
              "              (LayerNorm): LayerNorm((768,), eps=1e-12, elementwise_affine=True)\n",
              "              (dropout): Dropout(p=0.1, inplace=False)\n",
              "            )\n",
              "          )\n",
              "          (intermediate): BertIntermediate(\n",
              "            (dense): Linear(in_features=768, out_features=3072, bias=True)\n",
              "          )\n",
              "          (output): BertOutput(\n",
              "            (dense): Linear(in_features=3072, out_features=768, bias=True)\n",
              "            (LayerNorm): LayerNorm((768,), eps=1e-12, elementwise_affine=True)\n",
              "            (dropout): Dropout(p=0.1, inplace=False)\n",
              "          )\n",
              "        )\n",
              "        (11): BertLayer(\n",
              "          (attention): BertAttention(\n",
              "            (self): BertSelfAttention(\n",
              "              (query): Linear(in_features=768, out_features=768, bias=True)\n",
              "              (key): Linear(in_features=768, out_features=768, bias=True)\n",
              "              (value): Linear(in_features=768, out_features=768, bias=True)\n",
              "              (dropout): Dropout(p=0.1, inplace=False)\n",
              "            )\n",
              "            (output): BertSelfOutput(\n",
              "              (dense): Linear(in_features=768, out_features=768, bias=True)\n",
              "              (LayerNorm): LayerNorm((768,), eps=1e-12, elementwise_affine=True)\n",
              "              (dropout): Dropout(p=0.1, inplace=False)\n",
              "            )\n",
              "          )\n",
              "          (intermediate): BertIntermediate(\n",
              "            (dense): Linear(in_features=768, out_features=3072, bias=True)\n",
              "          )\n",
              "          (output): BertOutput(\n",
              "            (dense): Linear(in_features=3072, out_features=768, bias=True)\n",
              "            (LayerNorm): LayerNorm((768,), eps=1e-12, elementwise_affine=True)\n",
              "            (dropout): Dropout(p=0.1, inplace=False)\n",
              "          )\n",
              "        )\n",
              "      )\n",
              "    )\n",
              "    (pooler): BertPooler(\n",
              "      (dense): Linear(in_features=768, out_features=768, bias=True)\n",
              "      (activation): Tanh()\n",
              "    )\n",
              "  )\n",
              "  (drop): Dropout(p=0.35, inplace=False)\n",
              "  (hidden): Linear(in_features=768, out_features=128, bias=True)\n",
              "  (out): Linear(in_features=128, out_features=5, bias=True)\n",
              ")"
            ]
          },
          "metadata": {
            "tags": []
          },
          "execution_count": 37
        }
      ]
    },
    {
      "cell_type": "markdown",
      "metadata": {
        "id": "kXIvOUwQwgFL",
        "papermill": {
          "duration": 0.090451,
          "end_time": "2020-11-05T08:51:27.839397",
          "exception": false,
          "start_time": "2020-11-05T08:51:27.748946",
          "status": "completed"
        },
        "tags": []
      },
      "source": [
        "Let's train our BERT Sentiment classifier"
      ]
    },
    {
      "cell_type": "markdown",
      "metadata": {
        "id": "kNPjWUIGwrY3",
        "papermill": {
          "duration": 0.089141,
          "end_time": "2020-11-05T08:51:28.018579",
          "exception": false,
          "start_time": "2020-11-05T08:51:27.929438",
          "status": "completed"
        },
        "tags": []
      },
      "source": [
        "We will use **AdamW** optimizer for correcting weight decay. We will also use, **linear scheduler** with no warm up steps:"
      ]
    },
    {
      "cell_type": "code",
      "metadata": {
        "execution": {
          "iopub.execute_input": "2020-11-05T08:51:28.206595Z",
          "iopub.status.busy": "2020-11-05T08:51:28.205484Z",
          "iopub.status.idle": "2020-11-05T08:51:28.208858Z",
          "shell.execute_reply": "2020-11-05T08:51:28.208273Z"
        },
        "id": "7Bat3sYUlpFU",
        "papermill": {
          "duration": 0.099799,
          "end_time": "2020-11-05T08:51:28.208982",
          "exception": false,
          "start_time": "2020-11-05T08:51:28.109183",
          "status": "completed"
        },
        "tags": []
      },
      "source": [
        "epochs=5\n",
        "optimizer=AdamW(BERT_model.parameters(),lr=2e-5,correct_bias=False)\n",
        "total_steps=len(train_DataLoader)*epochs\n",
        "\n",
        "scheduler=get_linear_schedule_with_warmup(\n",
        "    optimizer,\n",
        "    num_warmup_steps=0,\n",
        "    num_training_steps=total_steps\n",
        ")\n",
        "\n",
        "loss_fn=nn.CrossEntropyLoss().to(device)"
      ],
      "execution_count": null,
      "outputs": []
    },
    {
      "cell_type": "markdown",
      "metadata": {
        "id": "6M3Coj7FxB3I",
        "papermill": {
          "duration": 0.088259,
          "end_time": "2020-11-05T08:51:28.387159",
          "exception": false,
          "start_time": "2020-11-05T08:51:28.298900",
          "status": "completed"
        },
        "tags": []
      },
      "source": [
        "Now write a helper function to train our model:"
      ]
    },
    {
      "cell_type": "code",
      "metadata": {
        "execution": {
          "iopub.execute_input": "2020-11-05T08:51:28.561675Z",
          "iopub.status.busy": "2020-11-05T08:51:28.560678Z",
          "iopub.status.idle": "2020-11-05T08:51:28.563643Z",
          "shell.execute_reply": "2020-11-05T08:51:28.563056Z"
        },
        "id": "V2sAG4Puw-me",
        "papermill": {
          "duration": 0.095862,
          "end_time": "2020-11-05T08:51:28.563749",
          "exception": false,
          "start_time": "2020-11-05T08:51:28.467887",
          "status": "completed"
        },
        "tags": []
      },
      "source": [
        "def train(\n",
        "  model,\n",
        "  data_loader,\n",
        "  loss_fn,\n",
        "  optimizer,\n",
        "  device,\n",
        "  scheduler,\n",
        "  n_observations\n",
        "):\n",
        "  model = model.train()\n",
        "  losses = []\n",
        "  correct_predictions = 0\n",
        "  for d in data_loader:\n",
        "    input_ids = d[\"input_ids\"].to(device)\n",
        "    attention_mask = d[\"attention_mask\"].to(device)\n",
        "    targets = d[\"targets\"].to(device)\n",
        "    #Feed data to BERT model\n",
        "    outputs = model(\n",
        "      input_ids=input_ids,\n",
        "      attention_mask=attention_mask\n",
        "      )\n",
        "    _, preds = torch.max(outputs, dim=1)\n",
        "    loss = loss_fn(outputs, targets)\n",
        "    correct_predictions += torch.sum(preds == targets)\n",
        "    losses.append(loss.item())\n",
        "    torch.autograd.set_detect_anomaly(True)\n",
        "    loss.backward()\n",
        "    nn.utils.clip_grad_norm_(model.parameters(), max_norm=1.0)     # Clip gradients to avoid exploding gradient problem\n",
        "    optimizer.step()\n",
        "    scheduler.step()\n",
        "    optimizer.zero_grad()\n",
        "  return correct_predictions.double() / n_observations, np.mean(losses)"
      ],
      "execution_count": null,
      "outputs": []
    },
    {
      "cell_type": "markdown",
      "metadata": {
        "id": "Ae2HFXy2xpfv",
        "papermill": {
          "duration": 0.080931,
          "end_time": "2020-11-05T08:51:28.727443",
          "exception": false,
          "start_time": "2020-11-05T08:51:28.646512",
          "status": "completed"
        },
        "tags": []
      },
      "source": [
        "Similarly, write a function to evaluate our model:"
      ]
    },
    {
      "cell_type": "code",
      "metadata": {
        "execution": {
          "iopub.execute_input": "2020-11-05T08:51:28.900660Z",
          "iopub.status.busy": "2020-11-05T08:51:28.899564Z",
          "iopub.status.idle": "2020-11-05T08:51:28.902939Z",
          "shell.execute_reply": "2020-11-05T08:51:28.902356Z"
        },
        "id": "YvobVuNcxk1d",
        "papermill": {
          "duration": 0.094715,
          "end_time": "2020-11-05T08:51:28.903059",
          "exception": false,
          "start_time": "2020-11-05T08:51:28.808344",
          "status": "completed"
        },
        "tags": []
      },
      "source": [
        "def eval_model(model, data_loader,device,loss_fn, n_observations):\n",
        "  model = model.eval()\n",
        "  losses = []\n",
        "  correct_predictions = 0\n",
        "  with torch.no_grad():\n",
        "    for d in data_loader:\n",
        "      input_ids = d[\"input_ids\"].to(device)\n",
        "      attention_mask = d[\"attention_mask\"].to(device)\n",
        "      targets = d[\"targets\"].to(device)\n",
        "      # Feed data to BERT model\n",
        "      outputs = model(\n",
        "        input_ids=input_ids,\n",
        "        attention_mask=attention_mask,\n",
        "      )\n",
        "      _, preds = torch.max(outputs, dim=1)\n",
        "      loss = loss_fn(outputs, targets)\n",
        "      correct_predictions += torch.sum(preds == targets)\n",
        "      losses.append(loss.item())\n",
        "  return correct_predictions.double() / n_observations, np.mean(losses)"
      ],
      "execution_count": null,
      "outputs": []
    },
    {
      "cell_type": "markdown",
      "metadata": {
        "id": "GBVXPTDRyNRu",
        "papermill": {
          "duration": 0.080956,
          "end_time": "2020-11-05T08:51:29.067219",
          "exception": false,
          "start_time": "2020-11-05T08:51:28.986263",
          "status": "completed"
        },
        "tags": []
      },
      "source": [
        "Using above helper functions, write our training loop & store training history:"
      ]
    },
    {
      "cell_type": "code",
      "metadata": {
        "execution": {
          "iopub.execute_input": "2020-11-05T08:51:29.241485Z",
          "iopub.status.busy": "2020-11-05T08:51:29.240492Z",
          "iopub.status.idle": "2020-11-05T13:15:08.371719Z",
          "shell.execute_reply": "2020-11-05T13:15:08.372573Z"
        },
        "id": "S9kTBlF3yH1w",
        "papermill": {
          "duration": 15819.223868,
          "end_time": "2020-11-05T13:15:08.372822",
          "exception": false,
          "start_time": "2020-11-05T08:51:29.148954",
          "status": "completed"
        },
        "tags": [],
        "outputId": "145914be-bafa-4e68-fa7e-eda94476ba5a"
      },
      "source": [
        "%%time\n",
        "history = defaultdict(list)\n",
        "best_accuracy = 0\n",
        "for epoch in range(epochs):\n",
        "  print(f'Epoch {epoch + 1}/{epochs}')\n",
        "  print('-' * 10)\n",
        "  train_acc, train_loss = train(\n",
        "    BERT_model,\n",
        "    train_DataLoader,\n",
        "    loss_fn,\n",
        "    optimizer,\n",
        "    device,\n",
        "    scheduler,\n",
        "    len(df_train)\n",
        "  )\n",
        "  print(f'Train loss {train_loss} accuracy {train_acc}')\n",
        "  val_acc, val_loss = eval_model(\n",
        "    BERT_model,\n",
        "    valid_DataLoader,\n",
        "    device,\n",
        "    loss_fn,\n",
        "    len(df_val)\n",
        "  )\n",
        "  print(f'Validation  loss {val_loss} accuracy {val_acc}')\n",
        "  print()\n",
        "  history['train_acc'].append(train_acc)\n",
        "  history['train_loss'].append(train_loss)\n",
        "  history['val_acc'].append(val_acc)\n",
        "  history['val_loss'].append(val_loss)\n",
        "  if val_acc > best_accuracy:\n",
        "    torch.save(BERT_model.state_dict(), 'best_model_state.bin')\n",
        "    best_accuracy = val_acc"
      ],
      "execution_count": null,
      "outputs": [
        {
          "output_type": "stream",
          "text": [
            "Epoch 1/5\n",
            "----------\n",
            "Train loss 0.748812172237316 accuracy 0.7109453162964868\n",
            "Validation  loss 0.47807285251877624 accuracy 0.8328474246841594\n",
            "\n",
            "Epoch 2/5\n",
            "----------\n",
            "Train loss 0.42703209632891365 accuracy 0.8651916645227682\n",
            "Validation  loss 0.555474780803942 accuracy 0.8550372529964366\n",
            "\n",
            "Epoch 3/5\n",
            "----------\n",
            "Train loss 0.32472420108093347 accuracy 0.912757625132207\n",
            "Validation  loss 0.5627963538925523 accuracy 0.862325882734046\n",
            "\n",
            "Epoch 4/5\n",
            "----------\n",
            "Train loss 0.23945950140458122 accuracy 0.9412571820598576\n",
            "Validation  loss 0.6466113979107256 accuracy 0.873015873015873\n",
            "\n",
            "Epoch 5/5\n",
            "----------\n",
            "Train loss 0.17267165586788993 accuracy 0.9604665123059772\n",
            "Validation  loss 0.6461382596251384 accuracy 0.8798185941043084\n",
            "\n",
            "CPU times: user 4h 2min 3s, sys: 16min 56s, total: 4h 18min 59s\n",
            "Wall time: 4h 23min 39s\n"
          ],
          "name": "stdout"
        }
      ]
    },
    {
      "cell_type": "markdown",
      "metadata": {
        "papermill": {
          "duration": 0.102704,
          "end_time": "2020-11-05T13:15:08.577291",
          "exception": false,
          "start_time": "2020-11-05T13:15:08.474587",
          "status": "completed"
        },
        "tags": [],
        "id": "MGZErtNbThgm"
      },
      "source": [
        "Let's look at **training vs validation accuracy**:"
      ]
    },
    {
      "cell_type": "code",
      "metadata": {
        "execution": {
          "iopub.execute_input": "2020-11-05T13:15:08.799352Z",
          "iopub.status.busy": "2020-11-05T13:15:08.797648Z",
          "iopub.status.idle": "2020-11-05T13:15:09.317527Z",
          "shell.execute_reply": "2020-11-05T13:15:09.316861Z"
        },
        "papermill": {
          "duration": 0.634327,
          "end_time": "2020-11-05T13:15:09.317663",
          "exception": false,
          "start_time": "2020-11-05T13:15:08.683336",
          "status": "completed"
        },
        "tags": [],
        "id": "0oPjVq3eThgm",
        "outputId": "29e04f86-f48b-4239-8ddd-235de40ca3f7"
      },
      "source": [
        "plt.figure(figsize=(12,6))\n",
        "plt.plot(history['train_acc'], label='train accuracy')\n",
        "plt.plot(history['val_acc'], label='validation accuracy')\n",
        "plt.title('Training history')\n",
        "plt.ylabel('Accuracy')\n",
        "plt.xlabel('Epoch')\n",
        "plt.legend()\n",
        "plt.ylim([0, 1]);"
      ],
      "execution_count": null,
      "outputs": [
        {
          "output_type": "display_data",
          "data": {
            "image/png": "[encoded data removed]",
            "text/plain": [
              "<Figure size 864x432 with 1 Axes>"
            ]
          },
          "metadata": {
            "tags": [],
            "image/png": {
              "height": 391,
              "width": 727
            }
          }
        }
      ]
    },
    {
      "cell_type": "markdown",
      "metadata": {
        "papermill": {
          "duration": 0.105123,
          "end_time": "2020-11-05T13:15:09.538499",
          "exception": false,
          "start_time": "2020-11-05T13:15:09.433376",
          "status": "completed"
        },
        "tags": [],
        "id": "ANB1wUTCThgn"
      },
      "source": [
        "**Model Evaluation**"
      ]
    },
    {
      "cell_type": "markdown",
      "metadata": {
        "papermill": {
          "duration": 0.098803,
          "end_time": "2020-11-05T13:15:09.801709",
          "exception": false,
          "start_time": "2020-11-05T13:15:09.702906",
          "status": "completed"
        },
        "tags": [],
        "id": "Fl6MdtiqThgn"
      },
      "source": [
        "Let's see how good our model on unseen data."
      ]
    },
    {
      "cell_type": "code",
      "metadata": {
        "execution": {
          "iopub.execute_input": "2020-11-05T13:15:10.008124Z",
          "iopub.status.busy": "2020-11-05T13:15:10.006481Z",
          "iopub.status.idle": "2020-11-05T13:15:27.609718Z",
          "shell.execute_reply": "2020-11-05T13:15:27.608547Z"
        },
        "id": "CcU1Bk6dzNyx",
        "papermill": {
          "duration": 17.707336,
          "end_time": "2020-11-05T13:15:27.609893",
          "exception": false,
          "start_time": "2020-11-05T13:15:09.902557",
          "status": "completed"
        },
        "tags": []
      },
      "source": [
        "test_acc, _ = eval_model(\n",
        "  BERT_model,\n",
        "  test_DataLoader,\n",
        "  device,\n",
        "  loss_fn,\n",
        "  len(test_df)\n",
        ")"
      ],
      "execution_count": null,
      "outputs": []
    },
    {
      "cell_type": "code",
      "metadata": {
        "execution": {
          "iopub.execute_input": "2020-11-05T13:15:27.806627Z",
          "iopub.status.busy": "2020-11-05T13:15:27.805580Z",
          "iopub.status.idle": "2020-11-05T13:15:27.810242Z",
          "shell.execute_reply": "2020-11-05T13:15:27.809715Z"
        },
        "papermill": {
          "duration": 0.108518,
          "end_time": "2020-11-05T13:15:27.810352",
          "exception": false,
          "start_time": "2020-11-05T13:15:27.701834",
          "status": "completed"
        },
        "tags": [],
        "id": "Vmeb3FuwThgn",
        "outputId": "3bc1eda5-331e-4848-f64f-60d6615f42f3"
      },
      "source": [
        "test_acc.item()"
      ],
      "execution_count": null,
      "outputs": [
        {
          "output_type": "execute_result",
          "data": {
            "text/plain": [
              "0.8478146392838335"
            ]
          },
          "metadata": {
            "tags": []
          },
          "execution_count": 44
        }
      ]
    },
    {
      "cell_type": "markdown",
      "metadata": {
        "papermill": {
          "duration": 0.091418,
          "end_time": "2020-11-05T13:15:27.994473",
          "exception": false,
          "start_time": "2020-11-05T13:15:27.903055",
          "status": "completed"
        },
        "tags": [],
        "id": "Qcc89d8XThgn"
      },
      "source": [
        "Now we will write a function to get the predictions from our model:"
      ]
    },
    {
      "cell_type": "code",
      "metadata": {
        "execution": {
          "iopub.execute_input": "2020-11-05T13:15:28.191106Z",
          "iopub.status.busy": "2020-11-05T13:15:28.190324Z",
          "iopub.status.idle": "2020-11-05T13:15:28.193954Z",
          "shell.execute_reply": "2020-11-05T13:15:28.193424Z"
        },
        "papermill": {
          "duration": 0.107497,
          "end_time": "2020-11-05T13:15:28.194075",
          "exception": false,
          "start_time": "2020-11-05T13:15:28.086578",
          "status": "completed"
        },
        "tags": [],
        "id": "Z8CToTO_Thgn"
      },
      "source": [
        "def get_predictions(model, data_loader):\n",
        "  model = model.eval()\n",
        "  tweets = []\n",
        "  predictions = []\n",
        "  prediction_probs = []\n",
        "  real_values = []\n",
        "\n",
        "  with torch.no_grad():\n",
        "    for d in data_loader:\n",
        "      texts = d[\"tweets_text\"]\n",
        "      input_ids = d[\"input_ids\"].to(device)\n",
        "      attention_mask = d[\"attention_mask\"].to(device)\n",
        "      targets = d[\"targets\"].to(device)\n",
        "      outputs = model(\n",
        "        input_ids=input_ids,\n",
        "        attention_mask=attention_mask\n",
        "      )\n",
        "      _, preds = torch.max(outputs, dim=1)\n",
        "      tweets.extend(texts)\n",
        "      predictions.extend(preds)\n",
        "      prediction_probs.extend(outputs)\n",
        "      real_values.extend(targets)\n",
        "\n",
        "  predictions = torch.stack(predictions).cpu()\n",
        "  prediction_probs = torch.stack(prediction_probs).cpu()\n",
        "  real_values = torch.stack(real_values).cpu()\n",
        "  return tweets, predictions, prediction_probs, real_values"
      ],
      "execution_count": null,
      "outputs": []
    },
    {
      "cell_type": "code",
      "metadata": {
        "execution": {
          "iopub.execute_input": "2020-11-05T13:15:28.382824Z",
          "iopub.status.busy": "2020-11-05T13:15:28.381106Z",
          "iopub.status.idle": "2020-11-05T13:15:44.993133Z",
          "shell.execute_reply": "2020-11-05T13:15:44.992051Z"
        },
        "papermill": {
          "duration": 16.707681,
          "end_time": "2020-11-05T13:15:44.993271",
          "exception": false,
          "start_time": "2020-11-05T13:15:28.285590",
          "status": "completed"
        },
        "tags": [],
        "id": "owjy5h2MThgo"
      },
      "source": [
        "tweets, y_pred, y_pred_probs, y_test = get_predictions(\n",
        "  BERT_model,\n",
        "  test_DataLoader\n",
        ")"
      ],
      "execution_count": null,
      "outputs": []
    },
    {
      "cell_type": "markdown",
      "metadata": {
        "papermill": {
          "duration": 0.09427,
          "end_time": "2020-11-05T13:15:45.182494",
          "exception": false,
          "start_time": "2020-11-05T13:15:45.088224",
          "status": "completed"
        },
        "tags": [],
        "id": "fbDgthiQThgo"
      },
      "source": [
        "Let's have a look at the classification report:"
      ]
    },
    {
      "cell_type": "code",
      "metadata": {
        "execution": {
          "iopub.execute_input": "2020-11-05T13:15:45.377746Z",
          "iopub.status.busy": "2020-11-05T13:15:45.376862Z",
          "iopub.status.idle": "2020-11-05T13:15:45.396067Z",
          "shell.execute_reply": "2020-11-05T13:15:45.395036Z"
        },
        "papermill": {
          "duration": 0.118613,
          "end_time": "2020-11-05T13:15:45.396201",
          "exception": false,
          "start_time": "2020-11-05T13:15:45.277588",
          "status": "completed"
        },
        "tags": [],
        "id": "kBzpB23WThgo",
        "outputId": "782d8084-f144-49de-efa6-aabfe61b40fd"
      },
      "source": [
        "class_report=classification_report(y_test, y_pred, target_names=class_names)\n",
        "print(class_report)"
      ],
      "execution_count": null,
      "outputs": [
        {
          "output_type": "stream",
          "text": [
            "                    precision    recall  f1-score   support\n",
            "\n",
            "Extremely Negative       0.85      0.89      0.87       592\n",
            "Extremely Positive       0.89      0.87      0.88       599\n",
            "          Negative       0.84      0.83      0.83      1041\n",
            "           Neutral       0.84      0.86      0.85       619\n",
            "          Positive       0.83      0.82      0.83       947\n",
            "\n",
            "          accuracy                           0.85      3798\n",
            "         macro avg       0.85      0.85      0.85      3798\n",
            "      weighted avg       0.85      0.85      0.85      3798\n",
            "\n"
          ],
          "name": "stdout"
        }
      ]
    },
    {
      "cell_type": "markdown",
      "metadata": {
        "papermill": {
          "duration": 0.091608,
          "end_time": "2020-11-05T13:15:45.580604",
          "exception": false,
          "start_time": "2020-11-05T13:15:45.488996",
          "status": "completed"
        },
        "tags": [],
        "id": "g6sdKF-MThgo"
      },
      "source": [
        "Now will plot confusion matrix:"
      ]
    },
    {
      "cell_type": "code",
      "metadata": {
        "execution": {
          "iopub.execute_input": "2020-11-05T13:15:45.780603Z",
          "iopub.status.busy": "2020-11-05T13:15:45.779577Z",
          "iopub.status.idle": "2020-11-05T13:15:46.265736Z",
          "shell.execute_reply": "2020-11-05T13:15:46.266328Z"
        },
        "papermill": {
          "duration": 0.589759,
          "end_time": "2020-11-05T13:15:46.266479",
          "exception": false,
          "start_time": "2020-11-05T13:15:45.676720",
          "status": "completed"
        },
        "tags": [],
        "id": "-fYR3ETvThgo",
        "outputId": "8483117e-6e10-4bac-9129-ac46399f320f"
      },
      "source": [
        "plt.figure(figsize=(12,6))\n",
        "def show_confusion_matrix(confusion_matrix):\n",
        "  hmap = sns.heatmap(confusion_matrix, annot=True, fmt=\"d\", cmap=\"Blues\")\n",
        "  hmap.yaxis.set_ticklabels(hmap.yaxis.get_ticklabels(),rotation=0, ha='right')\n",
        "  hmap.xaxis.set_ticklabels(hmap.xaxis.get_ticklabels(),rotation=30, ha='right')\n",
        "  plt.ylabel('True sentiment')\n",
        "  plt.xlabel('Predicted sentiment');\n",
        "cm = confusion_matrix(y_test, y_pred)\n",
        "df_cm = pd.DataFrame(cm, index=class_names, columns=class_names)\n",
        "show_confusion_matrix(df_cm)"
      ],
      "execution_count": null,
      "outputs": [
        {
          "output_type": "display_data",
          "data": {
            "image/png": "[encoded data removed]",
            "text/plain": [
              "<Figure size 864x432 with 2 Axes>"
            ]
          },
          "metadata": {
            "tags": [],
            "image/png": {
              "height": 429,
              "width": 764
            }
          }
        }
      ]
    },
    {
      "cell_type": "code",
      "metadata": {
        "execution": {
          "iopub.execute_input": "2020-11-05T13:15:46.469365Z",
          "iopub.status.busy": "2020-11-05T13:15:46.468338Z",
          "iopub.status.idle": "2020-11-05T13:15:46.473422Z",
          "shell.execute_reply": "2020-11-05T13:15:46.473963Z"
        },
        "papermill": {
          "duration": 0.109456,
          "end_time": "2020-11-05T13:15:46.474106",
          "exception": false,
          "start_time": "2020-11-05T13:15:46.364650",
          "status": "completed"
        },
        "tags": [],
        "id": "NZ2dACgNThgp"
      },
      "source": [
        "# Binarize the targets & predictions to plot PR & ROC curves\n",
        "y_test= label_binarize(y_test, classes=[*range(n_classes)])\n",
        "y_pred = label_binarize(y_pred, classes=[*range(n_classes)])"
      ],
      "execution_count": null,
      "outputs": []
    },
    {
      "cell_type": "markdown",
      "metadata": {
        "papermill": {
          "duration": 0.097674,
          "end_time": "2020-11-05T13:15:46.669371",
          "exception": false,
          "start_time": "2020-11-05T13:15:46.571697",
          "status": "completed"
        },
        "tags": [],
        "id": "FOcwJUyzThgp"
      },
      "source": [
        "Plot PR (Precesion-Recall) curve:"
      ]
    },
    {
      "cell_type": "code",
      "metadata": {
        "execution": {
          "iopub.execute_input": "2020-11-05T13:15:46.873221Z",
          "iopub.status.busy": "2020-11-05T13:15:46.872371Z",
          "iopub.status.idle": "2020-11-05T13:15:47.313380Z",
          "shell.execute_reply": "2020-11-05T13:15:47.313935Z"
        },
        "papermill": {
          "duration": 0.547076,
          "end_time": "2020-11-05T13:15:47.314083",
          "exception": false,
          "start_time": "2020-11-05T13:15:46.767007",
          "status": "completed"
        },
        "tags": [],
        "id": "jmMAwh1HThgp",
        "outputId": "db033017-bb35-4aae-fbde-2bd4b4cae40b"
      },
      "source": [
        "# plot model precision-recall curve\n",
        "precision = dict()\n",
        "recall = dict()\n",
        "plt.figure(figsize=(12,6))\n",
        "for i in range(n_classes):\n",
        "    precision[i], recall[i], _ = precision_recall_curve(y_test[:, i],\n",
        "                                                        y_pred[:, i])\n",
        "    plt.plot(recall[i], precision[i], lw=2, label='class {}'.format(i))\n",
        "\n",
        "plt.xlabel(\"recall\")\n",
        "plt.ylabel(\"precision\")\n",
        "plt.legend(loc=\"best\")\n",
        "plt.title(\"precision vs. recall curve\")\n",
        "plt.show()"
      ],
      "execution_count": null,
      "outputs": [
        {
          "output_type": "display_data",
          "data": {
            "image/png": "[encoded data removed]",
            "text/plain": [
              "<Figure size 864x432 with 1 Axes>"
            ]
          },
          "metadata": {
            "tags": [],
            "image/png": {
              "height": 391,
              "width": 727
            }
          }
        }
      ]
    },
    {
      "cell_type": "markdown",
      "metadata": {
        "papermill": {
          "duration": 0.101229,
          "end_time": "2020-11-05T13:15:47.516633",
          "exception": false,
          "start_time": "2020-11-05T13:15:47.415404",
          "status": "completed"
        },
        "tags": [],
        "id": "8OL156CXThgp"
      },
      "source": [
        "**ROC (Receiver operating characterstic) curve**:"
      ]
    },
    {
      "cell_type": "code",
      "metadata": {
        "execution": {
          "iopub.execute_input": "2020-11-05T13:15:47.725840Z",
          "iopub.status.busy": "2020-11-05T13:15:47.724730Z",
          "iopub.status.idle": "2020-11-05T13:15:48.391298Z",
          "shell.execute_reply": "2020-11-05T13:15:48.391876Z"
        },
        "papermill": {
          "duration": 0.776858,
          "end_time": "2020-11-05T13:15:48.392037",
          "exception": false,
          "start_time": "2020-11-05T13:15:47.615179",
          "status": "completed"
        },
        "tags": [],
        "id": "dn4b5cIHThgp",
        "outputId": "2f12a68a-e4b5-47f5-c9fc-b5e4c709b496"
      },
      "source": [
        "# plot roc curve\n",
        "fpr = dict()\n",
        "tpr = dict()\n",
        "\n",
        "plt.figure(figsize=(12,6))\n",
        "for i in range(n_classes):\n",
        "    fpr[i], tpr[i], _ = roc_curve(y_test[:, i],\n",
        "                                  y_pred[:, i])\n",
        "    plt.plot(fpr[i], tpr[i], lw=2, label='class {}'.format(i))\n",
        "\n",
        "plt.xlabel(\"false positive rate\")\n",
        "plt.ylabel(\"true positive rate\")\n",
        "plt.legend(loc=\"best\")\n",
        "plt.title(\"ROC curve\")\n",
        "plt.show()"
      ],
      "execution_count": null,
      "outputs": [
        {
          "output_type": "display_data",
          "data": {
            "image/png": "[encoded data removed]",
            "text/plain": [
              "<Figure size 864x432 with 1 Axes>"
            ]
          },
          "metadata": {
            "tags": [],
            "image/png": {
              "height": 391,
              "width": 727
            }
          }
        }
      ]
    }
  ]
}
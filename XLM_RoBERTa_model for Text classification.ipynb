{
  "nbformat": 4,
  "nbformat_minor": 0,
  "metadata": {
    "colab": {
      "name": "XLM_RoBERTa_model_10_Trainer.ipynb",
      "provenance": [],
      "collapsed_sections": []
    },
    "kernelspec": {
      "name": "python3",
      "display_name": "Python 3"
    },
    "language_info": {
      "name": "python"
    },
    "accelerator": "GPU",
    "widgets": {
      "application/vnd.jupyter.widget-state+json": {
        "28ddfc54d04f47f0b58725ec804e064d": {
          "model_module": "@jupyter-widgets/controls",
          "model_name": "HBoxModel",
          "model_module_version": "1.5.0",
          "state": {
            "_view_name": "HBoxView",
            "_dom_classes": [],
            "_model_name": "HBoxModel",
            "_view_module": "@jupyter-widgets/controls",
            "_model_module_version": "1.5.0",
            "_view_count": null,
            "_view_module_version": "1.5.0",
            "box_style": "",
            "layout": "IPY_MODEL_b664e9e9059a45d2bc901b04e54f71f1",
            "_model_module": "@jupyter-widgets/controls",
            "children": [
              "IPY_MODEL_b04284174f4a4b459c530dfedca2efa3",
              "IPY_MODEL_143eb612531a496697b78af68f0248b6",
              "IPY_MODEL_397fb2c0a0ba4d368cca8f9e9b9d3c2e"
            ]
          }
        },
        "b664e9e9059a45d2bc901b04e54f71f1": {
          "model_module": "@jupyter-widgets/base",
          "model_name": "LayoutModel",
          "model_module_version": "1.2.0",
          "state": {
            "_view_name": "LayoutView",
            "grid_template_rows": null,
            "right": null,
            "justify_content": null,
            "_view_module": "@jupyter-widgets/base",
            "overflow": null,
            "_model_module_version": "1.2.0",
            "_view_count": null,
            "flex_flow": null,
            "width": null,
            "min_width": null,
            "border": null,
            "align_items": null,
            "bottom": null,
            "_model_module": "@jupyter-widgets/base",
            "top": null,
            "grid_column": null,
            "overflow_y": null,
            "overflow_x": null,
            "grid_auto_flow": null,
            "grid_area": null,
            "grid_template_columns": null,
            "flex": null,
            "_model_name": "LayoutModel",
            "justify_items": null,
            "grid_row": null,
            "max_height": null,
            "align_content": null,
            "visibility": null,
            "align_self": null,
            "height": null,
            "min_height": null,
            "padding": null,
            "grid_auto_rows": null,
            "grid_gap": null,
            "max_width": null,
            "order": null,
            "_view_module_version": "1.2.0",
            "grid_template_areas": null,
            "object_position": null,
            "object_fit": null,
            "grid_auto_columns": null,
            "margin": null,
            "display": null,
            "left": null
          }
        },
        "b04284174f4a4b459c530dfedca2efa3": {
          "model_module": "@jupyter-widgets/controls",
          "model_name": "HTMLModel",
          "model_module_version": "1.5.0",
          "state": {
            "_view_name": "HTMLView",
            "style": "IPY_MODEL_ca74e9a83dc545d2ae5c84012e8cacf5",
            "_dom_classes": [],
            "description": "",
            "_model_name": "HTMLModel",
            "placeholder": "​",
            "_view_module": "@jupyter-widgets/controls",
            "_model_module_version": "1.5.0",
            "value": "Downloading: 100%",
            "_view_count": null,
            "_view_module_version": "1.5.0",
            "description_tooltip": null,
            "_model_module": "@jupyter-widgets/controls",
            "layout": "IPY_MODEL_32d452f9270645b089b9b50a6edfee58"
          }
        },
        "143eb612531a496697b78af68f0248b6": {
          "model_module": "@jupyter-widgets/controls",
          "model_name": "FloatProgressModel",
          "model_module_version": "1.5.0",
          "state": {
            "_view_name": "ProgressView",
            "style": "IPY_MODEL_f6ce10eb7e6c40cb910cbb64c6a096b7",
            "_dom_classes": [],
            "description": "",
            "_model_name": "FloatProgressModel",
            "bar_style": "success",
            "max": 5069051,
            "_view_module": "@jupyter-widgets/controls",
            "_model_module_version": "1.5.0",
            "value": 5069051,
            "_view_count": null,
            "_view_module_version": "1.5.0",
            "orientation": "horizontal",
            "min": 0,
            "description_tooltip": null,
            "_model_module": "@jupyter-widgets/controls",
            "layout": "IPY_MODEL_47f82151462a4b97be51de4700bfbacf"
          }
        },
        "397fb2c0a0ba4d368cca8f9e9b9d3c2e": {
          "model_module": "@jupyter-widgets/controls",
          "model_name": "HTMLModel",
          "model_module_version": "1.5.0",
          "state": {
            "_view_name": "HTMLView",
            "style": "IPY_MODEL_738a3ccf7a4b450281cd7dc48ea51ab0",
            "_dom_classes": [],
            "description": "",
            "_model_name": "HTMLModel",
            "placeholder": "​",
            "_view_module": "@jupyter-widgets/controls",
            "_model_module_version": "1.5.0",
            "value": " 4.83M/4.83M [00:01&lt;00:00, 4.43MB/s]",
            "_view_count": null,
            "_view_module_version": "1.5.0",
            "description_tooltip": null,
            "_model_module": "@jupyter-widgets/controls",
            "layout": "IPY_MODEL_f5a58de7514a45ada459e629b0eb926b"
          }
        },
        "ca74e9a83dc545d2ae5c84012e8cacf5": {
          "model_module": "@jupyter-widgets/controls",
          "model_name": "DescriptionStyleModel",
          "model_module_version": "1.5.0",
          "state": {
            "_view_name": "StyleView",
            "_model_name": "DescriptionStyleModel",
            "description_width": "",
            "_view_module": "@jupyter-widgets/base",
            "_model_module_version": "1.5.0",
            "_view_count": null,
            "_view_module_version": "1.2.0",
            "_model_module": "@jupyter-widgets/controls"
          }
        },
        "32d452f9270645b089b9b50a6edfee58": {
          "model_module": "@jupyter-widgets/base",
          "model_name": "LayoutModel",
          "model_module_version": "1.2.0",
          "state": {
            "_view_name": "LayoutView",
            "grid_template_rows": null,
            "right": null,
            "justify_content": null,
            "_view_module": "@jupyter-widgets/base",
            "overflow": null,
            "_model_module_version": "1.2.0",
            "_view_count": null,
            "flex_flow": null,
            "width": null,
            "min_width": null,
            "border": null,
            "align_items": null,
            "bottom": null,
            "_model_module": "@jupyter-widgets/base",
            "top": null,
            "grid_column": null,
            "overflow_y": null,
            "overflow_x": null,
            "grid_auto_flow": null,
            "grid_area": null,
            "grid_template_columns": null,
            "flex": null,
            "_model_name": "LayoutModel",
            "justify_items": null,
            "grid_row": null,
            "max_height": null,
            "align_content": null,
            "visibility": null,
            "align_self": null,
            "height": null,
            "min_height": null,
            "padding": null,
            "grid_auto_rows": null,
            "grid_gap": null,
            "max_width": null,
            "order": null,
            "_view_module_version": "1.2.0",
            "grid_template_areas": null,
            "object_position": null,
            "object_fit": null,
            "grid_auto_columns": null,
            "margin": null,
            "display": null,
            "left": null
          }
        },
        "f6ce10eb7e6c40cb910cbb64c6a096b7": {
          "model_module": "@jupyter-widgets/controls",
          "model_name": "ProgressStyleModel",
          "model_module_version": "1.5.0",
          "state": {
            "_view_name": "StyleView",
            "_model_name": "ProgressStyleModel",
            "description_width": "",
            "_view_module": "@jupyter-widgets/base",
            "_model_module_version": "1.5.0",
            "_view_count": null,
            "_view_module_version": "1.2.0",
            "bar_color": null,
            "_model_module": "@jupyter-widgets/controls"
          }
        },
        "47f82151462a4b97be51de4700bfbacf": {
          "model_module": "@jupyter-widgets/base",
          "model_name": "LayoutModel",
          "model_module_version": "1.2.0",
          "state": {
            "_view_name": "LayoutView",
            "grid_template_rows": null,
            "right": null,
            "justify_content": null,
            "_view_module": "@jupyter-widgets/base",
            "overflow": null,
            "_model_module_version": "1.2.0",
            "_view_count": null,
            "flex_flow": null,
            "width": null,
            "min_width": null,
            "border": null,
            "align_items": null,
            "bottom": null,
            "_model_module": "@jupyter-widgets/base",
            "top": null,
            "grid_column": null,
            "overflow_y": null,
            "overflow_x": null,
            "grid_auto_flow": null,
            "grid_area": null,
            "grid_template_columns": null,
            "flex": null,
            "_model_name": "LayoutModel",
            "justify_items": null,
            "grid_row": null,
            "max_height": null,
            "align_content": null,
            "visibility": null,
            "align_self": null,
            "height": null,
            "min_height": null,
            "padding": null,
            "grid_auto_rows": null,
            "grid_gap": null,
            "max_width": null,
            "order": null,
            "_view_module_version": "1.2.0",
            "grid_template_areas": null,
            "object_position": null,
            "object_fit": null,
            "grid_auto_columns": null,
            "margin": null,
            "display": null,
            "left": null
          }
        },
        "738a3ccf7a4b450281cd7dc48ea51ab0": {
          "model_module": "@jupyter-widgets/controls",
          "model_name": "DescriptionStyleModel",
          "model_module_version": "1.5.0",
          "state": {
            "_view_name": "StyleView",
            "_model_name": "DescriptionStyleModel",
            "description_width": "",
            "_view_module": "@jupyter-widgets/base",
            "_model_module_version": "1.5.0",
            "_view_count": null,
            "_view_module_version": "1.2.0",
            "_model_module": "@jupyter-widgets/controls"
          }
        },
        "f5a58de7514a45ada459e629b0eb926b": {
          "model_module": "@jupyter-widgets/base",
          "model_name": "LayoutModel",
          "model_module_version": "1.2.0",
          "state": {
            "_view_name": "LayoutView",
            "grid_template_rows": null,
            "right": null,
            "justify_content": null,
            "_view_module": "@jupyter-widgets/base",
            "overflow": null,
            "_model_module_version": "1.2.0",
            "_view_count": null,
            "flex_flow": null,
            "width": null,
            "min_width": null,
            "border": null,
            "align_items": null,
            "bottom": null,
            "_model_module": "@jupyter-widgets/base",
            "top": null,
            "grid_column": null,
            "overflow_y": null,
            "overflow_x": null,
            "grid_auto_flow": null,
            "grid_area": null,
            "grid_template_columns": null,
            "flex": null,
            "_model_name": "LayoutModel",
            "justify_items": null,
            "grid_row": null,
            "max_height": null,
            "align_content": null,
            "visibility": null,
            "align_self": null,
            "height": null,
            "min_height": null,
            "padding": null,
            "grid_auto_rows": null,
            "grid_gap": null,
            "max_width": null,
            "order": null,
            "_view_module_version": "1.2.0",
            "grid_template_areas": null,
            "object_position": null,
            "object_fit": null,
            "grid_auto_columns": null,
            "margin": null,
            "display": null,
            "left": null
          }
        },
        "9825ef6477eb492b833653428b9c7e2a": {
          "model_module": "@jupyter-widgets/controls",
          "model_name": "HBoxModel",
          "model_module_version": "1.5.0",
          "state": {
            "_view_name": "HBoxView",
            "_dom_classes": [],
            "_model_name": "HBoxModel",
            "_view_module": "@jupyter-widgets/controls",
            "_model_module_version": "1.5.0",
            "_view_count": null,
            "_view_module_version": "1.5.0",
            "box_style": "",
            "layout": "IPY_MODEL_144a78f8112d44f599dc3c3882e577de",
            "_model_module": "@jupyter-widgets/controls",
            "children": [
              "IPY_MODEL_1d5bbb5456164b06aa95acc3c0429c3a",
              "IPY_MODEL_407aa73e783147b8b04bf3e17ef2cf95",
              "IPY_MODEL_fa4a3d3ce9c94182b92dd7a0bf249090"
            ]
          }
        },
        "144a78f8112d44f599dc3c3882e577de": {
          "model_module": "@jupyter-widgets/base",
          "model_name": "LayoutModel",
          "model_module_version": "1.2.0",
          "state": {
            "_view_name": "LayoutView",
            "grid_template_rows": null,
            "right": null,
            "justify_content": null,
            "_view_module": "@jupyter-widgets/base",
            "overflow": null,
            "_model_module_version": "1.2.0",
            "_view_count": null,
            "flex_flow": null,
            "width": null,
            "min_width": null,
            "border": null,
            "align_items": null,
            "bottom": null,
            "_model_module": "@jupyter-widgets/base",
            "top": null,
            "grid_column": null,
            "overflow_y": null,
            "overflow_x": null,
            "grid_auto_flow": null,
            "grid_area": null,
            "grid_template_columns": null,
            "flex": null,
            "_model_name": "LayoutModel",
            "justify_items": null,
            "grid_row": null,
            "max_height": null,
            "align_content": null,
            "visibility": null,
            "align_self": null,
            "height": null,
            "min_height": null,
            "padding": null,
            "grid_auto_rows": null,
            "grid_gap": null,
            "max_width": null,
            "order": null,
            "_view_module_version": "1.2.0",
            "grid_template_areas": null,
            "object_position": null,
            "object_fit": null,
            "grid_auto_columns": null,
            "margin": null,
            "display": null,
            "left": null
          }
        },
        "1d5bbb5456164b06aa95acc3c0429c3a": {
          "model_module": "@jupyter-widgets/controls",
          "model_name": "HTMLModel",
          "model_module_version": "1.5.0",
          "state": {
            "_view_name": "HTMLView",
            "style": "IPY_MODEL_1a306644801c465f944304f44a933546",
            "_dom_classes": [],
            "description": "",
            "_model_name": "HTMLModel",
            "placeholder": "​",
            "_view_module": "@jupyter-widgets/controls",
            "_model_module_version": "1.5.0",
            "value": "Downloading: 100%",
            "_view_count": null,
            "_view_module_version": "1.5.0",
            "description_tooltip": null,
            "_model_module": "@jupyter-widgets/controls",
            "layout": "IPY_MODEL_f1644b924ef545f0aaafaf5c22c99d07"
          }
        },
        "407aa73e783147b8b04bf3e17ef2cf95": {
          "model_module": "@jupyter-widgets/controls",
          "model_name": "FloatProgressModel",
          "model_module_version": "1.5.0",
          "state": {
            "_view_name": "ProgressView",
            "style": "IPY_MODEL_7c15ec8131dc4c9181db5a5ea99124da",
            "_dom_classes": [],
            "description": "",
            "_model_name": "FloatProgressModel",
            "bar_style": "success",
            "max": 9096718,
            "_view_module": "@jupyter-widgets/controls",
            "_model_module_version": "1.5.0",
            "value": 9096718,
            "_view_count": null,
            "_view_module_version": "1.5.0",
            "orientation": "horizontal",
            "min": 0,
            "description_tooltip": null,
            "_model_module": "@jupyter-widgets/controls",
            "layout": "IPY_MODEL_4cb2e0cc7fc34db38759cc51abf90b00"
          }
        },
        "fa4a3d3ce9c94182b92dd7a0bf249090": {
          "model_module": "@jupyter-widgets/controls",
          "model_name": "HTMLModel",
          "model_module_version": "1.5.0",
          "state": {
            "_view_name": "HTMLView",
            "style": "IPY_MODEL_cbf20903927649029a9a0bd42a4ba395",
            "_dom_classes": [],
            "description": "",
            "_model_name": "HTMLModel",
            "placeholder": "​",
            "_view_module": "@jupyter-widgets/controls",
            "_model_module_version": "1.5.0",
            "value": " 8.68M/8.68M [00:01&lt;00:00, 8.85MB/s]",
            "_view_count": null,
            "_view_module_version": "1.5.0",
            "description_tooltip": null,
            "_model_module": "@jupyter-widgets/controls",
            "layout": "IPY_MODEL_eb4cda8133324790a098d6f23c16c4b4"
          }
        },
        "1a306644801c465f944304f44a933546": {
          "model_module": "@jupyter-widgets/controls",
          "model_name": "DescriptionStyleModel",
          "model_module_version": "1.5.0",
          "state": {
            "_view_name": "StyleView",
            "_model_name": "DescriptionStyleModel",
            "description_width": "",
            "_view_module": "@jupyter-widgets/base",
            "_model_module_version": "1.5.0",
            "_view_count": null,
            "_view_module_version": "1.2.0",
            "_model_module": "@jupyter-widgets/controls"
          }
        },
        "f1644b924ef545f0aaafaf5c22c99d07": {
          "model_module": "@jupyter-widgets/base",
          "model_name": "LayoutModel",
          "model_module_version": "1.2.0",
          "state": {
            "_view_name": "LayoutView",
            "grid_template_rows": null,
            "right": null,
            "justify_content": null,
            "_view_module": "@jupyter-widgets/base",
            "overflow": null,
            "_model_module_version": "1.2.0",
            "_view_count": null,
            "flex_flow": null,
            "width": null,
            "min_width": null,
            "border": null,
            "align_items": null,
            "bottom": null,
            "_model_module": "@jupyter-widgets/base",
            "top": null,
            "grid_column": null,
            "overflow_y": null,
            "overflow_x": null,
            "grid_auto_flow": null,
            "grid_area": null,
            "grid_template_columns": null,
            "flex": null,
            "_model_name": "LayoutModel",
            "justify_items": null,
            "grid_row": null,
            "max_height": null,
            "align_content": null,
            "visibility": null,
            "align_self": null,
            "height": null,
            "min_height": null,
            "padding": null,
            "grid_auto_rows": null,
            "grid_gap": null,
            "max_width": null,
            "order": null,
            "_view_module_version": "1.2.0",
            "grid_template_areas": null,
            "object_position": null,
            "object_fit": null,
            "grid_auto_columns": null,
            "margin": null,
            "display": null,
            "left": null
          }
        },
        "7c15ec8131dc4c9181db5a5ea99124da": {
          "model_module": "@jupyter-widgets/controls",
          "model_name": "ProgressStyleModel",
          "model_module_version": "1.5.0",
          "state": {
            "_view_name": "StyleView",
            "_model_name": "ProgressStyleModel",
            "description_width": "",
            "_view_module": "@jupyter-widgets/base",
            "_model_module_version": "1.5.0",
            "_view_count": null,
            "_view_module_version": "1.2.0",
            "bar_color": null,
            "_model_module": "@jupyter-widgets/controls"
          }
        },
        "4cb2e0cc7fc34db38759cc51abf90b00": {
          "model_module": "@jupyter-widgets/base",
          "model_name": "LayoutModel",
          "model_module_version": "1.2.0",
          "state": {
            "_view_name": "LayoutView",
            "grid_template_rows": null,
            "right": null,
            "justify_content": null,
            "_view_module": "@jupyter-widgets/base",
            "overflow": null,
            "_model_module_version": "1.2.0",
            "_view_count": null,
            "flex_flow": null,
            "width": null,
            "min_width": null,
            "border": null,
            "align_items": null,
            "bottom": null,
            "_model_module": "@jupyter-widgets/base",
            "top": null,
            "grid_column": null,
            "overflow_y": null,
            "overflow_x": null,
            "grid_auto_flow": null,
            "grid_area": null,
            "grid_template_columns": null,
            "flex": null,
            "_model_name": "LayoutModel",
            "justify_items": null,
            "grid_row": null,
            "max_height": null,
            "align_content": null,
            "visibility": null,
            "align_self": null,
            "height": null,
            "min_height": null,
            "padding": null,
            "grid_auto_rows": null,
            "grid_gap": null,
            "max_width": null,
            "order": null,
            "_view_module_version": "1.2.0",
            "grid_template_areas": null,
            "object_position": null,
            "object_fit": null,
            "grid_auto_columns": null,
            "margin": null,
            "display": null,
            "left": null
          }
        },
        "cbf20903927649029a9a0bd42a4ba395": {
          "model_module": "@jupyter-widgets/controls",
          "model_name": "DescriptionStyleModel",
          "model_module_version": "1.5.0",
          "state": {
            "_view_name": "StyleView",
            "_model_name": "DescriptionStyleModel",
            "description_width": "",
            "_view_module": "@jupyter-widgets/base",
            "_model_module_version": "1.5.0",
            "_view_count": null,
            "_view_module_version": "1.2.0",
            "_model_module": "@jupyter-widgets/controls"
          }
        },
        "eb4cda8133324790a098d6f23c16c4b4": {
          "model_module": "@jupyter-widgets/base",
          "model_name": "LayoutModel",
          "model_module_version": "1.2.0",
          "state": {
            "_view_name": "LayoutView",
            "grid_template_rows": null,
            "right": null,
            "justify_content": null,
            "_view_module": "@jupyter-widgets/base",
            "overflow": null,
            "_model_module_version": "1.2.0",
            "_view_count": null,
            "flex_flow": null,
            "width": null,
            "min_width": null,
            "border": null,
            "align_items": null,
            "bottom": null,
            "_model_module": "@jupyter-widgets/base",
            "top": null,
            "grid_column": null,
            "overflow_y": null,
            "overflow_x": null,
            "grid_auto_flow": null,
            "grid_area": null,
            "grid_template_columns": null,
            "flex": null,
            "_model_name": "LayoutModel",
            "justify_items": null,
            "grid_row": null,
            "max_height": null,
            "align_content": null,
            "visibility": null,
            "align_self": null,
            "height": null,
            "min_height": null,
            "padding": null,
            "grid_auto_rows": null,
            "grid_gap": null,
            "max_width": null,
            "order": null,
            "_view_module_version": "1.2.0",
            "grid_template_areas": null,
            "object_position": null,
            "object_fit": null,
            "grid_auto_columns": null,
            "margin": null,
            "display": null,
            "left": null
          }
        },
        "e2c0509c35234bceb63ed172e4d99d2c": {
          "model_module": "@jupyter-widgets/controls",
          "model_name": "HBoxModel",
          "model_module_version": "1.5.0",
          "state": {
            "_view_name": "HBoxView",
            "_dom_classes": [],
            "_model_name": "HBoxModel",
            "_view_module": "@jupyter-widgets/controls",
            "_model_module_version": "1.5.0",
            "_view_count": null,
            "_view_module_version": "1.5.0",
            "box_style": "",
            "layout": "IPY_MODEL_b494b17494104309aa25e9364bca5ba4",
            "_model_module": "@jupyter-widgets/controls",
            "children": [
              "IPY_MODEL_e613948d859d42aeb203f554ec0fc464",
              "IPY_MODEL_730cbdcaab8149a88eae901257c9e596",
              "IPY_MODEL_2d2319443f504afe945e4ea8830fa8b4"
            ]
          }
        },
        "b494b17494104309aa25e9364bca5ba4": {
          "model_module": "@jupyter-widgets/base",
          "model_name": "LayoutModel",
          "model_module_version": "1.2.0",
          "state": {
            "_view_name": "LayoutView",
            "grid_template_rows": null,
            "right": null,
            "justify_content": null,
            "_view_module": "@jupyter-widgets/base",
            "overflow": null,
            "_model_module_version": "1.2.0",
            "_view_count": null,
            "flex_flow": null,
            "width": null,
            "min_width": null,
            "border": null,
            "align_items": null,
            "bottom": null,
            "_model_module": "@jupyter-widgets/base",
            "top": null,
            "grid_column": null,
            "overflow_y": null,
            "overflow_x": null,
            "grid_auto_flow": null,
            "grid_area": null,
            "grid_template_columns": null,
            "flex": null,
            "_model_name": "LayoutModel",
            "justify_items": null,
            "grid_row": null,
            "max_height": null,
            "align_content": null,
            "visibility": null,
            "align_self": null,
            "height": null,
            "min_height": null,
            "padding": null,
            "grid_auto_rows": null,
            "grid_gap": null,
            "max_width": null,
            "order": null,
            "_view_module_version": "1.2.0",
            "grid_template_areas": null,
            "object_position": null,
            "object_fit": null,
            "grid_auto_columns": null,
            "margin": null,
            "display": null,
            "left": null
          }
        },
        "e613948d859d42aeb203f554ec0fc464": {
          "model_module": "@jupyter-widgets/controls",
          "model_name": "HTMLModel",
          "model_module_version": "1.5.0",
          "state": {
            "_view_name": "HTMLView",
            "style": "IPY_MODEL_911686b1a87c4ab7b23d1fcb28fa389a",
            "_dom_classes": [],
            "description": "",
            "_model_name": "HTMLModel",
            "placeholder": "​",
            "_view_module": "@jupyter-widgets/controls",
            "_model_module_version": "1.5.0",
            "value": "Downloading: 100%",
            "_view_count": null,
            "_view_module_version": "1.5.0",
            "description_tooltip": null,
            "_model_module": "@jupyter-widgets/controls",
            "layout": "IPY_MODEL_29e07bc9bb574316b6666f67667e9497"
          }
        },
        "730cbdcaab8149a88eae901257c9e596": {
          "model_module": "@jupyter-widgets/controls",
          "model_name": "FloatProgressModel",
          "model_module_version": "1.5.0",
          "state": {
            "_view_name": "ProgressView",
            "style": "IPY_MODEL_0cf73766df214947828e56a0c79dab77",
            "_dom_classes": [],
            "description": "",
            "_model_name": "FloatProgressModel",
            "bar_style": "success",
            "max": 512,
            "_view_module": "@jupyter-widgets/controls",
            "_model_module_version": "1.5.0",
            "value": 512,
            "_view_count": null,
            "_view_module_version": "1.5.0",
            "orientation": "horizontal",
            "min": 0,
            "description_tooltip": null,
            "_model_module": "@jupyter-widgets/controls",
            "layout": "IPY_MODEL_4d26b04e732d4b158c5af69cffaa6bce"
          }
        },
        "2d2319443f504afe945e4ea8830fa8b4": {
          "model_module": "@jupyter-widgets/controls",
          "model_name": "HTMLModel",
          "model_module_version": "1.5.0",
          "state": {
            "_view_name": "HTMLView",
            "style": "IPY_MODEL_47c13e398f7d42ceb76ae5dc88e0c27a",
            "_dom_classes": [],
            "description": "",
            "_model_name": "HTMLModel",
            "placeholder": "​",
            "_view_module": "@jupyter-widgets/controls",
            "_model_module_version": "1.5.0",
            "value": " 512/512 [00:00&lt;00:00, 12.3kB/s]",
            "_view_count": null,
            "_view_module_version": "1.5.0",
            "description_tooltip": null,
            "_model_module": "@jupyter-widgets/controls",
            "layout": "IPY_MODEL_4e9eb54c42be451690819f6953208650"
          }
        },
        "911686b1a87c4ab7b23d1fcb28fa389a": {
          "model_module": "@jupyter-widgets/controls",
          "model_name": "DescriptionStyleModel",
          "model_module_version": "1.5.0",
          "state": {
            "_view_name": "StyleView",
            "_model_name": "DescriptionStyleModel",
            "description_width": "",
            "_view_module": "@jupyter-widgets/base",
            "_model_module_version": "1.5.0",
            "_view_count": null,
            "_view_module_version": "1.2.0",
            "_model_module": "@jupyter-widgets/controls"
          }
        },
        "29e07bc9bb574316b6666f67667e9497": {
          "model_module": "@jupyter-widgets/base",
          "model_name": "LayoutModel",
          "model_module_version": "1.2.0",
          "state": {
            "_view_name": "LayoutView",
            "grid_template_rows": null,
            "right": null,
            "justify_content": null,
            "_view_module": "@jupyter-widgets/base",
            "overflow": null,
            "_model_module_version": "1.2.0",
            "_view_count": null,
            "flex_flow": null,
            "width": null,
            "min_width": null,
            "border": null,
            "align_items": null,
            "bottom": null,
            "_model_module": "@jupyter-widgets/base",
            "top": null,
            "grid_column": null,
            "overflow_y": null,
            "overflow_x": null,
            "grid_auto_flow": null,
            "grid_area": null,
            "grid_template_columns": null,
            "flex": null,
            "_model_name": "LayoutModel",
            "justify_items": null,
            "grid_row": null,
            "max_height": null,
            "align_content": null,
            "visibility": null,
            "align_self": null,
            "height": null,
            "min_height": null,
            "padding": null,
            "grid_auto_rows": null,
            "grid_gap": null,
            "max_width": null,
            "order": null,
            "_view_module_version": "1.2.0",
            "grid_template_areas": null,
            "object_position": null,
            "object_fit": null,
            "grid_auto_columns": null,
            "margin": null,
            "display": null,
            "left": null
          }
        },
        "0cf73766df214947828e56a0c79dab77": {
          "model_module": "@jupyter-widgets/controls",
          "model_name": "ProgressStyleModel",
          "model_module_version": "1.5.0",
          "state": {
            "_view_name": "StyleView",
            "_model_name": "ProgressStyleModel",
            "description_width": "",
            "_view_module": "@jupyter-widgets/base",
            "_model_module_version": "1.5.0",
            "_view_count": null,
            "_view_module_version": "1.2.0",
            "bar_color": null,
            "_model_module": "@jupyter-widgets/controls"
          }
        },
        "4d26b04e732d4b158c5af69cffaa6bce": {
          "model_module": "@jupyter-widgets/base",
          "model_name": "LayoutModel",
          "model_module_version": "1.2.0",
          "state": {
            "_view_name": "LayoutView",
            "grid_template_rows": null,
            "right": null,
            "justify_content": null,
            "_view_module": "@jupyter-widgets/base",
            "overflow": null,
            "_model_module_version": "1.2.0",
            "_view_count": null,
            "flex_flow": null,
            "width": null,
            "min_width": null,
            "border": null,
            "align_items": null,
            "bottom": null,
            "_model_module": "@jupyter-widgets/base",
            "top": null,
            "grid_column": null,
            "overflow_y": null,
            "overflow_x": null,
            "grid_auto_flow": null,
            "grid_area": null,
            "grid_template_columns": null,
            "flex": null,
            "_model_name": "LayoutModel",
            "justify_items": null,
            "grid_row": null,
            "max_height": null,
            "align_content": null,
            "visibility": null,
            "align_self": null,
            "height": null,
            "min_height": null,
            "padding": null,
            "grid_auto_rows": null,
            "grid_gap": null,
            "max_width": null,
            "order": null,
            "_view_module_version": "1.2.0",
            "grid_template_areas": null,
            "object_position": null,
            "object_fit": null,
            "grid_auto_columns": null,
            "margin": null,
            "display": null,
            "left": null
          }
        },
        "47c13e398f7d42ceb76ae5dc88e0c27a": {
          "model_module": "@jupyter-widgets/controls",
          "model_name": "DescriptionStyleModel",
          "model_module_version": "1.5.0",
          "state": {
            "_view_name": "StyleView",
            "_model_name": "DescriptionStyleModel",
            "description_width": "",
            "_view_module": "@jupyter-widgets/base",
            "_model_module_version": "1.5.0",
            "_view_count": null,
            "_view_module_version": "1.2.0",
            "_model_module": "@jupyter-widgets/controls"
          }
        },
        "4e9eb54c42be451690819f6953208650": {
          "model_module": "@jupyter-widgets/base",
          "model_name": "LayoutModel",
          "model_module_version": "1.2.0",
          "state": {
            "_view_name": "LayoutView",
            "grid_template_rows": null,
            "right": null,
            "justify_content": null,
            "_view_module": "@jupyter-widgets/base",
            "overflow": null,
            "_model_module_version": "1.2.0",
            "_view_count": null,
            "flex_flow": null,
            "width": null,
            "min_width": null,
            "border": null,
            "align_items": null,
            "bottom": null,
            "_model_module": "@jupyter-widgets/base",
            "top": null,
            "grid_column": null,
            "overflow_y": null,
            "overflow_x": null,
            "grid_auto_flow": null,
            "grid_area": null,
            "grid_template_columns": null,
            "flex": null,
            "_model_name": "LayoutModel",
            "justify_items": null,
            "grid_row": null,
            "max_height": null,
            "align_content": null,
            "visibility": null,
            "align_self": null,
            "height": null,
            "min_height": null,
            "padding": null,
            "grid_auto_rows": null,
            "grid_gap": null,
            "max_width": null,
            "order": null,
            "_view_module_version": "1.2.0",
            "grid_template_areas": null,
            "object_position": null,
            "object_fit": null,
            "grid_auto_columns": null,
            "margin": null,
            "display": null,
            "left": null
          }
        },
        "eed419f22e364b09be01502ba18e5d9f": {
          "model_module": "@jupyter-widgets/controls",
          "model_name": "HBoxModel",
          "model_module_version": "1.5.0",
          "state": {
            "_view_name": "HBoxView",
            "_dom_classes": [],
            "_model_name": "HBoxModel",
            "_view_module": "@jupyter-widgets/controls",
            "_model_module_version": "1.5.0",
            "_view_count": null,
            "_view_module_version": "1.5.0",
            "box_style": "",
            "layout": "IPY_MODEL_c43a1648dd3745ffa31984b5baaf0327",
            "_model_module": "@jupyter-widgets/controls",
            "children": [
              "IPY_MODEL_d39216865f85460d8c5a7cfc78095559",
              "IPY_MODEL_909d9a3ccec544cb92209db6205c16f1",
              "IPY_MODEL_d9d96e86a3094ad29e37a30b6c70d93c"
            ]
          }
        },
        "c43a1648dd3745ffa31984b5baaf0327": {
          "model_module": "@jupyter-widgets/base",
          "model_name": "LayoutModel",
          "model_module_version": "1.2.0",
          "state": {
            "_view_name": "LayoutView",
            "grid_template_rows": null,
            "right": null,
            "justify_content": null,
            "_view_module": "@jupyter-widgets/base",
            "overflow": null,
            "_model_module_version": "1.2.0",
            "_view_count": null,
            "flex_flow": null,
            "width": null,
            "min_width": null,
            "border": null,
            "align_items": null,
            "bottom": null,
            "_model_module": "@jupyter-widgets/base",
            "top": null,
            "grid_column": null,
            "overflow_y": null,
            "overflow_x": null,
            "grid_auto_flow": null,
            "grid_area": null,
            "grid_template_columns": null,
            "flex": null,
            "_model_name": "LayoutModel",
            "justify_items": null,
            "grid_row": null,
            "max_height": null,
            "align_content": null,
            "visibility": null,
            "align_self": null,
            "height": null,
            "min_height": null,
            "padding": null,
            "grid_auto_rows": null,
            "grid_gap": null,
            "max_width": null,
            "order": null,
            "_view_module_version": "1.2.0",
            "grid_template_areas": null,
            "object_position": null,
            "object_fit": null,
            "grid_auto_columns": null,
            "margin": null,
            "display": null,
            "left": null
          }
        },
        "d39216865f85460d8c5a7cfc78095559": {
          "model_module": "@jupyter-widgets/controls",
          "model_name": "HTMLModel",
          "model_module_version": "1.5.0",
          "state": {
            "_view_name": "HTMLView",
            "style": "IPY_MODEL_f75ab89711bd4b08842f96e8771973c0",
            "_dom_classes": [],
            "description": "",
            "_model_name": "HTMLModel",
            "placeholder": "​",
            "_view_module": "@jupyter-widgets/controls",
            "_model_module_version": "1.5.0",
            "value": "Downloading: 100%",
            "_view_count": null,
            "_view_module_version": "1.5.0",
            "description_tooltip": null,
            "_model_module": "@jupyter-widgets/controls",
            "layout": "IPY_MODEL_9365aa670e2249cc8bc4407e80e24918"
          }
        },
        "909d9a3ccec544cb92209db6205c16f1": {
          "model_module": "@jupyter-widgets/controls",
          "model_name": "FloatProgressModel",
          "model_module_version": "1.5.0",
          "state": {
            "_view_name": "ProgressView",
            "style": "IPY_MODEL_417bf1a5bd5e46d38d7290d71c7c9d84",
            "_dom_classes": [],
            "description": "",
            "_model_name": "FloatProgressModel",
            "bar_style": "success",
            "max": 1115590446,
            "_view_module": "@jupyter-widgets/controls",
            "_model_module_version": "1.5.0",
            "value": 1115590446,
            "_view_count": null,
            "_view_module_version": "1.5.0",
            "orientation": "horizontal",
            "min": 0,
            "description_tooltip": null,
            "_model_module": "@jupyter-widgets/controls",
            "layout": "IPY_MODEL_1574b1337aa6432682389403a605dbe7"
          }
        },
        "d9d96e86a3094ad29e37a30b6c70d93c": {
          "model_module": "@jupyter-widgets/controls",
          "model_name": "HTMLModel",
          "model_module_version": "1.5.0",
          "state": {
            "_view_name": "HTMLView",
            "style": "IPY_MODEL_e3993dd692eb45fbb354ee30c279e399",
            "_dom_classes": [],
            "description": "",
            "_model_name": "HTMLModel",
            "placeholder": "​",
            "_view_module": "@jupyter-widgets/controls",
            "_model_module_version": "1.5.0",
            "value": " 1.04G/1.04G [00:35&lt;00:00, 32.2MB/s]",
            "_view_count": null,
            "_view_module_version": "1.5.0",
            "description_tooltip": null,
            "_model_module": "@jupyter-widgets/controls",
            "layout": "IPY_MODEL_c1fbe290e4f841799bdfbed48e732a96"
          }
        },
        "f75ab89711bd4b08842f96e8771973c0": {
          "model_module": "@jupyter-widgets/controls",
          "model_name": "DescriptionStyleModel",
          "model_module_version": "1.5.0",
          "state": {
            "_view_name": "StyleView",
            "_model_name": "DescriptionStyleModel",
            "description_width": "",
            "_view_module": "@jupyter-widgets/base",
            "_model_module_version": "1.5.0",
            "_view_count": null,
            "_view_module_version": "1.2.0",
            "_model_module": "@jupyter-widgets/controls"
          }
        },
        "9365aa670e2249cc8bc4407e80e24918": {
          "model_module": "@jupyter-widgets/base",
          "model_name": "LayoutModel",
          "model_module_version": "1.2.0",
          "state": {
            "_view_name": "LayoutView",
            "grid_template_rows": null,
            "right": null,
            "justify_content": null,
            "_view_module": "@jupyter-widgets/base",
            "overflow": null,
            "_model_module_version": "1.2.0",
            "_view_count": null,
            "flex_flow": null,
            "width": null,
            "min_width": null,
            "border": null,
            "align_items": null,
            "bottom": null,
            "_model_module": "@jupyter-widgets/base",
            "top": null,
            "grid_column": null,
            "overflow_y": null,
            "overflow_x": null,
            "grid_auto_flow": null,
            "grid_area": null,
            "grid_template_columns": null,
            "flex": null,
            "_model_name": "LayoutModel",
            "justify_items": null,
            "grid_row": null,
            "max_height": null,
            "align_content": null,
            "visibility": null,
            "align_self": null,
            "height": null,
            "min_height": null,
            "padding": null,
            "grid_auto_rows": null,
            "grid_gap": null,
            "max_width": null,
            "order": null,
            "_view_module_version": "1.2.0",
            "grid_template_areas": null,
            "object_position": null,
            "object_fit": null,
            "grid_auto_columns": null,
            "margin": null,
            "display": null,
            "left": null
          }
        },
        "417bf1a5bd5e46d38d7290d71c7c9d84": {
          "model_module": "@jupyter-widgets/controls",
          "model_name": "ProgressStyleModel",
          "model_module_version": "1.5.0",
          "state": {
            "_view_name": "StyleView",
            "_model_name": "ProgressStyleModel",
            "description_width": "",
            "_view_module": "@jupyter-widgets/base",
            "_model_module_version": "1.5.0",
            "_view_count": null,
            "_view_module_version": "1.2.0",
            "bar_color": null,
            "_model_module": "@jupyter-widgets/controls"
          }
        },
        "1574b1337aa6432682389403a605dbe7": {
          "model_module": "@jupyter-widgets/base",
          "model_name": "LayoutModel",
          "model_module_version": "1.2.0",
          "state": {
            "_view_name": "LayoutView",
            "grid_template_rows": null,
            "right": null,
            "justify_content": null,
            "_view_module": "@jupyter-widgets/base",
            "overflow": null,
            "_model_module_version": "1.2.0",
            "_view_count": null,
            "flex_flow": null,
            "width": null,
            "min_width": null,
            "border": null,
            "align_items": null,
            "bottom": null,
            "_model_module": "@jupyter-widgets/base",
            "top": null,
            "grid_column": null,
            "overflow_y": null,
            "overflow_x": null,
            "grid_auto_flow": null,
            "grid_area": null,
            "grid_template_columns": null,
            "flex": null,
            "_model_name": "LayoutModel",
            "justify_items": null,
            "grid_row": null,
            "max_height": null,
            "align_content": null,
            "visibility": null,
            "align_self": null,
            "height": null,
            "min_height": null,
            "padding": null,
            "grid_auto_rows": null,
            "grid_gap": null,
            "max_width": null,
            "order": null,
            "_view_module_version": "1.2.0",
            "grid_template_areas": null,
            "object_position": null,
            "object_fit": null,
            "grid_auto_columns": null,
            "margin": null,
            "display": null,
            "left": null
          }
        },
        "e3993dd692eb45fbb354ee30c279e399": {
          "model_module": "@jupyter-widgets/controls",
          "model_name": "DescriptionStyleModel",
          "model_module_version": "1.5.0",
          "state": {
            "_view_name": "StyleView",
            "_model_name": "DescriptionStyleModel",
            "description_width": "",
            "_view_module": "@jupyter-widgets/base",
            "_model_module_version": "1.5.0",
            "_view_count": null,
            "_view_module_version": "1.2.0",
            "_model_module": "@jupyter-widgets/controls"
          }
        },
        "c1fbe290e4f841799bdfbed48e732a96": {
          "model_module": "@jupyter-widgets/base",
          "model_name": "LayoutModel",
          "model_module_version": "1.2.0",
          "state": {
            "_view_name": "LayoutView",
            "grid_template_rows": null,
            "right": null,
            "justify_content": null,
            "_view_module": "@jupyter-widgets/base",
            "overflow": null,
            "_model_module_version": "1.2.0",
            "_view_count": null,
            "flex_flow": null,
            "width": null,
            "min_width": null,
            "border": null,
            "align_items": null,
            "bottom": null,
            "_model_module": "@jupyter-widgets/base",
            "top": null,
            "grid_column": null,
            "overflow_y": null,
            "overflow_x": null,
            "grid_auto_flow": null,
            "grid_area": null,
            "grid_template_columns": null,
            "flex": null,
            "_model_name": "LayoutModel",
            "justify_items": null,
            "grid_row": null,
            "max_height": null,
            "align_content": null,
            "visibility": null,
            "align_self": null,
            "height": null,
            "min_height": null,
            "padding": null,
            "grid_auto_rows": null,
            "grid_gap": null,
            "max_width": null,
            "order": null,
            "_view_module_version": "1.2.0",
            "grid_template_areas": null,
            "object_position": null,
            "object_fit": null,
            "grid_auto_columns": null,
            "margin": null,
            "display": null,
            "left": null
          }
        }
      }
    }
  },
  "cells": [
    {
      "cell_type": "code",
      "metadata": {
        "colab": {
          "base_uri": "https://localhost:8080/"
        },
        "id": "1Iiv4gDdBc1r",
        "outputId": "489eb74f-8222-455d-fbe8-f74e9354b09b"
      },
      "source": [
        "#Mount google drive \n",
        "from google.colab import drive\n",
        "drive.mount('/content/drive')"
      ],
      "execution_count": null,
      "outputs": [
        {
          "output_type": "stream",
          "name": "stdout",
          "text": [
            "Mounted at /content/drive\n"
          ]
        }
      ]
    },
    {
      "cell_type": "markdown",
      "metadata": {
        "id": "3HrPoQiW3mEN"
      },
      "source": [
        "**In this task, we are considering the samples which are belong to the top 10 classes. So, number of classes/labels is 10**."
      ]
    },
    {
      "cell_type": "code",
      "metadata": {
        "id": "TAzs6tTVBqyi"
      },
      "source": [
        "# Load the data\n",
        "import pickle\n",
        "\n",
        "path= \"/content/drive/MyDrive/Advanced NLP models/data/\"\n",
        "# Train\n",
        "with open(path + 'train_feats_10.pkl', 'rb') as f:\n",
        "  train_feats_10 = pickle.load(f)\n",
        "\n",
        "with open(path + 'train_labels_10.pkl', 'rb') as f:\n",
        "  train_labels_10 = pickle.load(f)\n",
        "\n",
        "# Test\n",
        "with open(path + 'test_feats_10.pkl', 'rb') as f:\n",
        "  test_feats_10 = pickle.load(f)\n",
        "\n",
        "with open(path + 'test_labels_10.pkl', 'rb') as f:\n",
        "  test_labels_10 = pickle.load(f)"
      ],
      "execution_count": null,
      "outputs": []
    },
    {
      "cell_type": "code",
      "metadata": {
        "id": "AGG7vvtDcjoR"
      },
      "source": [
        "import numpy as np\n",
        "import pandas as pd\n",
        "\n",
        "import warnings \n",
        "warnings.filterwarnings('ignore')"
      ],
      "execution_count": null,
      "outputs": []
    },
    {
      "cell_type": "markdown",
      "metadata": {
        "id": "y_ri60DbCfk9"
      },
      "source": [
        "**Train-Validation Split**"
      ]
    },
    {
      "cell_type": "code",
      "metadata": {
        "id": "C9knyCCVac8S",
        "colab": {
          "base_uri": "https://localhost:8080/"
        },
        "outputId": "13716074-bf68-4d6a-9fab-723f863afcdc"
      },
      "source": [
        "from sklearn.model_selection import train_test_split\n",
        "# Split the train into train (90%) & val sets(10%).\n",
        "train_feats, val_feats, train_labels, val_labels = train_test_split(np.array(train_feats_10), np.array(train_labels_10),\n",
        "                                                                    test_size=0.1, random_state=42)\n",
        "print(f'Train shape : {train_feats.shape}')\n",
        "print(f'Validation shape : {val_feats.shape}')"
      ],
      "execution_count": null,
      "outputs": [
        {
          "output_type": "stream",
          "name": "stdout",
          "text": [
            "Train shape : (225000,)\n",
            "Validation shape : (25000,)\n"
          ]
        }
      ]
    },
    {
      "cell_type": "markdown",
      "metadata": {
        "id": "4Pem67i8DkHE"
      },
      "source": [
        "**Install huggingface transformers & wandb**"
      ]
    },
    {
      "cell_type": "code",
      "metadata": {
        "colab": {
          "base_uri": "https://localhost:8080/"
        },
        "id": "hhpgtjoaDWf1",
        "outputId": "af388ab6-9caa-4611-df7f-bbf147641b3c"
      },
      "source": [
        "!pip install transformers\n",
        "!pip install wandb"
      ],
      "execution_count": null,
      "outputs": [
        {
          "output_type": "stream",
          "name": "stdout",
          "text": [
            "Requirement already satisfied: transformers in /usr/local/lib/python3.7/dist-packages (4.11.3)\n",
            "Requirement already satisfied: pyyaml>=5.1 in /usr/local/lib/python3.7/dist-packages (from transformers) (6.0)\n",
            "Requirement already satisfied: requests in /usr/local/lib/python3.7/dist-packages (from transformers) (2.23.0)\n",
            "Requirement already satisfied: sacremoses in /usr/local/lib/python3.7/dist-packages (from transformers) (0.0.46)\n",
            "Requirement already satisfied: packaging>=20.0 in /usr/local/lib/python3.7/dist-packages (from transformers) (21.0)\n",
            "Requirement already satisfied: filelock in /usr/local/lib/python3.7/dist-packages (from transformers) (3.3.0)\n",
            "Requirement already satisfied: tqdm>=4.27 in /usr/local/lib/python3.7/dist-packages (from transformers) (4.62.3)\n",
            "Requirement already satisfied: numpy>=1.17 in /usr/local/lib/python3.7/dist-packages (from transformers) (1.19.5)\n",
            "Requirement already satisfied: tokenizers<0.11,>=0.10.1 in /usr/local/lib/python3.7/dist-packages (from transformers) (0.10.3)\n",
            "Requirement already satisfied: importlib-metadata in /usr/local/lib/python3.7/dist-packages (from transformers) (4.8.1)\n",
            "Requirement already satisfied: huggingface-hub>=0.0.17 in /usr/local/lib/python3.7/dist-packages (from transformers) (0.0.19)\n",
            "Requirement already satisfied: regex!=2019.12.17 in /usr/local/lib/python3.7/dist-packages (from transformers) (2019.12.20)\n",
            "Requirement already satisfied: typing-extensions in /usr/local/lib/python3.7/dist-packages (from huggingface-hub>=0.0.17->transformers) (3.7.4.3)\n",
            "Requirement already satisfied: pyparsing>=2.0.2 in /usr/local/lib/python3.7/dist-packages (from packaging>=20.0->transformers) (2.4.7)\n",
            "Requirement already satisfied: zipp>=0.5 in /usr/local/lib/python3.7/dist-packages (from importlib-metadata->transformers) (3.6.0)\n",
            "Requirement already satisfied: idna<3,>=2.5 in /usr/local/lib/python3.7/dist-packages (from requests->transformers) (2.10)\n",
            "Requirement already satisfied: certifi>=2017.4.17 in /usr/local/lib/python3.7/dist-packages (from requests->transformers) (2021.5.30)\n",
            "Requirement already satisfied: chardet<4,>=3.0.2 in /usr/local/lib/python3.7/dist-packages (from requests->transformers) (3.0.4)\n",
            "Requirement already satisfied: urllib3!=1.25.0,!=1.25.1,<1.26,>=1.21.1 in /usr/local/lib/python3.7/dist-packages (from requests->transformers) (1.24.3)\n",
            "Requirement already satisfied: six in /usr/local/lib/python3.7/dist-packages (from sacremoses->transformers) (1.15.0)\n",
            "Requirement already satisfied: joblib in /usr/local/lib/python3.7/dist-packages (from sacremoses->transformers) (1.0.1)\n",
            "Requirement already satisfied: click in /usr/local/lib/python3.7/dist-packages (from sacremoses->transformers) (7.1.2)\n",
            "Collecting wandb\n",
            "  Downloading wandb-0.12.5-py2.py3-none-any.whl (1.7 MB)\n",
            "\u001b[K     |████████████████████████████████| 1.7 MB 2.8 MB/s \n",
            "\u001b[?25hRequirement already satisfied: python-dateutil>=2.6.1 in /usr/local/lib/python3.7/dist-packages (from wandb) (2.8.2)\n",
            "Collecting configparser>=3.8.1\n",
            "  Downloading configparser-5.0.2-py3-none-any.whl (19 kB)\n",
            "Requirement already satisfied: PyYAML in /usr/local/lib/python3.7/dist-packages (from wandb) (6.0)\n",
            "Requirement already satisfied: psutil>=5.0.0 in /usr/local/lib/python3.7/dist-packages (from wandb) (5.4.8)\n",
            "Collecting shortuuid>=0.5.0\n",
            "  Downloading shortuuid-1.0.1-py3-none-any.whl (7.5 kB)\n",
            "Requirement already satisfied: requests<3,>=2.0.0 in /usr/local/lib/python3.7/dist-packages (from wandb) (2.23.0)\n",
            "Requirement already satisfied: six>=1.13.0 in /usr/local/lib/python3.7/dist-packages (from wandb) (1.15.0)\n",
            "Collecting pathtools\n",
            "  Downloading pathtools-0.1.2.tar.gz (11 kB)\n",
            "Collecting GitPython>=1.0.0\n",
            "  Downloading GitPython-3.1.24-py3-none-any.whl (180 kB)\n",
            "\u001b[K     |████████████████████████████████| 180 kB 50.9 MB/s \n",
            "\u001b[?25hCollecting sentry-sdk>=1.0.0\n",
            "  Downloading sentry_sdk-1.4.3-py2.py3-none-any.whl (139 kB)\n",
            "\u001b[K     |████████████████████████████████| 139 kB 51.8 MB/s \n",
            "\u001b[?25hCollecting subprocess32>=3.5.3\n",
            "  Downloading subprocess32-3.5.4.tar.gz (97 kB)\n",
            "\u001b[K     |████████████████████████████████| 97 kB 7.0 MB/s \n",
            "\u001b[?25hRequirement already satisfied: protobuf>=3.12.0 in /usr/local/lib/python3.7/dist-packages (from wandb) (3.17.3)\n",
            "Collecting yaspin>=1.0.0\n",
            "  Downloading yaspin-2.1.0-py3-none-any.whl (18 kB)\n",
            "Requirement already satisfied: promise<3,>=2.0 in /usr/local/lib/python3.7/dist-packages (from wandb) (2.3)\n",
            "Requirement already satisfied: Click!=8.0.0,>=7.0 in /usr/local/lib/python3.7/dist-packages (from wandb) (7.1.2)\n",
            "Collecting docker-pycreds>=0.4.0\n",
            "  Downloading docker_pycreds-0.4.0-py2.py3-none-any.whl (9.0 kB)\n",
            "Requirement already satisfied: typing-extensions>=3.7.4.3 in /usr/local/lib/python3.7/dist-packages (from GitPython>=1.0.0->wandb) (3.7.4.3)\n",
            "Collecting gitdb<5,>=4.0.1\n",
            "  Downloading gitdb-4.0.7-py3-none-any.whl (63 kB)\n",
            "\u001b[K     |████████████████████████████████| 63 kB 1.8 MB/s \n",
            "\u001b[?25hCollecting smmap<5,>=3.0.1\n",
            "  Downloading smmap-4.0.0-py2.py3-none-any.whl (24 kB)\n",
            "Requirement already satisfied: urllib3!=1.25.0,!=1.25.1,<1.26,>=1.21.1 in /usr/local/lib/python3.7/dist-packages (from requests<3,>=2.0.0->wandb) (1.24.3)\n",
            "Requirement already satisfied: certifi>=2017.4.17 in /usr/local/lib/python3.7/dist-packages (from requests<3,>=2.0.0->wandb) (2021.5.30)\n",
            "Requirement already satisfied: chardet<4,>=3.0.2 in /usr/local/lib/python3.7/dist-packages (from requests<3,>=2.0.0->wandb) (3.0.4)\n",
            "Requirement already satisfied: idna<3,>=2.5 in /usr/local/lib/python3.7/dist-packages (from requests<3,>=2.0.0->wandb) (2.10)\n",
            "Requirement already satisfied: termcolor<2.0.0,>=1.1.0 in /usr/local/lib/python3.7/dist-packages (from yaspin>=1.0.0->wandb) (1.1.0)\n",
            "Building wheels for collected packages: subprocess32, pathtools\n",
            "  Building wheel for subprocess32 (setup.py) ... \u001b[?25l\u001b[?25hdone\n",
            "  Created wheel for subprocess32: filename=subprocess32-3.5.4-py3-none-any.whl size=6502 sha256=a637e3e8548df24d1b8b2ad0e80b7c794f39809ac93ca5acac0b62b697a8ddc4\n",
            "  Stored in directory: /root/.cache/pip/wheels/50/ca/fa/8fca8d246e64f19488d07567547ddec8eb084e8c0d7a59226a\n",
            "  Building wheel for pathtools (setup.py) ... \u001b[?25l\u001b[?25hdone\n",
            "  Created wheel for pathtools: filename=pathtools-0.1.2-py3-none-any.whl size=8807 sha256=9742596dea19c1eb7a0f251b8d41c74e1eb0cb8f5589fe24b48c4d6f9833d46b\n",
            "  Stored in directory: /root/.cache/pip/wheels/3e/31/09/fa59cef12cdcfecc627b3d24273699f390e71828921b2cbba2\n",
            "Successfully built subprocess32 pathtools\n",
            "Installing collected packages: smmap, gitdb, yaspin, subprocess32, shortuuid, sentry-sdk, pathtools, GitPython, docker-pycreds, configparser, wandb\n",
            "Successfully installed GitPython-3.1.24 configparser-5.0.2 docker-pycreds-0.4.0 gitdb-4.0.7 pathtools-0.1.2 sentry-sdk-1.4.3 shortuuid-1.0.1 smmap-4.0.0 subprocess32-3.5.4 wandb-0.12.5 yaspin-2.1.0\n"
          ]
        }
      ]
    },
    {
      "cell_type": "markdown",
      "metadata": {
        "id": "aVly452iD1tX"
      },
      "source": [
        "**Load the tokenizer**:"
      ]
    },
    {
      "cell_type": "markdown",
      "metadata": {
        "id": "INd5zv4789mn"
      },
      "source": [
        "XLMRoberta uses sentence piece tokenizer for tokenizing the text. So, we need to install sentencepiece library."
      ]
    },
    {
      "cell_type": "code",
      "metadata": {
        "colab": {
          "base_uri": "https://localhost:8080/"
        },
        "id": "jqYXfo9IKwY1",
        "outputId": "02c4d369-2ded-423e-8e4c-c00d971676e5"
      },
      "source": [
        "!pip install sentencepiece"
      ],
      "execution_count": null,
      "outputs": [
        {
          "output_type": "stream",
          "name": "stdout",
          "text": [
            "Collecting sentencepiece\n",
            "  Downloading sentencepiece-0.1.96-cp37-cp37m-manylinux_2_17_x86_64.manylinux2014_x86_64.whl (1.2 MB)\n",
            "\u001b[K     |████████████████████████████████| 1.2 MB 1.1 MB/s \n",
            "\u001b[?25hInstalling collected packages: sentencepiece\n",
            "Successfully installed sentencepiece-0.1.96\n"
          ]
        }
      ]
    },
    {
      "cell_type": "code",
      "metadata": {
        "colab": {
          "base_uri": "https://localhost:8080/",
          "height": 130,
          "referenced_widgets": [
            "28ddfc54d04f47f0b58725ec804e064d",
            "b664e9e9059a45d2bc901b04e54f71f1",
            "b04284174f4a4b459c530dfedca2efa3",
            "143eb612531a496697b78af68f0248b6",
            "397fb2c0a0ba4d368cca8f9e9b9d3c2e",
            "ca74e9a83dc545d2ae5c84012e8cacf5",
            "32d452f9270645b089b9b50a6edfee58",
            "f6ce10eb7e6c40cb910cbb64c6a096b7",
            "47f82151462a4b97be51de4700bfbacf",
            "738a3ccf7a4b450281cd7dc48ea51ab0",
            "f5a58de7514a45ada459e629b0eb926b",
            "9825ef6477eb492b833653428b9c7e2a",
            "144a78f8112d44f599dc3c3882e577de",
            "1d5bbb5456164b06aa95acc3c0429c3a",
            "407aa73e783147b8b04bf3e17ef2cf95",
            "fa4a3d3ce9c94182b92dd7a0bf249090",
            "1a306644801c465f944304f44a933546",
            "f1644b924ef545f0aaafaf5c22c99d07",
            "7c15ec8131dc4c9181db5a5ea99124da",
            "4cb2e0cc7fc34db38759cc51abf90b00",
            "cbf20903927649029a9a0bd42a4ba395",
            "eb4cda8133324790a098d6f23c16c4b4",
            "e2c0509c35234bceb63ed172e4d99d2c",
            "b494b17494104309aa25e9364bca5ba4",
            "e613948d859d42aeb203f554ec0fc464",
            "730cbdcaab8149a88eae901257c9e596",
            "2d2319443f504afe945e4ea8830fa8b4",
            "911686b1a87c4ab7b23d1fcb28fa389a",
            "29e07bc9bb574316b6666f67667e9497",
            "0cf73766df214947828e56a0c79dab77",
            "4d26b04e732d4b158c5af69cffaa6bce",
            "47c13e398f7d42ceb76ae5dc88e0c27a",
            "4e9eb54c42be451690819f6953208650"
          ]
        },
        "id": "es9jUW1GDpfc",
        "outputId": "0abfc555-27d3-4ed5-ef57-6ea30b057af6"
      },
      "source": [
        "from transformers import XLMRobertaTokenizerFast\n",
        "\n",
        "# Load the XLM RoBERTa tokenizer.\n",
        "print('Loading XLM RoBERTa tokenizer...')\n",
        "tokenizer = XLMRobertaTokenizerFast.from_pretrained('xlm-roberta-base',  do_lower_case=False)"
      ],
      "execution_count": null,
      "outputs": [
        {
          "output_type": "stream",
          "name": "stdout",
          "text": [
            "Loading XLM RoBERTa tokenizer...\n"
          ]
        },
        {
          "output_type": "display_data",
          "data": {
            "application/vnd.jupyter.widget-view+json": {
              "model_id": "28ddfc54d04f47f0b58725ec804e064d",
              "version_minor": 0,
              "version_major": 2
            },
            "text/plain": [
              "Downloading:   0%|          | 0.00/4.83M [00:00<?, ?B/s]"
            ]
          },
          "metadata": {}
        },
        {
          "output_type": "display_data",
          "data": {
            "application/vnd.jupyter.widget-view+json": {
              "model_id": "9825ef6477eb492b833653428b9c7e2a",
              "version_minor": 0,
              "version_major": 2
            },
            "text/plain": [
              "Downloading:   0%|          | 0.00/8.68M [00:00<?, ?B/s]"
            ]
          },
          "metadata": {}
        },
        {
          "output_type": "display_data",
          "data": {
            "application/vnd.jupyter.widget-view+json": {
              "model_id": "e2c0509c35234bceb63ed172e4d99d2c",
              "version_minor": 0,
              "version_major": 2
            },
            "text/plain": [
              "Downloading:   0%|          | 0.00/512 [00:00<?, ?B/s]"
            ]
          },
          "metadata": {}
        }
      ]
    },
    {
      "cell_type": "markdown",
      "metadata": {
        "id": "NiSxSO4GEua8"
      },
      "source": [
        "**Load the XLMRobertaForSequenceClassification model**:"
      ]
    },
    {
      "cell_type": "code",
      "metadata": {
        "colab": {
          "base_uri": "https://localhost:8080/",
          "height": 154,
          "referenced_widgets": [
            "eed419f22e364b09be01502ba18e5d9f",
            "c43a1648dd3745ffa31984b5baaf0327",
            "d39216865f85460d8c5a7cfc78095559",
            "909d9a3ccec544cb92209db6205c16f1",
            "d9d96e86a3094ad29e37a30b6c70d93c",
            "f75ab89711bd4b08842f96e8771973c0",
            "9365aa670e2249cc8bc4407e80e24918",
            "417bf1a5bd5e46d38d7290d71c7c9d84",
            "1574b1337aa6432682389403a605dbe7",
            "e3993dd692eb45fbb354ee30c279e399",
            "c1fbe290e4f841799bdfbed48e732a96"
          ]
        },
        "id": "16yB03_aEpGo",
        "outputId": "89dd877c-7139-4317-8234-77645780c2a0"
      },
      "source": [
        "from transformers import XLMRobertaForSequenceClassification\n",
        "\n",
        "# Load XLMRobertaForSequenceClassification, the pretrained XLM RoBERTa model with a single \n",
        "# linear classification layer on top. \n",
        "model = XLMRobertaForSequenceClassification.from_pretrained(\n",
        "    \"xlm-roberta-base\", # Use xlm-roberta-base pre-trained model\n",
        "    num_labels = 10, # The number of output labels--10 for multi class classification.\n",
        ")"
      ],
      "execution_count": null,
      "outputs": [
        {
          "output_type": "display_data",
          "data": {
            "application/vnd.jupyter.widget-view+json": {
              "model_id": "eed419f22e364b09be01502ba18e5d9f",
              "version_minor": 0,
              "version_major": 2
            },
            "text/plain": [
              "Downloading:   0%|          | 0.00/1.04G [00:00<?, ?B/s]"
            ]
          },
          "metadata": {}
        },
        {
          "output_type": "stream",
          "name": "stderr",
          "text": [
            "Some weights of the model checkpoint at xlm-roberta-base were not used when initializing XLMRobertaForSequenceClassification: ['roberta.pooler.dense.weight', 'lm_head.layer_norm.bias', 'lm_head.dense.weight', 'lm_head.dense.bias', 'lm_head.layer_norm.weight', 'lm_head.bias', 'roberta.pooler.dense.bias', 'lm_head.decoder.weight']\n",
            "- This IS expected if you are initializing XLMRobertaForSequenceClassification from the checkpoint of a model trained on another task or with another architecture (e.g. initializing a BertForSequenceClassification model from a BertForPreTraining model).\n",
            "- This IS NOT expected if you are initializing XLMRobertaForSequenceClassification from the checkpoint of a model that you expect to be exactly identical (initializing a BertForSequenceClassification model from a BertForSequenceClassification model).\n",
            "Some weights of XLMRobertaForSequenceClassification were not initialized from the model checkpoint at xlm-roberta-base and are newly initialized: ['classifier.out_proj.weight', 'classifier.out_proj.bias', 'classifier.dense.weight', 'classifier.dense.bias']\n",
            "You should probably TRAIN this model on a down-stream task to be able to use it for predictions and inference.\n"
          ]
        }
      ]
    },
    {
      "cell_type": "markdown",
      "metadata": {
        "id": "oAO3_37z-lJJ"
      },
      "source": [
        "**Training Parameters**"
      ]
    },
    {
      "cell_type": "markdown",
      "metadata": {
        "id": "6gcayJHZ-pq6"
      },
      "source": [
        "For the purposes of fine-tuning, the BERT authors recommend choosing from the following values (from Appendix A.3 of the [BERT paper](https://arxiv.org/pdf/1810.04805.pdf)):          \n",
        "\n",
        "Batch size: 16, 32        \n",
        "Learning rate (Adam): 5e-5, 3e-5, 2e-5       \n",
        "Number of epochs: 2, 3, 4            "
      ]
    },
    {
      "cell_type": "markdown",
      "metadata": {
        "id": "1Swv0f2X9GDK"
      },
      "source": [
        "We used above values as a reference for hyperparameter tuning."
      ]
    },
    {
      "cell_type": "code",
      "metadata": {
        "id": "2NOJr9x5F9DY"
      },
      "source": [
        "# Set training parameters\n",
        "batch_size = 64\n",
        "learning_rate = 1e-5\n",
        "epochs = 3\n",
        "# Maximum sequence/text length for padding texts\n",
        "max_length = 80"
      ],
      "execution_count": null,
      "outputs": []
    },
    {
      "cell_type": "markdown",
      "metadata": {
        "id": "c7RjlyKGHB_z"
      },
      "source": [
        "**Tokenize & Encode**"
      ]
    },
    {
      "cell_type": "code",
      "metadata": {
        "id": "WIk3U7YFVAgq"
      },
      "source": [
        "import torch\n",
        "from torch.utils.data import Dataset"
      ],
      "execution_count": null,
      "outputs": []
    },
    {
      "cell_type": "code",
      "metadata": {
        "id": "rQuzAq4mT0EJ"
      },
      "source": [
        "# Create a Pytorch Dataset\n",
        "\n",
        "class text_Dataset(Dataset):\n",
        "\n",
        "  def __init__(self, texts, labels, tokenizer, max_length):\n",
        "    self.texts = texts\n",
        "    self.labels = labels\n",
        "    self.tokenizer=tokenizer\n",
        "    self.max_length=max_length\n",
        "\n",
        "  def __len__(self):\n",
        "    return len(self.texts)\n",
        "\n",
        "  def __getitem__(self,item):\n",
        "    text = str(self.texts[item])\n",
        "    labels = self.labels[item]\n",
        "\n",
        "    encoding = self.tokenizer.encode_plus(\n",
        "        text,\n",
        "        max_length=max_length,\n",
        "        add_special_tokens=True,\n",
        "        pad_to_max_length=True,\n",
        "        truncation=True,\n",
        "        return_attention_mask=True,\n",
        "        return_token_type_ids=False,\n",
        "        return_tensors='pt'\n",
        "       )\n",
        "           \n",
        "    return {\n",
        "        'text':text,\n",
        "        'input_ids':encoding['input_ids'].flatten(),\n",
        "        'attention_mask':encoding['attention_mask'].flatten(),\n",
        "        'labels' : torch.tensor(labels, dtype=torch.long)\n",
        "    }"
      ],
      "execution_count": null,
      "outputs": []
    },
    {
      "cell_type": "code",
      "metadata": {
        "id": "ryR3jZCtTddl"
      },
      "source": [
        "# Create pytorch datasets\n",
        "train_dataset=text_Dataset(train_feats, train_labels, tokenizer, max_length)\n",
        "test_dataset= text_Dataset(test_feats_10, test_labels_10, tokenizer, max_length)\n",
        "valid_dataset=text_Dataset(val_feats, val_labels, tokenizer, max_length)"
      ],
      "execution_count": null,
      "outputs": []
    },
    {
      "cell_type": "code",
      "metadata": {
        "colab": {
          "base_uri": "https://localhost:8080/"
        },
        "id": "eOBb3UoTXg_U",
        "outputId": "45402f6b-e100-435e-99ef-87047731658e"
      },
      "source": [
        "data = next(iter(train_dataset))\n",
        "data.keys()"
      ],
      "execution_count": null,
      "outputs": [
        {
          "output_type": "execute_result",
          "data": {
            "text/plain": [
              "dict_keys(['text', 'input_ids', 'attention_mask', 'labels'])"
            ]
          },
          "metadata": {},
          "execution_count": 13
        }
      ]
    },
    {
      "cell_type": "code",
      "metadata": {
        "id": "uSt4Y_CgcSJP"
      },
      "source": [
        "del train_feats_10, train_labels_10, test_feats_10, test_labels_10 \n",
        "del train_feats, train_labels, val_feats, val_labels"
      ],
      "execution_count": null,
      "outputs": []
    },
    {
      "cell_type": "markdown",
      "metadata": {
        "id": "k1UghyJnvw0_"
      },
      "source": [
        "We are using [Trainer](https://huggingface.co/transformers/main_classes/trainer.html) API from Huggingface library to train & evaluate out model. It does heavy lifting work. Most of the work will be done using API. We just need to pass model, datasets, metrics to compute. It will also scales automatically to multiple GPU's. No need to setup GPU as it will does that."
      ]
    },
    {
      "cell_type": "code",
      "metadata": {
        "colab": {
          "base_uri": "https://localhost:8080/"
        },
        "id": "Zj5lA8fvw4YH",
        "outputId": "e9d779ea-d569-4ef6-a96d-5fd5a01fd1eb"
      },
      "source": [
        "from transformers import Trainer, TrainingArguments\n",
        "\n",
        "# Define Training Arguments\n",
        "# It includes the training parameters like number of epochs, batch_size, output_dir etc\n",
        "\n",
        "training_args = TrainingArguments(\n",
        "    report_to = 'wandb',           # To report loss & accuracy & plot\n",
        "    output_dir = './model',\n",
        "    num_train_epochs = epochs, \n",
        "    per_device_train_batch_size = batch_size,    # Set batch size for multiple GPUs/devices\n",
        "    per_device_eval_batch_size = 32, \n",
        "    do_train = True,\n",
        "    do_eval  = True,\n",
        "    learning_rate = learning_rate,\n",
        "    lr_scheduler_type = 'linear',    # Set learning rate scheduler as linear\n",
        "    logging_dir = './logs',           # Logs will be saved in this directory\n",
        "    dataloader_num_workers = 4,      # Number of workers in data loader\n",
        "    save_strategy = 'epoch',\n",
        "    evaluation_strategy = 'epoch',\n",
        "    load_best_model_at_end = True,   # Loads best model based on loss for evaluation\n",
        ")\n",
        "\n",
        "# Define metrics to report during evaluation\n",
        "from sklearn.metrics import accuracy_score, f1_score\n",
        "\n",
        "def compute_metrics(pred):\n",
        "    labels = pred.label_ids\n",
        "    preds = pred.predictions.argmax(-1)\n",
        "    acc = accuracy_score(labels, preds)\n",
        "    f1 = f1_score(labels, preds, average='weighted')\n",
        "    return {\n",
        "        'accuracy': acc,\n",
        "        'f1': f1,\n",
        "    }\n",
        "\n",
        "# Define Trainer \n",
        "trainer = Trainer(\n",
        "    model = model,\n",
        "    args = training_args,\n",
        "    train_dataset = train_dataset,\n",
        "    eval_dataset = valid_dataset,\n",
        "    compute_metrics = compute_metrics\n",
        ")"
      ],
      "execution_count": null,
      "outputs": [
        {
          "output_type": "stream",
          "name": "stderr",
          "text": [
            "PyTorch: setting up devices\n"
          ]
        }
      ]
    },
    {
      "cell_type": "code",
      "metadata": {
        "colab": {
          "base_uri": "https://localhost:8080/",
          "height": 228
        },
        "id": "3_kBIuxq37wm",
        "outputId": "b9f752b8-2d26-469e-9686-d00a88423982"
      },
      "source": [
        "# Train the model\n",
        "print('Training started..')\n",
        "trainer.train()"
      ],
      "execution_count": null,
      "outputs": [
        {
          "output_type": "stream",
          "name": "stderr",
          "text": [
            "***** Running training *****\n",
            "  Num examples = 225000\n",
            "  Num Epochs = 3\n",
            "  Instantaneous batch size per device = 64\n",
            "  Total train batch size (w. parallel, distributed & accumulation) = 64\n",
            "  Gradient Accumulation steps = 1\n",
            "  Total optimization steps = 10548\n",
            "Automatic Weights & Biases logging enabled, to disable set os.environ[\"WANDB_DISABLED\"] = \"true\"\n"
          ]
        },
        {
          "output_type": "stream",
          "name": "stdout",
          "text": [
            "Training started..\n"
          ]
        },
        {
          "output_type": "display_data",
          "data": {
            "text/html": [
              "\n",
              "    <div>\n",
              "      \n",
              "      <progress value='2220' max='10548' style='width:300px; height:20px; vertical-align: middle;'></progress>\n",
              "      [ 2220/10548 59:07 < 3:42:00, 0.63 it/s, Epoch 0.63/3]\n",
              "    </div>\n",
              "    <table border=\"1\" class=\"dataframe\">\n",
              "  <thead>\n",
              "    <tr style=\"text-align: left;\">\n",
              "      <th>Epoch</th>\n",
              "      <th>Training Loss</th>\n",
              "      <th>Validation Loss</th>\n",
              "    </tr>\n",
              "  </thead>\n",
              "  <tbody>\n",
              "  </tbody>\n",
              "</table><p>"
            ],
            "text/plain": [
              "<IPython.core.display.HTML object>"
            ]
          },
          "metadata": {}
        }
      ]
    },
    {
      "cell_type": "markdown",
      "metadata": {
        "id": "JStYWn4CKHa_"
      },
      "source": [
        "**Define a helper function for calculating simple accuracy.**"
      ]
    },
    {
      "cell_type": "code",
      "metadata": {
        "id": "ImIfhPHlKLFI"
      },
      "source": [
        "# Function to calculate the accuracy of our predictions vs labels\n",
        "def flat_accuracy(preds, labels):\n",
        "    pred_flat = np.argmax(preds, axis=1).flatten()\n",
        "    labels_flat = labels.flatten()\n",
        "    return np.sum(pred_flat == labels_flat) / len(labels_flat)"
      ],
      "execution_count": null,
      "outputs": []
    },
    {
      "cell_type": "markdown",
      "metadata": {
        "id": "G8kRYGevKTfy"
      },
      "source": [
        "**Helper function for formatting elapsed times as hh:mm:ss**"
      ]
    },
    {
      "cell_type": "code",
      "metadata": {
        "id": "D1t40hwDKWHB"
      },
      "source": [
        "import time\n",
        "import datetime\n",
        "\n",
        "def format_time(elapsed):\n",
        "    '''\n",
        "    Takes a time in seconds and returns a string hh:mm:ss\n",
        "    '''\n",
        "    # Round to the nearest second.\n",
        "    elapsed_rounded = int(round((elapsed)))\n",
        "    \n",
        "    # Format as hh:mm:ss\n",
        "    return str(datetime.timedelta(seconds=elapsed_rounded))"
      ],
      "execution_count": null,
      "outputs": []
    },
    {
      "cell_type": "markdown",
      "metadata": {
        "id": "7mnOEnXSKaFj"
      },
      "source": [
        "**Training the model**"
      ]
    },
    {
      "cell_type": "code",
      "metadata": {
        "id": "N8ZHx1aGKdOK",
        "colab": {
          "base_uri": "https://localhost:8080/"
        },
        "outputId": "d3b54c75-74ff-49a9-a2dd-ede799ad2cc0"
      },
      "source": [
        "# Set the seed value all over the place to make this reproducible.\n",
        "import random\n",
        "seed_val = 42\n",
        "\n",
        "random.seed(seed_val)\n",
        "np.random.seed(seed_val)\n",
        "torch.cuda.manual_seed_all(seed_val)\n",
        "\n",
        "# We'll store a number of quantities such as training and validation loss, \n",
        "# validation accuracy, and timings.\n",
        "training_stats = []\n",
        "\n",
        "# Measure the total training time for the whole run.\n",
        "total_t0 = time.time()\n",
        "\n",
        "# For each epoch...\n",
        "for epoch_i in range(0, epochs):\n",
        "    \n",
        "    # ========================================\n",
        "    #               Training\n",
        "    # ========================================\n",
        "    \n",
        "    # Perform one full pass over the training set.\n",
        "\n",
        "    print(\"\")\n",
        "    print('======== Epoch {:} / {:} ========'.format(epoch_i + 1, epochs))\n",
        "    print('Training...')\n",
        "\n",
        "    # Measure how long the training epoch takes.\n",
        "    t0 = time.time()\n",
        "\n",
        "    # Reset the total loss for this epoch.\n",
        "    total_train_loss = 0\n",
        "\n",
        "    # Put the model into training mode. Don't be mislead--the call to \n",
        "    model.train()\n",
        "\n",
        "    # For each batch of training data...\n",
        "    for step, batch in enumerate(train_DataLoader):\n",
        "\n",
        "        # Progress update every 40 batches.\n",
        "        if step % 40 == 0 and not step == 0:\n",
        "            # Calculate elapsed time in minutes.\n",
        "            elapsed = format_time(time.time() - t0)\n",
        "            \n",
        "            # Report progress.\n",
        "            print('  Batch {:>5,}  of  {:>5,}.    Elapsed: {:}.'.format(step, len(train_DataLoader), elapsed))\n",
        "\n",
        "        # Unpack this training batch from our dataloader. \n",
        "        # `batch` contains three pytorch tensors:\n",
        "        #   [0]: input ids \n",
        "        #   [1]: attention masks\n",
        "        #   [2]: labels \n",
        "        b_input_ids = batch['input_ids'].to(device)\n",
        "        b_input_mask = batch['attention_mask'].to(device)\n",
        "        b_labels = batch['labels'].to(device)\n",
        "\n",
        "        # Always clear any previously calculated gradients before performing a\n",
        "        # backward pass. PyTorch doesn't do this automatically because \n",
        "        # accumulating the gradients is \"convenient while training RNNs\". \n",
        "        model.zero_grad()        \n",
        "\n",
        "        # Perform a forward pass (evaluate the model on this training batch).\n",
        "        result = model(b_input_ids, \n",
        "                       attention_mask=b_input_mask, \n",
        "                       labels=b_labels)\n",
        "\n",
        "        loss = result.loss\n",
        "        logits = result.logits\n",
        "\n",
        "        # Accumulate the training loss over all of the batches so that we can\n",
        "        # calculate the average loss at the end.\n",
        "        total_train_loss+= loss.item()\n",
        "\n",
        "        # Perform a backward pass to calculate the gradients.\n",
        "        loss.backward()\n",
        "\n",
        "        # Clip the norm of the gradients to 1.0.\n",
        "        # This is to help prevent the \"exploding gradients\" problem.\n",
        "        torch.nn.utils.clip_grad_norm_(model.parameters(), 1.0)\n",
        "\n",
        "        # Update parameters and take a step using the computed gradient.\n",
        "        # The optimizer dictates the \"update rule\"--how the parameters are\n",
        "        # modified based on their gradients, the learning rate, etc.\n",
        "        optimizer.step()\n",
        "\n",
        "        # Update the learning rate.\n",
        "        scheduler.step()\n",
        "\n",
        "    # Calculate the average loss over all of the batches.\n",
        "    avg_train_loss = total_train_loss / len(train_DataLoader)            \n",
        "    \n",
        "    # Measure how long this epoch took.\n",
        "    training_time = format_time(time.time() - t0)\n",
        "\n",
        "    print(\"\")\n",
        "    print(\"  Average training loss: {0:.2f}\".format(avg_train_loss))\n",
        "    print(\"  Training epcoh took: {:}\".format(training_time))\n",
        "        \n",
        "    # ========================================\n",
        "    #               Validation\n",
        "    # ========================================\n",
        "    # After the completion of each training epoch, measure our performance on\n",
        "    # our validation set.\n",
        "\n",
        "    print(\"\")\n",
        "    print(\"Running Validation...\")\n",
        "\n",
        "    t0 = time.time()\n",
        "\n",
        "    # Put the model in evaluation mode\n",
        "    model.eval()\n",
        "\n",
        "    # Tracking variables \n",
        "    total_eval_accuracy = 0\n",
        "    total_eval_loss = 0\n",
        "    nb_eval_steps = 0\n",
        "\n",
        "    # Evaluate data for one epoch\n",
        "    for batch in valid_DataLoader:\n",
        "        \n",
        "        # Unpack this training batch from our dataloader. \n",
        "        # `batch` contains three pytorch tensors:\n",
        "        #   [0]: input ids \n",
        "        #   [1]: attention masks\n",
        "        #   [2]: labels \n",
        "        b_input_ids = batch['input_ids'].to(device)\n",
        "        b_input_mask = batch['attention_mask'].to(device)\n",
        "        b_labels = batch['labels'].to(device)\n",
        "        \n",
        "        # Tell pytorch not to bother with constructing the compute graph during\n",
        "        # the forward pass, since this is only needed for backprop (training).\n",
        "        with torch.no_grad():        \n",
        "\n",
        "            # Forward pass, calculate logit predictions.\n",
        "            result = model(b_input_ids,\n",
        "                           attention_mask=b_input_mask,\n",
        "                           labels=b_labels)\n",
        "\n",
        "        # Get the loss and \"logits\" output by the model. \n",
        "        loss = result.loss\n",
        "        logits = result.logits\n",
        "            \n",
        "        # Accumulate the validation loss.\n",
        "        total_eval_loss+= loss.item()\n",
        "\n",
        "        # Move logits and labels to CPU\n",
        "        logits = logits.detach().cpu().numpy()\n",
        "        label_ids = b_labels.to('cpu').numpy()\n",
        "\n",
        "        # Calculate the accuracy for this batch of test sentences, and\n",
        "        # accumulate it over all batches.\n",
        "        total_eval_accuracy += flat_accuracy(logits, label_ids)\n",
        "        \n",
        "\n",
        "    # Report the final accuracy for this validation run.\n",
        "    avg_val_accuracy = total_eval_accuracy / len(valid_DataLoader)\n",
        "    print(\"  Accuracy: {0:.2f}\".format(avg_val_accuracy))\n",
        "\n",
        "    # Calculate the average loss over all of the batches.\n",
        "    avg_val_loss = total_eval_loss / len(valid_DataLoader)\n",
        "    \n",
        "    # Measure how long the validation run took.\n",
        "    validation_time = format_time(time.time() - t0)\n",
        "    \n",
        "    print(\"  Validation Loss: {0:.2f}\".format(avg_val_loss))\n",
        "    print(\"  Validation took: {:}\".format(validation_time))\n",
        "\n",
        "    # Record all statistics from this epoch.\n",
        "    training_stats.append(\n",
        "        {\n",
        "            'epoch': epoch_i + 1,\n",
        "            'Training Loss': avg_train_loss,\n",
        "            'Valid. Loss': avg_val_loss,\n",
        "            'Valid. Accur.': avg_val_accuracy,\n",
        "            'Training Time': training_time,\n",
        "            'Validation Time': validation_time\n",
        "        }\n",
        "    )\n",
        "\n",
        "print(\"\")\n",
        "print(\"Training complete!\")\n",
        "\n",
        "print(\"Total training took {:} (h:mm:ss)\".format(format_time(time.time()-total_t0)))"
      ],
      "execution_count": null,
      "outputs": [
        {
          "output_type": "stream",
          "name": "stdout",
          "text": [
            "\n",
            "======== Epoch 1 / 3 ========\n",
            "Training...\n",
            "  Batch    40  of  3,516.    Elapsed: 0:01:03.\n",
            "  Batch    80  of  3,516.    Elapsed: 0:02:07.\n",
            "  Batch   120  of  3,516.    Elapsed: 0:03:11.\n",
            "  Batch   160  of  3,516.    Elapsed: 0:04:15.\n",
            "  Batch   200  of  3,516.    Elapsed: 0:05:19.\n",
            "  Batch   240  of  3,516.    Elapsed: 0:06:22.\n",
            "  Batch   280  of  3,516.    Elapsed: 0:07:26.\n",
            "  Batch   320  of  3,516.    Elapsed: 0:08:30.\n",
            "  Batch   360  of  3,516.    Elapsed: 0:09:34.\n",
            "  Batch   400  of  3,516.    Elapsed: 0:10:37.\n",
            "  Batch   440  of  3,516.    Elapsed: 0:11:41.\n",
            "  Batch   480  of  3,516.    Elapsed: 0:12:45.\n",
            "  Batch   520  of  3,516.    Elapsed: 0:13:49.\n",
            "  Batch   560  of  3,516.    Elapsed: 0:14:52.\n",
            "  Batch   600  of  3,516.    Elapsed: 0:15:55.\n",
            "  Batch   640  of  3,516.    Elapsed: 0:16:59.\n",
            "  Batch   680  of  3,516.    Elapsed: 0:18:03.\n",
            "  Batch   720  of  3,516.    Elapsed: 0:19:07.\n",
            "  Batch   760  of  3,516.    Elapsed: 0:20:11.\n",
            "  Batch   800  of  3,516.    Elapsed: 0:21:15.\n",
            "  Batch   840  of  3,516.    Elapsed: 0:22:19.\n",
            "  Batch   880  of  3,516.    Elapsed: 0:23:23.\n",
            "  Batch   920  of  3,516.    Elapsed: 0:24:27.\n",
            "  Batch   960  of  3,516.    Elapsed: 0:25:30.\n",
            "  Batch 1,000  of  3,516.    Elapsed: 0:26:33.\n",
            "  Batch 1,040  of  3,516.    Elapsed: 0:27:37.\n",
            "  Batch 1,080  of  3,516.    Elapsed: 0:28:40.\n",
            "  Batch 1,120  of  3,516.    Elapsed: 0:29:44.\n",
            "  Batch 1,160  of  3,516.    Elapsed: 0:30:47.\n",
            "  Batch 1,200  of  3,516.    Elapsed: 0:31:50.\n",
            "  Batch 1,240  of  3,516.    Elapsed: 0:32:54.\n",
            "  Batch 1,280  of  3,516.    Elapsed: 0:33:57.\n",
            "  Batch 1,320  of  3,516.    Elapsed: 0:35:01.\n",
            "  Batch 1,360  of  3,516.    Elapsed: 0:36:04.\n",
            "  Batch 1,400  of  3,516.    Elapsed: 0:37:07.\n",
            "  Batch 1,440  of  3,516.    Elapsed: 0:38:11.\n",
            "  Batch 1,480  of  3,516.    Elapsed: 0:39:14.\n",
            "  Batch 1,520  of  3,516.    Elapsed: 0:40:17.\n",
            "  Batch 1,560  of  3,516.    Elapsed: 0:41:21.\n",
            "  Batch 1,600  of  3,516.    Elapsed: 0:42:25.\n",
            "  Batch 1,640  of  3,516.    Elapsed: 0:43:29.\n",
            "  Batch 1,680  of  3,516.    Elapsed: 0:44:32.\n",
            "  Batch 1,720  of  3,516.    Elapsed: 0:45:36.\n",
            "  Batch 1,760  of  3,516.    Elapsed: 0:46:40.\n",
            "  Batch 1,800  of  3,516.    Elapsed: 0:47:44.\n",
            "  Batch 1,840  of  3,516.    Elapsed: 0:48:49.\n",
            "  Batch 1,880  of  3,516.    Elapsed: 0:49:51.\n",
            "  Batch 1,920  of  3,516.    Elapsed: 0:50:55.\n",
            "  Batch 1,960  of  3,516.    Elapsed: 0:51:58.\n",
            "  Batch 2,000  of  3,516.    Elapsed: 0:53:02.\n",
            "  Batch 2,040  of  3,516.    Elapsed: 0:54:05.\n",
            "  Batch 2,080  of  3,516.    Elapsed: 0:55:09.\n",
            "  Batch 2,120  of  3,516.    Elapsed: 0:56:12.\n",
            "  Batch 2,160  of  3,516.    Elapsed: 0:57:15.\n",
            "  Batch 2,200  of  3,516.    Elapsed: 0:58:19.\n",
            "  Batch 2,240  of  3,516.    Elapsed: 0:59:22.\n",
            "  Batch 2,280  of  3,516.    Elapsed: 1:00:26.\n",
            "  Batch 2,320  of  3,516.    Elapsed: 1:01:29.\n",
            "  Batch 2,360  of  3,516.    Elapsed: 1:02:33.\n",
            "  Batch 2,400  of  3,516.    Elapsed: 1:03:36.\n",
            "  Batch 2,440  of  3,516.    Elapsed: 1:04:40.\n",
            "  Batch 2,480  of  3,516.    Elapsed: 1:05:44.\n",
            "  Batch 2,520  of  3,516.    Elapsed: 1:06:48.\n",
            "  Batch 2,560  of  3,516.    Elapsed: 1:07:52.\n",
            "  Batch 2,600  of  3,516.    Elapsed: 1:08:56.\n",
            "  Batch 2,640  of  3,516.    Elapsed: 1:09:59.\n",
            "  Batch 2,680  of  3,516.    Elapsed: 1:11:03.\n",
            "  Batch 2,720  of  3,516.    Elapsed: 1:12:07.\n",
            "  Batch 2,760  of  3,516.    Elapsed: 1:13:11.\n",
            "  Batch 2,800  of  3,516.    Elapsed: 1:14:15.\n",
            "  Batch 2,840  of  3,516.    Elapsed: 1:15:19.\n",
            "  Batch 2,880  of  3,516.    Elapsed: 1:16:23.\n",
            "  Batch 2,920  of  3,516.    Elapsed: 1:17:27.\n",
            "  Batch 2,960  of  3,516.    Elapsed: 1:18:31.\n",
            "  Batch 3,000  of  3,516.    Elapsed: 1:19:35.\n",
            "  Batch 3,040  of  3,516.    Elapsed: 1:20:39.\n",
            "  Batch 3,080  of  3,516.    Elapsed: 1:21:43.\n",
            "  Batch 3,120  of  3,516.    Elapsed: 1:22:47.\n",
            "  Batch 3,160  of  3,516.    Elapsed: 1:23:51.\n",
            "  Batch 3,200  of  3,516.    Elapsed: 1:24:55.\n",
            "  Batch 3,240  of  3,516.    Elapsed: 1:25:59.\n",
            "  Batch 3,280  of  3,516.    Elapsed: 1:27:02.\n",
            "  Batch 3,320  of  3,516.    Elapsed: 1:28:06.\n",
            "  Batch 3,360  of  3,516.    Elapsed: 1:29:10.\n",
            "  Batch 3,400  of  3,516.    Elapsed: 1:30:14.\n",
            "  Batch 3,440  of  3,516.    Elapsed: 1:31:18.\n",
            "  Batch 3,480  of  3,516.    Elapsed: 1:32:22.\n",
            "\n",
            "  Average training loss: 0.76\n",
            "  Training epcoh took: 1:33:19\n",
            "\n",
            "Running Validation...\n",
            "  Accuracy: 0.80\n",
            "  Validation Loss: 0.54\n",
            "  Validation took: 0:03:33\n",
            "\n",
            "======== Epoch 2 / 3 ========\n",
            "Training...\n",
            "  Batch    40  of  3,516.    Elapsed: 0:01:04.\n",
            "  Batch    80  of  3,516.    Elapsed: 0:02:08.\n",
            "  Batch   120  of  3,516.    Elapsed: 0:03:12.\n",
            "  Batch   160  of  3,516.    Elapsed: 0:04:16.\n",
            "  Batch   200  of  3,516.    Elapsed: 0:05:20.\n",
            "  Batch   240  of  3,516.    Elapsed: 0:06:24.\n",
            "  Batch   280  of  3,516.    Elapsed: 0:07:28.\n",
            "  Batch   320  of  3,516.    Elapsed: 0:08:32.\n",
            "  Batch   360  of  3,516.    Elapsed: 0:09:36.\n",
            "  Batch   400  of  3,516.    Elapsed: 0:10:40.\n",
            "  Batch   440  of  3,516.    Elapsed: 0:11:44.\n",
            "  Batch   480  of  3,516.    Elapsed: 0:12:47.\n",
            "  Batch   520  of  3,516.    Elapsed: 0:13:51.\n",
            "  Batch   560  of  3,516.    Elapsed: 0:14:55.\n",
            "  Batch   600  of  3,516.    Elapsed: 0:15:59.\n",
            "  Batch   640  of  3,516.    Elapsed: 0:17:03.\n",
            "  Batch   680  of  3,516.    Elapsed: 0:18:07.\n",
            "  Batch   720  of  3,516.    Elapsed: 0:19:11.\n",
            "  Batch   760  of  3,516.    Elapsed: 0:20:15.\n",
            "  Batch   800  of  3,516.    Elapsed: 0:21:19.\n",
            "  Batch   840  of  3,516.    Elapsed: 0:22:23.\n",
            "  Batch   880  of  3,516.    Elapsed: 0:23:27.\n",
            "  Batch   920  of  3,516.    Elapsed: 0:24:31.\n",
            "  Batch   960  of  3,516.    Elapsed: 0:25:35.\n",
            "  Batch 1,000  of  3,516.    Elapsed: 0:26:39.\n",
            "  Batch 1,040  of  3,516.    Elapsed: 0:27:43.\n",
            "  Batch 1,080  of  3,516.    Elapsed: 0:28:47.\n",
            "  Batch 1,120  of  3,516.    Elapsed: 0:29:51.\n",
            "  Batch 1,160  of  3,516.    Elapsed: 0:30:55.\n",
            "  Batch 1,200  of  3,516.    Elapsed: 0:31:59.\n",
            "  Batch 1,240  of  3,516.    Elapsed: 0:33:03.\n",
            "  Batch 1,280  of  3,516.    Elapsed: 0:34:07.\n",
            "  Batch 1,320  of  3,516.    Elapsed: 0:35:11.\n",
            "  Batch 1,360  of  3,516.    Elapsed: 0:36:15.\n",
            "  Batch 1,400  of  3,516.    Elapsed: 0:37:19.\n",
            "  Batch 1,440  of  3,516.    Elapsed: 0:38:23.\n",
            "  Batch 1,480  of  3,516.    Elapsed: 0:39:27.\n",
            "  Batch 1,520  of  3,516.    Elapsed: 0:40:31.\n",
            "  Batch 1,560  of  3,516.    Elapsed: 0:41:35.\n",
            "  Batch 1,600  of  3,516.    Elapsed: 0:42:39.\n",
            "  Batch 1,640  of  3,516.    Elapsed: 0:43:43.\n",
            "  Batch 1,680  of  3,516.    Elapsed: 0:44:47.\n",
            "  Batch 1,720  of  3,516.    Elapsed: 0:45:51.\n",
            "  Batch 1,760  of  3,516.    Elapsed: 0:46:54.\n",
            "  Batch 1,800  of  3,516.    Elapsed: 0:47:58.\n",
            "  Batch 1,840  of  3,516.    Elapsed: 0:49:02.\n",
            "  Batch 1,880  of  3,516.    Elapsed: 0:50:06.\n",
            "  Batch 1,920  of  3,516.    Elapsed: 0:51:10.\n",
            "  Batch 1,960  of  3,516.    Elapsed: 0:52:14.\n",
            "  Batch 2,000  of  3,516.    Elapsed: 0:53:18.\n",
            "  Batch 2,040  of  3,516.    Elapsed: 0:54:22.\n",
            "  Batch 2,080  of  3,516.    Elapsed: 0:55:26.\n",
            "  Batch 2,120  of  3,516.    Elapsed: 0:56:30.\n",
            "  Batch 2,160  of  3,516.    Elapsed: 0:57:34.\n",
            "  Batch 2,200  of  3,516.    Elapsed: 0:58:38.\n",
            "  Batch 2,240  of  3,516.    Elapsed: 0:59:42.\n",
            "  Batch 2,280  of  3,516.    Elapsed: 1:00:46.\n",
            "  Batch 2,320  of  3,516.    Elapsed: 1:01:49.\n",
            "  Batch 2,360  of  3,516.    Elapsed: 1:02:53.\n",
            "  Batch 2,400  of  3,516.    Elapsed: 1:03:57.\n",
            "  Batch 2,440  of  3,516.    Elapsed: 1:05:01.\n",
            "  Batch 2,480  of  3,516.    Elapsed: 1:06:05.\n",
            "  Batch 2,520  of  3,516.    Elapsed: 1:07:09.\n",
            "  Batch 2,560  of  3,516.    Elapsed: 1:08:13.\n",
            "  Batch 2,600  of  3,516.    Elapsed: 1:09:17.\n",
            "  Batch 2,640  of  3,516.    Elapsed: 1:10:21.\n",
            "  Batch 2,680  of  3,516.    Elapsed: 1:11:25.\n",
            "  Batch 2,720  of  3,516.    Elapsed: 1:12:29.\n",
            "  Batch 2,760  of  3,516.    Elapsed: 1:13:33.\n",
            "  Batch 2,800  of  3,516.    Elapsed: 1:14:37.\n",
            "  Batch 2,840  of  3,516.    Elapsed: 1:15:41.\n",
            "  Batch 2,880  of  3,516.    Elapsed: 1:16:44.\n",
            "  Batch 2,920  of  3,516.    Elapsed: 1:17:48.\n",
            "  Batch 2,960  of  3,516.    Elapsed: 1:18:52.\n",
            "  Batch 3,000  of  3,516.    Elapsed: 1:19:56.\n",
            "  Batch 3,040  of  3,516.    Elapsed: 1:21:00.\n",
            "  Batch 3,080  of  3,516.    Elapsed: 1:22:04.\n",
            "  Batch 3,120  of  3,516.    Elapsed: 1:23:08.\n",
            "  Batch 3,160  of  3,516.    Elapsed: 1:24:12.\n",
            "  Batch 3,200  of  3,516.    Elapsed: 1:25:16.\n",
            "  Batch 3,240  of  3,516.    Elapsed: 1:26:20.\n",
            "  Batch 3,280  of  3,516.    Elapsed: 1:27:24.\n",
            "  Batch 3,320  of  3,516.    Elapsed: 1:28:28.\n",
            "  Batch 3,360  of  3,516.    Elapsed: 1:29:32.\n",
            "  Batch 3,400  of  3,516.    Elapsed: 1:30:35.\n",
            "  Batch 3,440  of  3,516.    Elapsed: 1:31:38.\n",
            "  Batch 3,480  of  3,516.    Elapsed: 1:32:42.\n",
            "\n",
            "  Average training loss: 0.50\n",
            "  Training epcoh took: 1:33:39\n",
            "\n",
            "Running Validation...\n",
            "  Accuracy: 0.86\n",
            "  Validation Loss: 0.42\n",
            "  Validation took: 0:03:32\n",
            "\n",
            "======== Epoch 3 / 3 ========\n",
            "Training...\n",
            "  Batch    40  of  3,516.    Elapsed: 0:01:04.\n",
            "  Batch    80  of  3,516.    Elapsed: 0:02:07.\n",
            "  Batch   120  of  3,516.    Elapsed: 0:03:11.\n",
            "  Batch   160  of  3,516.    Elapsed: 0:04:14.\n",
            "  Batch   200  of  3,516.    Elapsed: 0:05:17.\n",
            "  Batch   240  of  3,516.    Elapsed: 0:06:21.\n",
            "  Batch   280  of  3,516.    Elapsed: 0:07:24.\n",
            "  Batch   320  of  3,516.    Elapsed: 0:08:27.\n",
            "  Batch   360  of  3,516.    Elapsed: 0:09:31.\n",
            "  Batch   400  of  3,516.    Elapsed: 0:10:34.\n",
            "  Batch   440  of  3,516.    Elapsed: 0:11:37.\n",
            "  Batch   480  of  3,516.    Elapsed: 0:12:41.\n",
            "  Batch   520  of  3,516.    Elapsed: 0:13:44.\n",
            "  Batch   560  of  3,516.    Elapsed: 0:14:48.\n",
            "  Batch   600  of  3,516.    Elapsed: 0:15:51.\n",
            "  Batch   640  of  3,516.    Elapsed: 0:16:54.\n",
            "  Batch   680  of  3,516.    Elapsed: 0:17:58.\n",
            "  Batch   720  of  3,516.    Elapsed: 0:19:01.\n",
            "  Batch   760  of  3,516.    Elapsed: 0:20:05.\n",
            "  Batch   800  of  3,516.    Elapsed: 0:21:08.\n",
            "  Batch   840  of  3,516.    Elapsed: 0:22:11.\n",
            "  Batch   880  of  3,516.    Elapsed: 0:23:15.\n",
            "  Batch   920  of  3,516.    Elapsed: 0:24:18.\n",
            "  Batch   960  of  3,516.    Elapsed: 0:25:22.\n",
            "  Batch 1,000  of  3,516.    Elapsed: 0:26:25.\n",
            "  Batch 1,040  of  3,516.    Elapsed: 0:27:29.\n",
            "  Batch 1,080  of  3,516.    Elapsed: 0:28:32.\n",
            "  Batch 1,120  of  3,516.    Elapsed: 0:29:35.\n",
            "  Batch 1,160  of  3,516.    Elapsed: 0:30:39.\n",
            "  Batch 1,200  of  3,516.    Elapsed: 0:31:42.\n",
            "  Batch 1,240  of  3,516.    Elapsed: 0:32:45.\n",
            "  Batch 1,280  of  3,516.    Elapsed: 0:33:49.\n",
            "  Batch 1,320  of  3,516.    Elapsed: 0:34:52.\n",
            "  Batch 1,360  of  3,516.    Elapsed: 0:35:56.\n",
            "  Batch 1,400  of  3,516.    Elapsed: 0:37:00.\n",
            "  Batch 1,440  of  3,516.    Elapsed: 0:38:04.\n",
            "  Batch 1,480  of  3,516.    Elapsed: 0:39:08.\n",
            "  Batch 1,520  of  3,516.    Elapsed: 0:40:12.\n",
            "  Batch 1,560  of  3,516.    Elapsed: 0:41:16.\n",
            "  Batch 1,600  of  3,516.    Elapsed: 0:42:20.\n",
            "  Batch 1,640  of  3,516.    Elapsed: 0:43:24.\n",
            "  Batch 1,680  of  3,516.    Elapsed: 0:44:27.\n",
            "  Batch 1,720  of  3,516.    Elapsed: 0:45:31.\n",
            "  Batch 1,760  of  3,516.    Elapsed: 0:46:35.\n",
            "  Batch 1,800  of  3,516.    Elapsed: 0:47:39.\n",
            "  Batch 1,840  of  3,516.    Elapsed: 0:48:43.\n",
            "  Batch 1,880  of  3,516.    Elapsed: 0:49:47.\n",
            "  Batch 1,920  of  3,516.    Elapsed: 0:50:51.\n",
            "  Batch 1,960  of  3,516.    Elapsed: 0:51:55.\n",
            "  Batch 2,000  of  3,516.    Elapsed: 0:52:59.\n",
            "  Batch 2,040  of  3,516.    Elapsed: 0:54:03.\n",
            "  Batch 2,080  of  3,516.    Elapsed: 0:55:07.\n",
            "  Batch 2,120  of  3,516.    Elapsed: 0:56:11.\n",
            "  Batch 2,160  of  3,516.    Elapsed: 0:57:14.\n",
            "  Batch 2,200  of  3,516.    Elapsed: 0:58:18.\n",
            "  Batch 2,240  of  3,516.    Elapsed: 0:59:22.\n",
            "  Batch 2,280  of  3,516.    Elapsed: 1:00:26.\n",
            "  Batch 2,320  of  3,516.    Elapsed: 1:01:30.\n",
            "  Batch 2,360  of  3,516.    Elapsed: 1:02:34.\n",
            "  Batch 2,400  of  3,516.    Elapsed: 1:03:38.\n",
            "  Batch 2,440  of  3,516.    Elapsed: 1:04:42.\n",
            "  Batch 2,480  of  3,516.    Elapsed: 1:05:46.\n",
            "  Batch 2,520  of  3,516.    Elapsed: 1:06:50.\n",
            "  Batch 2,560  of  3,516.    Elapsed: 1:07:54.\n",
            "  Batch 2,600  of  3,516.    Elapsed: 1:08:58.\n",
            "  Batch 2,640  of  3,516.    Elapsed: 1:10:02.\n",
            "  Batch 2,680  of  3,516.    Elapsed: 1:11:06.\n",
            "  Batch 2,720  of  3,516.    Elapsed: 1:12:10.\n",
            "  Batch 2,760  of  3,516.    Elapsed: 1:13:14.\n",
            "  Batch 2,800  of  3,516.    Elapsed: 1:14:19.\n",
            "  Batch 2,840  of  3,516.    Elapsed: 1:15:23.\n",
            "  Batch 2,880  of  3,516.    Elapsed: 1:16:28.\n",
            "  Batch 2,920  of  3,516.    Elapsed: 1:17:32.\n",
            "  Batch 2,960  of  3,516.    Elapsed: 1:18:37.\n",
            "  Batch 3,000  of  3,516.    Elapsed: 1:19:41.\n",
            "  Batch 3,040  of  3,516.    Elapsed: 1:20:45.\n",
            "  Batch 3,080  of  3,516.    Elapsed: 1:21:49.\n",
            "  Batch 3,120  of  3,516.    Elapsed: 1:22:54.\n",
            "  Batch 3,160  of  3,516.    Elapsed: 1:23:58.\n",
            "  Batch 3,200  of  3,516.    Elapsed: 1:25:02.\n",
            "  Batch 3,240  of  3,516.    Elapsed: 1:26:07.\n",
            "  Batch 3,280  of  3,516.    Elapsed: 1:27:11.\n",
            "  Batch 3,320  of  3,516.    Elapsed: 1:28:15.\n",
            "  Batch 3,360  of  3,516.    Elapsed: 1:29:19.\n",
            "  Batch 3,400  of  3,516.    Elapsed: 1:30:24.\n",
            "  Batch 3,440  of  3,516.    Elapsed: 1:31:28.\n",
            "  Batch 3,480  of  3,516.    Elapsed: 1:32:32.\n",
            "\n",
            "  Average training loss: 0.41\n",
            "  Training epcoh took: 1:33:30\n",
            "\n",
            "Running Validation...\n",
            "  Accuracy: 0.88\n",
            "  Validation Loss: 0.38\n",
            "  Validation took: 0:03:35\n",
            "\n",
            "Training complete!\n",
            "Total training took 4:51:08 (h:mm:ss)\n"
          ]
        }
      ]
    },
    {
      "cell_type": "markdown",
      "metadata": {
        "id": "40PpAjRnL_5K"
      },
      "source": [
        "**Training results**"
      ]
    },
    {
      "cell_type": "markdown",
      "metadata": {
        "id": "QOWvcKEXMDOJ"
      },
      "source": [
        "Let's see the summary of the results:"
      ]
    },
    {
      "cell_type": "code",
      "metadata": {
        "id": "Jws6yVlpMCyb",
        "colab": {
          "base_uri": "https://localhost:8080/",
          "height": 173
        },
        "outputId": "1e185364-fd6e-4b13-9ec1-67ef0b195b41"
      },
      "source": [
        "import pandas as pd\n",
        "\n",
        "# Display floats with two decimal places.\n",
        "pd.set_option('precision', 2)\n",
        "\n",
        "# Create a DataFrame from our training statistics.\n",
        "df_stats = pd.DataFrame(data=training_stats)\n",
        "\n",
        "# Use the 'epoch' as the row index.\n",
        "df_stats = df_stats.set_index('epoch')\n",
        "\n",
        "# Display the table.\n",
        "df_stats"
      ],
      "execution_count": null,
      "outputs": [
        {
          "output_type": "execute_result",
          "data": {
            "text/html": [
              "<div>\n",
              "<style scoped>\n",
              "    .dataframe tbody tr th:only-of-type {\n",
              "        vertical-align: middle;\n",
              "    }\n",
              "\n",
              "    .dataframe tbody tr th {\n",
              "        vertical-align: top;\n",
              "    }\n",
              "\n",
              "    .dataframe thead th {\n",
              "        text-align: right;\n",
              "    }\n",
              "</style>\n",
              "<table border=\"1\" class=\"dataframe\">\n",
              "  <thead>\n",
              "    <tr style=\"text-align: right;\">\n",
              "      <th></th>\n",
              "      <th>Training Loss</th>\n",
              "      <th>Valid. Loss</th>\n",
              "      <th>Valid. Accur.</th>\n",
              "      <th>Training Time</th>\n",
              "      <th>Validation Time</th>\n",
              "    </tr>\n",
              "    <tr>\n",
              "      <th>epoch</th>\n",
              "      <th></th>\n",
              "      <th></th>\n",
              "      <th></th>\n",
              "      <th></th>\n",
              "      <th></th>\n",
              "    </tr>\n",
              "  </thead>\n",
              "  <tbody>\n",
              "    <tr>\n",
              "      <th>1</th>\n",
              "      <td>0.76</td>\n",
              "      <td>0.54</td>\n",
              "      <td>0.80</td>\n",
              "      <td>1:33:19</td>\n",
              "      <td>0:03:33</td>\n",
              "    </tr>\n",
              "    <tr>\n",
              "      <th>2</th>\n",
              "      <td>0.50</td>\n",
              "      <td>0.42</td>\n",
              "      <td>0.86</td>\n",
              "      <td>1:33:39</td>\n",
              "      <td>0:03:32</td>\n",
              "    </tr>\n",
              "    <tr>\n",
              "      <th>3</th>\n",
              "      <td>0.41</td>\n",
              "      <td>0.38</td>\n",
              "      <td>0.88</td>\n",
              "      <td>1:33:30</td>\n",
              "      <td>0:03:35</td>\n",
              "    </tr>\n",
              "  </tbody>\n",
              "</table>\n",
              "</div>"
            ],
            "text/plain": [
              "       Training Loss  Valid. Loss  Valid. Accur. Training Time Validation Time\n",
              "epoch                                                                         \n",
              "1               0.76         0.54           0.80       1:33:19         0:03:33\n",
              "2               0.50         0.42           0.86       1:33:39         0:03:32\n",
              "3               0.41         0.38           0.88       1:33:30         0:03:35"
            ]
          },
          "metadata": {},
          "execution_count": 21
        }
      ]
    },
    {
      "cell_type": "markdown",
      "metadata": {
        "id": "Zc2TOqFkMR4F"
      },
      "source": [
        "Plot the training loss and validation loss to check for over-fitting:"
      ]
    },
    {
      "cell_type": "code",
      "metadata": {
        "id": "7vPwbjfDMV5w",
        "colab": {
          "base_uri": "https://localhost:8080/",
          "height": 427
        },
        "outputId": "de19ee7d-c0b7-4d30-cf66-1cf83c943470"
      },
      "source": [
        "import matplotlib.pyplot as plt\n",
        "% matplotlib inline\n",
        "\n",
        "import seaborn as sns\n",
        "\n",
        "# Use plot styling from seaborn.\n",
        "sns.set(style='darkgrid')\n",
        "\n",
        "# Increase the plot size and font size.\n",
        "sns.set(font_scale=1.5)\n",
        "plt.rcParams[\"figure.figsize\"] = (12,6)\n",
        "\n",
        "# Plot the learning curve.\n",
        "plt.plot(df_stats['Training Loss'], 'b-o', label=\"Training\")\n",
        "plt.plot(df_stats['Valid. Loss'], 'g-o', label=\"Validation\")\n",
        "\n",
        "# Label the plot.\n",
        "plt.title(\"Training & Validation Loss\")\n",
        "plt.xlabel(\"Epoch\")\n",
        "plt.ylabel(\"Loss\")\n",
        "plt.legend()\n",
        "plt.xticks([1, 2, 3, 4])\n",
        "\n",
        "plt.show()"
      ],
      "execution_count": null,
      "outputs": [
        {
          "output_type": "display_data",
          "data": {
            "image/png": "[encoded data removed]",
            "text/plain": [
              "<Figure size 864x432 with 1 Axes>"
            ]
          },
          "metadata": {}
        }
      ]
    },
    {
      "cell_type": "markdown",
      "metadata": {
        "id": "K5j4SEeO-Laf"
      },
      "source": [
        "If we look at the loss curve, we can see that both training & validation are converging. We can improve model performance further by increasing the number of epochs."
      ]
    },
    {
      "cell_type": "markdown",
      "metadata": {
        "id": "TP1ZBK7hM-u5"
      },
      "source": [
        "**Model predictions on Test data**"
      ]
    },
    {
      "cell_type": "code",
      "metadata": {
        "id": "acJWZEYcNDrJ",
        "colab": {
          "base_uri": "https://localhost:8080/"
        },
        "outputId": "785172fd-d9fe-4cab-bf7f-7b32ec1eb3b2"
      },
      "source": [
        "# Put model in evaluation mode\n",
        "model.eval()\n",
        "\n",
        "# Tracking variables \n",
        "predictions , true_labels = [], []\n",
        "\n",
        "# Predict \n",
        "for batch in test_DataLoader:\n",
        "  b_input_ids = batch['input_ids'].to(device)\n",
        "  b_input_mask = batch['attention_mask'].to(device)\n",
        "  b_labels = batch['labels'].to(device)\n",
        "  \n",
        "  # Telling the model not to compute or store gradients, saving memory and \n",
        "  # speeding up prediction\n",
        "  with torch.no_grad():\n",
        "      # Forward pass, calculate logit predictions.\n",
        "      result = model(b_input_ids, \n",
        "                     token_type_ids=None, \n",
        "                     attention_mask=b_input_mask,\n",
        "                     return_dict=True)\n",
        "\n",
        "  logits = result.logits\n",
        "\n",
        "  # Move logits and labels to CPU\n",
        "  logits = logits.detach().cpu().numpy()\n",
        "  label_ids = b_labels.to('cpu').numpy()\n",
        "  \n",
        "  # Store predictions and true labels\n",
        "  predictions.append(logits)\n",
        "  true_labels.append(label_ids)\n",
        "print('DONE.')"
      ],
      "execution_count": null,
      "outputs": [
        {
          "output_type": "stream",
          "name": "stdout",
          "text": [
            "DONE.\n"
          ]
        }
      ]
    },
    {
      "cell_type": "code",
      "metadata": {
        "id": "lI0PqeNYNQCz"
      },
      "source": [
        "# Combine the results across all batches. \n",
        "flat_predictions = np.concatenate(predictions, axis=0)\n",
        "\n",
        "# For each sample, pick the label (0 or 1) with the higher score.\n",
        "flat_predictions = np.argmax(flat_predictions, axis=1).flatten()\n",
        "\n",
        "# Combine the correct labels for each batch into a single list.\n",
        "flat_true_labels = np.concatenate(true_labels, axis=0)"
      ],
      "execution_count": null,
      "outputs": []
    },
    {
      "cell_type": "code",
      "metadata": {
        "colab": {
          "base_uri": "https://localhost:8080/"
        },
        "id": "E3_PKss22gPM",
        "outputId": "d448e41e-e50b-4504-d0cf-3b70cd1ff1ed"
      },
      "source": [
        "!pip install scikit-plot"
      ],
      "execution_count": null,
      "outputs": [
        {
          "output_type": "stream",
          "name": "stdout",
          "text": [
            "Collecting scikit-plot\n",
            "  Downloading scikit_plot-0.3.7-py3-none-any.whl (33 kB)\n",
            "Requirement already satisfied: scipy>=0.9 in /usr/local/lib/python3.7/dist-packages (from scikit-plot) (1.4.1)\n",
            "Requirement already satisfied: matplotlib>=1.4.0 in /usr/local/lib/python3.7/dist-packages (from scikit-plot) (3.2.2)\n",
            "Requirement already satisfied: joblib>=0.10 in /usr/local/lib/python3.7/dist-packages (from scikit-plot) (1.0.1)\n",
            "Requirement already satisfied: scikit-learn>=0.18 in /usr/local/lib/python3.7/dist-packages (from scikit-plot) (0.22.2.post1)\n",
            "Requirement already satisfied: cycler>=0.10 in /usr/local/lib/python3.7/dist-packages (from matplotlib>=1.4.0->scikit-plot) (0.10.0)\n",
            "Requirement already satisfied: numpy>=1.11 in /usr/local/lib/python3.7/dist-packages (from matplotlib>=1.4.0->scikit-plot) (1.19.5)\n",
            "Requirement already satisfied: kiwisolver>=1.0.1 in /usr/local/lib/python3.7/dist-packages (from matplotlib>=1.4.0->scikit-plot) (1.3.2)\n",
            "Requirement already satisfied: python-dateutil>=2.1 in /usr/local/lib/python3.7/dist-packages (from matplotlib>=1.4.0->scikit-plot) (2.8.2)\n",
            "Requirement already satisfied: pyparsing!=2.0.4,!=2.1.2,!=2.1.6,>=2.0.1 in /usr/local/lib/python3.7/dist-packages (from matplotlib>=1.4.0->scikit-plot) (2.4.7)\n",
            "Requirement already satisfied: six in /usr/local/lib/python3.7/dist-packages (from cycler>=0.10->matplotlib>=1.4.0->scikit-plot) (1.15.0)\n",
            "Installing collected packages: scikit-plot\n",
            "Successfully installed scikit-plot-0.3.7\n"
          ]
        }
      ]
    },
    {
      "cell_type": "code",
      "metadata": {
        "colab": {
          "base_uri": "https://localhost:8080/",
          "height": 481
        },
        "id": "-MoRTw02vj8I",
        "outputId": "b2af5470-6233-4c18-d52b-71f19a122c99"
      },
      "source": [
        "from sklearn.metrics import classification_report\n",
        "import seaborn as sns \n",
        "from scikitplot import metrics\n",
        "# Plot confusion matrix\n",
        "cm = confusion_matrix(flat_true_labels, flat_predictions)\n",
        "# Plot Confusion matrix\n",
        "classes = [401, 627, 411, 511, 580, 421, 164, 455, 437, 582]\n",
        "df_cm = pd.DataFrame(cm, index = [i for i in classes],\n",
        "                  columns = [i for i in classes])\n",
        "plt.figure(figsize = (10,7))\n",
        "sns.heatmap(df_cm, annot=True, annot_kws={\"size\": 16}, xticklabels=classes, yticklabels=classes, fmt='g');\n",
        "plt.xlabel('Predicted label')\n",
        "plt.ylabel('True label')\n",
        "plt.title('Confusion matrix')\n",
        "plt.show()"
      ],
      "execution_count": null,
      "outputs": [
        {
          "output_type": "display_data",
          "data": {
            "image/png": "[encoded data removed]",
            "text/plain": [
              "<Figure size 720x504 with 2 Axes>"
            ]
          },
          "metadata": {}
        }
      ]
    },
    {
      "cell_type": "code",
      "metadata": {
        "colab": {
          "base_uri": "https://localhost:8080/"
        },
        "id": "ZhXLUBz5zbye",
        "outputId": "4e8fa2a3-272e-4c30-dcfa-92a5ccd0e1b2"
      },
      "source": [
        "classReport = classification_report(flat_true_labels, flat_predictions,target_names=[str(name) for name in classes])\n",
        "print(classReport)"
      ],
      "execution_count": null,
      "outputs": [
        {
          "output_type": "stream",
          "name": "stdout",
          "text": [
            "              precision    recall  f1-score   support\n",
            "\n",
            "         401       0.99      0.78      0.87      6477\n",
            "         627       0.93      0.95      0.94      4274\n",
            "         411       0.81      0.75      0.78      2573\n",
            "         511       0.76      0.67      0.71      3069\n",
            "         580       0.60      0.59      0.60      1445\n",
            "         421       0.63      0.91      0.74       456\n",
            "         164       0.87      0.99      0.93       283\n",
            "         455       0.14      0.85      0.24       194\n",
            "         437       0.78      0.99      0.87       411\n",
            "         582       0.42      0.92      0.58       433\n",
            "\n",
            "    accuracy                           0.80     19615\n",
            "   macro avg       0.69      0.84      0.73     19615\n",
            "weighted avg       0.85      0.80      0.81     19615\n",
            "\n"
          ]
        }
      ]
    },
    {
      "cell_type": "code",
      "metadata": {
        "id": "f7AeEcW_4mCQ"
      },
      "source": [
        ""
      ],
      "execution_count": null,
      "outputs": []
    }
  ]
}
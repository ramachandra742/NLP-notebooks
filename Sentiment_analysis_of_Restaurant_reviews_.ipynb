{
  "nbformat": 4,
  "nbformat_minor": 0,
  "metadata": {
    "language_info": {
      "codemirror_mode": {
        "name": "ipython",
        "version": 3
      },
      "file_extension": ".py",
      "mimetype": "text/x-python",
      "name": "python",
      "nbconvert_exporter": "python",
      "pygments_lexer": "ipython3",
      "version": "3.6.9-final"
    },
    "orig_nbformat": 2,
    "kernelspec": {
      "name": "python3",
      "display_name": "Python 3.6.9 64-bit",
      "metadata": {
        "interpreter": {
          "hash": "31f2aee4e71d21fbe5cf8b01ff0e069b9275f58929596ceb00d14d90e3e16cd6"
        }
      }
    },
    "colab": {
      "name": "Sentiment analysis of Restaurant reviews..ipynb",
      "provenance": [],
      "collapsed_sections": []
    }
  },
  "cells": [
    {
      "cell_type": "markdown",
      "metadata": {
        "id": "T_du22iY_i3w"
      },
      "source": [
        "### **This notebook involves the Sentiment analysis of Restaraunt reviews using scraped dataset.**"
      ]
    },
    {
      "cell_type": "markdown",
      "metadata": {
        "id": "01vabqH3CFOG"
      },
      "source": [
        "Install required libraries"
      ]
    },
    {
      "cell_type": "code",
      "metadata": {
        "colab": {
          "base_uri": "https://localhost:8080/"
        },
        "id": "6JpaP9fbCMI5",
        "outputId": "1d12aa4b-923f-4058-c5b3-5f3ac217f528"
      },
      "source": [
        "!pip install scikit-plot\n",
        "!pip install pyspellchecker"
      ],
      "execution_count": null,
      "outputs": [
        {
          "output_type": "stream",
          "text": [
            "Requirement already satisfied: scikit-plot in /usr/local/lib/python3.7/dist-packages (0.3.7)\n",
            "Requirement already satisfied: scikit-learn>=0.18 in /usr/local/lib/python3.7/dist-packages (from scikit-plot) (0.22.2.post1)\n",
            "Requirement already satisfied: scipy>=0.9 in /usr/local/lib/python3.7/dist-packages (from scikit-plot) (1.4.1)\n",
            "Requirement already satisfied: matplotlib>=1.4.0 in /usr/local/lib/python3.7/dist-packages (from scikit-plot) (3.2.2)\n",
            "Requirement already satisfied: joblib>=0.10 in /usr/local/lib/python3.7/dist-packages (from scikit-plot) (1.0.1)\n",
            "Requirement already satisfied: numpy>=1.11.0 in /usr/local/lib/python3.7/dist-packages (from scikit-learn>=0.18->scikit-plot) (1.19.5)\n",
            "Requirement already satisfied: python-dateutil>=2.1 in /usr/local/lib/python3.7/dist-packages (from matplotlib>=1.4.0->scikit-plot) (2.8.1)\n",
            "Requirement already satisfied: cycler>=0.10 in /usr/local/lib/python3.7/dist-packages (from matplotlib>=1.4.0->scikit-plot) (0.10.0)\n",
            "Requirement already satisfied: kiwisolver>=1.0.1 in /usr/local/lib/python3.7/dist-packages (from matplotlib>=1.4.0->scikit-plot) (1.3.1)\n",
            "Requirement already satisfied: pyparsing!=2.0.4,!=2.1.2,!=2.1.6,>=2.0.1 in /usr/local/lib/python3.7/dist-packages (from matplotlib>=1.4.0->scikit-plot) (2.4.7)\n",
            "Requirement already satisfied: six>=1.5 in /usr/local/lib/python3.7/dist-packages (from python-dateutil>=2.1->matplotlib>=1.4.0->scikit-plot) (1.15.0)\n",
            "Requirement already satisfied: pyspellchecker in /usr/local/lib/python3.7/dist-packages (0.6.2)\n"
          ],
          "name": "stdout"
        }
      ]
    },
    {
      "cell_type": "markdown",
      "metadata": {
        "id": "bwoJKCWp__xf"
      },
      "source": [
        "Import required libraries"
      ]
    },
    {
      "cell_type": "code",
      "metadata": {
        "id": "Ogxuogt_AEyV",
        "colab": {
          "base_uri": "https://localhost:8080/"
        },
        "outputId": "649a7c17-93eb-4743-b002-2e21855936cc"
      },
      "source": [
        "import pandas as pd\n",
        "import re\n",
        "import string\n",
        "import numpy as np\n",
        "\n",
        "import matplotlib.pyplot as plt\n",
        "import seaborn as sns\n",
        "\n",
        "import nltk\n",
        "from nltk import sent_tokenize, word_tokenize, WordPunctTokenizer\n",
        "from nltk.stem import PorterStemmer,WordNetLemmatizer\n",
        "\n",
        "from sklearn.feature_extraction.text import CountVectorizer\n",
        "from sklearn.feature_extraction.text import TfidfVectorizer\n",
        "from sklearn.preprocessing import LabelBinarizer\n",
        "from sklearn.metrics import classification_report,confusion_matrix,accuracy_score\n",
        "from sklearn.svm import SVC, LinearSVC,NuSVC, libsvm\n",
        "from sklearn.model_selection import train_test_split\n",
        "from scikitplot.metrics import plot_confusion_matrix, roc_curve, auc\n",
        "from sklearn.linear_model import SGDClassifier\n",
        "from sklearn.pipeline import Pipeline\n",
        "from sklearn.feature_extraction.text import TfidfTransformer\n",
        "\n",
        "from collections import Counter\n",
        "import pickle\n",
        "from imblearn.over_sampling import SMOTE\n",
        "from imblearn.metrics import classification_report_imbalanced\n",
        "\n",
        "import warnings \n",
        "warnings.filterwarnings('ignore')"
      ],
      "execution_count": null,
      "outputs": [
        {
          "output_type": "stream",
          "text": [
            "/usr/local/lib/python3.7/dist-packages/sklearn/utils/deprecation.py:144: FutureWarning: The sklearn.svm.libsvm module is  deprecated in version 0.22 and will be removed in version 0.24. The corresponding classes / functions should instead be imported from sklearn.svm. Anything that cannot be imported from sklearn.svm is now part of the private API.\n",
            "  warnings.warn(message, FutureWarning)\n",
            "/usr/local/lib/python3.7/dist-packages/sklearn/externals/six.py:31: FutureWarning: The module is deprecated in version 0.21 and will be removed in version 0.23 since we've dropped support for Python 2.7. Please rely on the official version of six (https://pypi.org/project/six/).\n",
            "  \"(https://pypi.org/project/six/).\", FutureWarning)\n",
            "/usr/local/lib/python3.7/dist-packages/sklearn/utils/deprecation.py:144: FutureWarning: The sklearn.neighbors.base module is  deprecated in version 0.22 and will be removed in version 0.24. The corresponding classes / functions should instead be imported from sklearn.neighbors. Anything that cannot be imported from sklearn.neighbors is now part of the private API.\n",
            "  warnings.warn(message, FutureWarning)\n",
            "/usr/local/lib/python3.7/dist-packages/sklearn/utils/deprecation.py:144: FutureWarning: The sklearn.metrics.classification module is  deprecated in version 0.22 and will be removed in version 0.24. The corresponding classes / functions should instead be imported from sklearn.metrics. Anything that cannot be imported from sklearn.metrics is now part of the private API.\n",
            "  warnings.warn(message, FutureWarning)\n"
          ],
          "name": "stderr"
        }
      ]
    },
    {
      "cell_type": "markdown",
      "metadata": {
        "id": "3WP6E4mo_X2D"
      },
      "source": [
        "Load the data"
      ]
    },
    {
      "cell_type": "code",
      "metadata": {
        "colab": {
          "base_uri": "https://localhost:8080/",
          "height": 289
        },
        "id": "nAz0mv_i_X2E",
        "outputId": "ede77a84-fc2e-4c76-9709-050a695e4118"
      },
      "source": [
        "df = pd.read_csv('/content/sentiment_analysis.csv')\n",
        "df = df.drop('Unnamed: 0',axis=1)\n",
        "df.head()"
      ],
      "execution_count": null,
      "outputs": [
        {
          "output_type": "execute_result",
          "data": {
            "text/html": [
              "<div>\n",
              "<style scoped>\n",
              "    .dataframe tbody tr th:only-of-type {\n",
              "        vertical-align: middle;\n",
              "    }\n",
              "\n",
              "    .dataframe tbody tr th {\n",
              "        vertical-align: top;\n",
              "    }\n",
              "\n",
              "    .dataframe thead th {\n",
              "        text-align: right;\n",
              "    }\n",
              "</style>\n",
              "<table border=\"1\" class=\"dataframe\">\n",
              "  <thead>\n",
              "    <tr style=\"text-align: right;\">\n",
              "      <th></th>\n",
              "      <th>Title</th>\n",
              "      <th>ReviewDate</th>\n",
              "      <th>Stay Date</th>\n",
              "      <th>comments</th>\n",
              "      <th>Restaurant_Name</th>\n",
              "      <th>Review_Sentiment</th>\n",
              "    </tr>\n",
              "  </thead>\n",
              "  <tbody>\n",
              "    <tr>\n",
              "      <th>0</th>\n",
              "      <td>b'Highly recommended'</td>\n",
              "      <td>b'Reviewed September 14, 2020 '</td>\n",
              "      <td>b'Date of visit: September 2020'</td>\n",
              "      <td>[b'We went for Lunch. From very first their pa...</td>\n",
              "      <td>The Four Leafed Clover</td>\n",
              "      <td>POSITIVE</td>\n",
              "    </tr>\n",
              "    <tr>\n",
              "      <th>1</th>\n",
              "      <td>b'Excellent food, great ambience'</td>\n",
              "      <td>b'Reviewed September 5, 2020 '</td>\n",
              "      <td>b'Date of visit: September 2020'</td>\n",
              "      <td>[b'Great service and delicious food. We had th...</td>\n",
              "      <td>The Four Leafed Clover</td>\n",
              "      <td>POSITIVE</td>\n",
              "    </tr>\n",
              "    <tr>\n",
              "      <th>2</th>\n",
              "      <td>b'Excellent Food and Place'</td>\n",
              "      <td>b'Reviewed August 15, 2020 '</td>\n",
              "      <td>b'Date of visit: August 2020'</td>\n",
              "      <td>[b'As I went, there were enough parking space,...</td>\n",
              "      <td>The Four Leafed Clover</td>\n",
              "      <td>POSITIVE</td>\n",
              "    </tr>\n",
              "    <tr>\n",
              "      <th>3</th>\n",
              "      <td>b'Good Food and Ambience\\n\\n Food'</td>\n",
              "      <td>b'Reviewed February 9, 2020 '</td>\n",
              "      <td>b'Date of visit: February 2020'</td>\n",
              "      <td>[b'Good Food and Ambience\\n\\n Food and ambienc...</td>\n",
              "      <td>The Four Leafed Clover</td>\n",
              "      <td>POSITIVE</td>\n",
              "    </tr>\n",
              "    <tr>\n",
              "      <th>4</th>\n",
              "      <td>b'Loved everything about The Four Leafed Clover'</td>\n",
              "      <td>b'Reviewed January 17, 2020 '</td>\n",
              "      <td>b'Date of visit: January 2020'</td>\n",
              "      <td>[b\"Excellent quiet and clean place for a relax...</td>\n",
              "      <td>The Four Leafed Clover</td>\n",
              "      <td>POSITIVE</td>\n",
              "    </tr>\n",
              "  </tbody>\n",
              "</table>\n",
              "</div>"
            ],
            "text/plain": [
              "                                              Title  ... Review_Sentiment\n",
              "0                             b'Highly recommended'  ...         POSITIVE\n",
              "1                 b'Excellent food, great ambience'  ...         POSITIVE\n",
              "2                       b'Excellent Food and Place'  ...         POSITIVE\n",
              "3                b'Good Food and Ambience\\n\\n Food'  ...         POSITIVE\n",
              "4  b'Loved everything about The Four Leafed Clover'  ...         POSITIVE\n",
              "\n",
              "[5 rows x 6 columns]"
            ]
          },
          "metadata": {
            "tags": []
          },
          "execution_count": 3
        }
      ]
    },
    {
      "cell_type": "code",
      "metadata": {
        "colab": {
          "base_uri": "https://localhost:8080/"
        },
        "id": "-jVox4dF_X2G",
        "outputId": "d0ea9fb3-5ce5-456e-acc6-04875f3a7873"
      },
      "source": [
        "#Check columns\n",
        "df.columns"
      ],
      "execution_count": null,
      "outputs": [
        {
          "output_type": "execute_result",
          "data": {
            "text/plain": [
              "Index(['Title', 'ReviewDate', 'Stay Date', 'comments', 'Restaurant_Name',\n",
              "       'Review_Sentiment'],\n",
              "      dtype='object')"
            ]
          },
          "metadata": {
            "tags": []
          },
          "execution_count": 4
        }
      ]
    },
    {
      "cell_type": "code",
      "metadata": {
        "colab": {
          "base_uri": "https://localhost:8080/"
        },
        "id": "vZ7a-O5hmRNW",
        "outputId": "f7c5a85b-0bb2-44b4-f51b-c1e2ae614e84"
      },
      "source": [
        "# General stats about datasets\n",
        "df.info()"
      ],
      "execution_count": null,
      "outputs": [
        {
          "output_type": "stream",
          "text": [
            "<class 'pandas.core.frame.DataFrame'>\n",
            "RangeIndex: 3861 entries, 0 to 3860\n",
            "Data columns (total 6 columns):\n",
            " #   Column            Non-Null Count  Dtype \n",
            "---  ------            --------------  ----- \n",
            " 0   Title             3861 non-null   object\n",
            " 1   ReviewDate        3861 non-null   object\n",
            " 2   Stay Date         3861 non-null   object\n",
            " 3   comments          3861 non-null   object\n",
            " 4   Restaurant_Name   3861 non-null   object\n",
            " 5   Review_Sentiment  3861 non-null   object\n",
            "dtypes: object(6)\n",
            "memory usage: 181.1+ KB\n"
          ],
          "name": "stdout"
        }
      ]
    },
    {
      "cell_type": "code",
      "metadata": {
        "id": "nb1c11DcFDPi"
      },
      "source": [
        "# Change column names for better readability\n",
        "df = df.rename(columns = {'comments':'Review'})"
      ],
      "execution_count": null,
      "outputs": []
    },
    {
      "cell_type": "markdown",
      "metadata": {
        "id": "kB_IuHo1DG-S"
      },
      "source": [
        "Here, in columns, we have added **Review_Sentiment**,& **Sentiment_Score**. We have extracted Review_Sentiment & Sentiment_Score using **Transformer** library from **Huggingface**."
      ]
    },
    {
      "cell_type": "markdown",
      "metadata": {
        "id": "KxV0Fe4VDwI4"
      },
      "source": [
        "### **Text Pre-processing**"
      ]
    },
    {
      "cell_type": "markdown",
      "metadata": {
        "id": "j_eJ5Mc7_X2G"
      },
      "source": [
        "We will do the text pre-processing, which involves **removing stop words & special characters, convert to lowercase letters, Stemming & Lemmatzation**."
      ]
    },
    {
      "cell_type": "markdown",
      "metadata": {
        "id": "svVYBBJLE3-W"
      },
      "source": [
        "Let's consider **Review** feature for text pre-processing."
      ]
    },
    {
      "cell_type": "code",
      "metadata": {
        "colab": {
          "base_uri": "https://localhost:8080/",
          "height": 204
        },
        "id": "ka2X7SFgbcBh",
        "outputId": "d136e490-2f12-4260-b3df-c9ae7aed120a"
      },
      "source": [
        "# strip [b''b]\n",
        "df['review_preprocessed'] = df['Review'].str.strip('[b''b]')\n",
        "# Replace \\n by ''\n",
        "df = df.replace(r'\\\\n',' ', regex=True)\n",
        "df[['Review','review_preprocessed']].head()"
      ],
      "execution_count": null,
      "outputs": [
        {
          "output_type": "execute_result",
          "data": {
            "text/html": [
              "<div>\n",
              "<style scoped>\n",
              "    .dataframe tbody tr th:only-of-type {\n",
              "        vertical-align: middle;\n",
              "    }\n",
              "\n",
              "    .dataframe tbody tr th {\n",
              "        vertical-align: top;\n",
              "    }\n",
              "\n",
              "    .dataframe thead th {\n",
              "        text-align: right;\n",
              "    }\n",
              "</style>\n",
              "<table border=\"1\" class=\"dataframe\">\n",
              "  <thead>\n",
              "    <tr style=\"text-align: right;\">\n",
              "      <th></th>\n",
              "      <th>Review</th>\n",
              "      <th>review_preprocessed</th>\n",
              "    </tr>\n",
              "  </thead>\n",
              "  <tbody>\n",
              "    <tr>\n",
              "      <th>0</th>\n",
              "      <td>[b'We went for Lunch. From very first their pa...</td>\n",
              "      <td>'We went for Lunch. From very first their part...</td>\n",
              "    </tr>\n",
              "    <tr>\n",
              "      <th>1</th>\n",
              "      <td>[b'Great service and delicious food. We had th...</td>\n",
              "      <td>'Great service and delicious food. We had the ...</td>\n",
              "    </tr>\n",
              "    <tr>\n",
              "      <th>2</th>\n",
              "      <td>[b'As I went, there were enough parking space,...</td>\n",
              "      <td>'As I went, there were enough parking space, t...</td>\n",
              "    </tr>\n",
              "    <tr>\n",
              "      <th>3</th>\n",
              "      <td>[b'Good Food and Ambience   Food and ambience ...</td>\n",
              "      <td>'Good Food and Ambience   Food and ambience wa...</td>\n",
              "    </tr>\n",
              "    <tr>\n",
              "      <th>4</th>\n",
              "      <td>[b\"Excellent quiet and clean place for a relax...</td>\n",
              "      <td>\"Excellent quiet and clean place for a relaxed...</td>\n",
              "    </tr>\n",
              "  </tbody>\n",
              "</table>\n",
              "</div>"
            ],
            "text/plain": [
              "                                              Review                                review_preprocessed\n",
              "0  [b'We went for Lunch. From very first their pa...  'We went for Lunch. From very first their part...\n",
              "1  [b'Great service and delicious food. We had th...  'Great service and delicious food. We had the ...\n",
              "2  [b'As I went, there were enough parking space,...  'As I went, there were enough parking space, t...\n",
              "3  [b'Good Food and Ambience   Food and ambience ...  'Good Food and Ambience   Food and ambience wa...\n",
              "4  [b\"Excellent quiet and clean place for a relax...  \"Excellent quiet and clean place for a relaxed..."
            ]
          },
          "metadata": {
            "tags": []
          },
          "execution_count": 7
        }
      ]
    },
    {
      "cell_type": "markdown",
      "metadata": {
        "id": "oHKPZrHTVaCe"
      },
      "source": [
        "**Lower casing**"
      ]
    },
    {
      "cell_type": "markdown",
      "metadata": {
        "id": "MdC1MKbxVjHb"
      },
      "source": [
        "Lower casing is a common text preprocessing technique. The idea is to convert the input text into same casing format so that 'text', 'Text' and 'TEXT' are treated the same way.\n",
        "\n"
      ]
    },
    {
      "cell_type": "code",
      "metadata": {
        "colab": {
          "base_uri": "https://localhost:8080/",
          "height": 204
        },
        "id": "yVHZnOgvVS1P",
        "outputId": "71d3da73-72b1-44c3-c4ce-ef3154e35e62"
      },
      "source": [
        "df[\"review_preprocessed\"] = df[\"review_preprocessed\"].str.strip().str.lower()\n",
        "df[['Review','review_preprocessed']].head()"
      ],
      "execution_count": null,
      "outputs": [
        {
          "output_type": "execute_result",
          "data": {
            "text/html": [
              "<div>\n",
              "<style scoped>\n",
              "    .dataframe tbody tr th:only-of-type {\n",
              "        vertical-align: middle;\n",
              "    }\n",
              "\n",
              "    .dataframe tbody tr th {\n",
              "        vertical-align: top;\n",
              "    }\n",
              "\n",
              "    .dataframe thead th {\n",
              "        text-align: right;\n",
              "    }\n",
              "</style>\n",
              "<table border=\"1\" class=\"dataframe\">\n",
              "  <thead>\n",
              "    <tr style=\"text-align: right;\">\n",
              "      <th></th>\n",
              "      <th>Review</th>\n",
              "      <th>review_preprocessed</th>\n",
              "    </tr>\n",
              "  </thead>\n",
              "  <tbody>\n",
              "    <tr>\n",
              "      <th>0</th>\n",
              "      <td>[b'We went for Lunch. From very first their pa...</td>\n",
              "      <td>'we went for lunch. from very first their part...</td>\n",
              "    </tr>\n",
              "    <tr>\n",
              "      <th>1</th>\n",
              "      <td>[b'Great service and delicious food. We had th...</td>\n",
              "      <td>'great service and delicious food. we had the ...</td>\n",
              "    </tr>\n",
              "    <tr>\n",
              "      <th>2</th>\n",
              "      <td>[b'As I went, there were enough parking space,...</td>\n",
              "      <td>'as i went, there were enough parking space, t...</td>\n",
              "    </tr>\n",
              "    <tr>\n",
              "      <th>3</th>\n",
              "      <td>[b'Good Food and Ambience   Food and ambience ...</td>\n",
              "      <td>'good food and ambience   food and ambience wa...</td>\n",
              "    </tr>\n",
              "    <tr>\n",
              "      <th>4</th>\n",
              "      <td>[b\"Excellent quiet and clean place for a relax...</td>\n",
              "      <td>\"excellent quiet and clean place for a relaxed...</td>\n",
              "    </tr>\n",
              "  </tbody>\n",
              "</table>\n",
              "</div>"
            ],
            "text/plain": [
              "                                              Review                                review_preprocessed\n",
              "0  [b'We went for Lunch. From very first their pa...  'we went for lunch. from very first their part...\n",
              "1  [b'Great service and delicious food. We had th...  'great service and delicious food. we had the ...\n",
              "2  [b'As I went, there were enough parking space,...  'as i went, there were enough parking space, t...\n",
              "3  [b'Good Food and Ambience   Food and ambience ...  'good food and ambience   food and ambience wa...\n",
              "4  [b\"Excellent quiet and clean place for a relax...  \"excellent quiet and clean place for a relaxed..."
            ]
          },
          "metadata": {
            "tags": []
          },
          "execution_count": 8
        }
      ]
    },
    {
      "cell_type": "markdown",
      "metadata": {
        "id": "g5frIuQgWGnT"
      },
      "source": [
        "**Removal of Punctuations**"
      ]
    },
    {
      "cell_type": "markdown",
      "metadata": {
        "id": "emNjQdrRWMJn"
      },
      "source": [
        "Another common text preprocessing technique is to remove the punctuations from the text data. This is again a text standardization process that will help to treat 'hurray' and 'hurray!' in the same way."
      ]
    },
    {
      "cell_type": "code",
      "metadata": {
        "colab": {
          "base_uri": "https://localhost:8080/",
          "height": 204
        },
        "id": "oqjKbg5lWeSQ",
        "outputId": "b858429b-400a-49ac-8881-9c5c8f2721ae"
      },
      "source": [
        "punct_to_remove = string.punctuation\n",
        "def remove_punctuation(text):\n",
        "    \"\"\"custom function to remove the punctuation\"\"\"\n",
        "    return text.translate(str.maketrans('', '', punct_to_remove))\n",
        "  \n",
        "df['review_preprocessed'] = df['review_preprocessed'].apply(lambda review : remove_punctuation(review))\n",
        "\n",
        "df[['Review','review_preprocessed']].head()\n"
      ],
      "execution_count": null,
      "outputs": [
        {
          "output_type": "execute_result",
          "data": {
            "text/html": [
              "<div>\n",
              "<style scoped>\n",
              "    .dataframe tbody tr th:only-of-type {\n",
              "        vertical-align: middle;\n",
              "    }\n",
              "\n",
              "    .dataframe tbody tr th {\n",
              "        vertical-align: top;\n",
              "    }\n",
              "\n",
              "    .dataframe thead th {\n",
              "        text-align: right;\n",
              "    }\n",
              "</style>\n",
              "<table border=\"1\" class=\"dataframe\">\n",
              "  <thead>\n",
              "    <tr style=\"text-align: right;\">\n",
              "      <th></th>\n",
              "      <th>Review</th>\n",
              "      <th>review_preprocessed</th>\n",
              "    </tr>\n",
              "  </thead>\n",
              "  <tbody>\n",
              "    <tr>\n",
              "      <th>0</th>\n",
              "      <td>[b'We went for Lunch. From very first their pa...</td>\n",
              "      <td>we went for lunch from very first their part o...</td>\n",
              "    </tr>\n",
              "    <tr>\n",
              "      <th>1</th>\n",
              "      <td>[b'Great service and delicious food. We had th...</td>\n",
              "      <td>great service and delicious food we had the la...</td>\n",
              "    </tr>\n",
              "    <tr>\n",
              "      <th>2</th>\n",
              "      <td>[b'As I went, there were enough parking space,...</td>\n",
              "      <td>as i went there were enough parking space the ...</td>\n",
              "    </tr>\n",
              "    <tr>\n",
              "      <th>3</th>\n",
              "      <td>[b'Good Food and Ambience   Food and ambience ...</td>\n",
              "      <td>good food and ambience   food and ambience was...</td>\n",
              "    </tr>\n",
              "    <tr>\n",
              "      <th>4</th>\n",
              "      <td>[b\"Excellent quiet and clean place for a relax...</td>\n",
              "      <td>excellent quiet and clean place for a relaxed ...</td>\n",
              "    </tr>\n",
              "  </tbody>\n",
              "</table>\n",
              "</div>"
            ],
            "text/plain": [
              "                                              Review                                review_preprocessed\n",
              "0  [b'We went for Lunch. From very first their pa...  we went for lunch from very first their part o...\n",
              "1  [b'Great service and delicious food. We had th...  great service and delicious food we had the la...\n",
              "2  [b'As I went, there were enough parking space,...  as i went there were enough parking space the ...\n",
              "3  [b'Good Food and Ambience   Food and ambience ...  good food and ambience   food and ambience was...\n",
              "4  [b\"Excellent quiet and clean place for a relax...  excellent quiet and clean place for a relaxed ..."
            ]
          },
          "metadata": {
            "tags": []
          },
          "execution_count": 9
        }
      ]
    },
    {
      "cell_type": "markdown",
      "metadata": {
        "id": "1jZop__PqT0m"
      },
      "source": [
        "**Removal of stopwords**"
      ]
    },
    {
      "cell_type": "markdown",
      "metadata": {
        "id": "zJLv0R_3qa91"
      },
      "source": [
        "Stopwords are commonly occuring words in a language like 'the', 'a' and so on. They can be removed from the text, as they don't provide valuable information for downstream tasks."
      ]
    },
    {
      "cell_type": "code",
      "metadata": {
        "colab": {
          "base_uri": "https://localhost:8080/",
          "height": 238
        },
        "id": "qSvhjFu1qtMW",
        "outputId": "7f6f712e-1ce2-414b-d87e-f3b70d5a64f8"
      },
      "source": [
        "#Download stopwords from nltk libraries\n",
        "nltk.download('stopwords')\n",
        "STOPWORDS = set(nltk.corpus.stopwords.words('english'))\n",
        "def remove_stopwords(text):\n",
        "    \"\"\"custom function to remove the stopwords\"\"\"\n",
        "    return \" \".join([word for word in str(text).split() if word not in STOPWORDS])\n",
        "\n",
        "df[\"review_preprocessed\"] = df[\"review_preprocessed\"].apply(lambda text: remove_stopwords(text))\n",
        "df[['Review','review_preprocessed']].head()"
      ],
      "execution_count": null,
      "outputs": [
        {
          "output_type": "stream",
          "text": [
            "[nltk_data] Downloading package stopwords to /root/nltk_data...\n",
            "[nltk_data]   Package stopwords is already up-to-date!\n"
          ],
          "name": "stdout"
        },
        {
          "output_type": "execute_result",
          "data": {
            "text/html": [
              "<div>\n",
              "<style scoped>\n",
              "    .dataframe tbody tr th:only-of-type {\n",
              "        vertical-align: middle;\n",
              "    }\n",
              "\n",
              "    .dataframe tbody tr th {\n",
              "        vertical-align: top;\n",
              "    }\n",
              "\n",
              "    .dataframe thead th {\n",
              "        text-align: right;\n",
              "    }\n",
              "</style>\n",
              "<table border=\"1\" class=\"dataframe\">\n",
              "  <thead>\n",
              "    <tr style=\"text-align: right;\">\n",
              "      <th></th>\n",
              "      <th>Review</th>\n",
              "      <th>review_preprocessed</th>\n",
              "    </tr>\n",
              "  </thead>\n",
              "  <tbody>\n",
              "    <tr>\n",
              "      <th>0</th>\n",
              "      <td>[b'We went for Lunch. From very first their pa...</td>\n",
              "      <td>went lunch first part welcoming customer upto ...</td>\n",
              "    </tr>\n",
              "    <tr>\n",
              "      <th>1</th>\n",
              "      <td>[b'Great service and delicious food. We had th...</td>\n",
              "      <td>great service delicious food lamb shank creamy...</td>\n",
              "    </tr>\n",
              "    <tr>\n",
              "      <th>2</th>\n",
              "      <td>[b'As I went, there were enough parking space,...</td>\n",
              "      <td>went enough parking space staff friendly helpf...</td>\n",
              "    </tr>\n",
              "    <tr>\n",
              "      <th>3</th>\n",
              "      <td>[b'Good Food and Ambience   Food and ambience ...</td>\n",
              "      <td>good food ambience food ambience great definit...</td>\n",
              "    </tr>\n",
              "    <tr>\n",
              "      <th>4</th>\n",
              "      <td>[b\"Excellent quiet and clean place for a relax...</td>\n",
              "      <td>excellent quiet clean place relaxed hangout fo...</td>\n",
              "    </tr>\n",
              "  </tbody>\n",
              "</table>\n",
              "</div>"
            ],
            "text/plain": [
              "                                              Review                                review_preprocessed\n",
              "0  [b'We went for Lunch. From very first their pa...  went lunch first part welcoming customer upto ...\n",
              "1  [b'Great service and delicious food. We had th...  great service delicious food lamb shank creamy...\n",
              "2  [b'As I went, there were enough parking space,...  went enough parking space staff friendly helpf...\n",
              "3  [b'Good Food and Ambience   Food and ambience ...  good food ambience food ambience great definit...\n",
              "4  [b\"Excellent quiet and clean place for a relax...  excellent quiet clean place relaxed hangout fo..."
            ]
          },
          "metadata": {
            "tags": []
          },
          "execution_count": 10
        }
      ]
    },
    {
      "cell_type": "markdown",
      "metadata": {
        "id": "TLIIC-nvvGsd"
      },
      "source": [
        "**Lemmatization**"
      ]
    },
    {
      "cell_type": "markdown",
      "metadata": {
        "id": "45f9DerNva4n"
      },
      "source": [
        "Lemmatization is similar to stemming in reducing inflected words to their word stem but differs in the way that it makes sure the root word (also called as lemma) belongs to the language."
      ]
    },
    {
      "cell_type": "markdown",
      "metadata": {
        "id": "G6BmRpYlvj4P"
      },
      "source": [
        "Let us use the WordNetLemmatizer in nltk to lemmatize our reviews."
      ]
    },
    {
      "cell_type": "code",
      "metadata": {
        "colab": {
          "base_uri": "https://localhost:8080/",
          "height": 238
        },
        "id": "Fplj-pn9vnih",
        "outputId": "175ee8c8-f379-48c7-fb69-8216e5047c9c"
      },
      "source": [
        "# Download wordnet from nltk library\n",
        "nltk.download('wordnet')\n",
        "lemmatizer = WordNetLemmatizer()\n",
        "def lemmatize_words(text):\n",
        "    return \" \".join([lemmatizer.lemmatize(word) for word in text.split()])\n",
        "\n",
        "df[\"review_preprocessed\"] = df[\"review_preprocessed\"].apply(lambda text: lemmatize_words(text))\n",
        "df[['Review','review_preprocessed']].head()"
      ],
      "execution_count": null,
      "outputs": [
        {
          "output_type": "stream",
          "text": [
            "[nltk_data] Downloading package wordnet to /root/nltk_data...\n",
            "[nltk_data]   Package wordnet is already up-to-date!\n"
          ],
          "name": "stdout"
        },
        {
          "output_type": "execute_result",
          "data": {
            "text/html": [
              "<div>\n",
              "<style scoped>\n",
              "    .dataframe tbody tr th:only-of-type {\n",
              "        vertical-align: middle;\n",
              "    }\n",
              "\n",
              "    .dataframe tbody tr th {\n",
              "        vertical-align: top;\n",
              "    }\n",
              "\n",
              "    .dataframe thead th {\n",
              "        text-align: right;\n",
              "    }\n",
              "</style>\n",
              "<table border=\"1\" class=\"dataframe\">\n",
              "  <thead>\n",
              "    <tr style=\"text-align: right;\">\n",
              "      <th></th>\n",
              "      <th>Review</th>\n",
              "      <th>review_preprocessed</th>\n",
              "    </tr>\n",
              "  </thead>\n",
              "  <tbody>\n",
              "    <tr>\n",
              "      <th>0</th>\n",
              "      <td>[b'We went for Lunch. From very first their pa...</td>\n",
              "      <td>went lunch first part welcoming customer upto ...</td>\n",
              "    </tr>\n",
              "    <tr>\n",
              "      <th>1</th>\n",
              "      <td>[b'Great service and delicious food. We had th...</td>\n",
              "      <td>great service delicious food lamb shank creamy...</td>\n",
              "    </tr>\n",
              "    <tr>\n",
              "      <th>2</th>\n",
              "      <td>[b'As I went, there were enough parking space,...</td>\n",
              "      <td>went enough parking space staff friendly helpf...</td>\n",
              "    </tr>\n",
              "    <tr>\n",
              "      <th>3</th>\n",
              "      <td>[b'Good Food and Ambience   Food and ambience ...</td>\n",
              "      <td>good food ambience food ambience great definit...</td>\n",
              "    </tr>\n",
              "    <tr>\n",
              "      <th>4</th>\n",
              "      <td>[b\"Excellent quiet and clean place for a relax...</td>\n",
              "      <td>excellent quiet clean place relaxed hangout fo...</td>\n",
              "    </tr>\n",
              "  </tbody>\n",
              "</table>\n",
              "</div>"
            ],
            "text/plain": [
              "                                              Review                                review_preprocessed\n",
              "0  [b'We went for Lunch. From very first their pa...  went lunch first part welcoming customer upto ...\n",
              "1  [b'Great service and delicious food. We had th...  great service delicious food lamb shank creamy...\n",
              "2  [b'As I went, there were enough parking space,...  went enough parking space staff friendly helpf...\n",
              "3  [b'Good Food and Ambience   Food and ambience ...  good food ambience food ambience great definit...\n",
              "4  [b\"Excellent quiet and clean place for a relax...  excellent quiet clean place relaxed hangout fo..."
            ]
          },
          "metadata": {
            "tags": []
          },
          "execution_count": 11
        }
      ]
    },
    {
      "cell_type": "markdown",
      "metadata": {
        "id": "EitzIB087QDb"
      },
      "source": [
        "**Slang Removal**"
      ]
    },
    {
      "cell_type": "markdown",
      "metadata": {
        "id": "bmU-eKWSE6HP"
      },
      "source": [
        "We are using a slang.txt file which consists of the words. Source of this file was taken from [here]('https://github.com/rishabhverma17/sms_slang_translator/blob/master/slang.txt')."
      ]
    },
    {
      "cell_type": "code",
      "metadata": {
        "colab": {
          "base_uri": "https://localhost:8080/",
          "height": 204
        },
        "id": "EM-jo4g57VPB",
        "outputId": "54737781-2a4e-440f-f6f5-b6067311f471"
      },
      "source": [
        "#open the fle slang.txt \n",
        "file=open(\"/content/slang.txt\",\"r\") \n",
        "slang=file.read() \n",
        "  \n",
        "#seperating each line present in the file \n",
        "slang=slang.split('\\n') \n",
        "\n",
        "def slang_removal(review):\n",
        "  review_tokens=review.split() \n",
        "  slang_word=[] \n",
        "  meaning=[] \n",
        "    \n",
        "  #store the slang words and meanings in different lists \n",
        "  for line in slang: \n",
        "      temp=line.split(\"=\") \n",
        "      slang_word.append(temp[0]) \n",
        "      meaning.append(temp[-1]) \n",
        "    \n",
        "  #replace the slang word with meaning \n",
        "  for i,word in enumerate(review_tokens): \n",
        "      if word in slang_word: \n",
        "          idx=slang_word.index(word) \n",
        "          review_tokens[i]=meaning[idx] \n",
        "            \n",
        "  review=\" \".join(review_tokens)\n",
        "  return review\n",
        "\n",
        "df['review_preprocessed'] = df['review_preprocessed'].apply(lambda x : slang_removal(x))\n",
        "df[['Review','review_preprocessed']].head()"
      ],
      "execution_count": null,
      "outputs": [
        {
          "output_type": "execute_result",
          "data": {
            "text/html": [
              "<div>\n",
              "<style scoped>\n",
              "    .dataframe tbody tr th:only-of-type {\n",
              "        vertical-align: middle;\n",
              "    }\n",
              "\n",
              "    .dataframe tbody tr th {\n",
              "        vertical-align: top;\n",
              "    }\n",
              "\n",
              "    .dataframe thead th {\n",
              "        text-align: right;\n",
              "    }\n",
              "</style>\n",
              "<table border=\"1\" class=\"dataframe\">\n",
              "  <thead>\n",
              "    <tr style=\"text-align: right;\">\n",
              "      <th></th>\n",
              "      <th>Review</th>\n",
              "      <th>review_preprocessed</th>\n",
              "    </tr>\n",
              "  </thead>\n",
              "  <tbody>\n",
              "    <tr>\n",
              "      <th>0</th>\n",
              "      <td>[b'We went for Lunch. From very first their pa...</td>\n",
              "      <td>went lunch first part welcoming customer upto ...</td>\n",
              "    </tr>\n",
              "    <tr>\n",
              "      <th>1</th>\n",
              "      <td>[b'Great service and delicious food. We had th...</td>\n",
              "      <td>great service delicious food lamb shank creamy...</td>\n",
              "    </tr>\n",
              "    <tr>\n",
              "      <th>2</th>\n",
              "      <td>[b'As I went, there were enough parking space,...</td>\n",
              "      <td>went enough parking space staff friendly helpf...</td>\n",
              "    </tr>\n",
              "    <tr>\n",
              "      <th>3</th>\n",
              "      <td>[b'Good Food and Ambience   Food and ambience ...</td>\n",
              "      <td>good food ambience food ambience great definit...</td>\n",
              "    </tr>\n",
              "    <tr>\n",
              "      <th>4</th>\n",
              "      <td>[b\"Excellent quiet and clean place for a relax...</td>\n",
              "      <td>excellent quiet clean place relaxed hangout fo...</td>\n",
              "    </tr>\n",
              "  </tbody>\n",
              "</table>\n",
              "</div>"
            ],
            "text/plain": [
              "                                              Review                                review_preprocessed\n",
              "0  [b'We went for Lunch. From very first their pa...  went lunch first part welcoming customer upto ...\n",
              "1  [b'Great service and delicious food. We had th...  great service delicious food lamb shank creamy...\n",
              "2  [b'As I went, there were enough parking space,...  went enough parking space staff friendly helpf...\n",
              "3  [b'Good Food and Ambience   Food and ambience ...  good food ambience food ambience great definit...\n",
              "4  [b\"Excellent quiet and clean place for a relax...  excellent quiet clean place relaxed hangout fo..."
            ]
          },
          "metadata": {
            "tags": []
          },
          "execution_count": 12
        }
      ]
    },
    {
      "cell_type": "markdown",
      "metadata": {
        "id": "KhlxHFVRG0z1"
      },
      "source": [
        "**Tokenization**"
      ]
    },
    {
      "cell_type": "code",
      "metadata": {
        "colab": {
          "base_uri": "https://localhost:8080/",
          "height": 204
        },
        "id": "Q-k_L5rFLhRn",
        "outputId": "64b3b260-4a5e-4e92-9a28-341a0a5f6d3d"
      },
      "source": [
        "# Split each review sentence to words using review.split()\n",
        "df['review_preprocessed'] = df['review_preprocessed'].apply(lambda review : review.split())\n",
        "\n",
        "df[['Review','review_preprocessed']].head()"
      ],
      "execution_count": null,
      "outputs": [
        {
          "output_type": "execute_result",
          "data": {
            "text/html": [
              "<div>\n",
              "<style scoped>\n",
              "    .dataframe tbody tr th:only-of-type {\n",
              "        vertical-align: middle;\n",
              "    }\n",
              "\n",
              "    .dataframe tbody tr th {\n",
              "        vertical-align: top;\n",
              "    }\n",
              "\n",
              "    .dataframe thead th {\n",
              "        text-align: right;\n",
              "    }\n",
              "</style>\n",
              "<table border=\"1\" class=\"dataframe\">\n",
              "  <thead>\n",
              "    <tr style=\"text-align: right;\">\n",
              "      <th></th>\n",
              "      <th>Review</th>\n",
              "      <th>review_preprocessed</th>\n",
              "    </tr>\n",
              "  </thead>\n",
              "  <tbody>\n",
              "    <tr>\n",
              "      <th>0</th>\n",
              "      <td>[b'We went for Lunch. From very first their pa...</td>\n",
              "      <td>[went, lunch, first, part, welcoming, customer...</td>\n",
              "    </tr>\n",
              "    <tr>\n",
              "      <th>1</th>\n",
              "      <td>[b'Great service and delicious food. We had th...</td>\n",
              "      <td>[great, service, delicious, food, lamb, shank,...</td>\n",
              "    </tr>\n",
              "    <tr>\n",
              "      <th>2</th>\n",
              "      <td>[b'As I went, there were enough parking space,...</td>\n",
              "      <td>[went, enough, parking, space, staff, friendly...</td>\n",
              "    </tr>\n",
              "    <tr>\n",
              "      <th>3</th>\n",
              "      <td>[b'Good Food and Ambience   Food and ambience ...</td>\n",
              "      <td>[good, food, ambience, food, ambience, great, ...</td>\n",
              "    </tr>\n",
              "    <tr>\n",
              "      <th>4</th>\n",
              "      <td>[b\"Excellent quiet and clean place for a relax...</td>\n",
              "      <td>[excellent, quiet, clean, place, relaxed, hang...</td>\n",
              "    </tr>\n",
              "  </tbody>\n",
              "</table>\n",
              "</div>"
            ],
            "text/plain": [
              "                                              Review                                review_preprocessed\n",
              "0  [b'We went for Lunch. From very first their pa...  [went, lunch, first, part, welcoming, customer...\n",
              "1  [b'Great service and delicious food. We had th...  [great, service, delicious, food, lamb, shank,...\n",
              "2  [b'As I went, there were enough parking space,...  [went, enough, parking, space, staff, friendly...\n",
              "3  [b'Good Food and Ambience   Food and ambience ...  [good, food, ambience, food, ambience, great, ...\n",
              "4  [b\"Excellent quiet and clean place for a relax...  [excellent, quiet, clean, place, relaxed, hang..."
            ]
          },
          "metadata": {
            "tags": []
          },
          "execution_count": 13
        }
      ]
    },
    {
      "cell_type": "markdown",
      "metadata": {
        "id": "Ibh4FyRPI6mq"
      },
      "source": [
        "##### Let's see how a revew looks before & after pre-processing"
      ]
    },
    {
      "cell_type": "code",
      "metadata": {
        "colab": {
          "base_uri": "https://localhost:8080/",
          "height": 86
        },
        "id": "21iS95Mf_X2J",
        "outputId": "c301f6b4-c229-4c2d-dfb0-08bd859ef5d1"
      },
      "source": [
        "# Before pre-processing\n",
        "df.Review[0]"
      ],
      "execution_count": null,
      "outputs": [
        {
          "output_type": "execute_result",
          "data": {
            "application/vnd.google.colaboratory.intrinsic+json": {
              "type": "string"
            },
            "text/plain": [
              "\"[b'We went for Lunch. From very first their part of welcoming the customer and upto serving dishes, whole staff was very much friendly. When comes to beverages, food and desserts they all were amazing and reached upto the high end of taste. More calm and...feel free to dine in as the ambience was great. They have a special offer for main dishes giving 25% discount Mondays and Tuesdays during the month of September. Overall rating was excellent and we will visit for next time as well. (Tip:- Chicken pot pie dish was perfect, it is a main dish must try)More']\""
            ]
          },
          "metadata": {
            "tags": []
          },
          "execution_count": 14
        }
      ]
    },
    {
      "cell_type": "code",
      "metadata": {
        "colab": {
          "base_uri": "https://localhost:8080/"
        },
        "id": "tBCw60W_JsDg",
        "outputId": "44d57c90-1756-4cf6-b246-c15343cbd925"
      },
      "source": [
        "# After pre-processing\n",
        "df.review_preprocessed[0]"
      ],
      "execution_count": null,
      "outputs": [
        {
          "output_type": "execute_result",
          "data": {
            "text/plain": [
              "['went',\n",
              " 'lunch',\n",
              " 'first',\n",
              " 'part',\n",
              " 'welcoming',\n",
              " 'customer',\n",
              " 'upto',\n",
              " 'serving',\n",
              " 'dish',\n",
              " 'whole',\n",
              " 'staff',\n",
              " 'much',\n",
              " 'friendly',\n",
              " 'come',\n",
              " 'beverage',\n",
              " 'food',\n",
              " 'dessert',\n",
              " 'amazing',\n",
              " 'reached',\n",
              " 'upto',\n",
              " 'high',\n",
              " 'end',\n",
              " 'taste',\n",
              " 'calm',\n",
              " 'andfeel',\n",
              " 'free',\n",
              " 'dine',\n",
              " 'ambience',\n",
              " 'great',\n",
              " 'special',\n",
              " 'offer',\n",
              " 'main',\n",
              " 'dish',\n",
              " 'giving',\n",
              " '25',\n",
              " 'discount',\n",
              " 'monday',\n",
              " 'tuesday',\n",
              " 'month',\n",
              " 'september',\n",
              " 'overall',\n",
              " 'rating',\n",
              " 'excellent',\n",
              " 'visit',\n",
              " 'next',\n",
              " 'time',\n",
              " 'well',\n",
              " 'tip',\n",
              " 'chicken',\n",
              " 'pot',\n",
              " 'pie',\n",
              " 'dish',\n",
              " 'perfect',\n",
              " 'main',\n",
              " 'dish',\n",
              " 'must',\n",
              " 'trymore']"
            ]
          },
          "metadata": {
            "tags": []
          },
          "execution_count": 15
        }
      ]
    },
    {
      "cell_type": "markdown",
      "metadata": {
        "id": "Iyos0u3bK-6u"
      },
      "source": [
        "Pre-processing has been done. Let's move on to build Sentiment analysis model using Support Vector machine (SVM)."
      ]
    },
    {
      "cell_type": "code",
      "metadata": {
        "colab": {
          "base_uri": "https://localhost:8080/"
        },
        "id": "lmP5YqExo4ZM",
        "outputId": "97cc5683-beb9-439c-c736-64f130c3b826"
      },
      "source": [
        "# Convert list of tokens back into a string\n",
        "def convert_tostring(review_list):\n",
        "  return ' '.join(review_list)\n",
        "\n",
        "df['review_preprocessed'] = df['review_preprocessed'].apply(lambda x:convert_tostring(x))\n",
        "df['review_preprocessed'].head()"
      ],
      "execution_count": null,
      "outputs": [
        {
          "output_type": "execute_result",
          "data": {
            "text/plain": [
              "0    went lunch first part welcoming customer upto ...\n",
              "1    great service delicious food lamb shank creamy...\n",
              "2    went enough parking space staff friendly helpf...\n",
              "3    good food ambience food ambience great definit...\n",
              "4    excellent quiet clean place relaxed hangout fo...\n",
              "Name: review_preprocessed, dtype: object"
            ]
          },
          "metadata": {
            "tags": []
          },
          "execution_count": 16
        }
      ]
    },
    {
      "cell_type": "markdown",
      "metadata": {
        "id": "lW5T61cPLPvf"
      },
      "source": [
        "**Build Sentiment analysis model**"
      ]
    },
    {
      "cell_type": "code",
      "metadata": {
        "colab": {
          "base_uri": "https://localhost:8080/",
          "height": 204
        },
        "id": "WpeJJyNM_X2K",
        "outputId": "b96eae0c-036d-4a0c-e08f-e98a3458b5ae"
      },
      "source": [
        "sa_df = df[['Review','review_preprocessed','Review_Sentiment','Restaurant_Name']]\n",
        "sa_df.head()"
      ],
      "execution_count": null,
      "outputs": [
        {
          "output_type": "execute_result",
          "data": {
            "text/html": [
              "<div>\n",
              "<style scoped>\n",
              "    .dataframe tbody tr th:only-of-type {\n",
              "        vertical-align: middle;\n",
              "    }\n",
              "\n",
              "    .dataframe tbody tr th {\n",
              "        vertical-align: top;\n",
              "    }\n",
              "\n",
              "    .dataframe thead th {\n",
              "        text-align: right;\n",
              "    }\n",
              "</style>\n",
              "<table border=\"1\" class=\"dataframe\">\n",
              "  <thead>\n",
              "    <tr style=\"text-align: right;\">\n",
              "      <th></th>\n",
              "      <th>Review</th>\n",
              "      <th>review_preprocessed</th>\n",
              "      <th>Review_Sentiment</th>\n",
              "      <th>Restaurant_Name</th>\n",
              "    </tr>\n",
              "  </thead>\n",
              "  <tbody>\n",
              "    <tr>\n",
              "      <th>0</th>\n",
              "      <td>[b'We went for Lunch. From very first their pa...</td>\n",
              "      <td>went lunch first part welcoming customer upto ...</td>\n",
              "      <td>POSITIVE</td>\n",
              "      <td>The Four Leafed Clover</td>\n",
              "    </tr>\n",
              "    <tr>\n",
              "      <th>1</th>\n",
              "      <td>[b'Great service and delicious food. We had th...</td>\n",
              "      <td>great service delicious food lamb shank creamy...</td>\n",
              "      <td>POSITIVE</td>\n",
              "      <td>The Four Leafed Clover</td>\n",
              "    </tr>\n",
              "    <tr>\n",
              "      <th>2</th>\n",
              "      <td>[b'As I went, there were enough parking space,...</td>\n",
              "      <td>went enough parking space staff friendly helpf...</td>\n",
              "      <td>POSITIVE</td>\n",
              "      <td>The Four Leafed Clover</td>\n",
              "    </tr>\n",
              "    <tr>\n",
              "      <th>3</th>\n",
              "      <td>[b'Good Food and Ambience   Food and ambience ...</td>\n",
              "      <td>good food ambience food ambience great definit...</td>\n",
              "      <td>POSITIVE</td>\n",
              "      <td>The Four Leafed Clover</td>\n",
              "    </tr>\n",
              "    <tr>\n",
              "      <th>4</th>\n",
              "      <td>[b\"Excellent quiet and clean place for a relax...</td>\n",
              "      <td>excellent quiet clean place relaxed hangout fo...</td>\n",
              "      <td>POSITIVE</td>\n",
              "      <td>The Four Leafed Clover</td>\n",
              "    </tr>\n",
              "  </tbody>\n",
              "</table>\n",
              "</div>"
            ],
            "text/plain": [
              "                                              Review  ...         Restaurant_Name\n",
              "0  [b'We went for Lunch. From very first their pa...  ...  The Four Leafed Clover\n",
              "1  [b'Great service and delicious food. We had th...  ...  The Four Leafed Clover\n",
              "2  [b'As I went, there were enough parking space,...  ...  The Four Leafed Clover\n",
              "3  [b'Good Food and Ambience   Food and ambience ...  ...  The Four Leafed Clover\n",
              "4  [b\"Excellent quiet and clean place for a relax...  ...  The Four Leafed Clover\n",
              "\n",
              "[5 rows x 4 columns]"
            ]
          },
          "metadata": {
            "tags": []
          },
          "execution_count": 17
        }
      ]
    },
    {
      "cell_type": "markdown",
      "metadata": {
        "id": "IORsHSAyLxeE"
      },
      "source": [
        "Let's see how our target variable is distributed in our dataset."
      ]
    },
    {
      "cell_type": "code",
      "metadata": {
        "colab": {
          "base_uri": "https://localhost:8080/",
          "height": 505
        },
        "id": "u3YpSYlxL84o",
        "outputId": "ecd2d253-43c9-4751-e150-846a4521e9a2"
      },
      "source": [
        "%%time\n",
        "#Sentiment classes count\n",
        "df_class=df['Review_Sentiment'].value_counts()\n",
        "print('Count of Sentiment classes :\\n',df_class)\n",
        "#Percentage of Sentiment classes count\n",
        "per_revenue_class=df['Review_Sentiment'].value_counts()/len(df)*100\n",
        "print('percentage of count of Sentiment classes :\\n',per_revenue_class)\n",
        "\n",
        "#Countplot and violin plot for Sentiment classes\n",
        "fig,ax=plt.subplots(1,2,figsize=(16,5))\n",
        "sns.countplot(df.Review_Sentiment.values,ax=ax[0],palette='husl')\n",
        "sns.violinplot(x=df.Review_Sentiment.values,y=df.index.values,ax=ax[1],palette='husl')\n",
        "sns.stripplot(x=df.Review_Sentiment.values,y=df.index.values,jitter=True,color='black',linewidth=0.5,size=0.5,alpha=0.5,ax=ax[1],palette='husl')\n",
        "ax[0].set_xlabel('Review_Sentiment')\n",
        "ax[1].set_xlabel('Review_Sentiment')\n",
        "ax[1].set_ylabel('Index')"
      ],
      "execution_count": null,
      "outputs": [
        {
          "output_type": "stream",
          "text": [
            "Count of Sentiment classes :\n",
            " POSITIVE    3159\n",
            "NEGATIVE     702\n",
            "Name: Review_Sentiment, dtype: int64\n",
            "percentage of count of Sentiment classes :\n",
            " POSITIVE    81.818182\n",
            "NEGATIVE    18.181818\n",
            "Name: Review_Sentiment, dtype: float64\n",
            "CPU times: user 101 ms, sys: 5 ms, total: 106 ms\n",
            "Wall time: 105 ms\n"
          ],
          "name": "stdout"
        },
        {
          "output_type": "display_data",
          "data": {
            "image/png": "[encoded data removed]",
            "text/plain": [
              "<Figure size 1152x360 with 2 Axes>"
            ]
          },
          "metadata": {
            "tags": [],
            "needs_background": "light"
          }
        }
      ]
    },
    {
      "cell_type": "markdown",
      "metadata": {
        "id": "0F6FpauUNKOq"
      },
      "source": [
        "**Take aways:**                   \n",
        "* We have imbalanced data, where 81.8% of the data represents the positive class and 18.18% of the data represents the Negative class.\n",
        "* If you look at the jitter in violin plot, we can say that Sentiment classes distributed  uniformly over the indexs of the dataframe and Also we can observe the imbalanced class distribution where the Positive class is most densely distributed than the Negative class."
      ]
    },
    {
      "cell_type": "code",
      "metadata": {
        "colab": {
          "base_uri": "https://localhost:8080/",
          "height": 173
        },
        "id": "qoU8zfrV_X2L",
        "outputId": "8d7ccfe3-88ae-45f7-b661-8c777b51d96d"
      },
      "source": [
        "# General stats about Review_Sentiment feature\n",
        "sa_df.describe()"
      ],
      "execution_count": null,
      "outputs": [
        {
          "output_type": "execute_result",
          "data": {
            "text/html": [
              "<div>\n",
              "<style scoped>\n",
              "    .dataframe tbody tr th:only-of-type {\n",
              "        vertical-align: middle;\n",
              "    }\n",
              "\n",
              "    .dataframe tbody tr th {\n",
              "        vertical-align: top;\n",
              "    }\n",
              "\n",
              "    .dataframe thead th {\n",
              "        text-align: right;\n",
              "    }\n",
              "</style>\n",
              "<table border=\"1\" class=\"dataframe\">\n",
              "  <thead>\n",
              "    <tr style=\"text-align: right;\">\n",
              "      <th></th>\n",
              "      <th>Review</th>\n",
              "      <th>review_preprocessed</th>\n",
              "      <th>Review_Sentiment</th>\n",
              "      <th>Restaurant_Name</th>\n",
              "    </tr>\n",
              "  </thead>\n",
              "  <tbody>\n",
              "    <tr>\n",
              "      <th>count</th>\n",
              "      <td>3861</td>\n",
              "      <td>3861</td>\n",
              "      <td>3861</td>\n",
              "      <td>3861</td>\n",
              "    </tr>\n",
              "    <tr>\n",
              "      <th>unique</th>\n",
              "      <td>3846</td>\n",
              "      <td>3846</td>\n",
              "      <td>2</td>\n",
              "      <td>439</td>\n",
              "    </tr>\n",
              "    <tr>\n",
              "      <th>top</th>\n",
              "      <td>[b'10/10 for the food I recommend this restaur...</td>\n",
              "      <td>great restaurant great arabic food staff frien...</td>\n",
              "      <td>POSITIVE</td>\n",
              "      <td>Cafe Bagatalle</td>\n",
              "    </tr>\n",
              "    <tr>\n",
              "      <th>freq</th>\n",
              "      <td>2</td>\n",
              "      <td>2</td>\n",
              "      <td>3159</td>\n",
              "      <td>10</td>\n",
              "    </tr>\n",
              "  </tbody>\n",
              "</table>\n",
              "</div>"
            ],
            "text/plain": [
              "                                                   Review  ... Restaurant_Name\n",
              "count                                                3861  ...            3861\n",
              "unique                                               3846  ...             439\n",
              "top     [b'10/10 for the food I recommend this restaur...  ...  Cafe Bagatalle\n",
              "freq                                                    2  ...              10\n",
              "\n",
              "[4 rows x 4 columns]"
            ]
          },
          "metadata": {
            "tags": []
          },
          "execution_count": 19
        }
      ]
    },
    {
      "cell_type": "markdown",
      "metadata": {
        "id": "qGB_NO6P_X2M"
      },
      "source": [
        "Split the dataset into train & test sets"
      ]
    },
    {
      "cell_type": "markdown",
      "metadata": {
        "id": "etUd_Ge9_X2N"
      },
      "source": [
        "We will split dataset into train data (80 %) and test data (20 %)"
      ]
    },
    {
      "cell_type": "code",
      "metadata": {
        "id": "Y997dCEW_X2N"
      },
      "source": [
        "X_train, X_test, y_train, y_test = train_test_split(df['review_preprocessed'],df.Review_Sentiment, test_size=0.2, random_state = 42)"
      ],
      "execution_count": null,
      "outputs": []
    },
    {
      "cell_type": "code",
      "metadata": {
        "colab": {
          "base_uri": "https://localhost:8080/"
        },
        "id": "hOBFyNNvXiPX",
        "outputId": "19a20263-f900-441e-9eb6-9278909e5fb7"
      },
      "source": [
        "print('Dataset shapes')\n",
        "print('X_train : {}'.format(X_train.shape))\n",
        "print('X_test : {}'.format(X_test.shape))\n",
        "print('y_train : {}'.format(y_train.shape))\n",
        "print('y_test : {}'.format(y_test.shape))"
      ],
      "execution_count": null,
      "outputs": [
        {
          "output_type": "stream",
          "text": [
            "Dataset shapes\n",
            "X_train : (3088,)\n",
            "X_test : (773,)\n",
            "y_train : (3088,)\n",
            "y_test : (773,)\n"
          ],
          "name": "stdout"
        }
      ]
    },
    {
      "cell_type": "markdown",
      "metadata": {
        "id": "5_CpxAwk_X2O"
      },
      "source": [
        "Encode the Sentiment labels to 0 & 1"
      ]
    },
    {
      "cell_type": "code",
      "metadata": {
        "id": "G3Pbf0sy_X2P"
      },
      "source": [
        "#Encode using LabelBinarizer 0 -> Negative, 1-> Positive\n",
        "lb=LabelBinarizer()\n",
        "#Fit Review_Sentiment\n",
        "encoder=lb.fit(y_train.values)\n",
        "\n",
        "# Transform y_train, y_test\n",
        "y_train = encoder.transform(y_train)\n",
        "y_test = encoder.transform(y_test)"
      ],
      "execution_count": null,
      "outputs": []
    },
    {
      "cell_type": "code",
      "metadata": {
        "colab": {
          "base_uri": "https://localhost:8080/"
        },
        "id": "yydsuo0uY_5u",
        "outputId": "5e68d576-2069-48c0-d328-f1f740a00465"
      },
      "source": [
        "# Check y_train\n",
        "y_train[:10]"
      ],
      "execution_count": null,
      "outputs": [
        {
          "output_type": "execute_result",
          "data": {
            "text/plain": [
              "array([[1],\n",
              "       [1],\n",
              "       [1],\n",
              "       [1],\n",
              "       [1],\n",
              "       [1],\n",
              "       [1],\n",
              "       [1],\n",
              "       [0],\n",
              "       [1]])"
            ]
          },
          "metadata": {
            "tags": []
          },
          "execution_count": 23
        }
      ]
    },
    {
      "cell_type": "code",
      "metadata": {
        "colab": {
          "base_uri": "https://localhost:8080/"
        },
        "id": "pfyZXsBHZJWP",
        "outputId": "9fddf100-67bb-4c15-f081-8cfdce508469"
      },
      "source": [
        "# Check y_train\n",
        "y_test[:10]"
      ],
      "execution_count": null,
      "outputs": [
        {
          "output_type": "execute_result",
          "data": {
            "text/plain": [
              "array([[1],\n",
              "       [0],\n",
              "       [1],\n",
              "       [1],\n",
              "       [1],\n",
              "       [1],\n",
              "       [1],\n",
              "       [1],\n",
              "       [1],\n",
              "       [1]])"
            ]
          },
          "metadata": {
            "tags": []
          },
          "execution_count": 24
        }
      ]
    },
    {
      "cell_type": "markdown",
      "metadata": {
        "id": "4JprUtZjeKe7"
      },
      "source": [
        "### **Feature extraction from Text**"
      ]
    },
    {
      "cell_type": "markdown",
      "metadata": {
        "id": "kwRAZUiCeT42"
      },
      "source": [
        "We are considering two approaches for extracting features from text for Sentiment analysis.\n",
        "* Bag of Words\n",
        "* TF-IDF\n",
        "\n",
        "**Bag of Words**:\n",
        "Bag of Words model is used to preprocess the text by converting it into a bag of words, which keeps a count of the total occurrences of most frequently used words.\n",
        "\n",
        "**TF-IDF model** : \n",
        "TF-IDF stands for “Term Frequency — Inverse Document Frequency”. This is a technique used to quantify a word in documents, we generally compute a weight to each word which signifies the importance of the word in the document and corpus. This method is a widely used technique in Information Retrieval and Text Mining.\n",
        "\n",
        "We are building 2 different SVM models for unbalanced class data & balanced data for these features.\n"
      ]
    },
    {
      "cell_type": "markdown",
      "metadata": {
        "id": "raoVD1Uxv7mn"
      },
      "source": [
        "### **Building SVM models for Unbalanced class data**"
      ]
    },
    {
      "cell_type": "markdown",
      "metadata": {
        "id": "OQfQFm5g_X2Q"
      },
      "source": [
        "### **Bags of words model**\n",
        "\n",
        "To convert text to numerical vectors, we are using Count vectorizer & TfidfTransformer for Bag of words model to extract features.\n"
      ]
    },
    {
      "cell_type": "markdown",
      "metadata": {
        "id": "TuokqK09qwSN"
      },
      "source": [
        "**Train SVM (Support vectot machine) model using Bag of words features**"
      ]
    },
    {
      "cell_type": "code",
      "metadata": {
        "colab": {
          "base_uri": "https://localhost:8080/"
        },
        "id": "HQVVSMdkqz0d",
        "outputId": "9b80b52f-eec9-46ea-9aed-7ece7cc04daf"
      },
      "source": [
        "#training the support vector machine model\n",
        "# Define a Pipeline\n",
        "svm_bow = Pipeline([('vect', CountVectorizer()),\n",
        "                ('tfidf', TfidfTransformer()),\n",
        "                ('clf', SVC(kernel = 'linear',probability=True)),\n",
        "               ])\n",
        "# Initiate SVC\n",
        "#fitting the svm for bag of words\n",
        "svm_bow=svm_bow.fit(X_train,y_train)\n",
        "print(svm_bow)"
      ],
      "execution_count": null,
      "outputs": [
        {
          "output_type": "stream",
          "text": [
            "Pipeline(memory=None,\n",
            "         steps=[('vect',\n",
            "                 CountVectorizer(analyzer='word', binary=False,\n",
            "                                 decode_error='strict',\n",
            "                                 dtype=<class 'numpy.int64'>, encoding='utf-8',\n",
            "                                 input='content', lowercase=True, max_df=1.0,\n",
            "                                 max_features=None, min_df=1,\n",
            "                                 ngram_range=(1, 1), preprocessor=None,\n",
            "                                 stop_words=None, strip_accents=None,\n",
            "                                 token_pattern='(?u)\\\\b\\\\w\\\\w+\\\\b',\n",
            "                                 tokenizer=None, vocabulary=None)),\n",
            "                ('tfidf',\n",
            "                 TfidfTransformer(norm='l2', smooth_idf=True,\n",
            "                                  sublinear_tf=False, use_idf=True)),\n",
            "                ('clf',\n",
            "                 SVC(C=1.0, break_ties=False, cache_size=200, class_weight=None,\n",
            "                     coef0=0.0, decision_function_shape='ovr', degree=3,\n",
            "                     gamma='scale', kernel='linear', max_iter=-1,\n",
            "                     probability=True, random_state=None, shrinking=True,\n",
            "                     tol=0.001, verbose=False))],\n",
            "         verbose=False)\n"
          ],
          "name": "stdout"
        }
      ]
    },
    {
      "cell_type": "code",
      "metadata": {
        "colab": {
          "base_uri": "https://localhost:8080/"
        },
        "id": "dRZn9n0xqoKU",
        "outputId": "8fc46dca-eb28-4e0d-ceca-c3f694d1cbcf"
      },
      "source": [
        "#Accuracy of the model\n",
        "BOW_svm_score=svm_bow.score(X_train,y_train)\n",
        "print('Accuracy of the trained BOW SVM model :',round(BOW_svm_score,3))"
      ],
      "execution_count": null,
      "outputs": [
        {
          "output_type": "stream",
          "text": [
            "Accuracy of the trained BOW SVM model : 0.975\n"
          ],
          "name": "stdout"
        }
      ]
    },
    {
      "cell_type": "markdown",
      "metadata": {
        "id": "-4M80dQnryiD"
      },
      "source": [
        "**Model performance on test data**"
      ]
    },
    {
      "cell_type": "code",
      "metadata": {
        "colab": {
          "base_uri": "https://localhost:8080/"
        },
        "id": "FuLMjBPLr1Ic",
        "outputId": "f280b05e-627b-4448-f6e3-e5f12945391a"
      },
      "source": [
        "#SVM model prediction for bag of words\n",
        "svm_bow_predict=svm_bow.predict(X_test)\n",
        "\n",
        "#Test accuracy for bag of words \n",
        "svm_bow_score=accuracy_score(y_test,svm_bow_predict)\n",
        "\n",
        "print(\"Test accuracy for SVM BoW model :\", round(svm_bow_score,3))"
      ],
      "execution_count": null,
      "outputs": [
        {
          "output_type": "stream",
          "text": [
            "Test accuracy for SVM BoW model : 0.89\n"
          ],
          "name": "stdout"
        }
      ]
    },
    {
      "cell_type": "code",
      "metadata": {
        "colab": {
          "base_uri": "https://localhost:8080/",
          "height": 530
        },
        "id": "TksU_6p3tdff",
        "outputId": "cc513c72-9df0-451e-e157-e98c607a8d1e"
      },
      "source": [
        "#Confusion matrix\n",
        "#Plot the confusion matrix\n",
        "plot_confusion_matrix(y_test, svm_bow_predict, normalize=False,figsize=(15,8))"
      ],
      "execution_count": null,
      "outputs": [
        {
          "output_type": "execute_result",
          "data": {
            "text/plain": [
              "<matplotlib.axes._subplots.AxesSubplot at 0x7f0a13d0f8d0>"
            ]
          },
          "metadata": {
            "tags": []
          },
          "execution_count": 28
        },
        {
          "output_type": "display_data",
          "data": {
            "image/png": "[encoded data removed]",
            "text/plain": [
              "<Figure size 1080x576 with 2 Axes>"
            ]
          },
          "metadata": {
            "tags": [],
            "needs_background": "light"
          }
        }
      ]
    },
    {
      "cell_type": "code",
      "metadata": {
        "colab": {
          "base_uri": "https://localhost:8080/"
        },
        "id": "1pUl6P-ltxfW",
        "outputId": "d3f359c1-60ff-42ee-e022-40c9421edaa1"
      },
      "source": [
        "# Classification report\n",
        "class_report= classification_report(y_test, svm_bow_predict)\n",
        "print(class_report)"
      ],
      "execution_count": null,
      "outputs": [
        {
          "output_type": "stream",
          "text": [
            "              precision    recall  f1-score   support\n",
            "\n",
            "           0       0.81      0.54      0.65       145\n",
            "           1       0.90      0.97      0.93       628\n",
            "\n",
            "    accuracy                           0.89       773\n",
            "   macro avg       0.86      0.75      0.79       773\n",
            "weighted avg       0.88      0.89      0.88       773\n",
            "\n"
          ],
          "name": "stdout"
        }
      ]
    },
    {
      "cell_type": "markdown",
      "metadata": {
        "id": "MKcjMnipuTj4"
      },
      "source": [
        "**Plot ROC (Receiver Operating Characteristic) curve**"
      ]
    },
    {
      "cell_type": "code",
      "metadata": {
        "colab": {
          "base_uri": "https://localhost:8080/",
          "height": 312
        },
        "id": "YLWT_L-MuSOr",
        "outputId": "5b60cc12-7fbd-4bde-f664-4b3ca7c5b64c"
      },
      "source": [
        "#ROC_AUC curve\n",
        "plt.figure()\n",
        "false_positive_rate, recall, thresholds=roc_curve(y_test, svm_bow_predict)\n",
        "roc_auc=auc(false_positive_rate,recall)\n",
        "plt.title('Reciver Operating Characteristics(ROC)')\n",
        "plt.plot(false_positive_rate, recall,'b',label='ROC(area=%0.3f)' %roc_auc)\n",
        "plt.legend()\n",
        "plt.plot([0,1],[0,1],'r--')\n",
        "plt.xlim([0.0,1.0])\n",
        "plt.ylim([0.0,1.0])\n",
        "plt.ylabel('Recall(True Positive Rate)')\n",
        "plt.xlabel('False Positive Rate')\n",
        "plt.show()\n",
        "print('AUC:',roc_auc)"
      ],
      "execution_count": null,
      "outputs": [
        {
          "output_type": "display_data",
          "data": {
            "image/png": "[encoded data removed]",
            "text/plain": [
              "<Figure size 432x288 with 1 Axes>"
            ]
          },
          "metadata": {
            "tags": [],
            "needs_background": "light"
          }
        },
        {
          "output_type": "stream",
          "text": [
            "AUC: 0.7546343070502964\n"
          ],
          "name": "stdout"
        }
      ]
    },
    {
      "cell_type": "markdown",
      "metadata": {
        "id": "F-KDyf5evGmE"
      },
      "source": [
        "Insights:\n",
        "* AUC of 0.755 means the model is  making good guesses but not best. This is because the recall value for class 0 is low i.e., 0.54. So model is having difficulty in predicting class 0 correctly due to our training data has very low number of class 0 samples than class 1 , i.e., highly imbalanced data."
      ]
    },
    {
      "cell_type": "markdown",
      "metadata": {
        "id": "rc94-Ib5_X2R"
      },
      "source": [
        "### **Term Frequency-Inverse Document Frequency (TFIDF) model**\n",
        "\n",
        "It is used to convert text documents to matrix of tfidf features. We are considering TfidfVectorizer & TfidfTransformer for extracting tf-idf features.\n"
      ]
    },
    {
      "cell_type": "markdown",
      "metadata": {
        "id": "gk6iLKpwxEcG"
      },
      "source": [
        "**Train SVM (Support vectot machine) model using TF-IDF features**"
      ]
    },
    {
      "cell_type": "code",
      "metadata": {
        "colab": {
          "base_uri": "https://localhost:8080/"
        },
        "id": "Hu-XBt3TxP4W",
        "outputId": "f2556ac9-db99-469e-98aa-92ee8ca8c481"
      },
      "source": [
        "#training the support vector machine model\n",
        "# Define a Pipeline\n",
        "svm_tfidf = Pipeline([('vect', TfidfVectorizer()),\n",
        "                ('tfidf', TfidfTransformer()),\n",
        "                ('clf', SVC(kernel = 'linear', probability=True)),\n",
        "               ])\n",
        "#fitting the svm for bag of words\n",
        "svm_tfidf=svm_tfidf.fit(X_train,y_train)\n",
        "print(svm_tfidf)"
      ],
      "execution_count": null,
      "outputs": [
        {
          "output_type": "stream",
          "text": [
            "Pipeline(memory=None,\n",
            "         steps=[('vect',\n",
            "                 TfidfVectorizer(analyzer='word', binary=False,\n",
            "                                 decode_error='strict',\n",
            "                                 dtype=<class 'numpy.float64'>,\n",
            "                                 encoding='utf-8', input='content',\n",
            "                                 lowercase=True, max_df=1.0, max_features=None,\n",
            "                                 min_df=1, ngram_range=(1, 1), norm='l2',\n",
            "                                 preprocessor=None, smooth_idf=True,\n",
            "                                 stop_words=None, strip_accents=None,\n",
            "                                 sublinear_tf=False,\n",
            "                                 token_pattern='(...\n",
            "                                 vocabulary=None)),\n",
            "                ('tfidf',\n",
            "                 TfidfTransformer(norm='l2', smooth_idf=True,\n",
            "                                  sublinear_tf=False, use_idf=True)),\n",
            "                ('clf',\n",
            "                 SVC(C=1.0, break_ties=False, cache_size=200, class_weight=None,\n",
            "                     coef0=0.0, decision_function_shape='ovr', degree=3,\n",
            "                     gamma='scale', kernel='linear', max_iter=-1,\n",
            "                     probability=True, random_state=None, shrinking=True,\n",
            "                     tol=0.001, verbose=False))],\n",
            "         verbose=False)\n"
          ],
          "name": "stdout"
        }
      ]
    },
    {
      "cell_type": "code",
      "metadata": {
        "colab": {
          "base_uri": "https://localhost:8080/"
        },
        "id": "QTwmILzlxdLi",
        "outputId": "011cd93c-8020-44f9-c2a8-3dd4e2bca27f"
      },
      "source": [
        "#Accuracy of the model\n",
        "tfidf_svm_score=svm_tfidf.score(X_train,y_train)\n",
        "print('Accuracy of the trained TF-IDF SVM model :',round(tfidf_svm_score,3))"
      ],
      "execution_count": null,
      "outputs": [
        {
          "output_type": "stream",
          "text": [
            "Accuracy of the trained TF-IDF SVM model : 0.982\n"
          ],
          "name": "stdout"
        }
      ]
    },
    {
      "cell_type": "markdown",
      "metadata": {
        "id": "a0vjgdQz_X2S"
      },
      "source": [
        "**Model performance on test data**"
      ]
    },
    {
      "cell_type": "code",
      "metadata": {
        "colab": {
          "base_uri": "https://localhost:8080/"
        },
        "id": "t1x4LfEl_X2T",
        "outputId": "ecd65f42-87be-48bb-d874-a35da67833e0"
      },
      "source": [
        "##SVM model prediction using TF-IDF features\n",
        "svm_tfidf_predict=svm_tfidf.predict(X_test)\n",
        "\n",
        "#Test accuracy for bag of words \n",
        "svm_tfidf_score=accuracy_score(y_test,svm_tfidf_predict)\n",
        "\n",
        "print(\"Test accuracy for SVM TF-IDF model :\", round(svm_tfidf_score,3))"
      ],
      "execution_count": null,
      "outputs": [
        {
          "output_type": "stream",
          "text": [
            "Test accuracy for SVM TF-IDF model : 0.89\n"
          ],
          "name": "stdout"
        }
      ]
    },
    {
      "cell_type": "code",
      "metadata": {
        "colab": {
          "base_uri": "https://localhost:8080/",
          "height": 530
        },
        "id": "dX5F8QmqzF4K",
        "outputId": "d95d1f3e-07c8-41c4-9c3a-3ae8272d9aac"
      },
      "source": [
        "#Confusion matrix\n",
        "#Plot the confusion matrix\n",
        "plot_confusion_matrix(y_test, svm_tfidf_predict, normalize=False,figsize=(15,8))"
      ],
      "execution_count": null,
      "outputs": [
        {
          "output_type": "execute_result",
          "data": {
            "text/plain": [
              "<matplotlib.axes._subplots.AxesSubplot at 0x7f0a13a78290>"
            ]
          },
          "metadata": {
            "tags": []
          },
          "execution_count": 34
        },
        {
          "output_type": "display_data",
          "data": {
            "image/png": "[encoded data removed]",
            "text/plain": [
              "<Figure size 1080x576 with 2 Axes>"
            ]
          },
          "metadata": {
            "tags": [],
            "needs_background": "light"
          }
        }
      ]
    },
    {
      "cell_type": "code",
      "metadata": {
        "colab": {
          "base_uri": "https://localhost:8080/"
        },
        "id": "AttmhU-vzdSi",
        "outputId": "5adba21d-246e-49b1-eb7c-9455fadb32c4"
      },
      "source": [
        "# Classification report\n",
        "class_report= classification_report(y_test, svm_tfidf_predict)\n",
        "print(class_report)"
      ],
      "execution_count": null,
      "outputs": [
        {
          "output_type": "stream",
          "text": [
            "              precision    recall  f1-score   support\n",
            "\n",
            "           0       0.86      0.50      0.63       145\n",
            "           1       0.89      0.98      0.94       628\n",
            "\n",
            "    accuracy                           0.89       773\n",
            "   macro avg       0.88      0.74      0.78       773\n",
            "weighted avg       0.89      0.89      0.88       773\n",
            "\n"
          ],
          "name": "stdout"
        }
      ]
    },
    {
      "cell_type": "markdown",
      "metadata": {
        "id": "HkT4NJ53zqq5"
      },
      "source": [
        "**Plot ROC (Receiver Operating Characteristic) curve**"
      ]
    },
    {
      "cell_type": "code",
      "metadata": {
        "colab": {
          "base_uri": "https://localhost:8080/",
          "height": 312
        },
        "id": "XmfttpDezyFZ",
        "outputId": "9607c095-ce71-4b1a-d58c-8ea22db89e79"
      },
      "source": [
        "#ROC_AUC curve\n",
        "plt.figure()\n",
        "false_positive_rate, recall, thresholds=roc_curve(y_test, svm_tfidf_predict)\n",
        "roc_auc=auc(false_positive_rate,recall)\n",
        "plt.title('Reciver Operating Characteristics(ROC)')\n",
        "plt.plot(false_positive_rate, recall,'b',label='ROC(area=%0.3f)' %roc_auc)\n",
        "plt.legend()\n",
        "plt.plot([0,1],[0,1],'r--')\n",
        "plt.xlim([0.0,1.0])\n",
        "plt.ylim([0.0,1.0])\n",
        "plt.ylabel('Recall(True Positive Rate)')\n",
        "plt.xlabel('False Positive Rate')\n",
        "plt.show()\n",
        "print('AUC:',roc_auc)"
      ],
      "execution_count": null,
      "outputs": [
        {
          "output_type": "display_data",
          "data": {
            "image/png": "[encoded data removed]",
            "text/plain": [
              "<Figure size 432x288 with 1 Axes>"
            ]
          },
          "metadata": {
            "tags": [],
            "needs_background": "light"
          }
        },
        {
          "output_type": "stream",
          "text": [
            "AUC: 0.7387217219415769\n"
          ],
          "name": "stdout"
        }
      ]
    },
    {
      "cell_type": "markdown",
      "metadata": {
        "id": "TmPNQznaz8St"
      },
      "source": [
        "Insights:\n",
        "* AUC of 0.74 means the model is making good gueses. This  model also having difficulty in predicting class 0 correctly due to our training data has very low number of class 0 samples than class 1 , i.e., highly imbalanced data."
      ]
    },
    {
      "cell_type": "markdown",
      "metadata": {
        "id": "7PHrf8Lb0Drt"
      },
      "source": [
        "### **Building SVM models for balanced class data**"
      ]
    },
    {
      "cell_type": "markdown",
      "metadata": {
        "id": "qMixp3mu0Nge"
      },
      "source": [
        "To balance classes in our dataset, we are assigning **class_weight='balanced'** in SVC algorithm."
      ]
    },
    {
      "cell_type": "markdown",
      "metadata": {
        "id": "bywHj0KM1HNY"
      },
      "source": [
        "**Bag of Words model**"
      ]
    },
    {
      "cell_type": "markdown",
      "metadata": {
        "id": "BctlUh2Y2o_9"
      },
      "source": [
        "**Train SVM (Support vectot machine) model using Bag of words features**"
      ]
    },
    {
      "cell_type": "code",
      "metadata": {
        "colab": {
          "base_uri": "https://localhost:8080/"
        },
        "id": "lFefFpXk28Sd",
        "outputId": "09421648-aa71-49e9-d492-353bc80e0dcc"
      },
      "source": [
        "#training the support vector machine model\n",
        "svm_balanced_bow = Pipeline([('vect', CountVectorizer()),\n",
        "                ('tfidf', TfidfTransformer()),\n",
        "                ('clf', SVC(kernel='linear', probability=True, class_weight='balanced')),\n",
        "               ])\n",
        "\n",
        "#fitting the svm for bag of words\n",
        "svm_bow=svm_balanced_bow.fit(X_train,y_train)\n",
        "print(svm_bow)"
      ],
      "execution_count": null,
      "outputs": [
        {
          "output_type": "stream",
          "text": [
            "Pipeline(memory=None,\n",
            "         steps=[('vect',\n",
            "                 CountVectorizer(analyzer='word', binary=False,\n",
            "                                 decode_error='strict',\n",
            "                                 dtype=<class 'numpy.int64'>, encoding='utf-8',\n",
            "                                 input='content', lowercase=True, max_df=1.0,\n",
            "                                 max_features=None, min_df=1,\n",
            "                                 ngram_range=(1, 1), preprocessor=None,\n",
            "                                 stop_words=None, strip_accents=None,\n",
            "                                 token_pattern='(?u)\\\\b\\\\w\\\\w+\\\\b',\n",
            "                                 tokenizer=None, vocabulary=None)),\n",
            "                ('tfidf',\n",
            "                 TfidfTransformer(norm='l2', smooth_idf=True,\n",
            "                                  sublinear_tf=False, use_idf=True)),\n",
            "                ('clf',\n",
            "                 SVC(C=1.0, break_ties=False, cache_size=200,\n",
            "                     class_weight='balanced', coef0=0.0,\n",
            "                     decision_function_shape='ovr', degree=3, gamma='scale',\n",
            "                     kernel='linear', max_iter=-1, probability=True,\n",
            "                     random_state=None, shrinking=True, tol=0.001,\n",
            "                     verbose=False))],\n",
            "         verbose=False)\n"
          ],
          "name": "stdout"
        }
      ]
    },
    {
      "cell_type": "code",
      "metadata": {
        "colab": {
          "base_uri": "https://localhost:8080/"
        },
        "id": "MdBk1E3v3k6I",
        "outputId": "524ee6f5-7fad-447a-dedc-9f32bf399a75"
      },
      "source": [
        "#Accuracy of the model with SMOTE\n",
        "BOW_svm_score=svm_balanced_bow.score(X_train,y_train)\n",
        "print('Accuracy of the trained BOW SVM model for balanced class data :',round(BOW_svm_score,3))\n"
      ],
      "execution_count": null,
      "outputs": [
        {
          "output_type": "stream",
          "text": [
            "Accuracy of the trained BOW SVM model for balanced class data : 0.982\n"
          ],
          "name": "stdout"
        }
      ]
    },
    {
      "cell_type": "markdown",
      "metadata": {
        "id": "6u_hh-OH4RQk"
      },
      "source": [
        "**Model performance on test data**"
      ]
    },
    {
      "cell_type": "code",
      "metadata": {
        "colab": {
          "base_uri": "https://localhost:8080/"
        },
        "id": "03X5suF_4Y73",
        "outputId": "c98abd02-ffd3-47ee-f743-72dbf98a22ab"
      },
      "source": [
        "#SVM model prediction for bag of words\n",
        "svm_bow_predict=svm_balanced_bow.predict(X_test)\n",
        "\n",
        "#Test accuracy for bag of words \n",
        "svm_bow_score=accuracy_score(y_test,svm_bow_predict)\n",
        "\n",
        "print(\"Test accuracy for SVM BoW model for balanced classes:\", round(svm_bow_score,3))"
      ],
      "execution_count": null,
      "outputs": [
        {
          "output_type": "stream",
          "text": [
            "Test accuracy for SVM BoW model for balanced classes: 0.886\n"
          ],
          "name": "stdout"
        }
      ]
    },
    {
      "cell_type": "code",
      "metadata": {
        "colab": {
          "base_uri": "https://localhost:8080/",
          "height": 530
        },
        "id": "1kaYwvYr_X2a",
        "outputId": "276ad5dd-f19c-413c-d431-ad436ed9eb06"
      },
      "source": [
        "#Confusion matrix\n",
        "#Plot the confusion matrix\n",
        "plot_confusion_matrix(y_test, svm_bow_predict, normalize=False,figsize=(15,8))"
      ],
      "execution_count": null,
      "outputs": [
        {
          "output_type": "execute_result",
          "data": {
            "text/plain": [
              "<matplotlib.axes._subplots.AxesSubplot at 0x7f0a13cfee50>"
            ]
          },
          "metadata": {
            "tags": []
          },
          "execution_count": 40
        },
        {
          "output_type": "display_data",
          "data": {
            "image/png": "[encoded data removed]",
            "text/plain": [
              "<Figure size 1080x576 with 2 Axes>"
            ]
          },
          "metadata": {
            "tags": [],
            "needs_background": "light"
          }
        }
      ]
    },
    {
      "cell_type": "code",
      "metadata": {
        "colab": {
          "base_uri": "https://localhost:8080/"
        },
        "id": "PIa8L_Fy5htI",
        "outputId": "4b4c62f5-a94c-456c-ffd1-9f55e600f412"
      },
      "source": [
        "# Classification report\n",
        "class_report= classification_report(y_test, svm_bow_predict)\n",
        "print(class_report)"
      ],
      "execution_count": null,
      "outputs": [
        {
          "output_type": "stream",
          "text": [
            "              precision    recall  f1-score   support\n",
            "\n",
            "           0       0.69      0.70      0.70       145\n",
            "           1       0.93      0.93      0.93       628\n",
            "\n",
            "    accuracy                           0.89       773\n",
            "   macro avg       0.81      0.82      0.81       773\n",
            "weighted avg       0.89      0.89      0.89       773\n",
            "\n"
          ],
          "name": "stdout"
        }
      ]
    },
    {
      "cell_type": "markdown",
      "metadata": {
        "id": "uCImJz0z5obQ"
      },
      "source": [
        "**Plot ROC curve**"
      ]
    },
    {
      "cell_type": "code",
      "metadata": {
        "colab": {
          "base_uri": "https://localhost:8080/",
          "height": 71
        },
        "id": "gAAf_n8r5oIq",
        "outputId": "53e04b3d-e77e-4fe2-ac61-6d02d93b4d2d"
      },
      "source": [
        "#ROC_AUC curve\n",
        "plt.figure()\n",
        "false_positive_rate, recall, thresholds=roc_curve(y_test, svm_bow_predict)\n",
        "roc_auc=auc(false_positive_rate,recall)\n",
        "plt.title('Reciver Operating Characteristics(ROC)')\n",
        "plt.plot(false_positive_rate, recall,'b',label='ROC(area=%0.3f)' %roc_auc)\n",
        "plt.legend()\n",
        "plt.plot([0,1],[0,1],'r--')\n",
        "plt.xlim([0.0,1.0])\n",
        "plt.ylim([0.0,1.0])\n",
        "plt.ylabel('Recall(True Positive Rate)')\n",
        "plt.xlabel('False Positive Rate')\n",
        "plt.show()\n",
        "print('AUC:',roc_auc)"
      ],
      "execution_count": null,
      "outputs": [
        {
          "output_type": "display_data",
          "data": {
            "image/png": "[encoded data removed]",
            "text/plain": [
              "<Figure size 432x288 with 1 Axes>"
            ]
          },
          "metadata": {
            "tags": [],
            "needs_background": "light"
          }
        },
        {
          "output_type": "stream",
          "text": [
            "AUC: 0.8158961124533275\n"
          ],
          "name": "stdout"
        }
      ]
    },
    {
      "cell_type": "markdown",
      "metadata": {
        "id": "X-pt-qj8xPBe"
      },
      "source": [
        "Insights:\n",
        "* Great, we can see 6.1 % improvement in model performance i.e., AUC from 0.755 to 0.815 after balancing the classes. This model is best among all models so far."
      ]
    },
    {
      "cell_type": "markdown",
      "metadata": {
        "id": "GtCtjON_RrrD"
      },
      "source": [
        "**TF-IDF model for balanced class data**"
      ]
    },
    {
      "cell_type": "markdown",
      "metadata": {
        "id": "KJj-f8R76WqB"
      },
      "source": [
        "**Train SVM (Support vectot machine) model using TF-IDF features**"
      ]
    },
    {
      "cell_type": "code",
      "metadata": {
        "colab": {
          "base_uri": "https://localhost:8080/"
        },
        "id": "_EAIbyyL6Qts",
        "outputId": "98b3a9ca-6d4b-4bd9-ce2e-fa30f8a850a7"
      },
      "source": [
        "#training the support vector machine model\n",
        "#Define a Pipelne\n",
        "svm_balanced_tfidf = Pipeline([('vect', TfidfVectorizer()),\n",
        "                ('tfidf', TfidfTransformer()),\n",
        "                ('clf', SVC(kernel='linear', probability=True, class_weight='balanced')),\n",
        "               ])\n",
        "\n",
        "#fitting the svm for bag of words\n",
        "svm_tfidf=svm_balanced_tfidf.fit(X_train, y_train)\n",
        "print(svm_tfidf)"
      ],
      "execution_count": null,
      "outputs": [
        {
          "output_type": "stream",
          "text": [
            "Pipeline(memory=None,\n",
            "         steps=[('vect',\n",
            "                 TfidfVectorizer(analyzer='word', binary=False,\n",
            "                                 decode_error='strict',\n",
            "                                 dtype=<class 'numpy.float64'>,\n",
            "                                 encoding='utf-8', input='content',\n",
            "                                 lowercase=True, max_df=1.0, max_features=None,\n",
            "                                 min_df=1, ngram_range=(1, 1), norm='l2',\n",
            "                                 preprocessor=None, smooth_idf=True,\n",
            "                                 stop_words=None, strip_accents=None,\n",
            "                                 sublinear_tf=False,\n",
            "                                 token_pattern='(...\n",
            "                                 vocabulary=None)),\n",
            "                ('tfidf',\n",
            "                 TfidfTransformer(norm='l2', smooth_idf=True,\n",
            "                                  sublinear_tf=False, use_idf=True)),\n",
            "                ('clf',\n",
            "                 SVC(C=1.0, break_ties=False, cache_size=200,\n",
            "                     class_weight='balanced', coef0=0.0,\n",
            "                     decision_function_shape='ovr', degree=3, gamma='scale',\n",
            "                     kernel='linear', max_iter=-1, probability=True,\n",
            "                     random_state=None, shrinking=True, tol=0.001,\n",
            "                     verbose=False))],\n",
            "         verbose=False)\n"
          ],
          "name": "stdout"
        }
      ]
    },
    {
      "cell_type": "code",
      "metadata": {
        "colab": {
          "base_uri": "https://localhost:8080/"
        },
        "id": "yXms6Trw6kHh",
        "outputId": "22aa2521-5136-45ea-f298-169e7abf6a29"
      },
      "source": [
        "#Accuracy of the model\n",
        "tfidf_svm_score=svm_balanced_tfidf.score(X_train,y_train)\n",
        "print('Accuracy of the trained TF-IDF SVM model for balanced class data:',round(tfidf_svm_score,3))"
      ],
      "execution_count": null,
      "outputs": [
        {
          "output_type": "stream",
          "text": [
            "Accuracy of the trained TF-IDF SVM model for balanced class data: 0.992\n"
          ],
          "name": "stdout"
        }
      ]
    },
    {
      "cell_type": "markdown",
      "metadata": {
        "id": "9EV97xdC6p57"
      },
      "source": [
        "**Model performance on test data**"
      ]
    },
    {
      "cell_type": "code",
      "metadata": {
        "colab": {
          "base_uri": "https://localhost:8080/"
        },
        "id": "fn8H3vKD6ryl",
        "outputId": "e0eb9f7e-0db1-4fe5-e04a-ae111537b98d"
      },
      "source": [
        "##SVM model prediction using TF-IDF features\n",
        "svm_tfidf_predict=svm_balanced_tfidf.predict(X_test)\n",
        "\n",
        "#Test accuracy for bag of words \n",
        "svm_tfidf_score=accuracy_score(y_test,svm_tfidf_predict)\n",
        "\n",
        "print(\"Test accuracy for SVM TF-IDF model for balanced class data:\", round(svm_tfidf_score,3))"
      ],
      "execution_count": null,
      "outputs": [
        {
          "output_type": "stream",
          "text": [
            "Test accuracy for SVM TF-IDF model for balanced class data: 0.891\n"
          ],
          "name": "stdout"
        }
      ]
    },
    {
      "cell_type": "code",
      "metadata": {
        "colab": {
          "base_uri": "https://localhost:8080/",
          "height": 530
        },
        "id": "UNyVR8g56xke",
        "outputId": "4bc89f08-9f70-4a3c-8102-500e3d60ca53"
      },
      "source": [
        "#Plot the confusion matrix\n",
        "plot_confusion_matrix(y_test, svm_tfidf_predict, normalize=False,figsize=(15,8))"
      ],
      "execution_count": null,
      "outputs": [
        {
          "output_type": "execute_result",
          "data": {
            "text/plain": [
              "<matplotlib.axes._subplots.AxesSubplot at 0x7f0a13bc8950>"
            ]
          },
          "metadata": {
            "tags": []
          },
          "execution_count": 46
        },
        {
          "output_type": "display_data",
          "data": {
            "image/png": "[encoded data removed]",
            "text/plain": [
              "<Figure size 1080x576 with 2 Axes>"
            ]
          },
          "metadata": {
            "tags": [],
            "needs_background": "light"
          }
        }
      ]
    },
    {
      "cell_type": "code",
      "metadata": {
        "colab": {
          "base_uri": "https://localhost:8080/"
        },
        "id": "EdaFJXMV7B0u",
        "outputId": "dbe835df-416d-4fa0-efd7-ddba602800ec"
      },
      "source": [
        "# Classification report\n",
        "class_report= classification_report(y_test, svm_tfidf_predict)\n",
        "print(class_report)"
      ],
      "execution_count": null,
      "outputs": [
        {
          "output_type": "stream",
          "text": [
            "              precision    recall  f1-score   support\n",
            "\n",
            "           0       0.74      0.64      0.69       145\n",
            "           1       0.92      0.95      0.93       628\n",
            "\n",
            "    accuracy                           0.89       773\n",
            "   macro avg       0.83      0.80      0.81       773\n",
            "weighted avg       0.89      0.89      0.89       773\n",
            "\n"
          ],
          "name": "stdout"
        }
      ]
    },
    {
      "cell_type": "markdown",
      "metadata": {
        "id": "4vmQT2SG7GTw"
      },
      "source": [
        "**Plot ROC curve**"
      ]
    },
    {
      "cell_type": "code",
      "metadata": {
        "colab": {
          "base_uri": "https://localhost:8080/",
          "height": 312
        },
        "id": "s7qZry5_7KEw",
        "outputId": "01077da2-908a-4b71-9726-bdac4d80d293"
      },
      "source": [
        "#ROC_AUC curve\n",
        "plt.figure()\n",
        "false_positive_rate, recall, thresholds=roc_curve(y_test, svm_tfidf_predict)\n",
        "roc_auc=auc(false_positive_rate,recall)\n",
        "plt.title('Reciver Operating Characteristics(ROC)')\n",
        "plt.plot(false_positive_rate, recall,'b',label='ROC(area=%0.3f)' %roc_auc)\n",
        "plt.legend()\n",
        "plt.plot([0,1],[0,1],'r--')\n",
        "plt.xlim([0.0,1.0])\n",
        "plt.ylim([0.0,1.0])\n",
        "plt.ylabel('Recall(True Positive Rate)')\n",
        "plt.xlabel('False Positive Rate')\n",
        "plt.show()\n",
        "print('AUC:',roc_auc)"
      ],
      "execution_count": null,
      "outputs": [
        {
          "output_type": "display_data",
          "data": {
            "image/png": "[encoded data removed]",
            "text/plain": [
              "<Figure size 432x288 with 1 Axes>"
            ]
          },
          "metadata": {
            "tags": [],
            "needs_background": "light"
          }
        },
        {
          "output_type": "stream",
          "text": [
            "AUC: 0.7952119481660442\n"
          ],
          "name": "stdout"
        }
      ]
    },
    {
      "cell_type": "markdown",
      "metadata": {
        "id": "K0eZRsnlyIgX"
      },
      "source": [
        "Insights:\n",
        "* Good, we can see ~6 % improvement in TF-IDF model performance i.e., AUC changed from 0.738 to 0.795."
      ]
    },
    {
      "cell_type": "code",
      "metadata": {
        "colab": {
          "base_uri": "https://localhost:8080/",
          "height": 111
        },
        "id": "6e-Yssn_A9ya",
        "outputId": "5ec40324-f1ea-42e1-c63b-0396759da196"
      },
      "source": [
        "Results={\n",
        "    'Model':['BOW SVM model','TF-IDF SVM model'],\n",
        "    'f1-score(balanced)':[0.89, 0.89],                # f1-score is weighted average\n",
        "    'f1-score(unbalanced)':[0.88, 0.88],\n",
        "    'AUC(balanced)':[0.815, 0.795],\n",
        "    'AUC(unbalanced)':[0.755, 0.738]\n",
        "}\n",
        "\n",
        "results_df=pd.DataFrame(Results)\n",
        "results_df"
      ],
      "execution_count": null,
      "outputs": [
        {
          "output_type": "execute_result",
          "data": {
            "text/html": [
              "<div>\n",
              "<style scoped>\n",
              "    .dataframe tbody tr th:only-of-type {\n",
              "        vertical-align: middle;\n",
              "    }\n",
              "\n",
              "    .dataframe tbody tr th {\n",
              "        vertical-align: top;\n",
              "    }\n",
              "\n",
              "    .dataframe thead th {\n",
              "        text-align: right;\n",
              "    }\n",
              "</style>\n",
              "<table border=\"1\" class=\"dataframe\">\n",
              "  <thead>\n",
              "    <tr style=\"text-align: right;\">\n",
              "      <th></th>\n",
              "      <th>Model</th>\n",
              "      <th>f1-score(balanced)</th>\n",
              "      <th>f1-score(unbalanced)</th>\n",
              "      <th>AUC(balanced)</th>\n",
              "      <th>AUC(unbalanced)</th>\n",
              "    </tr>\n",
              "  </thead>\n",
              "  <tbody>\n",
              "    <tr>\n",
              "      <th>0</th>\n",
              "      <td>BOW SVM model</td>\n",
              "      <td>0.89</td>\n",
              "      <td>0.88</td>\n",
              "      <td>0.815</td>\n",
              "      <td>0.755</td>\n",
              "    </tr>\n",
              "    <tr>\n",
              "      <th>1</th>\n",
              "      <td>TF-IDF SVM model</td>\n",
              "      <td>0.89</td>\n",
              "      <td>0.88</td>\n",
              "      <td>0.795</td>\n",
              "      <td>0.738</td>\n",
              "    </tr>\n",
              "  </tbody>\n",
              "</table>\n",
              "</div>"
            ],
            "text/plain": [
              "              Model  f1-score(balanced)  ...  AUC(balanced)  AUC(unbalanced)\n",
              "0     BOW SVM model                0.89  ...          0.815            0.755\n",
              "1  TF-IDF SVM model                0.89  ...          0.795            0.738\n",
              "\n",
              "[2 rows x 5 columns]"
            ]
          },
          "metadata": {
            "tags": []
          },
          "execution_count": 49
        }
      ]
    },
    {
      "cell_type": "markdown",
      "metadata": {
        "id": "iEjB3UchzmFS"
      },
      "source": [
        "Insights:\n",
        "* Among all models, BOW SVM model with balanced classes is the best with the AUC score of 0.815.\n",
        "* 2nd best is TF-IDF SVM model with balanced classes with the AUC score of 0.795."
      ]
    },
    {
      "cell_type": "markdown",
      "metadata": {
        "id": "DsLb4yKQ0J8_"
      },
      "source": [
        "Hence, we will use **BOW SVM model with balanced classes** for final prediction & the **Ranking of Restaurants based on Sentiemnt score. Ranking of Restaurants will be done in RASA through custom function**."
      ]
    },
    {
      "cell_type": "code",
      "metadata": {
        "id": "QZ31bQnY8aYi"
      },
      "source": [
        "from joblib import dump, load"
      ],
      "execution_count": null,
      "outputs": []
    },
    {
      "cell_type": "code",
      "metadata": {
        "id": "tcYq54BlzXen",
        "colab": {
          "base_uri": "https://localhost:8080/"
        },
        "outputId": "47cc001c-13ab-46d8-f55f-fabc71e113d5"
      },
      "source": [
        "# Pickle the BOW SVM model with balanced classes for prediction\n",
        "filename = 'BOW_SVM_balanced_model.joblib'\n",
        "dump(svm_balanced_bow, filename)"
      ],
      "execution_count": null,
      "outputs": [
        {
          "output_type": "execute_result",
          "data": {
            "text/plain": [
              "['BOW_SVM_balanced_model.joblib']"
            ]
          },
          "metadata": {
            "tags": []
          },
          "execution_count": 55
        }
      ]
    },
    {
      "cell_type": "code",
      "metadata": {
        "id": "vGeqqgRY15Lo"
      },
      "source": [
        "# Load SVM balanced BOW model\n",
        "svm_bow_model = load('BOW_SVM_balanced_model.joblib')"
      ],
      "execution_count": null,
      "outputs": []
    },
    {
      "cell_type": "code",
      "metadata": {
        "colab": {
          "base_uri": "https://localhost:8080/",
          "height": 204
        },
        "id": "M5E0-pWlbTDO",
        "outputId": "2b238194-feeb-481c-97c3-7b8ccc9a99d4"
      },
      "source": [
        "df_final = sa_df.drop('Review',axis=1)\n",
        "df_final.head()"
      ],
      "execution_count": null,
      "outputs": [
        {
          "output_type": "execute_result",
          "data": {
            "text/html": [
              "<div>\n",
              "<style scoped>\n",
              "    .dataframe tbody tr th:only-of-type {\n",
              "        vertical-align: middle;\n",
              "    }\n",
              "\n",
              "    .dataframe tbody tr th {\n",
              "        vertical-align: top;\n",
              "    }\n",
              "\n",
              "    .dataframe thead th {\n",
              "        text-align: right;\n",
              "    }\n",
              "</style>\n",
              "<table border=\"1\" class=\"dataframe\">\n",
              "  <thead>\n",
              "    <tr style=\"text-align: right;\">\n",
              "      <th></th>\n",
              "      <th>review_preprocessed</th>\n",
              "      <th>Review_Sentiment</th>\n",
              "      <th>Restaurant_Name</th>\n",
              "    </tr>\n",
              "  </thead>\n",
              "  <tbody>\n",
              "    <tr>\n",
              "      <th>0</th>\n",
              "      <td>went lunch first part welcoming customer upto ...</td>\n",
              "      <td>POSITIVE</td>\n",
              "      <td>The Four Leafed Clover</td>\n",
              "    </tr>\n",
              "    <tr>\n",
              "      <th>1</th>\n",
              "      <td>great service delicious food lamb shank creamy...</td>\n",
              "      <td>POSITIVE</td>\n",
              "      <td>The Four Leafed Clover</td>\n",
              "    </tr>\n",
              "    <tr>\n",
              "      <th>2</th>\n",
              "      <td>went enough parking space staff friendly helpf...</td>\n",
              "      <td>POSITIVE</td>\n",
              "      <td>The Four Leafed Clover</td>\n",
              "    </tr>\n",
              "    <tr>\n",
              "      <th>3</th>\n",
              "      <td>good food ambience food ambience great definit...</td>\n",
              "      <td>POSITIVE</td>\n",
              "      <td>The Four Leafed Clover</td>\n",
              "    </tr>\n",
              "    <tr>\n",
              "      <th>4</th>\n",
              "      <td>excellent quiet clean place relaxed hangout fo...</td>\n",
              "      <td>POSITIVE</td>\n",
              "      <td>The Four Leafed Clover</td>\n",
              "    </tr>\n",
              "  </tbody>\n",
              "</table>\n",
              "</div>"
            ],
            "text/plain": [
              "                                 review_preprocessed  ...         Restaurant_Name\n",
              "0  went lunch first part welcoming customer upto ...  ...  The Four Leafed Clover\n",
              "1  great service delicious food lamb shank creamy...  ...  The Four Leafed Clover\n",
              "2  went enough parking space staff friendly helpf...  ...  The Four Leafed Clover\n",
              "3  good food ambience food ambience great definit...  ...  The Four Leafed Clover\n",
              "4  excellent quiet clean place relaxed hangout fo...  ...  The Four Leafed Clover\n",
              "\n",
              "[5 rows x 3 columns]"
            ]
          },
          "metadata": {
            "tags": []
          },
          "execution_count": 74
        }
      ]
    },
    {
      "cell_type": "code",
      "metadata": {
        "colab": {
          "base_uri": "https://localhost:8080/"
        },
        "id": "L6FhyEFTe6zs",
        "outputId": "bf0b9e8d-7838-4a70-f72d-0a60ec0c9f8d"
      },
      "source": [
        "df_final.shape"
      ],
      "execution_count": null,
      "outputs": [
        {
          "output_type": "execute_result",
          "data": {
            "text/plain": [
              "(3861, 3)"
            ]
          },
          "metadata": {
            "tags": []
          },
          "execution_count": 75
        }
      ]
    },
    {
      "cell_type": "code",
      "metadata": {
        "id": "LMPddH1ffABA"
      },
      "source": [
        "pred_sentiment_score = svm_bow_model.predict_proba(df_final['review_preprocessed'])"
      ],
      "execution_count": null,
      "outputs": []
    },
    {
      "cell_type": "code",
      "metadata": {
        "id": "7QltBNwSfp6h",
        "colab": {
          "base_uri": "https://localhost:8080/"
        },
        "outputId": "4e916b1c-d590-4ab9-c504-7a4b6a6da556"
      },
      "source": [
        "pred_sentiment_score"
      ],
      "execution_count": null,
      "outputs": [
        {
          "output_type": "execute_result",
          "data": {
            "text/plain": [
              "array([[0.03030384, 0.96969616],\n",
              "       [0.02928158, 0.97071842],\n",
              "       [0.00745038, 0.99254962],\n",
              "       ...,\n",
              "       [0.0762414 , 0.9237586 ],\n",
              "       [0.01141023, 0.98858977],\n",
              "       [0.05129172, 0.94870828]])"
            ]
          },
          "metadata": {
            "tags": []
          },
          "execution_count": 77
        }
      ]
    },
    {
      "cell_type": "code",
      "metadata": {
        "id": "50tWmGcf_fZP"
      },
      "source": [
        "df_pred = pd.DataFrame(pred_sentiment_score, columns = ['Negative_score','Positive_score'])"
      ],
      "execution_count": null,
      "outputs": []
    },
    {
      "cell_type": "code",
      "metadata": {
        "id": "nGTkoov6_0C_"
      },
      "source": [
        "# Merge df_final & df_pred \n",
        "df_final = df_final.merge(df_pred, left_index=True, right_index=True)"
      ],
      "execution_count": null,
      "outputs": []
    },
    {
      "cell_type": "code",
      "metadata": {
        "colab": {
          "base_uri": "https://localhost:8080/",
          "height": 419
        },
        "id": "qXUGMFWEAR5G",
        "outputId": "1a8588be-cf78-4de7-fe88-ae80980998b9"
      },
      "source": [
        "df_final"
      ],
      "execution_count": null,
      "outputs": [
        {
          "output_type": "execute_result",
          "data": {
            "text/html": [
              "<div>\n",
              "<style scoped>\n",
              "    .dataframe tbody tr th:only-of-type {\n",
              "        vertical-align: middle;\n",
              "    }\n",
              "\n",
              "    .dataframe tbody tr th {\n",
              "        vertical-align: top;\n",
              "    }\n",
              "\n",
              "    .dataframe thead th {\n",
              "        text-align: right;\n",
              "    }\n",
              "</style>\n",
              "<table border=\"1\" class=\"dataframe\">\n",
              "  <thead>\n",
              "    <tr style=\"text-align: right;\">\n",
              "      <th></th>\n",
              "      <th>review_preprocessed</th>\n",
              "      <th>Review_Sentiment</th>\n",
              "      <th>Restaurant_Name</th>\n",
              "      <th>Negative_score</th>\n",
              "      <th>Positive_score</th>\n",
              "    </tr>\n",
              "  </thead>\n",
              "  <tbody>\n",
              "    <tr>\n",
              "      <th>0</th>\n",
              "      <td>went lunch first part welcoming customer upto ...</td>\n",
              "      <td>POSITIVE</td>\n",
              "      <td>The Four Leafed Clover</td>\n",
              "      <td>0.030304</td>\n",
              "      <td>0.969696</td>\n",
              "    </tr>\n",
              "    <tr>\n",
              "      <th>1</th>\n",
              "      <td>great service delicious food lamb shank creamy...</td>\n",
              "      <td>POSITIVE</td>\n",
              "      <td>The Four Leafed Clover</td>\n",
              "      <td>0.029282</td>\n",
              "      <td>0.970718</td>\n",
              "    </tr>\n",
              "    <tr>\n",
              "      <th>2</th>\n",
              "      <td>went enough parking space staff friendly helpf...</td>\n",
              "      <td>POSITIVE</td>\n",
              "      <td>The Four Leafed Clover</td>\n",
              "      <td>0.007450</td>\n",
              "      <td>0.992550</td>\n",
              "    </tr>\n",
              "    <tr>\n",
              "      <th>3</th>\n",
              "      <td>good food ambience food ambience great definit...</td>\n",
              "      <td>POSITIVE</td>\n",
              "      <td>The Four Leafed Clover</td>\n",
              "      <td>0.004229</td>\n",
              "      <td>0.995771</td>\n",
              "    </tr>\n",
              "    <tr>\n",
              "      <th>4</th>\n",
              "      <td>excellent quiet clean place relaxed hangout fo...</td>\n",
              "      <td>POSITIVE</td>\n",
              "      <td>The Four Leafed Clover</td>\n",
              "      <td>0.019740</td>\n",
              "      <td>0.980260</td>\n",
              "    </tr>\n",
              "    <tr>\n",
              "      <th>...</th>\n",
              "      <td>...</td>\n",
              "      <td>...</td>\n",
              "      <td>...</td>\n",
              "      <td>...</td>\n",
              "      <td>...</td>\n",
              "    </tr>\n",
              "    <tr>\n",
              "      <th>3856</th>\n",
              "      <td>nice experience nice foodhad anniversary cake ...</td>\n",
              "      <td>POSITIVE</td>\n",
              "      <td>Royal Thai - Cinnamon Lakeside</td>\n",
              "      <td>0.013002</td>\n",
              "      <td>0.986998</td>\n",
              "    </tr>\n",
              "    <tr>\n",
              "      <th>3857</th>\n",
              "      <td>visited royal thai restaurant cinnamon lakesid...</td>\n",
              "      <td>POSITIVE</td>\n",
              "      <td>Royal Thai - Cinnamon Lakeside</td>\n",
              "      <td>0.003927</td>\n",
              "      <td>0.996073</td>\n",
              "    </tr>\n",
              "    <tr>\n",
              "      <th>3858</th>\n",
              "      <td>due fact local restaurant closed corona virus ...</td>\n",
              "      <td>POSITIVE</td>\n",
              "      <td>Royal Thai - Cinnamon Lakeside</td>\n",
              "      <td>0.076241</td>\n",
              "      <td>0.923759</td>\n",
              "    </tr>\n",
              "    <tr>\n",
              "      <th>3859</th>\n",
              "      <td>ate 5320 whilst staying cinnamon lakeside food...</td>\n",
              "      <td>POSITIVE</td>\n",
              "      <td>Royal Thai - Cinnamon Lakeside</td>\n",
              "      <td>0.011410</td>\n",
              "      <td>0.988590</td>\n",
              "    </tr>\n",
              "    <tr>\n",
              "      <th>3860</th>\n",
              "      <td>visited restaurant within posh hotel food exce...</td>\n",
              "      <td>POSITIVE</td>\n",
              "      <td>Royal Thai - Cinnamon Lakeside</td>\n",
              "      <td>0.051292</td>\n",
              "      <td>0.948708</td>\n",
              "    </tr>\n",
              "  </tbody>\n",
              "</table>\n",
              "<p>3861 rows × 5 columns</p>\n",
              "</div>"
            ],
            "text/plain": [
              "                                    review_preprocessed  ... Positive_score\n",
              "0     went lunch first part welcoming customer upto ...  ...       0.969696\n",
              "1     great service delicious food lamb shank creamy...  ...       0.970718\n",
              "2     went enough parking space staff friendly helpf...  ...       0.992550\n",
              "3     good food ambience food ambience great definit...  ...       0.995771\n",
              "4     excellent quiet clean place relaxed hangout fo...  ...       0.980260\n",
              "...                                                 ...  ...            ...\n",
              "3856  nice experience nice foodhad anniversary cake ...  ...       0.986998\n",
              "3857  visited royal thai restaurant cinnamon lakesid...  ...       0.996073\n",
              "3858  due fact local restaurant closed corona virus ...  ...       0.923759\n",
              "3859  ate 5320 whilst staying cinnamon lakeside food...  ...       0.988590\n",
              "3860  visited restaurant within posh hotel food exce...  ...       0.948708\n",
              "\n",
              "[3861 rows x 5 columns]"
            ]
          },
          "metadata": {
            "tags": []
          },
          "execution_count": 80
        }
      ]
    },
    {
      "cell_type": "code",
      "metadata": {
        "id": "1AuJqXP-AT00"
      },
      "source": [
        "df_final = df_final.drop(['review_preprocessed','Review_Sentiment'], axis=1)\n",
        "df_group = df_final.groupby('Restaurant_Name').mean()"
      ],
      "execution_count": null,
      "outputs": []
    },
    {
      "cell_type": "code",
      "metadata": {
        "id": "zO7Z9K2vBJA7"
      },
      "source": [
        "df_group = df_group.sort_values(by = ['Positive_score'], ascending=False)"
      ],
      "execution_count": null,
      "outputs": []
    },
    {
      "cell_type": "code",
      "metadata": {
        "colab": {
          "base_uri": "https://localhost:8080/",
          "height": 450
        },
        "id": "Zk7SPd-HBLvz",
        "outputId": "772da40b-7410-4791-cc1f-3af67f73e4b5"
      },
      "source": [
        "df_group"
      ],
      "execution_count": null,
      "outputs": [
        {
          "output_type": "execute_result",
          "data": {
            "text/html": [
              "<div>\n",
              "<style scoped>\n",
              "    .dataframe tbody tr th:only-of-type {\n",
              "        vertical-align: middle;\n",
              "    }\n",
              "\n",
              "    .dataframe tbody tr th {\n",
              "        vertical-align: top;\n",
              "    }\n",
              "\n",
              "    .dataframe thead th {\n",
              "        text-align: right;\n",
              "    }\n",
              "</style>\n",
              "<table border=\"1\" class=\"dataframe\">\n",
              "  <thead>\n",
              "    <tr style=\"text-align: right;\">\n",
              "      <th></th>\n",
              "      <th>Negative_score</th>\n",
              "      <th>Positive_score</th>\n",
              "    </tr>\n",
              "    <tr>\n",
              "      <th>Restaurant_Name</th>\n",
              "      <th></th>\n",
              "      <th></th>\n",
              "    </tr>\n",
              "  </thead>\n",
              "  <tbody>\n",
              "    <tr>\n",
              "      <th>Curry Leaf</th>\n",
              "      <td>0.000001</td>\n",
              "      <td>0.999999</td>\n",
              "    </tr>\n",
              "    <tr>\n",
              "      <th>Forty Seven Spice</th>\n",
              "      <td>0.001186</td>\n",
              "      <td>0.998814</td>\n",
              "    </tr>\n",
              "    <tr>\n",
              "      <th>Life's Good Kitchen</th>\n",
              "      <td>0.001731</td>\n",
              "      <td>0.998269</td>\n",
              "    </tr>\n",
              "    <tr>\n",
              "      <th>The Ocean, The Kingsbury</th>\n",
              "      <td>0.001957</td>\n",
              "      <td>0.998043</td>\n",
              "    </tr>\n",
              "    <tr>\n",
              "      <th>Yue Chuan</th>\n",
              "      <td>0.002375</td>\n",
              "      <td>0.997625</td>\n",
              "    </tr>\n",
              "    <tr>\n",
              "      <th>...</th>\n",
              "      <td>...</td>\n",
              "      <td>...</td>\n",
              "    </tr>\n",
              "    <tr>\n",
              "      <th>Maharaja Palace</th>\n",
              "      <td>0.666558</td>\n",
              "      <td>0.333442</td>\n",
              "    </tr>\n",
              "    <tr>\n",
              "      <th>Majestic City</th>\n",
              "      <td>0.668580</td>\n",
              "      <td>0.331420</td>\n",
              "    </tr>\n",
              "    <tr>\n",
              "      <th>RE</th>\n",
              "      <td>0.673718</td>\n",
              "      <td>0.326282</td>\n",
              "    </tr>\n",
              "    <tr>\n",
              "      <th>Jack Tree</th>\n",
              "      <td>0.687463</td>\n",
              "      <td>0.312537</td>\n",
              "    </tr>\n",
              "    <tr>\n",
              "      <th>Subway</th>\n",
              "      <td>0.752704</td>\n",
              "      <td>0.247296</td>\n",
              "    </tr>\n",
              "  </tbody>\n",
              "</table>\n",
              "<p>439 rows × 2 columns</p>\n",
              "</div>"
            ],
            "text/plain": [
              "                          Negative_score  Positive_score\n",
              "Restaurant_Name                                         \n",
              "Curry Leaf                      0.000001        0.999999\n",
              "Forty Seven Spice               0.001186        0.998814\n",
              "Life's Good Kitchen             0.001731        0.998269\n",
              "The Ocean, The Kingsbury        0.001957        0.998043\n",
              "Yue Chuan                       0.002375        0.997625\n",
              "...                                  ...             ...\n",
              "Maharaja Palace                 0.666558        0.333442\n",
              "Majestic City                   0.668580        0.331420\n",
              "RE                              0.673718        0.326282\n",
              "Jack Tree                       0.687463        0.312537\n",
              "Subway                          0.752704        0.247296\n",
              "\n",
              "[439 rows x 2 columns]"
            ]
          },
          "metadata": {
            "tags": []
          },
          "execution_count": 86
        }
      ]
    },
    {
      "cell_type": "code",
      "metadata": {
        "id": "hCCYx2w3BxBI"
      },
      "source": [
        "df_restaurant = df_group.reset_index(drop=False)"
      ],
      "execution_count": null,
      "outputs": []
    },
    {
      "cell_type": "code",
      "metadata": {
        "colab": {
          "base_uri": "https://localhost:8080/",
          "height": 419
        },
        "id": "vd9_mQixCN8w",
        "outputId": "c261bc91-8cac-44b1-ae8d-585f665a63d8"
      },
      "source": [
        "df_restaurant"
      ],
      "execution_count": null,
      "outputs": [
        {
          "output_type": "execute_result",
          "data": {
            "text/html": [
              "<div>\n",
              "<style scoped>\n",
              "    .dataframe tbody tr th:only-of-type {\n",
              "        vertical-align: middle;\n",
              "    }\n",
              "\n",
              "    .dataframe tbody tr th {\n",
              "        vertical-align: top;\n",
              "    }\n",
              "\n",
              "    .dataframe thead th {\n",
              "        text-align: right;\n",
              "    }\n",
              "</style>\n",
              "<table border=\"1\" class=\"dataframe\">\n",
              "  <thead>\n",
              "    <tr style=\"text-align: right;\">\n",
              "      <th></th>\n",
              "      <th>Restaurant_Name</th>\n",
              "      <th>Negative_score</th>\n",
              "      <th>Positive_score</th>\n",
              "    </tr>\n",
              "  </thead>\n",
              "  <tbody>\n",
              "    <tr>\n",
              "      <th>0</th>\n",
              "      <td>Curry Leaf</td>\n",
              "      <td>0.000001</td>\n",
              "      <td>0.999999</td>\n",
              "    </tr>\n",
              "    <tr>\n",
              "      <th>1</th>\n",
              "      <td>Forty Seven Spice</td>\n",
              "      <td>0.001186</td>\n",
              "      <td>0.998814</td>\n",
              "    </tr>\n",
              "    <tr>\n",
              "      <th>2</th>\n",
              "      <td>Life's Good Kitchen</td>\n",
              "      <td>0.001731</td>\n",
              "      <td>0.998269</td>\n",
              "    </tr>\n",
              "    <tr>\n",
              "      <th>3</th>\n",
              "      <td>The Ocean, The Kingsbury</td>\n",
              "      <td>0.001957</td>\n",
              "      <td>0.998043</td>\n",
              "    </tr>\n",
              "    <tr>\n",
              "      <th>4</th>\n",
              "      <td>Yue Chuan</td>\n",
              "      <td>0.002375</td>\n",
              "      <td>0.997625</td>\n",
              "    </tr>\n",
              "    <tr>\n",
              "      <th>...</th>\n",
              "      <td>...</td>\n",
              "      <td>...</td>\n",
              "      <td>...</td>\n",
              "    </tr>\n",
              "    <tr>\n",
              "      <th>434</th>\n",
              "      <td>Maharaja Palace</td>\n",
              "      <td>0.666558</td>\n",
              "      <td>0.333442</td>\n",
              "    </tr>\n",
              "    <tr>\n",
              "      <th>435</th>\n",
              "      <td>Majestic City</td>\n",
              "      <td>0.668580</td>\n",
              "      <td>0.331420</td>\n",
              "    </tr>\n",
              "    <tr>\n",
              "      <th>436</th>\n",
              "      <td>RE</td>\n",
              "      <td>0.673718</td>\n",
              "      <td>0.326282</td>\n",
              "    </tr>\n",
              "    <tr>\n",
              "      <th>437</th>\n",
              "      <td>Jack Tree</td>\n",
              "      <td>0.687463</td>\n",
              "      <td>0.312537</td>\n",
              "    </tr>\n",
              "    <tr>\n",
              "      <th>438</th>\n",
              "      <td>Subway</td>\n",
              "      <td>0.752704</td>\n",
              "      <td>0.247296</td>\n",
              "    </tr>\n",
              "  </tbody>\n",
              "</table>\n",
              "<p>439 rows × 3 columns</p>\n",
              "</div>"
            ],
            "text/plain": [
              "              Restaurant_Name  Negative_score  Positive_score\n",
              "0                  Curry Leaf        0.000001        0.999999\n",
              "1           Forty Seven Spice        0.001186        0.998814\n",
              "2         Life's Good Kitchen        0.001731        0.998269\n",
              "3    The Ocean, The Kingsbury        0.001957        0.998043\n",
              "4                   Yue Chuan        0.002375        0.997625\n",
              "..                        ...             ...             ...\n",
              "434           Maharaja Palace        0.666558        0.333442\n",
              "435             Majestic City        0.668580        0.331420\n",
              "436                        RE        0.673718        0.326282\n",
              "437                 Jack Tree        0.687463        0.312537\n",
              "438                    Subway        0.752704        0.247296\n",
              "\n",
              "[439 rows x 3 columns]"
            ]
          },
          "metadata": {
            "tags": []
          },
          "execution_count": 90
        }
      ]
    },
    {
      "cell_type": "code",
      "metadata": {
        "id": "Uhp87YJJCPlv"
      },
      "source": [
        "df_restaurant.to_csv('Restaurants_with_sentiment_scores.csv', index=False)"
      ],
      "execution_count": null,
      "outputs": []
    },
    {
      "cell_type": "code",
      "metadata": {
        "id": "iSmu9nMxCgu9"
      },
      "source": [
        ""
      ],
      "execution_count": null,
      "outputs": []
    }
  ]
}
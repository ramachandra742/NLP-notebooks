{
  "cells": [
    {
      "cell_type": "code",
      "execution_count": null,
      "metadata": {
        "colab": {
          "base_uri": "https://localhost:8080/"
        },
        "id": "1Iiv4gDdBc1r",
        "outputId": "e365457d-a004-44ee-bdf0-09b927a9b87c"
      },
      "outputs": [
        {
          "output_type": "stream",
          "name": "stdout",
          "text": [
            "Drive already mounted at /content/drive; to attempt to forcibly remount, call drive.mount(\"/content/drive\", force_remount=True).\n"
          ]
        }
      ],
      "source": [
        "#Mount google drive \n",
        "from google.colab import drive\n",
        "drive.mount('/content/drive')"
      ]
    },
    {
      "cell_type": "code",
      "execution_count": null,
      "metadata": {
        "id": "i7_wUcC_PuBW"
      },
      "outputs": [],
      "source": [
        "# Import the required libraries\n",
        "import numpy as np\n",
        "import pandas as pd\n",
        "import seaborn as sns\n",
        "import matplotlib.pyplot as plt\n",
        "import warnings \n",
        "warnings.filterwarnings('ignore')"
      ]
    },
    {
      "cell_type": "markdown",
      "metadata": {
        "id": "3HrPoQiW3mEN"
      },
      "source": [
        "**Read the data**"
      ]
    },
    {
      "cell_type": "code",
      "execution_count": null,
      "metadata": {
        "id": "TAzs6tTVBqyi"
      },
      "outputs": [],
      "source": [
        "path = '/content/drive/MyDrive/Kupra/text classification/Literales (1) copia.xlsx'\n",
        "data = pd.read_excel(path,sheet_name=2)"
      ]
    },
    {
      "cell_type": "code",
      "execution_count": null,
      "metadata": {
        "colab": {
          "base_uri": "https://localhost:8080/",
          "height": 484
        },
        "id": "DZN8wpYHPzb-",
        "outputId": "c372f53e-6191-4173-e054-1212e251193b"
      },
      "outputs": [
        {
          "output_type": "execute_result",
          "data": {
            "text/html": [
              "<div>\n",
              "<style scoped>\n",
              "    .dataframe tbody tr th:only-of-type {\n",
              "        vertical-align: middle;\n",
              "    }\n",
              "\n",
              "    .dataframe tbody tr th {\n",
              "        vertical-align: top;\n",
              "    }\n",
              "\n",
              "    .dataframe thead th {\n",
              "        text-align: right;\n",
              "    }\n",
              "</style>\n",
              "<table border=\"1\" class=\"dataframe\">\n",
              "  <thead>\n",
              "    <tr style=\"text-align: right;\">\n",
              "      <th></th>\n",
              "      <th>RUT</th>\n",
              "      <th>Pass</th>\n",
              "      <th>Literal</th>\n",
              "      <th>Categoría</th>\n",
              "      <th>INC</th>\n",
              "      <th>Conv</th>\n",
              "      <th>Fecha</th>\n",
              "      <th>Mercado</th>\n",
              "      <th>Detalle Merc</th>\n",
              "      <th>Global</th>\n",
              "      <th>Tarifa</th>\n",
              "      <th>Dispositivo</th>\n",
              "      <th>Viaje</th>\n",
              "      <th>Unnamed: 13</th>\n",
              "    </tr>\n",
              "  </thead>\n",
              "  <tbody>\n",
              "    <tr>\n",
              "      <th>0</th>\n",
              "      <td>152641494</td>\n",
              "      <td>NaN</td>\n",
              "      <td>Debería tener una opción de chatear con person...</td>\n",
              "      <td>Servicio</td>\n",
              "      <td>NaN</td>\n",
              "      <td>0</td>\n",
              "      <td>2021-03-30 00:00:00.000</td>\n",
              "      <td>InalambricoTDE</td>\n",
              "      <td>NaN</td>\n",
              "      <td>1.0</td>\n",
              "      <td>Triple TV Super HD + TF + Int Pro 30 Mbps</td>\n",
              "      <td>Mobile</td>\n",
              "      <td>Ayuda y Soporte</td>\n",
              "      <td>NaN</td>\n",
              "    </tr>\n",
              "    <tr>\n",
              "      <th>1</th>\n",
              "      <td>13375492K</td>\n",
              "      <td>NaN</td>\n",
              "      <td>Lento el sistema, no se notan para nada todos ...</td>\n",
              "      <td>servicio</td>\n",
              "      <td>NaN</td>\n",
              "      <td>1</td>\n",
              "      <td>2021-04-27 21:00:42.643</td>\n",
              "      <td>FibraTDE</td>\n",
              "      <td>NaN</td>\n",
              "      <td>2.0</td>\n",
              "      <td>NaN</td>\n",
              "      <td>Mobile</td>\n",
              "      <td>Ayuda y Soporte</td>\n",
              "      <td>NaN</td>\n",
              "    </tr>\n",
              "    <tr>\n",
              "      <th>2</th>\n",
              "      <td>157508288</td>\n",
              "      <td>NaN</td>\n",
              "      <td>Pésimo servicio de internet hogar</td>\n",
              "      <td>Servicio</td>\n",
              "      <td>NaN</td>\n",
              "      <td>1</td>\n",
              "      <td>2021-03-30 00:00:00.000</td>\n",
              "      <td>InalambricoTDE</td>\n",
              "      <td>NaN</td>\n",
              "      <td>1.0</td>\n",
              "      <td>Duo TV Super HD + Internet Pro 30 Mbps</td>\n",
              "      <td>Mobile</td>\n",
              "      <td>Ver Cuenta / Boleta</td>\n",
              "      <td>NaN</td>\n",
              "    </tr>\n",
              "    <tr>\n",
              "      <th>3</th>\n",
              "      <td>70759810</td>\n",
              "      <td>NaN</td>\n",
              "      <td>Estos últimos 6 meses estoy totalmente desconf...</td>\n",
              "      <td>Servicio</td>\n",
              "      <td>NaN</td>\n",
              "      <td>1</td>\n",
              "      <td>2021-03-30 00:00:00.000</td>\n",
              "      <td>ILM</td>\n",
              "      <td>NaN</td>\n",
              "      <td>1.0</td>\n",
              "      <td>Duo Telefonia Fija + Internet Pro 30 Mbps</td>\n",
              "      <td>Desktop</td>\n",
              "      <td>Otro Motivo</td>\n",
              "      <td>NaN</td>\n",
              "    </tr>\n",
              "    <tr>\n",
              "      <th>4</th>\n",
              "      <td>142197855</td>\n",
              "      <td>NaN</td>\n",
              "      <td>Dificil de usar, no es claro.</td>\n",
              "      <td>UX</td>\n",
              "      <td>NaN</td>\n",
              "      <td>0</td>\n",
              "      <td>2021-03-31 00:00:00.000</td>\n",
              "      <td>ILM</td>\n",
              "      <td>NaN</td>\n",
              "      <td>1.0</td>\n",
              "      <td>Triple TV Super HD + TF + Int Pro 30 Mbps</td>\n",
              "      <td>Mobile</td>\n",
              "      <td>Otro Motivo</td>\n",
              "      <td>NaN</td>\n",
              "    </tr>\n",
              "  </tbody>\n",
              "</table>\n",
              "</div>"
            ],
            "text/plain": [
              "         RUT Pass  ...                Viaje Unnamed: 13\n",
              "0  152641494  NaN  ...      Ayuda y Soporte         NaN\n",
              "1  13375492K  NaN  ...      Ayuda y Soporte         NaN\n",
              "2  157508288  NaN  ...  Ver Cuenta / Boleta         NaN\n",
              "3   70759810  NaN  ...          Otro Motivo         NaN\n",
              "4  142197855  NaN  ...          Otro Motivo         NaN\n",
              "\n",
              "[5 rows x 14 columns]"
            ]
          },
          "metadata": {},
          "execution_count": 4
        }
      ],
      "source": [
        "data.head()"
      ]
    },
    {
      "cell_type": "code",
      "source": [
        "data.info()"
      ],
      "metadata": {
        "colab": {
          "base_uri": "https://localhost:8080/"
        },
        "id": "ZMNQOV6oeWPM",
        "outputId": "7f962b8a-606f-4112-b91b-c036b06649ae"
      },
      "execution_count": null,
      "outputs": [
        {
          "output_type": "stream",
          "name": "stdout",
          "text": [
            "<class 'pandas.core.frame.DataFrame'>\n",
            "RangeIndex: 2880 entries, 0 to 2879\n",
            "Data columns (total 14 columns):\n",
            " #   Column        Non-Null Count  Dtype         \n",
            "---  ------        --------------  -----         \n",
            " 0   RUT           2876 non-null   object        \n",
            " 1   Pass          371 non-null    object        \n",
            " 2   Literal       2880 non-null   object        \n",
            " 3   Categoría     2603 non-null   object        \n",
            " 4   INC           66 non-null     object        \n",
            " 5   Conv          1222 non-null   object        \n",
            " 6   Fecha         2820 non-null   datetime64[ns]\n",
            " 7   Mercado       2880 non-null   object        \n",
            " 8   Detalle Merc  522 non-null    object        \n",
            " 9   Global        2804 non-null   float64       \n",
            " 10  Tarifa        2557 non-null   object        \n",
            " 11  Dispositivo   2800 non-null   object        \n",
            " 12  Viaje         2634 non-null   object        \n",
            " 13  Unnamed: 13   1 non-null      float64       \n",
            "dtypes: datetime64[ns](1), float64(2), object(11)\n",
            "memory usage: 315.1+ KB\n"
          ]
        }
      ]
    },
    {
      "cell_type": "code",
      "execution_count": null,
      "metadata": {
        "id": "eT2r2GAnQF3r"
      },
      "outputs": [],
      "source": [
        "#select only text & relevence columns\n",
        "df = data[['Literal', 'Categoría']]\n",
        "\n",
        "# Drop null values \n",
        "df = df.dropna()"
      ]
    },
    {
      "cell_type": "markdown",
      "source": [
        "### Distribution of Categoría"
      ],
      "metadata": {
        "id": "54gYbSx0qj7B"
      }
    },
    {
      "cell_type": "code",
      "source": [
        "plt.figure(figsize=(12,6))\n",
        "df.Categoría.value_counts().plot.bar()\n",
        "plt.xlabel('Categoría')\n",
        "plt.ylabel('Count')\n",
        "plt.show()"
      ],
      "metadata": {
        "colab": {
          "base_uri": "https://localhost:8080/",
          "height": 486
        },
        "id": "wn4fQGaVCfYs",
        "outputId": "770d8f5f-af5b-45a1-b571-af4ef66bf4fa"
      },
      "execution_count": null,
      "outputs": [
        {
          "output_type": "display_data",
          "data": {
            "image/png": "[encoded data removed]",
            "text/plain": [
              "<Figure size 864x432 with 1 Axes>"
            ]
          },
          "metadata": {
            "needs_background": "light"
          }
        }
      ]
    },
    {
      "cell_type": "markdown",
      "source": [
        "We can see that the categories UX & ux , servicio & Servicio, Funcionalidad &funcionalidad, Otro & otro, Error no reproducible & error no reproducible, Error reproducible & error reproducible. Since these pair of categories same, let's convert them to a single category."
      ],
      "metadata": {
        "id": "Bn34FCCvqnYw"
      }
    },
    {
      "cell_type": "code",
      "source": [
        "df['Categoría'] = df['Categoría'].replace({'Servicio': 'servicio', 'UX': 'ux', 'Funcionalidad': 'funcionalidad', 'Otro': 'otro',\n",
        "                              'Error no reproducible':'error no reproducible','Error reproducible':'error reproducible'})\n",
        "df.head()"
      ],
      "metadata": {
        "colab": {
          "base_uri": "https://localhost:8080/",
          "height": 206
        },
        "id": "dQy2uybeaQFh",
        "outputId": "0a084665-0aa3-45e2-a899-bba28cae1e76"
      },
      "execution_count": null,
      "outputs": [
        {
          "output_type": "execute_result",
          "data": {
            "text/html": [
              "<div>\n",
              "<style scoped>\n",
              "    .dataframe tbody tr th:only-of-type {\n",
              "        vertical-align: middle;\n",
              "    }\n",
              "\n",
              "    .dataframe tbody tr th {\n",
              "        vertical-align: top;\n",
              "    }\n",
              "\n",
              "    .dataframe thead th {\n",
              "        text-align: right;\n",
              "    }\n",
              "</style>\n",
              "<table border=\"1\" class=\"dataframe\">\n",
              "  <thead>\n",
              "    <tr style=\"text-align: right;\">\n",
              "      <th></th>\n",
              "      <th>Literal</th>\n",
              "      <th>Categoría</th>\n",
              "    </tr>\n",
              "  </thead>\n",
              "  <tbody>\n",
              "    <tr>\n",
              "      <th>0</th>\n",
              "      <td>Debería tener una opción de chatear con person...</td>\n",
              "      <td>servicio</td>\n",
              "    </tr>\n",
              "    <tr>\n",
              "      <th>1</th>\n",
              "      <td>Lento el sistema, no se notan para nada todos ...</td>\n",
              "      <td>servicio</td>\n",
              "    </tr>\n",
              "    <tr>\n",
              "      <th>2</th>\n",
              "      <td>Pésimo servicio de internet hogar</td>\n",
              "      <td>servicio</td>\n",
              "    </tr>\n",
              "    <tr>\n",
              "      <th>3</th>\n",
              "      <td>Estos últimos 6 meses estoy totalmente desconf...</td>\n",
              "      <td>servicio</td>\n",
              "    </tr>\n",
              "    <tr>\n",
              "      <th>4</th>\n",
              "      <td>Dificil de usar, no es claro.</td>\n",
              "      <td>ux</td>\n",
              "    </tr>\n",
              "  </tbody>\n",
              "</table>\n",
              "</div>"
            ],
            "text/plain": [
              "                                             Literal Categoría\n",
              "0  Debería tener una opción de chatear con person...  servicio\n",
              "1  Lento el sistema, no se notan para nada todos ...  servicio\n",
              "2                  Pésimo servicio de internet hogar  servicio\n",
              "3  Estos últimos 6 meses estoy totalmente desconf...  servicio\n",
              "4                      Dificil de usar, no es claro.        ux"
            ]
          },
          "metadata": {},
          "execution_count": 8
        }
      ]
    },
    {
      "cell_type": "markdown",
      "source": [
        "### Distribution of Categoría after cleaning"
      ],
      "metadata": {
        "id": "q10ZF5OLp4PV"
      }
    },
    {
      "cell_type": "code",
      "source": [
        "plt.figure(figsize=(12,6))\n",
        "df.Categoría.value_counts().plot.bar()\n",
        "plt.xlabel('Categoría')\n",
        "plt.ylabel('Count')\n",
        "plt.show()"
      ],
      "metadata": {
        "colab": {
          "base_uri": "https://localhost:8080/",
          "height": 484
        },
        "id": "IlT822EQcDgx",
        "outputId": "b0eef749-8c8f-4698-e0d8-1b90ec4a8911"
      },
      "execution_count": null,
      "outputs": [
        {
          "output_type": "display_data",
          "data": {
            "image/png": "[encoded data removed]",
            "text/plain": [
              "<Figure size 864x432 with 1 Axes>"
            ]
          },
          "metadata": {
            "needs_background": "light"
          }
        }
      ]
    },
    {
      "cell_type": "markdown",
      "source": [
        "From the above plot we can say that, the performance category doesn't have sufficient number of samples. It will have detrimental impact on the model performance. So, let's drop that category. Also, the data is highly imbalanced."
      ],
      "metadata": {
        "id": "V94i5IHmvUwP"
      }
    },
    {
      "cell_type": "code",
      "source": [
        "df = df[df['Categoría']!='performance'].reset_index(drop=True)"
      ],
      "metadata": {
        "id": "kAH3JkV7wm3o"
      },
      "execution_count": null,
      "outputs": []
    },
    {
      "cell_type": "markdown",
      "source": [
        "### Encode the Categoría feature"
      ],
      "metadata": {
        "id": "zpMve0Af11Hc"
      }
    },
    {
      "cell_type": "code",
      "execution_count": null,
      "metadata": {
        "id": "HIPm1Vmz8jQQ"
      },
      "outputs": [],
      "source": [
        "# Consider class 0,1,2,3,4,5,6,7\n",
        "def change_label(label):\n",
        "    if label=='servicio':\n",
        "        return 0\n",
        "    elif label=='ux':\n",
        "        return 1\n",
        "    elif label=='funcionalidad':\n",
        "        return 2\n",
        "    elif label=='otro':\n",
        "        return 3\n",
        "    elif label=='revisar':\n",
        "        return 4\n",
        "    elif label=='error no reproducible':\n",
        "        return 5\n",
        "    elif label=='positivo':\n",
        "        return 6\n",
        "    elif label=='error reproducible':\n",
        "        return 7\n",
        "     \n",
        "df['Categoría'] = df['Categoría'].apply(change_label)"
      ]
    },
    {
      "cell_type": "code",
      "execution_count": null,
      "metadata": {
        "id": "VN5oMPp_SFkg"
      },
      "outputs": [],
      "source": [
        "# Create features & labels\n",
        "X = df['Literal']             # Features\n",
        "y = df['Categoría']           # labels"
      ]
    },
    {
      "cell_type": "markdown",
      "metadata": {
        "id": "y_ri60DbCfk9"
      },
      "source": [
        "**Train-Validation-Test Split**"
      ]
    },
    {
      "cell_type": "code",
      "execution_count": null,
      "metadata": {
        "colab": {
          "base_uri": "https://localhost:8080/"
        },
        "id": "C9knyCCVac8S",
        "outputId": "6e1421dd-8b93-4a79-8408-5d51e8967eb9"
      },
      "outputs": [
        {
          "output_type": "stream",
          "name": "stdout",
          "text": [
            "Train shape : (2339,)\n",
            "Validation shape : (130,)\n",
            "Testing shape : (130,)\n"
          ]
        }
      ],
      "source": [
        "from sklearn.model_selection import train_test_split\n",
        "# Split the train into train (90%),val (5%) & test sets(5%).\n",
        "x_train, x_val, y_train, y_val = train_test_split(X, y, test_size=0.1, random_state=42, stratify=y)\n",
        "x_val, x_test, y_val, y_test = train_test_split(x_val, y_val, test_size=0.5, random_state=42, stratify=y_val)\n",
        "\n",
        "print(f'Train shape : {x_train.shape}')\n",
        "print(f'Validation shape : {x_val.shape}')\n",
        "print(f'Testing shape : {x_test.shape}')"
      ]
    },
    {
      "cell_type": "code",
      "execution_count": null,
      "metadata": {
        "colab": {
          "base_uri": "https://localhost:8080/"
        },
        "id": "0EY47ZXdynum",
        "outputId": "63de96ea-7bfe-45e4-d244-4ef732b26aea"
      },
      "outputs": [
        {
          "output_type": "execute_result",
          "data": {
            "text/plain": [
              "0    915\n",
              "1    338\n",
              "2    297\n",
              "3    291\n",
              "4    221\n",
              "5    139\n",
              "6     76\n",
              "7     62\n",
              "Name: Categoría, dtype: int64"
            ]
          },
          "metadata": {},
          "execution_count": 14
        }
      ],
      "source": [
        "# Number of samples in each class in labels\n",
        "y_train.value_counts()"
      ]
    },
    {
      "cell_type": "markdown",
      "metadata": {
        "id": "JcLsnLj7DHz2"
      },
      "source": [
        "**GPU & Transformer Setup**"
      ]
    },
    {
      "cell_type": "code",
      "execution_count": null,
      "metadata": {
        "colab": {
          "base_uri": "https://localhost:8080/"
        },
        "id": "cG9rGLc5C0FS",
        "outputId": "6cbc67de-4caa-4fe9-d767-50a28e097221"
      },
      "outputs": [
        {
          "output_type": "stream",
          "name": "stdout",
          "text": [
            "There are 1 GPU(s) available.\n",
            "We will use the GPU: Tesla K80\n"
          ]
        }
      ],
      "source": [
        "import torch\n",
        "\n",
        "# If there's a GPU available...\n",
        "if torch.cuda.is_available():    \n",
        "\n",
        "    # Tell PyTorch to use the GPU.    \n",
        "    device = torch.device(\"cuda\")\n",
        "\n",
        "    print('There are %d GPU(s) available.' % torch.cuda.device_count())\n",
        "\n",
        "    print('We will use the GPU:', torch.cuda.get_device_name(0))\n",
        "\n",
        "# If not...\n",
        "else:\n",
        "    print('No GPU available, using the CPU instead.')\n",
        "    device = torch.device(\"cpu\")"
      ]
    },
    {
      "cell_type": "markdown",
      "metadata": {
        "id": "4Pem67i8DkHE"
      },
      "source": [
        "**Install huggingface transformers.**"
      ]
    },
    {
      "cell_type": "markdown",
      "source": [
        "We use huggingface transformers to build BERT model for text classification."
      ],
      "metadata": {
        "id": "AhTSLXcYj3CI"
      }
    },
    {
      "cell_type": "code",
      "execution_count": null,
      "metadata": {
        "colab": {
          "base_uri": "https://localhost:8080/"
        },
        "id": "hhpgtjoaDWf1",
        "outputId": "6a4daf9d-cfa4-4a38-9fdd-24527725d33f"
      },
      "outputs": [
        {
          "output_type": "stream",
          "name": "stdout",
          "text": [
            "Requirement already satisfied: transformers in /usr/local/lib/python3.7/dist-packages (4.14.1)\n",
            "Requirement already satisfied: requests in /usr/local/lib/python3.7/dist-packages (from transformers) (2.23.0)\n",
            "Requirement already satisfied: numpy>=1.17 in /usr/local/lib/python3.7/dist-packages (from transformers) (1.19.5)\n",
            "Requirement already satisfied: packaging>=20.0 in /usr/local/lib/python3.7/dist-packages (from transformers) (21.3)\n",
            "Requirement already satisfied: regex!=2019.12.17 in /usr/local/lib/python3.7/dist-packages (from transformers) (2019.12.20)\n",
            "Requirement already satisfied: filelock in /usr/local/lib/python3.7/dist-packages (from transformers) (3.4.0)\n",
            "Requirement already satisfied: tqdm>=4.27 in /usr/local/lib/python3.7/dist-packages (from transformers) (4.62.3)\n",
            "Requirement already satisfied: sacremoses in /usr/local/lib/python3.7/dist-packages (from transformers) (0.0.46)\n",
            "Requirement already satisfied: huggingface-hub<1.0,>=0.1.0 in /usr/local/lib/python3.7/dist-packages (from transformers) (0.2.1)\n",
            "Requirement already satisfied: tokenizers<0.11,>=0.10.1 in /usr/local/lib/python3.7/dist-packages (from transformers) (0.10.3)\n",
            "Requirement already satisfied: pyyaml>=5.1 in /usr/local/lib/python3.7/dist-packages (from transformers) (6.0)\n",
            "Requirement already satisfied: importlib-metadata in /usr/local/lib/python3.7/dist-packages (from transformers) (4.8.2)\n",
            "Requirement already satisfied: typing-extensions>=3.7.4.3 in /usr/local/lib/python3.7/dist-packages (from huggingface-hub<1.0,>=0.1.0->transformers) (3.10.0.2)\n",
            "Requirement already satisfied: pyparsing!=3.0.5,>=2.0.2 in /usr/local/lib/python3.7/dist-packages (from packaging>=20.0->transformers) (3.0.6)\n",
            "Requirement already satisfied: zipp>=0.5 in /usr/local/lib/python3.7/dist-packages (from importlib-metadata->transformers) (3.6.0)\n",
            "Requirement already satisfied: chardet<4,>=3.0.2 in /usr/local/lib/python3.7/dist-packages (from requests->transformers) (3.0.4)\n",
            "Requirement already satisfied: idna<3,>=2.5 in /usr/local/lib/python3.7/dist-packages (from requests->transformers) (2.10)\n",
            "Requirement already satisfied: urllib3!=1.25.0,!=1.25.1,<1.26,>=1.21.1 in /usr/local/lib/python3.7/dist-packages (from requests->transformers) (1.24.3)\n",
            "Requirement already satisfied: certifi>=2017.4.17 in /usr/local/lib/python3.7/dist-packages (from requests->transformers) (2021.10.8)\n",
            "Requirement already satisfied: six in /usr/local/lib/python3.7/dist-packages (from sacremoses->transformers) (1.15.0)\n",
            "Requirement already satisfied: joblib in /usr/local/lib/python3.7/dist-packages (from sacremoses->transformers) (1.1.0)\n",
            "Requirement already satisfied: click in /usr/local/lib/python3.7/dist-packages (from sacremoses->transformers) (7.1.2)\n"
          ]
        }
      ],
      "source": [
        "!pip install transformers"
      ]
    },
    {
      "cell_type": "markdown",
      "source": [
        "**Data Preprocessing**"
      ],
      "metadata": {
        "id": "68ZJNvEkkJOk"
      }
    },
    {
      "cell_type": "markdown",
      "source": [
        "You might already know that Machine Learning models don’t work with raw text. You need to convert text to numbers. BERT requires even more attention because it is a state of the art language model. Here are the requirements:\n",
        "* Add special tokens to separate sentences and do classification\n",
        "* Pass sequences of constant length (introduce padding)\n",
        "* Create array of 0s (pad token) and 1s (real token) called attention mask to differentiate padded tokens from real tokens.    \n",
        "\n",
        "The Transformers library provides a wide variety of Transformer models (including BERT).It works with TensorFlow and PyTorch!. We are using Pytorch for this task.    \n",
        "\n",
        "In first step we need to convert the raw text to numbers. To perform this we use [BERT Tokenizer](https://huggingface.co/transformers/model_doc/bert.html#berttokenizer). Also, we are considering the \"**dccuchile/bert-base-spanish-wwm-cased**\" pretrained model for this task. This is a **Spanish BERT** trained on a big Spanish corpus. It is of size similar to a BERT-Base and was trained with the Whole Word Masking technique. Please check [here](https://huggingface.co/dccuchile/bert-base-spanish-wwm-cased) for more details.\n",
        "\n"
      ],
      "metadata": {
        "id": "i0RiTqcrkQSE"
      }
    },
    {
      "cell_type": "markdown",
      "metadata": {
        "id": "aVly452iD1tX"
      },
      "source": [
        "**Load the tokenizer**:"
      ]
    },
    {
      "cell_type": "markdown",
      "source": [
        "This is for tokenizing the raw text into numbers (tokens)."
      ],
      "metadata": {
        "id": "5E1m74rynnQu"
      }
    },
    {
      "cell_type": "code",
      "execution_count": null,
      "metadata": {
        "colab": {
          "base_uri": "https://localhost:8080/"
        },
        "id": "es9jUW1GDpfc",
        "outputId": "665275ea-5ab0-4ed4-a376-07b002640ae7"
      },
      "outputs": [
        {
          "output_type": "stream",
          "name": "stdout",
          "text": [
            "Loading BERT tokenizer...\n"
          ]
        }
      ],
      "source": [
        "from transformers import BertTokenizer\n",
        "\n",
        "# Load the BERT tokenizer.\n",
        "print('Loading BERT tokenizer...')\n",
        "tokenizer = BertTokenizer.from_pretrained('dccuchile/bert-base-spanish-wwm-cased',  do_lower_case=False)"
      ]
    },
    {
      "cell_type": "markdown",
      "source": [
        "We’ll use a sample text to understand the tokenization process:"
      ],
      "metadata": {
        "id": "1M3aZhqOn1U3"
      }
    },
    {
      "cell_type": "code",
      "source": [
        "sample_txt = x_train[0]\n",
        "sample_txt"
      ],
      "metadata": {
        "colab": {
          "base_uri": "https://localhost:8080/",
          "height": 53
        },
        "id": "CaI-K-W_n7k7",
        "outputId": "ba986e54-7ff3-460d-c11c-1104dc881d21"
      },
      "execution_count": null,
      "outputs": [
        {
          "output_type": "execute_result",
          "data": {
            "application/vnd.google.colaboratory.intrinsic+json": {
              "type": "string"
            },
            "text/plain": [
              "'Debería tener una opción de chatear con personas reales que nos den soluciones fehacientes o no con operadores virtuales que no saben que no hay stock de productos..'"
            ]
          },
          "metadata": {},
          "execution_count": 18
        }
      ]
    },
    {
      "cell_type": "markdown",
      "source": [
        "Let's do some basic operations to convert the text to tokens and tokens to unique integers (ids):"
      ],
      "metadata": {
        "id": "oDj37jUgoLfL"
      }
    },
    {
      "cell_type": "code",
      "source": [
        "tokens = tokenizer.tokenize(sample_txt)\n",
        "token_ids = tokenizer.convert_tokens_to_ids(tokens)\n",
        "print(f' Sentence: {sample_txt}')\n",
        "print(f'   Tokens: {tokens}')\n",
        "print(f'Token IDs: {token_ids}')"
      ],
      "metadata": {
        "colab": {
          "base_uri": "https://localhost:8080/"
        },
        "id": "O6tYP4Tdokqa",
        "outputId": "c004e420-16c5-497e-86b2-940963fe9bd8"
      },
      "execution_count": null,
      "outputs": [
        {
          "output_type": "stream",
          "name": "stdout",
          "text": [
            " Sentence: Debería tener una opción de chatear con personas reales que nos den soluciones fehacientes o no con operadores virtuales que no saben que no hay stock de productos..\n",
            "   Tokens: ['Debería', 'tener', 'una', 'opción', 'de', 'cha', '##tear', 'con', 'personas', 'reales', 'que', 'nos', 'den', 'soluciones', 'fe', '##ha', '##cientes', 'o', 'no', 'con', 'operadores', 'virtual', '##es', 'que', 'no', 'saben', 'que', 'no', 'hay', 'st', '##oc', '##k', 'de', 'productos', '.', '.']\n",
            "Token IDs: [6592, 1970, 1108, 6092, 1008, 8161, 14429, 1051, 1858, 7620, 1038, 1445, 1728, 8258, 1975, 2669, 11435, 1074, 1084, 1051, 12072, 19757, 1019, 1038, 1084, 5332, 1038, 1084, 1423, 28021, 3246, 981, 1008, 2573, 1009, 1009]\n"
          ]
        }
      ]
    },
    {
      "cell_type": "markdown",
      "source": [
        "Now add special tokens using [encode_plus](https://huggingface.co/transformers/main_classes/tokenizer.html#transformers.PreTrainedTokenizer.encode_plus) method.   \n",
        "The special tokens are,    \n",
        "[SEP] - marker for ending of a sentence    \n",
        "[CLS] - we must add this token to the start of each sentence, so BERT knows we’re doing classification  \n",
        "[PAD] - Padded token"
      ],
      "metadata": {
        "id": "xLQ6aF0QoxRT"
      }
    },
    {
      "cell_type": "code",
      "source": [
        "encoding = tokenizer.encode_plus(\n",
        "  sample_txt,\n",
        "  max_length=64,\n",
        "  add_special_tokens=True, # Add '[CLS]' and '[SEP]'\n",
        "  return_token_type_ids=False,\n",
        "  pad_to_max_length=True,\n",
        "  truncation=True,\n",
        "  return_attention_mask=True,\n",
        "  return_tensors='pt',  # Return PyTorch tensors\n",
        ")\n",
        "encoding.keys()"
      ],
      "metadata": {
        "colab": {
          "base_uri": "https://localhost:8080/"
        },
        "id": "jH2-SPWHpagm",
        "outputId": "e4d65140-3a6c-4f98-f2b8-3f6b4e46c5de"
      },
      "execution_count": null,
      "outputs": [
        {
          "output_type": "execute_result",
          "data": {
            "text/plain": [
              "dict_keys(['input_ids', 'attention_mask'])"
            ]
          },
          "metadata": {},
          "execution_count": 20
        }
      ]
    },
    {
      "cell_type": "markdown",
      "source": [
        "The token ids are now stored in a Tensor and padded to a length of 64:"
      ],
      "metadata": {
        "id": "DQ7K9WNAqLww"
      }
    },
    {
      "cell_type": "code",
      "source": [
        "print(len(encoding['input_ids'][0]))\n",
        "encoding['input_ids'][0]"
      ],
      "metadata": {
        "colab": {
          "base_uri": "https://localhost:8080/"
        },
        "id": "jgWSq4BQqNkA",
        "outputId": "56f4e070-00e8-489b-d931-c16167e5295e"
      },
      "execution_count": null,
      "outputs": [
        {
          "output_type": "stream",
          "name": "stdout",
          "text": [
            "64\n"
          ]
        },
        {
          "output_type": "execute_result",
          "data": {
            "text/plain": [
              "tensor([    4,  6592,  1970,  1108,  6092,  1008,  8161, 14429,  1051,  1858,\n",
              "         7620,  1038,  1445,  1728,  8258,  1975,  2669, 11435,  1074,  1084,\n",
              "         1051, 12072, 19757,  1019,  1038,  1084,  5332,  1038,  1084,  1423,\n",
              "        28021,  3246,   981,  1008,  2573,  1009,  1009,     5,     1,     1,\n",
              "            1,     1,     1,     1,     1,     1,     1,     1,     1,     1,\n",
              "            1,     1,     1,     1,     1,     1,     1,     1,     1,     1,\n",
              "            1,     1,     1,     1])"
            ]
          },
          "metadata": {},
          "execution_count": 21
        }
      ]
    },
    {
      "cell_type": "markdown",
      "source": [
        "In above tensor, the token id from 4 to 1009 are real tokens & all 1's are padded tokens. If the sequence of text is less than the max length of sequence, those extra tokens are padded to 1. The token id 4 is the [CLS] token & 5 is the [SEP] token."
      ],
      "metadata": {
        "id": "7CodTZ8sqaDC"
      }
    },
    {
      "cell_type": "markdown",
      "source": [
        "The attention mask has the same length as input_ids:"
      ],
      "metadata": {
        "id": "4x9SP26TrBSf"
      }
    },
    {
      "cell_type": "code",
      "source": [
        "print(len(encoding['attention_mask'][0]))\n",
        "encoding['attention_mask']"
      ],
      "metadata": {
        "colab": {
          "base_uri": "https://localhost:8080/"
        },
        "id": "BltxzCF5rHau",
        "outputId": "fc93cefb-482e-47b7-be56-30fe37077bfc"
      },
      "execution_count": null,
      "outputs": [
        {
          "output_type": "stream",
          "name": "stdout",
          "text": [
            "64\n"
          ]
        },
        {
          "output_type": "execute_result",
          "data": {
            "text/plain": [
              "tensor([[1, 1, 1, 1, 1, 1, 1, 1, 1, 1, 1, 1, 1, 1, 1, 1, 1, 1, 1, 1, 1, 1, 1, 1,\n",
              "         1, 1, 1, 1, 1, 1, 1, 1, 1, 1, 1, 1, 1, 1, 0, 0, 0, 0, 0, 0, 0, 0, 0, 0,\n",
              "         0, 0, 0, 0, 0, 0, 0, 0, 0, 0, 0, 0, 0, 0, 0, 0]])"
            ]
          },
          "metadata": {},
          "execution_count": 22
        }
      ]
    },
    {
      "cell_type": "markdown",
      "source": [
        "In attention mask, 1's are real tokens & 0's are padded tokens."
      ],
      "metadata": {
        "id": "tqyu5HtGrPlI"
      }
    },
    {
      "cell_type": "markdown",
      "source": [
        "We can inverse the tokenization to have a look at the special tokens:"
      ],
      "metadata": {
        "id": "JOxerBvxrbz_"
      }
    },
    {
      "cell_type": "code",
      "source": [
        "tokenizer.convert_ids_to_tokens(encoding['input_ids'][0])"
      ],
      "metadata": {
        "colab": {
          "base_uri": "https://localhost:8080/"
        },
        "id": "xXTLLoyArdiT",
        "outputId": "037300bd-5df2-4d27-b132-187b727a2f56"
      },
      "execution_count": null,
      "outputs": [
        {
          "output_type": "execute_result",
          "data": {
            "text/plain": [
              "['[CLS]',\n",
              " 'Debería',\n",
              " 'tener',\n",
              " 'una',\n",
              " 'opción',\n",
              " 'de',\n",
              " 'cha',\n",
              " '##tear',\n",
              " 'con',\n",
              " 'personas',\n",
              " 'reales',\n",
              " 'que',\n",
              " 'nos',\n",
              " 'den',\n",
              " 'soluciones',\n",
              " 'fe',\n",
              " '##ha',\n",
              " '##cientes',\n",
              " 'o',\n",
              " 'no',\n",
              " 'con',\n",
              " 'operadores',\n",
              " 'virtual',\n",
              " '##es',\n",
              " 'que',\n",
              " 'no',\n",
              " 'saben',\n",
              " 'que',\n",
              " 'no',\n",
              " 'hay',\n",
              " 'st',\n",
              " '##oc',\n",
              " '##k',\n",
              " 'de',\n",
              " 'productos',\n",
              " '.',\n",
              " '.',\n",
              " '[SEP]',\n",
              " '[PAD]',\n",
              " '[PAD]',\n",
              " '[PAD]',\n",
              " '[PAD]',\n",
              " '[PAD]',\n",
              " '[PAD]',\n",
              " '[PAD]',\n",
              " '[PAD]',\n",
              " '[PAD]',\n",
              " '[PAD]',\n",
              " '[PAD]',\n",
              " '[PAD]',\n",
              " '[PAD]',\n",
              " '[PAD]',\n",
              " '[PAD]',\n",
              " '[PAD]',\n",
              " '[PAD]',\n",
              " '[PAD]',\n",
              " '[PAD]',\n",
              " '[PAD]',\n",
              " '[PAD]',\n",
              " '[PAD]',\n",
              " '[PAD]',\n",
              " '[PAD]',\n",
              " '[PAD]',\n",
              " '[PAD]']"
            ]
          },
          "metadata": {},
          "execution_count": 23
        }
      ]
    },
    {
      "cell_type": "markdown",
      "source": [
        "**Let's choose the Sequence Length**"
      ],
      "metadata": {
        "id": "32IxE0lVrk5M"
      }
    },
    {
      "cell_type": "markdown",
      "source": [
        "BERT works with fixed-length sequences. We’ll use a simple strategy to choose the max length. Let’s store the token length of each text:"
      ],
      "metadata": {
        "id": "NXeGL9dvr3vA"
      }
    },
    {
      "cell_type": "code",
      "source": [
        "token_lens = []\n",
        "for txt in X:\n",
        "  tokens = tokenizer.encode(txt, max_length=512)\n",
        "  token_lens.append(len(tokens))  \n",
        "\n",
        "# Plot the distribution\n",
        "sns.distplot(token_lens)\n",
        "plt.xlim([0, 256]);\n",
        "plt.xlabel('Token count');"
      ],
      "metadata": {
        "colab": {
          "base_uri": "https://localhost:8080/",
          "height": 316
        },
        "id": "Z8eZUiiur2Qf",
        "outputId": "553b13f3-6008-4d02-a233-8481c27c9f14"
      },
      "execution_count": null,
      "outputs": [
        {
          "output_type": "stream",
          "name": "stderr",
          "text": [
            "Truncation was not explicitly activated but `max_length` is provided a specific value, please use `truncation=True` to explicitly truncate examples to max length. Defaulting to 'longest_first' truncation strategy. If you encode pairs of sequences (GLUE-style) with the tokenizer you can select this strategy more precisely by providing a specific strategy to `truncation`.\n"
          ]
        },
        {
          "output_type": "display_data",
          "data": {
            "image/png": "[encoded data removed]",
            "text/plain": [
              "<Figure size 432x288 with 1 Axes>"
            ]
          },
          "metadata": {
            "needs_background": "light"
          }
        }
      ]
    },
    {
      "cell_type": "markdown",
      "source": [
        "Most of the texts appear to contain less than 60 tokens, but we’ll be on the safe side and choose a maximum length of 80."
      ],
      "metadata": {
        "id": "0B4Auq_lsoBz"
      }
    },
    {
      "cell_type": "code",
      "source": [
        "MAX_LEN = 80"
      ],
      "metadata": {
        "id": "P80XStyws5wn"
      },
      "execution_count": null,
      "outputs": []
    },
    {
      "cell_type": "markdown",
      "source": [
        "Before performing tokenization on whole data. Let's load the BERT model for classification."
      ],
      "metadata": {
        "id": "BkZpwSHgtIYz"
      }
    },
    {
      "cell_type": "markdown",
      "metadata": {
        "id": "NiSxSO4GEua8"
      },
      "source": [
        "**Load the BertForSequenceClassification model**:"
      ]
    },
    {
      "cell_type": "markdown",
      "source": [
        "We’ll be using [BertForSequenceClassification](https://huggingface.co/transformers/v3.0.2/model_doc/bert.html#bertforsequenceclassification). This is the normal BERT model with an added single linear layer on top for classification that we will use as a sentence classifier. As we feed input data, the entire pre-trained BERT model and the additional untrained classification layer is trained on our specific task."
      ],
      "metadata": {
        "id": "Ag8KkBymtA8R"
      }
    },
    {
      "cell_type": "code",
      "execution_count": null,
      "metadata": {
        "colab": {
          "base_uri": "https://localhost:8080/"
        },
        "id": "16yB03_aEpGo",
        "outputId": "69bbe02c-b14e-454a-8c7e-5b4d3f36555d"
      },
      "outputs": [
        {
          "output_type": "stream",
          "name": "stderr",
          "text": [
            "Some weights of the model checkpoint at dccuchile/bert-base-spanish-wwm-cased were not used when initializing BertForSequenceClassification: ['cls.predictions.bias', 'cls.predictions.decoder.weight', 'cls.predictions.decoder.bias', 'cls.predictions.transform.LayerNorm.weight', 'cls.predictions.transform.dense.bias', 'cls.predictions.transform.LayerNorm.bias', 'cls.predictions.transform.dense.weight']\n",
            "- This IS expected if you are initializing BertForSequenceClassification from the checkpoint of a model trained on another task or with another architecture (e.g. initializing a BertForSequenceClassification model from a BertForPreTraining model).\n",
            "- This IS NOT expected if you are initializing BertForSequenceClassification from the checkpoint of a model that you expect to be exactly identical (initializing a BertForSequenceClassification model from a BertForSequenceClassification model).\n",
            "Some weights of BertForSequenceClassification were not initialized from the model checkpoint at dccuchile/bert-base-spanish-wwm-cased and are newly initialized: ['classifier.weight', 'bert.pooler.dense.weight', 'classifier.bias', 'bert.pooler.dense.bias']\n",
            "You should probably TRAIN this model on a down-stream task to be able to use it for predictions and inference.\n"
          ]
        }
      ],
      "source": [
        "from transformers import BertForSequenceClassification\n",
        "\n",
        "# Load BertForSequenceClassification, the pretrained BERT model with a single \n",
        "# linear classification layer on top. \n",
        "model = BertForSequenceClassification.from_pretrained(\n",
        "    \"dccuchile/bert-base-spanish-wwm-cased\", # Use bert-base-spanish-wwm-cased pre-trained model\n",
        "    num_labels = 8, # The number of  target classes = 8\n",
        ")\n",
        "\n",
        "# Tell pytorch to run this model on the GPU.\n",
        "model = model.to(device)"
      ]
    },
    {
      "cell_type": "markdown",
      "metadata": {
        "id": "6gcayJHZ-pq6"
      },
      "source": [
        "For the purposes of fine-tuning, the BERT authors recommend choosing from the following values (from Appendix A.3 of the [BERT paper](https://arxiv.org/pdf/1810.04805.pdf)):          \n",
        "\n",
        "Batch size: 16, 32        \n",
        "Learning rate (Adam): 5e-5, 3e-5, 2e-5       \n",
        "Number of epochs: 2, 3, 4            "
      ]
    },
    {
      "cell_type": "markdown",
      "metadata": {
        "id": "kBsGzI3u64_Z"
      },
      "source": [
        "We used above values as a reference for hyperparameter tuning."
      ]
    },
    {
      "cell_type": "code",
      "execution_count": null,
      "metadata": {
        "id": "2NOJr9x5F9DY"
      },
      "outputs": [],
      "source": [
        "# Set training parameters\n",
        "batch_size = 32\n",
        "learning_rate = 5e-5\n",
        "epochs = 3\n",
        "# We alread choosen max length of sequence\n",
        "max_length = MAX_LEN"
      ]
    },
    {
      "cell_type": "markdown",
      "metadata": {
        "id": "c7RjlyKGHB_z"
      },
      "source": [
        "**Tokenize & Encode**"
      ]
    },
    {
      "cell_type": "markdown",
      "source": [
        "Let's tokenize the whole data. Since we are using Pytorch,we need to create a pytorch dataset for train & test sets. We will define a class named **text_Dataset** to create pytorch dataset. This class includes the tokenizer to tokenize the text into tokens."
      ],
      "metadata": {
        "id": "J9qKABgNu0_z"
      }
    },
    {
      "cell_type": "code",
      "execution_count": null,
      "metadata": {
        "id": "WIk3U7YFVAgq"
      },
      "outputs": [],
      "source": [
        "from torch.utils.data import DataLoader, Dataset"
      ]
    },
    {
      "cell_type": "code",
      "execution_count": null,
      "metadata": {
        "id": "rQuzAq4mT0EJ"
      },
      "outputs": [],
      "source": [
        "# Create a Pytorch Dataset\n",
        "\n",
        "class text_Dataset(Dataset):\n",
        "\n",
        "  def __init__(self, texts, labels, tokenizer, max_length):\n",
        "    self.texts = texts\n",
        "    self.labels = labels\n",
        "    self.tokenizer=tokenizer\n",
        "    self.max_length=max_length\n",
        "\n",
        "  def __len__(self):\n",
        "    return len(self.texts)\n",
        "\n",
        "  def __getitem__(self,item):\n",
        "    text = str(self.texts[item])\n",
        "    labels = self.labels[item]\n",
        "\n",
        "    encoding = self.tokenizer.encode_plus(\n",
        "        text,\n",
        "        max_length=max_length,\n",
        "        add_special_tokens=True,\n",
        "        pad_to_max_length=True,\n",
        "        truncation=True,\n",
        "        return_attention_mask=True,\n",
        "        return_token_type_ids=False,\n",
        "        return_tensors='pt'\n",
        "       )\n",
        "           \n",
        "    return {\n",
        "        'text':text,\n",
        "        'input_ids':encoding['input_ids'].flatten(),\n",
        "        'attention_mask':encoding['attention_mask'].flatten(),\n",
        "        'labels' : torch.tensor(labels, dtype=torch.long)\n",
        "    }"
      ]
    },
    {
      "cell_type": "markdown",
      "source": [
        "Let's also define a function named data_loader to load the data in batches. It takes features, labels, tokenizer, max length of the sequence & batch size as inputs."
      ],
      "metadata": {
        "id": "r7Beh1xav6yy"
      }
    },
    {
      "cell_type": "code",
      "execution_count": null,
      "metadata": {
        "id": "ryR3jZCtTddl"
      },
      "outputs": [],
      "source": [
        "# Create the Data Loader\n",
        "def data_loader(features, labels, tokenizer, max_length, batch):\n",
        "  ds=text_Dataset(\n",
        "      texts = np.array(features),\n",
        "      labels = np.array(labels),\n",
        "      tokenizer = tokenizer,\n",
        "      max_length = max_length\n",
        "  )\n",
        "\n",
        "  return DataLoader(\n",
        "      ds,\n",
        "      batch_size=batch_size,\n",
        "      num_workers=4\n",
        "  )\n",
        "\n",
        "# For train\n",
        "train_DataLoader=data_loader(x_train, y_train, tokenizer, max_length, batch_size)\n",
        "# For test\n",
        "test_DataLoader=data_loader(x_test, y_test, tokenizer, max_length,batch_size)\n",
        "# For validation\n",
        "valid_DataLoader=data_loader(x_val, y_val, tokenizer, max_length, batch_size)"
      ]
    },
    {
      "cell_type": "code",
      "execution_count": null,
      "metadata": {
        "colab": {
          "base_uri": "https://localhost:8080/"
        },
        "id": "eOBb3UoTXg_U",
        "outputId": "62d5fe01-1202-40ac-e1b1-9fc949e031b6"
      },
      "outputs": [
        {
          "output_type": "execute_result",
          "data": {
            "text/plain": [
              "dict_keys(['text', 'input_ids', 'attention_mask', 'labels'])"
            ]
          },
          "metadata": {},
          "execution_count": 31
        }
      ],
      "source": [
        "# Check what is in the train_DataLoader\n",
        "data = next(iter(train_DataLoader))\n",
        "data.keys()"
      ]
    },
    {
      "cell_type": "markdown",
      "source": [
        "# **Training**"
      ],
      "metadata": {
        "id": "DP5t42xGw8Np"
      }
    },
    {
      "cell_type": "markdown",
      "source": [
        "So far, we prepared the data for model training. We will data loaders to load the data in batches to model for training, validation, & testing. Now, it's our turn to train the model & evaluate the model on validation to see how good our model is. Let's do that."
      ],
      "metadata": {
        "id": "6Wao85QXxFVL"
      }
    },
    {
      "cell_type": "markdown",
      "source": [
        "We need to define the optimizer & learning rate scheduler before training the model. We are using **AdamW** optimizer & **get_linear_schedule_with_warmup** rate scheduler for this task. Let's do that first."
      ],
      "metadata": {
        "id": "JG1trXjbxsAV"
      }
    },
    {
      "cell_type": "code",
      "execution_count": null,
      "metadata": {
        "id": "reqIv57DJVv3"
      },
      "outputs": [],
      "source": [
        "# Create optimizer \n",
        "from transformers import AdamW\n",
        "optimizer = AdamW(model.parameters(),\n",
        "                  lr = learning_rate\n",
        "                )\n",
        " \n",
        "# Create the learning rate scheduler.\n",
        "from transformers import get_linear_schedule_with_warmup\n",
        "\n",
        "# Total number of training steps is [number of batches] x [number of epochs]. \n",
        "total_steps = len(train_DataLoader) * epochs\n",
        "\n",
        "scheduler = get_linear_schedule_with_warmup(optimizer, \n",
        "                                            num_warmup_steps = 0,\n",
        "                                            num_training_steps = total_steps)"
      ]
    },
    {
      "cell_type": "markdown",
      "metadata": {
        "id": "JStYWn4CKHa_"
      },
      "source": [
        "**Define a helper function for calculating simple accuracy.**"
      ]
    },
    {
      "cell_type": "code",
      "execution_count": null,
      "metadata": {
        "id": "ImIfhPHlKLFI"
      },
      "outputs": [],
      "source": [
        "# Function to calculate the accuracy of our predictions vs labels\n",
        "def flat_accuracy(preds, labels):\n",
        "    pred_flat = np.argmax(preds, axis=1).flatten()\n",
        "    labels_flat = labels.flatten()\n",
        "    return np.sum(pred_flat == labels_flat) / len(labels_flat)"
      ]
    },
    {
      "cell_type": "markdown",
      "metadata": {
        "id": "G8kRYGevKTfy"
      },
      "source": [
        "**Helper function for formatting elapsed times as hh:mm:ss**"
      ]
    },
    {
      "cell_type": "code",
      "execution_count": null,
      "metadata": {
        "id": "D1t40hwDKWHB"
      },
      "outputs": [],
      "source": [
        "import time\n",
        "import datetime\n",
        "\n",
        "def format_time(elapsed):\n",
        "    '''\n",
        "    Takes a time in seconds and returns a string hh:mm:ss\n",
        "    '''\n",
        "    # Round to the nearest second.\n",
        "    elapsed_rounded = int(round((elapsed)))\n",
        "    \n",
        "    # Format as hh:mm:ss\n",
        "    return str(datetime.timedelta(seconds=elapsed_rounded))"
      ]
    },
    {
      "cell_type": "markdown",
      "metadata": {
        "id": "7mnOEnXSKaFj"
      },
      "source": [
        "**Training the model**"
      ]
    },
    {
      "cell_type": "code",
      "execution_count": null,
      "metadata": {
        "colab": {
          "base_uri": "https://localhost:8080/"
        },
        "id": "N8ZHx1aGKdOK",
        "outputId": "1ef24095-5021-4040-967b-14533355d45a"
      },
      "outputs": [
        {
          "output_type": "stream",
          "name": "stdout",
          "text": [
            "\n",
            "======== Epoch 1 / 3 ========\n",
            "Training...\n",
            "  Batch    10  of     74.    Elapsed: 0:00:09.\n",
            "  Batch    20  of     74.    Elapsed: 0:00:17.\n",
            "  Batch    30  of     74.    Elapsed: 0:00:25.\n",
            "  Batch    40  of     74.    Elapsed: 0:00:33.\n",
            "  Batch    50  of     74.    Elapsed: 0:00:41.\n",
            "  Batch    60  of     74.    Elapsed: 0:00:50.\n",
            "  Batch    70  of     74.    Elapsed: 0:00:58.\n",
            "\n",
            "  Average training loss: 1.47\n",
            "  Training epcoh took: 0:01:01\n",
            "\n",
            "Running Validation...\n",
            "  Accuracy: 0.65\n",
            "  Validation Loss: 1.03\n",
            "  Validation took: 0:00:02\n",
            "\n",
            "======== Epoch 2 / 3 ========\n",
            "Training...\n",
            "  Batch    10  of     74.    Elapsed: 0:00:09.\n",
            "  Batch    20  of     74.    Elapsed: 0:00:17.\n",
            "  Batch    30  of     74.    Elapsed: 0:00:25.\n",
            "  Batch    40  of     74.    Elapsed: 0:00:34.\n",
            "  Batch    50  of     74.    Elapsed: 0:00:42.\n",
            "  Batch    60  of     74.    Elapsed: 0:00:50.\n",
            "  Batch    70  of     74.    Elapsed: 0:00:59.\n",
            "\n",
            "  Average training loss: 0.98\n",
            "  Training epcoh took: 0:01:02\n",
            "\n",
            "Running Validation...\n",
            "  Accuracy: 0.72\n",
            "  Validation Loss: 0.85\n",
            "  Validation took: 0:00:02\n",
            "\n",
            "======== Epoch 3 / 3 ========\n",
            "Training...\n",
            "  Batch    10  of     74.    Elapsed: 0:00:09.\n",
            "  Batch    20  of     74.    Elapsed: 0:00:17.\n",
            "  Batch    30  of     74.    Elapsed: 0:00:25.\n",
            "  Batch    40  of     74.    Elapsed: 0:00:34.\n",
            "  Batch    50  of     74.    Elapsed: 0:00:42.\n",
            "  Batch    60  of     74.    Elapsed: 0:00:50.\n",
            "  Batch    70  of     74.    Elapsed: 0:00:59.\n",
            "\n",
            "  Average training loss: 0.67\n",
            "  Training epcoh took: 0:01:01\n",
            "\n",
            "Running Validation...\n",
            "  Accuracy: 0.71\n",
            "  Validation Loss: 0.85\n",
            "  Validation took: 0:00:02\n",
            "\n",
            "Training complete!\n",
            "Total training took 0:03:09 (h:mm:ss)\n"
          ]
        }
      ],
      "source": [
        "# Set the seed value all over the place to make this reproducible.\n",
        "import random\n",
        "seed_val = 42\n",
        "\n",
        "random.seed(seed_val)\n",
        "np.random.seed(seed_val)\n",
        "\n",
        "# We'll store a number of quantities such as training and validation loss, \n",
        "# validation accuracy, and timings.\n",
        "training_stats = []\n",
        "\n",
        "# Measure the total training time for the whole run.\n",
        "total_t0 = time.time()\n",
        "\n",
        "# For each epoch...\n",
        "for epoch_i in range(0, epochs):\n",
        "    \n",
        "    # ========================================\n",
        "    #               Training\n",
        "    # ========================================\n",
        "    \n",
        "    # Perform one full pass over the training set.\n",
        "\n",
        "    print(\"\")\n",
        "    print('======== Epoch {:} / {:} ========'.format(epoch_i + 1, epochs))\n",
        "    print('Training...')\n",
        "\n",
        "    # Measure how long the training epoch takes.\n",
        "    t0 = time.time()\n",
        "\n",
        "    # Reset the total loss for this epoch.\n",
        "    total_train_loss = 0\n",
        "\n",
        "    # Put the model into training mode. Don't be mislead--the call to \n",
        "    model.train()\n",
        "\n",
        "    # For each batch of training data...\n",
        "    for step, batch in enumerate(train_DataLoader):\n",
        "\n",
        "        # Progress update every 40 batches.\n",
        "        if step % 10 == 0 and not step == 0:\n",
        "            # Calculate elapsed time in minutes.\n",
        "            elapsed = format_time(time.time() - t0)\n",
        "            \n",
        "            # Report progress.\n",
        "            print('  Batch {:>5,}  of  {:>5,}.    Elapsed: {:}.'.format(step, len(train_DataLoader), elapsed))\n",
        "\n",
        "        # Unpack this training batch from our dataloader. \n",
        "        # `batch` contains three pytorch tensors:\n",
        "        #   [0]: input ids \n",
        "        #   [1]: attention masks\n",
        "        #   [2]: labels \n",
        "        b_input_ids = batch['input_ids'].to(device)\n",
        "        b_input_mask = batch['attention_mask'].to(device)\n",
        "        b_labels = batch['labels'].to(device)\n",
        "\n",
        "        # Always clear any previously calculated gradients before performing a\n",
        "        # backward pass. PyTorch doesn't do this automatically because \n",
        "        # accumulating the gradients is \"convenient while training RNNs\". \n",
        "        model.zero_grad()        \n",
        "\n",
        "        # Perform a forward pass (evaluate the model on this training batch).\n",
        "        result = model(b_input_ids, \n",
        "                       attention_mask=b_input_mask, \n",
        "                       labels=b_labels)\n",
        "\n",
        "        loss = result.loss\n",
        "        logits = result.logits\n",
        "        #print(loss.item())\n",
        "        # Accumulate the training loss over all of the batches so that we can\n",
        "        # calculate the average loss at the end.\n",
        "        total_train_loss+= loss.item()\n",
        "\n",
        "        # Perform a backward pass to calculate the gradients.\n",
        "        loss.backward()\n",
        "\n",
        "        # Clip the norm of the gradients to 1.0.\n",
        "        # This is to help prevent the \"exploding gradients\" problem.\n",
        "        torch.nn.utils.clip_grad_norm_(model.parameters(), 1.0)\n",
        "\n",
        "        # Update parameters and take a step using the computed gradient.\n",
        "        # The optimizer dictates the \"update rule\"--how the parameters are\n",
        "        # modified based on their gradients, the learning rate, etc.\n",
        "        optimizer.step()\n",
        "\n",
        "        # Update the learning rate.\n",
        "        scheduler.step()\n",
        "\n",
        "    # Calculate the average loss over all of the batches.\n",
        "    avg_train_loss = total_train_loss / len(train_DataLoader)            \n",
        "    \n",
        "    # Measure how long this epoch took.\n",
        "    training_time = format_time(time.time() - t0)\n",
        "\n",
        "    print(\"\")\n",
        "    print(\"  Average training loss: {0:.2f}\".format(avg_train_loss))\n",
        "    print(\"  Training epcoh took: {:}\".format(training_time))\n",
        "        \n",
        "    # ========================================\n",
        "    #               Validation\n",
        "    # ========================================\n",
        "    # After the completion of each training epoch, measure our performance on\n",
        "    # our validation set.\n",
        "\n",
        "    print(\"\")\n",
        "    print(\"Running Validation...\")\n",
        "\n",
        "    t0 = time.time()\n",
        "\n",
        "    # Put the model in evaluation mode\n",
        "    model.eval()\n",
        "\n",
        "    # Tracking variables \n",
        "    total_eval_accuracy = 0\n",
        "    total_eval_loss = 0\n",
        "    nb_eval_steps = 0\n",
        "\n",
        "    # Evaluate data for one epoch\n",
        "    for batch in valid_DataLoader:\n",
        "        \n",
        "        # Unpack this training batch from our dataloader. \n",
        "        # `batch` contains three pytorch tensors:\n",
        "        #   [0]: input ids \n",
        "        #   [1]: attention masks\n",
        "        #   [2]: labels \n",
        "        b_input_ids = batch['input_ids'].to(device)\n",
        "        b_input_mask = batch['attention_mask'].to(device)\n",
        "        b_labels = batch['labels'].to(device)\n",
        "        \n",
        "        # Tell pytorch not to bother with constructing the compute graph during\n",
        "        # the forward pass, since this is only needed for backprop (training).\n",
        "        with torch.no_grad():        \n",
        "\n",
        "            # Forward pass, calculate logit predictions.\n",
        "            result = model(b_input_ids,\n",
        "                           attention_mask=b_input_mask,\n",
        "                           labels=b_labels)\n",
        "\n",
        "        # Get the loss and \"logits\" output by the model. \n",
        "        loss = result.loss\n",
        "        logits = result.logits\n",
        "            \n",
        "        # Accumulate the validation loss.\n",
        "        total_eval_loss+= loss.item()\n",
        "\n",
        "        # Move logits and labels to CPU\n",
        "        logits = logits.detach().cpu().numpy()\n",
        "        label_ids = b_labels.to('cpu').numpy()\n",
        "\n",
        "        # Calculate the accuracy for this batch of test sentences, and\n",
        "        # accumulate it over all batches.\n",
        "        total_eval_accuracy += flat_accuracy(logits, label_ids)\n",
        "        \n",
        "\n",
        "    # Report the final accuracy for this validation run.\n",
        "    avg_val_accuracy = total_eval_accuracy / len(valid_DataLoader)\n",
        "    print(\"  Accuracy: {0:.2f}\".format(avg_val_accuracy))\n",
        "\n",
        "    # Calculate the average loss over all of the batches.\n",
        "    avg_val_loss = total_eval_loss / len(valid_DataLoader)\n",
        "    \n",
        "    # Measure how long the validation run took.\n",
        "    validation_time = format_time(time.time() - t0)\n",
        "    \n",
        "    print(\"  Validation Loss: {0:.2f}\".format(avg_val_loss))\n",
        "    print(\"  Validation took: {:}\".format(validation_time))\n",
        "\n",
        "    # Record all statistics from this epoch.\n",
        "    training_stats.append(\n",
        "        {\n",
        "            'epoch': epoch_i + 1,\n",
        "            'Training Loss': avg_train_loss,\n",
        "            'Valid. Loss': avg_val_loss,\n",
        "            'Valid. Accur.': avg_val_accuracy,\n",
        "            'Training Time': training_time,\n",
        "            'Validation Time': validation_time\n",
        "        }\n",
        "    )\n",
        "\n",
        "print(\"\")\n",
        "print(\"Training complete!\")\n",
        "\n",
        "print(\"Total training took {:} (h:mm:ss)\".format(format_time(time.time()-total_t0)))"
      ]
    },
    {
      "cell_type": "markdown",
      "metadata": {
        "id": "40PpAjRnL_5K"
      },
      "source": [
        "**Training results**"
      ]
    },
    {
      "cell_type": "markdown",
      "metadata": {
        "id": "QOWvcKEXMDOJ"
      },
      "source": [
        "Let's see the summary of the results:"
      ]
    },
    {
      "cell_type": "code",
      "execution_count": null,
      "metadata": {
        "colab": {
          "base_uri": "https://localhost:8080/",
          "height": 175
        },
        "id": "Jws6yVlpMCyb",
        "outputId": "55773891-4c4a-4f2d-c1b9-3678191ef677"
      },
      "outputs": [
        {
          "output_type": "execute_result",
          "data": {
            "text/html": [
              "<div>\n",
              "<style scoped>\n",
              "    .dataframe tbody tr th:only-of-type {\n",
              "        vertical-align: middle;\n",
              "    }\n",
              "\n",
              "    .dataframe tbody tr th {\n",
              "        vertical-align: top;\n",
              "    }\n",
              "\n",
              "    .dataframe thead th {\n",
              "        text-align: right;\n",
              "    }\n",
              "</style>\n",
              "<table border=\"1\" class=\"dataframe\">\n",
              "  <thead>\n",
              "    <tr style=\"text-align: right;\">\n",
              "      <th></th>\n",
              "      <th>Training Loss</th>\n",
              "      <th>Valid. Loss</th>\n",
              "      <th>Valid. Accur.</th>\n",
              "      <th>Training Time</th>\n",
              "      <th>Validation Time</th>\n",
              "    </tr>\n",
              "    <tr>\n",
              "      <th>epoch</th>\n",
              "      <th></th>\n",
              "      <th></th>\n",
              "      <th></th>\n",
              "      <th></th>\n",
              "      <th></th>\n",
              "    </tr>\n",
              "  </thead>\n",
              "  <tbody>\n",
              "    <tr>\n",
              "      <th>1</th>\n",
              "      <td>1.47</td>\n",
              "      <td>1.03</td>\n",
              "      <td>0.65</td>\n",
              "      <td>0:01:01</td>\n",
              "      <td>0:00:02</td>\n",
              "    </tr>\n",
              "    <tr>\n",
              "      <th>2</th>\n",
              "      <td>0.98</td>\n",
              "      <td>0.85</td>\n",
              "      <td>0.72</td>\n",
              "      <td>0:01:02</td>\n",
              "      <td>0:00:02</td>\n",
              "    </tr>\n",
              "    <tr>\n",
              "      <th>3</th>\n",
              "      <td>0.67</td>\n",
              "      <td>0.85</td>\n",
              "      <td>0.71</td>\n",
              "      <td>0:01:01</td>\n",
              "      <td>0:00:02</td>\n",
              "    </tr>\n",
              "  </tbody>\n",
              "</table>\n",
              "</div>"
            ],
            "text/plain": [
              "       Training Loss  Valid. Loss  Valid. Accur. Training Time Validation Time\n",
              "epoch                                                                         \n",
              "1               1.47         1.03           0.65       0:01:01         0:00:02\n",
              "2               0.98         0.85           0.72       0:01:02         0:00:02\n",
              "3               0.67         0.85           0.71       0:01:01         0:00:02"
            ]
          },
          "metadata": {},
          "execution_count": 36
        }
      ],
      "source": [
        "import pandas as pd\n",
        "\n",
        "# Display floats with two decimal places.\n",
        "pd.set_option('precision', 2)\n",
        "\n",
        "# Create a DataFrame from our training statistics.\n",
        "df_stats = pd.DataFrame(data=training_stats)\n",
        "\n",
        "# Use the 'epoch' as the row index.\n",
        "df_stats = df_stats.set_index('epoch')\n",
        "\n",
        "# Display the table.\n",
        "df_stats"
      ]
    },
    {
      "cell_type": "markdown",
      "metadata": {
        "id": "Zc2TOqFkMR4F"
      },
      "source": [
        "Plot the training loss and validation loss to check for over-fitting:"
      ]
    },
    {
      "cell_type": "code",
      "execution_count": null,
      "metadata": {
        "colab": {
          "base_uri": "https://localhost:8080/",
          "height": 427
        },
        "id": "7vPwbjfDMV5w",
        "outputId": "fc5447e1-1d00-416c-bd91-ff81797ae566"
      },
      "outputs": [
        {
          "output_type": "display_data",
          "data": {
            "image/png": "[encoded data removed]",
            "text/plain": [
              "<Figure size 864x432 with 1 Axes>"
            ]
          },
          "metadata": {}
        }
      ],
      "source": [
        "# import matplotlib.pyplot as plt\n",
        "# % matplotlib inline\n",
        "\n",
        "import seaborn as sns\n",
        "import matplotlib.pyplot as plt\n",
        "\n",
        "# Use plot styling from seaborn.\n",
        "sns.set(style='darkgrid')\n",
        "\n",
        "# Increase the plot size and font size.\n",
        "sns.set(font_scale=1.5)\n",
        "plt.rcParams[\"figure.figsize\"] = (12,6)\n",
        "\n",
        "# Plot the learning curve.\n",
        "plt.plot(df_stats['Training Loss'], 'b-o', label=\"Training\")\n",
        "plt.plot(df_stats['Valid. Loss'], 'g-o', label=\"Validation\")\n",
        "\n",
        "# Label the plot.\n",
        "plt.title(\"Training & Validation Loss\")\n",
        "plt.xlabel(\"Epoch\")\n",
        "plt.ylabel(\"Loss\")\n",
        "plt.legend()\n",
        "plt.xticks([1, 2, 3])\n",
        "\n",
        "plt.show()"
      ]
    },
    {
      "cell_type": "markdown",
      "source": [
        "We can see that the model is start overfitting in the middle of 2 epochs. So, we stop the training for 3 epochs."
      ],
      "metadata": {
        "id": "7wdRLtZHA--5"
      }
    },
    {
      "cell_type": "markdown",
      "metadata": {
        "id": "TP1ZBK7hM-u5"
      },
      "source": [
        "**Model predictions on Test data**"
      ]
    },
    {
      "cell_type": "code",
      "execution_count": null,
      "metadata": {
        "colab": {
          "base_uri": "https://localhost:8080/"
        },
        "id": "acJWZEYcNDrJ",
        "outputId": "021dc3f3-ade6-4774-d996-4b5de16ac164"
      },
      "outputs": [
        {
          "output_type": "stream",
          "name": "stdout",
          "text": [
            "DONE.\n"
          ]
        }
      ],
      "source": [
        "# Put model in evaluation mode\n",
        "model.eval()\n",
        "\n",
        "# Tracking variables \n",
        "predictions , true_labels = [], []\n",
        "\n",
        "# Predict \n",
        "for batch in test_DataLoader:\n",
        "  b_input_ids = batch['input_ids'].to(device)\n",
        "  b_input_mask = batch['attention_mask'].to(device)\n",
        "  b_labels = batch['labels'].to(device)\n",
        "  \n",
        "  # Telling the model not to compute or store gradients, saving memory and \n",
        "  # speeding up prediction\n",
        "  with torch.no_grad():\n",
        "      # Forward pass, calculate logit predictions.\n",
        "      result = model(b_input_ids, \n",
        "                     token_type_ids=None, \n",
        "                     attention_mask=b_input_mask,\n",
        "                     return_dict=True)\n",
        "\n",
        "  logits = result.logits\n",
        "\n",
        "  # Move logits and labels to CPU\n",
        "  logits = logits.detach().cpu().numpy()\n",
        "  label_ids = b_labels.to('cpu').numpy()\n",
        "  \n",
        "  # Store predictions and true labels\n",
        "  predictions.append(logits)\n",
        "  true_labels.append(label_ids)\n",
        "print('DONE.')"
      ]
    },
    {
      "cell_type": "code",
      "execution_count": null,
      "metadata": {
        "id": "lI0PqeNYNQCz",
        "colab": {
          "base_uri": "https://localhost:8080/"
        },
        "outputId": "2cf0f3d5-5421-4412-9c9b-23fa624a4f63"
      },
      "outputs": [
        {
          "output_type": "execute_result",
          "data": {
            "text/plain": [
              "array([3, 0, 0, 2, 3, 3, 0, 2, 4, 5, 0, 0, 3, 3, 0, 0, 2, 0, 0, 0, 4, 2,\n",
              "       3, 0, 5, 3, 2, 0, 3, 6, 0, 0, 7, 0, 2, 0, 0, 7, 2, 0, 3, 1, 1, 7,\n",
              "       1, 2, 3, 2, 0, 5, 5, 1, 0, 6, 6, 0, 2, 0, 5, 0, 4, 3, 0, 1, 2, 1,\n",
              "       0, 0, 2, 2, 0, 0, 0, 0, 4, 4, 3, 2, 4, 0, 0, 0, 0, 5, 3, 0, 1, 0,\n",
              "       0, 1, 0, 3, 1, 6, 1, 1, 5, 1, 0, 1, 0, 4, 4, 4, 0, 1, 4, 1, 0, 0,\n",
              "       2, 1, 5, 0, 1, 3, 3, 0, 2, 4, 2, 0, 0, 4, 0, 1, 0, 0, 0, 1])"
            ]
          },
          "metadata": {},
          "execution_count": 40
        }
      ],
      "source": [
        "# Combine the results across all batches. \n",
        "flat_predictions = np.concatenate(predictions, axis=0)\n",
        "\n",
        "# For each sample, pick the label (0 or 1) with the higher score.\n",
        "flat_predictions = np.argmax(flat_predictions, axis=1).flatten()\n",
        "\n",
        "# Combine the correct labels for each batch into a single list.\n",
        "flat_true_labels = np.concatenate(true_labels, axis=0)\n",
        "flat_true_labels"
      ]
    },
    {
      "cell_type": "markdown",
      "metadata": {
        "id": "bnqNxTe-8JCy"
      },
      "source": [
        "**Confusion matrix**"
      ]
    },
    {
      "cell_type": "code",
      "execution_count": null,
      "metadata": {
        "colab": {
          "base_uri": "https://localhost:8080/",
          "height": 654
        },
        "id": "-MoRTw02vj8I",
        "outputId": "74ba1c25-9349-423d-c1a4-e0874d50d2a8"
      },
      "outputs": [
        {
          "output_type": "stream",
          "name": "stdout",
          "text": [
            "['servicio', 'ux', 'funcionalidad', 'otro', 'revisar', 'error no reproducible', 'positivo', 'error reproducible']\n"
          ]
        },
        {
          "output_type": "display_data",
          "data": {
            "image/png": "[encoded data removed]",
            "text/plain": [
              "<Figure size 720x504 with 2 Axes>"
            ]
          },
          "metadata": {}
        }
      ],
      "source": [
        "from sklearn.metrics import classification_report, confusion_matrix\n",
        "import seaborn as sns \n",
        "# Plot confusion matrix\n",
        "cm = confusion_matrix(flat_true_labels, flat_predictions)\n",
        "# Plot Confusion matrix\n",
        "label_dict = {0:'servicio', 1:'ux', 2:'funcionalidad', 3:'otro', 4:'revisar', 5:'error no reproducible',\n",
        "              6:'positivo', 7:'error reproducible'}\n",
        "classes = list(label_dict.values())\n",
        "print(classes)\n",
        "df_cm = pd.DataFrame(cm, index = [i for i in classes],\n",
        "                  columns = [i for i in classes])\n",
        "plt.figure(figsize = (10,7))\n",
        "sns.heatmap(df_cm, annot=True, annot_kws={\"size\": 16}, xticklabels=classes, yticklabels=classes, fmt='g');\n",
        "plt.xlabel('Predicted label')\n",
        "plt.ylabel('True label')\n",
        "plt.title('Confusion matrix')\n",
        "plt.show()"
      ]
    },
    {
      "cell_type": "markdown",
      "source": [
        "###The confusion matrix plotted above conveys as follows:\n",
        "The elements in the principal digonal representes the correctly predicted classes. Apart from these elements, other elements represents the incorrect classification. These numbers should be reduced for better classification results. Out of 130 test samples, the model predicted 88 samples correctly & misclassified remaining 42 samples."
      ],
      "metadata": {
        "id": "kHFxJLjFiCwT"
      }
    },
    {
      "cell_type": "markdown",
      "metadata": {
        "id": "pf2nfLdM8ERb"
      },
      "source": [
        "**Classification Report**"
      ]
    },
    {
      "cell_type": "code",
      "execution_count": null,
      "metadata": {
        "colab": {
          "base_uri": "https://localhost:8080/"
        },
        "id": "ZhXLUBz5zbye",
        "outputId": "e97c2977-ecbc-43bc-8fd4-754093141012"
      },
      "outputs": [
        {
          "output_type": "stream",
          "name": "stdout",
          "text": [
            "                       precision    recall  f1-score   support\n",
            "\n",
            "             servicio       0.84      0.94      0.89        51\n",
            "                   ux       0.74      0.74      0.74        19\n",
            "        funcionalidad       0.38      0.53      0.44        17\n",
            "                 otro       0.80      0.50      0.62        16\n",
            "              revisar       0.29      0.33      0.31        12\n",
            "error no reproducible       0.75      0.38      0.50         8\n",
            "             positivo       1.00      0.50      0.67         4\n",
            "   error reproducible       0.00      0.00      0.00         3\n",
            "\n",
            "             accuracy                           0.68       130\n",
            "            macro avg       0.60      0.49      0.52       130\n",
            "         weighted avg       0.69      0.68      0.67       130\n",
            "\n"
          ]
        }
      ],
      "source": [
        "classReport = classification_report(flat_true_labels, flat_predictions,target_names=[str(name) for name in classes])\n",
        "print(classReport)"
      ]
    },
    {
      "cell_type": "markdown",
      "source": [
        "Insights:  \n",
        "* Model is predicting well for classes servicio, & ux. But for other classes, model performance is not good. We can see that low precision, recall, & f1-score for these classes. This is due to the presence of imbalaced classes in the data during training. \n",
        "* We can also see f1-score as 0 for class **error reproducible**, this means the model not all learning this class during training. This is because the % of samples corresspond to this class is very low compared to other classes in the training data.\n",
        "* We have done the hypertuning manually & found best training parameters as follows:   \n",
        "epochs = 3, batch_size=32, & learning_rate = 5e-5.   \n",
        "* We got the f1-score (weighted avg) of 0.67 & accuracy of 0.68.\n",
        "* The model performance can be improved further by adding more data with balanced class distribution."
      ],
      "metadata": {
        "id": "QJ-mv_4cBWX9"
      }
    },
    {
      "cell_type": "code",
      "execution_count": null,
      "metadata": {
        "id": "jd94Ik488jQh"
      },
      "outputs": [],
      "source": [
        ""
      ]
    }
  ],
  "metadata": {
    "accelerator": "GPU",
    "colab": {
      "collapsed_sections": [],
      "name": "Text_classification_using_BERT_Spanish.ipynb",
      "provenance": []
    },
    "kernelspec": {
      "display_name": "Python 3 (ipykernel)",
      "language": "python",
      "name": "python3"
    },
    "language_info": {
      "codemirror_mode": {
        "name": "ipython",
        "version": 3
      },
      "file_extension": ".py",
      "mimetype": "text/x-python",
      "name": "python",
      "nbconvert_exporter": "python",
      "pygments_lexer": "ipython3",
      "version": "3.8.8"
    }
  },
  "nbformat": 4,
  "nbformat_minor": 0
}
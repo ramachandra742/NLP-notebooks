{
  "nbformat": 4,
  "nbformat_minor": 0,
  "metadata": {
    "accelerator": "GPU",
    "colab": {
      "name": "Fine tuning language model for fact checking task.ipynb",
      "provenance": []
    },
    "kernelspec": {
      "display_name": "Python 3",
      "name": "python3"
    }
  },
  "cells": [
    {
      "cell_type": "code",
      "metadata": {
        "colab": {
          "base_uri": "https://localhost:8080/"
        },
        "id": "u9_gUhWydkuZ",
        "outputId": "3c71b858-1714-41fe-c247-27b3994b7d54"
      },
      "source": [
        "!pip install transformers\n",
        "!pip install datasets"
      ],
      "execution_count": null,
      "outputs": [
        {
          "output_type": "stream",
          "text": [
            "Collecting transformers\n",
            "\u001b[?25l  Downloading https://files.pythonhosted.org/packages/ed/d5/f4157a376b8a79489a76ce6cfe147f4f3be1e029b7144fa7b8432e8acb26/transformers-4.4.2-py3-none-any.whl (2.0MB)\n",
            "\u001b[K     |████████████████████████████████| 2.0MB 5.7MB/s \n",
            "\u001b[?25hRequirement already satisfied: tqdm>=4.27 in /usr/local/lib/python3.7/dist-packages (from transformers) (4.41.1)\n",
            "Requirement already satisfied: numpy>=1.17 in /usr/local/lib/python3.7/dist-packages (from transformers) (1.19.5)\n",
            "Requirement already satisfied: requests in /usr/local/lib/python3.7/dist-packages (from transformers) (2.23.0)\n",
            "Requirement already satisfied: importlib-metadata; python_version < \"3.8\" in /usr/local/lib/python3.7/dist-packages (from transformers) (3.8.1)\n",
            "Requirement already satisfied: regex!=2019.12.17 in /usr/local/lib/python3.7/dist-packages (from transformers) (2019.12.20)\n",
            "Requirement already satisfied: filelock in /usr/local/lib/python3.7/dist-packages (from transformers) (3.0.12)\n",
            "Collecting tokenizers<0.11,>=0.10.1\n",
            "\u001b[?25l  Downloading https://files.pythonhosted.org/packages/ae/04/5b870f26a858552025a62f1649c20d29d2672c02ff3c3fb4c688ca46467a/tokenizers-0.10.2-cp37-cp37m-manylinux2010_x86_64.whl (3.3MB)\n",
            "\u001b[K     |████████████████████████████████| 3.3MB 36.3MB/s \n",
            "\u001b[?25hRequirement already satisfied: packaging in /usr/local/lib/python3.7/dist-packages (from transformers) (20.9)\n",
            "Collecting sacremoses\n",
            "\u001b[?25l  Downloading https://files.pythonhosted.org/packages/08/cd/342e584ee544d044fb573ae697404ce22ede086c9e87ce5960772084cad0/sacremoses-0.0.44.tar.gz (862kB)\n",
            "\u001b[K     |████████████████████████████████| 870kB 39.5MB/s \n",
            "\u001b[?25hRequirement already satisfied: certifi>=2017.4.17 in /usr/local/lib/python3.7/dist-packages (from requests->transformers) (2020.12.5)\n",
            "Requirement already satisfied: urllib3!=1.25.0,!=1.25.1,<1.26,>=1.21.1 in /usr/local/lib/python3.7/dist-packages (from requests->transformers) (1.24.3)\n",
            "Requirement already satisfied: idna<3,>=2.5 in /usr/local/lib/python3.7/dist-packages (from requests->transformers) (2.10)\n",
            "Requirement already satisfied: chardet<4,>=3.0.2 in /usr/local/lib/python3.7/dist-packages (from requests->transformers) (3.0.4)\n",
            "Requirement already satisfied: zipp>=0.5 in /usr/local/lib/python3.7/dist-packages (from importlib-metadata; python_version < \"3.8\"->transformers) (3.4.1)\n",
            "Requirement already satisfied: typing-extensions>=3.6.4; python_version < \"3.8\" in /usr/local/lib/python3.7/dist-packages (from importlib-metadata; python_version < \"3.8\"->transformers) (3.7.4.3)\n",
            "Requirement already satisfied: pyparsing>=2.0.2 in /usr/local/lib/python3.7/dist-packages (from packaging->transformers) (2.4.7)\n",
            "Requirement already satisfied: six in /usr/local/lib/python3.7/dist-packages (from sacremoses->transformers) (1.15.0)\n",
            "Requirement already satisfied: click in /usr/local/lib/python3.7/dist-packages (from sacremoses->transformers) (7.1.2)\n",
            "Requirement already satisfied: joblib in /usr/local/lib/python3.7/dist-packages (from sacremoses->transformers) (1.0.1)\n",
            "Building wheels for collected packages: sacremoses\n",
            "  Building wheel for sacremoses (setup.py) ... \u001b[?25l\u001b[?25hdone\n",
            "  Created wheel for sacremoses: filename=sacremoses-0.0.44-cp37-none-any.whl size=886084 sha256=8a0eeaa21c410087abc1cd083727285b85f0b34585fc59160b84b3ee6cd8738e\n",
            "  Stored in directory: /root/.cache/pip/wheels/3e/fb/c0/13ab4d63d537658f448366744654323077c4d90069b6512f3c\n",
            "Successfully built sacremoses\n",
            "Installing collected packages: tokenizers, sacremoses, transformers\n",
            "Successfully installed sacremoses-0.0.44 tokenizers-0.10.2 transformers-4.4.2\n",
            "Collecting datasets\n",
            "\u001b[?25l  Downloading https://files.pythonhosted.org/packages/54/90/43b396481a8298c6010afb93b3c1e71d4ba6f8c10797a7da8eb005e45081/datasets-1.5.0-py3-none-any.whl (192kB)\n",
            "\u001b[K     |████████████████████████████████| 194kB 5.4MB/s \n",
            "\u001b[?25hRequirement already satisfied: pandas in /usr/local/lib/python3.7/dist-packages (from datasets) (1.1.5)\n",
            "Requirement already satisfied: tqdm<4.50.0,>=4.27 in /usr/local/lib/python3.7/dist-packages (from datasets) (4.41.1)\n",
            "Collecting fsspec\n",
            "\u001b[?25l  Downloading https://files.pythonhosted.org/packages/62/11/f7689b996f85e45f718745c899f6747ee5edb4878cadac0a41ab146828fa/fsspec-0.9.0-py3-none-any.whl (107kB)\n",
            "\u001b[K     |████████████████████████████████| 112kB 7.7MB/s \n",
            "\u001b[?25hCollecting huggingface-hub<0.1.0\n",
            "  Downloading https://files.pythonhosted.org/packages/af/07/bf95f398e6598202d878332280f36e589512174882536eb20d792532a57d/huggingface_hub-0.0.7-py3-none-any.whl\n",
            "Requirement already satisfied: numpy>=1.17 in /usr/local/lib/python3.7/dist-packages (from datasets) (1.19.5)\n",
            "Requirement already satisfied: multiprocess in /usr/local/lib/python3.7/dist-packages (from datasets) (0.70.11.1)\n",
            "Requirement already satisfied: requests>=2.19.0 in /usr/local/lib/python3.7/dist-packages (from datasets) (2.23.0)\n",
            "Requirement already satisfied: importlib-metadata; python_version < \"3.8\" in /usr/local/lib/python3.7/dist-packages (from datasets) (3.8.1)\n",
            "Requirement already satisfied: dill in /usr/local/lib/python3.7/dist-packages (from datasets) (0.3.3)\n",
            "Collecting xxhash\n",
            "\u001b[?25l  Downloading https://files.pythonhosted.org/packages/e7/27/1c0b37c53a7852f1c190ba5039404d27b3ae96a55f48203a74259f8213c9/xxhash-2.0.0-cp37-cp37m-manylinux2010_x86_64.whl (243kB)\n",
            "\u001b[K     |████████████████████████████████| 245kB 7.4MB/s \n",
            "\u001b[?25hRequirement already satisfied: pyarrow>=0.17.1 in /usr/local/lib/python3.7/dist-packages (from datasets) (3.0.0)\n",
            "Requirement already satisfied: pytz>=2017.2 in /usr/local/lib/python3.7/dist-packages (from pandas->datasets) (2018.9)\n",
            "Requirement already satisfied: python-dateutil>=2.7.3 in /usr/local/lib/python3.7/dist-packages (from pandas->datasets) (2.8.1)\n",
            "Requirement already satisfied: filelock in /usr/local/lib/python3.7/dist-packages (from huggingface-hub<0.1.0->datasets) (3.0.12)\n",
            "Requirement already satisfied: chardet<4,>=3.0.2 in /usr/local/lib/python3.7/dist-packages (from requests>=2.19.0->datasets) (3.0.4)\n",
            "Requirement already satisfied: urllib3!=1.25.0,!=1.25.1,<1.26,>=1.21.1 in /usr/local/lib/python3.7/dist-packages (from requests>=2.19.0->datasets) (1.24.3)\n",
            "Requirement already satisfied: certifi>=2017.4.17 in /usr/local/lib/python3.7/dist-packages (from requests>=2.19.0->datasets) (2020.12.5)\n",
            "Requirement already satisfied: idna<3,>=2.5 in /usr/local/lib/python3.7/dist-packages (from requests>=2.19.0->datasets) (2.10)\n",
            "Requirement already satisfied: zipp>=0.5 in /usr/local/lib/python3.7/dist-packages (from importlib-metadata; python_version < \"3.8\"->datasets) (3.4.1)\n",
            "Requirement already satisfied: typing-extensions>=3.6.4; python_version < \"3.8\" in /usr/local/lib/python3.7/dist-packages (from importlib-metadata; python_version < \"3.8\"->datasets) (3.7.4.3)\n",
            "Requirement already satisfied: six>=1.5 in /usr/local/lib/python3.7/dist-packages (from python-dateutil>=2.7.3->pandas->datasets) (1.15.0)\n",
            "Installing collected packages: fsspec, huggingface-hub, xxhash, datasets\n",
            "Successfully installed datasets-1.5.0 fsspec-0.9.0 huggingface-hub-0.0.7 xxhash-2.0.0\n"
          ],
          "name": "stdout"
        }
      ]
    },
    {
      "cell_type": "code",
      "metadata": {
        "colab": {
          "base_uri": "https://localhost:8080/"
        },
        "id": "am9GnXW7-7l2",
        "outputId": "1b4cf2a8-68f4-41dd-8317-5f2f48add9df"
      },
      "source": [
        "!pip install git+https://github.com/huggingface/transformers"
      ],
      "execution_count": null,
      "outputs": [
        {
          "output_type": "stream",
          "text": [
            "Collecting git+https://github.com/huggingface/transformers\n",
            "  Cloning https://github.com/huggingface/transformers to /tmp/pip-req-build-fv1zpp1d\n",
            "  Running command git clone -q https://github.com/huggingface/transformers /tmp/pip-req-build-fv1zpp1d\n",
            "  Installing build dependencies ... \u001b[?25l\u001b[?25hdone\n",
            "  Getting requirements to build wheel ... \u001b[?25l\u001b[?25hdone\n",
            "    Preparing wheel metadata ... \u001b[?25l\u001b[?25hdone\n",
            "Requirement already satisfied: filelock in /usr/local/lib/python3.7/dist-packages (from transformers==4.5.0.dev0) (3.0.12)\n",
            "Requirement already satisfied: tqdm>=4.27 in /usr/local/lib/python3.7/dist-packages (from transformers==4.5.0.dev0) (4.41.1)\n",
            "Requirement already satisfied: packaging in /usr/local/lib/python3.7/dist-packages (from transformers==4.5.0.dev0) (20.9)\n",
            "Requirement already satisfied: sacremoses in /usr/local/lib/python3.7/dist-packages (from transformers==4.5.0.dev0) (0.0.44)\n",
            "Requirement already satisfied: importlib-metadata; python_version < \"3.8\" in /usr/local/lib/python3.7/dist-packages (from transformers==4.5.0.dev0) (3.8.1)\n",
            "Requirement already satisfied: regex!=2019.12.17 in /usr/local/lib/python3.7/dist-packages (from transformers==4.5.0.dev0) (2019.12.20)\n",
            "Requirement already satisfied: tokenizers<0.11,>=0.10.1 in /usr/local/lib/python3.7/dist-packages (from transformers==4.5.0.dev0) (0.10.2)\n",
            "Requirement already satisfied: numpy>=1.17 in /usr/local/lib/python3.7/dist-packages (from transformers==4.5.0.dev0) (1.19.5)\n",
            "Requirement already satisfied: requests in /usr/local/lib/python3.7/dist-packages (from transformers==4.5.0.dev0) (2.23.0)\n",
            "Requirement already satisfied: pyparsing>=2.0.2 in /usr/local/lib/python3.7/dist-packages (from packaging->transformers==4.5.0.dev0) (2.4.7)\n",
            "Requirement already satisfied: joblib in /usr/local/lib/python3.7/dist-packages (from sacremoses->transformers==4.5.0.dev0) (1.0.1)\n",
            "Requirement already satisfied: six in /usr/local/lib/python3.7/dist-packages (from sacremoses->transformers==4.5.0.dev0) (1.15.0)\n",
            "Requirement already satisfied: click in /usr/local/lib/python3.7/dist-packages (from sacremoses->transformers==4.5.0.dev0) (7.1.2)\n",
            "Requirement already satisfied: zipp>=0.5 in /usr/local/lib/python3.7/dist-packages (from importlib-metadata; python_version < \"3.8\"->transformers==4.5.0.dev0) (3.4.1)\n",
            "Requirement already satisfied: typing-extensions>=3.6.4; python_version < \"3.8\" in /usr/local/lib/python3.7/dist-packages (from importlib-metadata; python_version < \"3.8\"->transformers==4.5.0.dev0) (3.7.4.3)\n",
            "Requirement already satisfied: certifi>=2017.4.17 in /usr/local/lib/python3.7/dist-packages (from requests->transformers==4.5.0.dev0) (2020.12.5)\n",
            "Requirement already satisfied: urllib3!=1.25.0,!=1.25.1,<1.26,>=1.21.1 in /usr/local/lib/python3.7/dist-packages (from requests->transformers==4.5.0.dev0) (1.24.3)\n",
            "Requirement already satisfied: idna<3,>=2.5 in /usr/local/lib/python3.7/dist-packages (from requests->transformers==4.5.0.dev0) (2.10)\n",
            "Requirement already satisfied: chardet<4,>=3.0.2 in /usr/local/lib/python3.7/dist-packages (from requests->transformers==4.5.0.dev0) (3.0.4)\n",
            "Building wheels for collected packages: transformers\n",
            "  Building wheel for transformers (PEP 517) ... \u001b[?25l\u001b[?25hdone\n",
            "  Created wheel for transformers: filename=transformers-4.5.0.dev0-cp37-none-any.whl size=2059806 sha256=c71a175a1a21fb4f61aa2f3feac8761982f3b954f562075fdaf513f3f87b692c\n",
            "  Stored in directory: /tmp/pip-ephem-wheel-cache-w1iv5239/wheels/70/d3/52/b3fa4f8b8ef04167ac62e5bb2accb62ae764db2a378247490e\n",
            "Successfully built transformers\n",
            "Installing collected packages: transformers\n",
            "  Found existing installation: transformers 4.4.2\n",
            "    Uninstalling transformers-4.4.2:\n",
            "      Successfully uninstalled transformers-4.4.2\n",
            "Successfully installed transformers-4.5.0.dev0\n"
          ],
          "name": "stdout"
        }
      ]
    },
    {
      "cell_type": "markdown",
      "metadata": {
        "id": "q-Mh3z5jQAG7"
      },
      "source": [
        "### Clone github repo for transformers"
      ]
    },
    {
      "cell_type": "code",
      "metadata": {
        "colab": {
          "base_uri": "https://localhost:8080/"
        },
        "id": "bxfECSx0MSrH",
        "outputId": "39c04236-66cb-4f1e-f64c-b5248f49c461"
      },
      "source": [
        "!git clone https://github.com/huggingface/transformers.git"
      ],
      "execution_count": null,
      "outputs": [
        {
          "output_type": "stream",
          "text": [
            "Cloning into 'transformers'...\n",
            "remote: Enumerating objects: 135, done.\u001b[K\n",
            "remote: Counting objects: 100% (135/135), done.\u001b[K\n",
            "remote: Compressing objects: 100% (88/88), done.\u001b[K\n",
            "remote: Total 68938 (delta 63), reused 74 (delta 36), pack-reused 68803\u001b[K\n",
            "Receiving objects: 100% (68938/68938), 52.50 MiB | 19.89 MiB/s, done.\n",
            "Resolving deltas: 100% (48776/48776), done.\n"
          ],
          "name": "stdout"
        }
      ]
    },
    {
      "cell_type": "code",
      "metadata": {
        "colab": {
          "base_uri": "https://localhost:8080/"
        },
        "id": "wefEYhWYPiZV",
        "outputId": "e2b6e5d9-9d20-4037-b4e0-a685addcef85"
      },
      "source": [
        "cd /content/transformers/examples/language-modeling"
      ],
      "execution_count": null,
      "outputs": [
        {
          "output_type": "stream",
          "text": [
            "/content/transformers/examples/language-modeling\n"
          ],
          "name": "stdout"
        }
      ]
    },
    {
      "cell_type": "code",
      "metadata": {
        "colab": {
          "base_uri": "https://localhost:8080/"
        },
        "id": "ZB83L626X5Tl",
        "outputId": "58906ab8-9edc-489d-caae-60caac9cd3b9"
      },
      "source": [
        "!python run_mlm.py \\\n",
        "    --model_name_or_path bert-base-cased \\\n",
        "    --train_file /content/train_preprocessed.txt \\\n",
        "    --validation_file /content/dev_preprocessed.txt \\\n",
        "    --do_train \\\n",
        "    --do_eval \\\n",
        "    --output_dir /content/bert_model"
      ],
      "execution_count": null,
      "outputs": [
        {
          "output_type": "stream",
          "text": [
            "2021-04-06 16:21:07.997063: I tensorflow/stream_executor/platform/default/dso_loader.cc:49] Successfully opened dynamic library libcudart.so.11.0\n",
            "04/06/2021 16:21:09 - WARNING - __main__ -   Process rank: -1, device: cuda:0, n_gpu: 1distributed training: False, 16-bits training: False\n",
            "04/06/2021 16:21:09 - INFO - __main__ -   Training/evaluation parameters TrainingArguments(output_dir=/content/bert_model, overwrite_output_dir=False, do_train=True, do_eval=True, do_predict=False, evaluation_strategy=IntervalStrategy.NO, prediction_loss_only=False, per_device_train_batch_size=8, per_device_eval_batch_size=8, gradient_accumulation_steps=1, eval_accumulation_steps=None, learning_rate=5e-05, weight_decay=0.0, adam_beta1=0.9, adam_beta2=0.999, adam_epsilon=1e-08, max_grad_norm=1.0, num_train_epochs=3.0, max_steps=-1, lr_scheduler_type=SchedulerType.LINEAR, warmup_ratio=0.0, warmup_steps=0, logging_dir=runs/Apr06_16-21-09_82fb2eb025ff, logging_strategy=IntervalStrategy.STEPS, logging_first_step=False, logging_steps=500, save_strategy=IntervalStrategy.STEPS, save_steps=500, save_total_limit=None, no_cuda=False, seed=42, fp16=False, fp16_opt_level=O1, fp16_backend=auto, fp16_full_eval=False, local_rank=-1, tpu_num_cores=None, tpu_metrics_debug=False, debug=False, dataloader_drop_last=False, eval_steps=500, dataloader_num_workers=0, past_index=-1, run_name=/content/bert_model, disable_tqdm=False, remove_unused_columns=True, label_names=None, load_best_model_at_end=False, metric_for_best_model=None, greater_is_better=None, ignore_data_skip=False, sharded_ddp=[], deepspeed=None, label_smoothing_factor=0.0, adafactor=False, group_by_length=False, length_column_name=length, report_to=['tensorboard'], ddp_find_unused_parameters=None, dataloader_pin_memory=True, skip_memory_metrics=False, _n_gpu=1, mp_parameters=)\n",
            "04/06/2021 16:21:10 - WARNING - datasets.builder -   Using custom data configuration default-b90b6adbce15789e\n",
            "Downloading and preparing dataset text/default (download: Unknown size, generated: Unknown size, post-processed: Unknown size, total: Unknown size) to /root/.cache/huggingface/datasets/text/default-b90b6adbce15789e/0.0.0/e16f44aa1b321ece1f87b07977cc5d70be93d69b20486d6dacd62e12cf25c9a5...\n",
            "Dataset text downloaded and prepared to /root/.cache/huggingface/datasets/text/default-b90b6adbce15789e/0.0.0/e16f44aa1b321ece1f87b07977cc5d70be93d69b20486d6dacd62e12cf25c9a5. Subsequent calls will reuse this data.\n",
            "[INFO|file_utils.py:1426] 2021-04-06 16:21:10,911 >> https://huggingface.co/bert-base-cased/resolve/main/config.json not found in cache or force_download set to True, downloading to /root/.cache/huggingface/transformers/tmpcjypl1c1\n",
            "Downloading: 100% 433/433 [00:00<00:00, 318kB/s]\n",
            "[INFO|file_utils.py:1430] 2021-04-06 16:21:11,728 >> storing https://huggingface.co/bert-base-cased/resolve/main/config.json in cache at /root/.cache/huggingface/transformers/a803e0468a8fe090683bdc453f4fac622804f49de86d7cecaee92365d4a0f829.0d87139f53a477d9f900f8a9020c367863079014bdaf2aa713f4b64cf1782655\n",
            "[INFO|file_utils.py:1433] 2021-04-06 16:21:11,728 >> creating metadata file for /root/.cache/huggingface/transformers/a803e0468a8fe090683bdc453f4fac622804f49de86d7cecaee92365d4a0f829.0d87139f53a477d9f900f8a9020c367863079014bdaf2aa713f4b64cf1782655\n",
            "[INFO|configuration_utils.py:490] 2021-04-06 16:21:11,728 >> loading configuration file https://huggingface.co/bert-base-cased/resolve/main/config.json from cache at /root/.cache/huggingface/transformers/a803e0468a8fe090683bdc453f4fac622804f49de86d7cecaee92365d4a0f829.0d87139f53a477d9f900f8a9020c367863079014bdaf2aa713f4b64cf1782655\n",
            "[INFO|configuration_utils.py:526] 2021-04-06 16:21:11,729 >> Model config BertConfig {\n",
            "  \"architectures\": [\n",
            "    \"BertForMaskedLM\"\n",
            "  ],\n",
            "  \"attention_probs_dropout_prob\": 0.1,\n",
            "  \"gradient_checkpointing\": false,\n",
            "  \"hidden_act\": \"gelu\",\n",
            "  \"hidden_dropout_prob\": 0.1,\n",
            "  \"hidden_size\": 768,\n",
            "  \"initializer_range\": 0.02,\n",
            "  \"intermediate_size\": 3072,\n",
            "  \"layer_norm_eps\": 1e-12,\n",
            "  \"max_position_embeddings\": 512,\n",
            "  \"model_type\": \"bert\",\n",
            "  \"num_attention_heads\": 12,\n",
            "  \"num_hidden_layers\": 12,\n",
            "  \"pad_token_id\": 0,\n",
            "  \"position_embedding_type\": \"absolute\",\n",
            "  \"transformers_version\": \"4.5.0.dev0\",\n",
            "  \"type_vocab_size\": 2,\n",
            "  \"use_cache\": true,\n",
            "  \"vocab_size\": 28996\n",
            "}\n",
            "\n",
            "[INFO|configuration_utils.py:490] 2021-04-06 16:21:12,279 >> loading configuration file https://huggingface.co/bert-base-cased/resolve/main/config.json from cache at /root/.cache/huggingface/transformers/a803e0468a8fe090683bdc453f4fac622804f49de86d7cecaee92365d4a0f829.0d87139f53a477d9f900f8a9020c367863079014bdaf2aa713f4b64cf1782655\n",
            "[INFO|configuration_utils.py:526] 2021-04-06 16:21:12,279 >> Model config BertConfig {\n",
            "  \"architectures\": [\n",
            "    \"BertForMaskedLM\"\n",
            "  ],\n",
            "  \"attention_probs_dropout_prob\": 0.1,\n",
            "  \"gradient_checkpointing\": false,\n",
            "  \"hidden_act\": \"gelu\",\n",
            "  \"hidden_dropout_prob\": 0.1,\n",
            "  \"hidden_size\": 768,\n",
            "  \"initializer_range\": 0.02,\n",
            "  \"intermediate_size\": 3072,\n",
            "  \"layer_norm_eps\": 1e-12,\n",
            "  \"max_position_embeddings\": 512,\n",
            "  \"model_type\": \"bert\",\n",
            "  \"num_attention_heads\": 12,\n",
            "  \"num_hidden_layers\": 12,\n",
            "  \"pad_token_id\": 0,\n",
            "  \"position_embedding_type\": \"absolute\",\n",
            "  \"transformers_version\": \"4.5.0.dev0\",\n",
            "  \"type_vocab_size\": 2,\n",
            "  \"use_cache\": true,\n",
            "  \"vocab_size\": 28996\n",
            "}\n",
            "\n",
            "[INFO|file_utils.py:1426] 2021-04-06 16:21:12,842 >> https://huggingface.co/bert-base-cased/resolve/main/vocab.txt not found in cache or force_download set to True, downloading to /root/.cache/huggingface/transformers/tmpxhx6k446\n",
            "Downloading: 100% 213k/213k [00:00<00:00, 295kB/s]\n",
            "[INFO|file_utils.py:1430] 2021-04-06 16:21:14,127 >> storing https://huggingface.co/bert-base-cased/resolve/main/vocab.txt in cache at /root/.cache/huggingface/transformers/6508e60ab3c1200bffa26c95f4b58ac6b6d95fba4db1f195f632fa3cd7bc64cc.437aa611e89f6fc6675a049d2b5545390adbc617e7d655286421c191d2be2791\n",
            "[INFO|file_utils.py:1433] 2021-04-06 16:21:14,127 >> creating metadata file for /root/.cache/huggingface/transformers/6508e60ab3c1200bffa26c95f4b58ac6b6d95fba4db1f195f632fa3cd7bc64cc.437aa611e89f6fc6675a049d2b5545390adbc617e7d655286421c191d2be2791\n",
            "[INFO|file_utils.py:1426] 2021-04-06 16:21:14,684 >> https://huggingface.co/bert-base-cased/resolve/main/tokenizer.json not found in cache or force_download set to True, downloading to /root/.cache/huggingface/transformers/tmpp1d72kb4\n",
            "Downloading: 100% 436k/436k [00:00<00:00, 595kB/s]\n",
            "[INFO|file_utils.py:1430] 2021-04-06 16:21:15,978 >> storing https://huggingface.co/bert-base-cased/resolve/main/tokenizer.json in cache at /root/.cache/huggingface/transformers/226a307193a9f4344264cdc76a12988448a25345ba172f2c7421f3b6810fddad.3dab63143af66769bbb35e3811f75f7e16b2320e12b7935e216bd6159ce6d9a6\n",
            "[INFO|file_utils.py:1433] 2021-04-06 16:21:15,978 >> creating metadata file for /root/.cache/huggingface/transformers/226a307193a9f4344264cdc76a12988448a25345ba172f2c7421f3b6810fddad.3dab63143af66769bbb35e3811f75f7e16b2320e12b7935e216bd6159ce6d9a6\n",
            "[INFO|file_utils.py:1426] 2021-04-06 16:21:17,638 >> https://huggingface.co/bert-base-cased/resolve/main/tokenizer_config.json not found in cache or force_download set to True, downloading to /root/.cache/huggingface/transformers/tmpwztsd05g\n",
            "Downloading: 100% 29.0/29.0 [00:00<00:00, 22.2kB/s]\n",
            "[INFO|file_utils.py:1430] 2021-04-06 16:21:18,200 >> storing https://huggingface.co/bert-base-cased/resolve/main/tokenizer_config.json in cache at /root/.cache/huggingface/transformers/ec84e86ee39bfe112543192cf981deebf7e6cbe8c91b8f7f8f63c9be44366158.ec5c189f89475aac7d8cbd243960a0655cfadc3d0474da8ff2ed0bf1699c2a5f\n",
            "[INFO|file_utils.py:1433] 2021-04-06 16:21:18,200 >> creating metadata file for /root/.cache/huggingface/transformers/ec84e86ee39bfe112543192cf981deebf7e6cbe8c91b8f7f8f63c9be44366158.ec5c189f89475aac7d8cbd243960a0655cfadc3d0474da8ff2ed0bf1699c2a5f\n",
            "[INFO|tokenization_utils_base.py:1707] 2021-04-06 16:21:18,201 >> loading file https://huggingface.co/bert-base-cased/resolve/main/vocab.txt from cache at /root/.cache/huggingface/transformers/6508e60ab3c1200bffa26c95f4b58ac6b6d95fba4db1f195f632fa3cd7bc64cc.437aa611e89f6fc6675a049d2b5545390adbc617e7d655286421c191d2be2791\n",
            "[INFO|tokenization_utils_base.py:1707] 2021-04-06 16:21:18,201 >> loading file https://huggingface.co/bert-base-cased/resolve/main/tokenizer.json from cache at /root/.cache/huggingface/transformers/226a307193a9f4344264cdc76a12988448a25345ba172f2c7421f3b6810fddad.3dab63143af66769bbb35e3811f75f7e16b2320e12b7935e216bd6159ce6d9a6\n",
            "[INFO|tokenization_utils_base.py:1707] 2021-04-06 16:21:18,201 >> loading file https://huggingface.co/bert-base-cased/resolve/main/added_tokens.json from cache at None\n",
            "[INFO|tokenization_utils_base.py:1707] 2021-04-06 16:21:18,201 >> loading file https://huggingface.co/bert-base-cased/resolve/main/special_tokens_map.json from cache at None\n",
            "[INFO|tokenization_utils_base.py:1707] 2021-04-06 16:21:18,201 >> loading file https://huggingface.co/bert-base-cased/resolve/main/tokenizer_config.json from cache at /root/.cache/huggingface/transformers/ec84e86ee39bfe112543192cf981deebf7e6cbe8c91b8f7f8f63c9be44366158.ec5c189f89475aac7d8cbd243960a0655cfadc3d0474da8ff2ed0bf1699c2a5f\n",
            "[INFO|file_utils.py:1426] 2021-04-06 16:21:18,778 >> https://huggingface.co/bert-base-cased/resolve/main/pytorch_model.bin not found in cache or force_download set to True, downloading to /root/.cache/huggingface/transformers/tmpo9xmx2dz\n",
            "Downloading: 100% 436M/436M [00:10<00:00, 43.5MB/s]\n",
            "[INFO|file_utils.py:1430] 2021-04-06 16:21:29,093 >> storing https://huggingface.co/bert-base-cased/resolve/main/pytorch_model.bin in cache at /root/.cache/huggingface/transformers/092cc582560fc3833e556b3f833695c26343cb54b7e88cd02d40821462a74999.1f48cab6c959fc6c360d22bea39d06959e90f5b002e77e836d2da45464875cda\n",
            "[INFO|file_utils.py:1433] 2021-04-06 16:21:29,093 >> creating metadata file for /root/.cache/huggingface/transformers/092cc582560fc3833e556b3f833695c26343cb54b7e88cd02d40821462a74999.1f48cab6c959fc6c360d22bea39d06959e90f5b002e77e836d2da45464875cda\n",
            "[INFO|modeling_utils.py:1052] 2021-04-06 16:21:29,094 >> loading weights file https://huggingface.co/bert-base-cased/resolve/main/pytorch_model.bin from cache at /root/.cache/huggingface/transformers/092cc582560fc3833e556b3f833695c26343cb54b7e88cd02d40821462a74999.1f48cab6c959fc6c360d22bea39d06959e90f5b002e77e836d2da45464875cda\n",
            "[WARNING|modeling_utils.py:1160] 2021-04-06 16:21:34,158 >> Some weights of the model checkpoint at bert-base-cased were not used when initializing BertForMaskedLM: ['cls.seq_relationship.weight', 'cls.seq_relationship.bias']\n",
            "- This IS expected if you are initializing BertForMaskedLM from the checkpoint of a model trained on another task or with another architecture (e.g. initializing a BertForSequenceClassification model from a BertForPreTraining model).\n",
            "- This IS NOT expected if you are initializing BertForMaskedLM from the checkpoint of a model that you expect to be exactly identical (initializing a BertForSequenceClassification model from a BertForSequenceClassification model).\n",
            "[INFO|modeling_utils.py:1177] 2021-04-06 16:21:34,158 >> All the weights of BertForMaskedLM were initialized from the model checkpoint at bert-base-cased.\n",
            "If your task is similar to the task the model of the checkpoint was trained on, you can already use BertForMaskedLM for predictions without further training.\n",
            "100% 1/1 [00:00<00:00,  7.04ba/s]\n",
            "100% 1/1 [00:00<00:00, 66.89ba/s]\n",
            "100% 1/1 [00:00<00:00,  3.19ba/s]\n",
            "100% 1/1 [00:00<00:00, 58.70ba/s]\n",
            "[INFO|trainer.py:491] 2021-04-06 16:21:43,621 >> The following columns in the training set  don't have a corresponding argument in `BertForMaskedLM.forward` and have been ignored: special_tokens_mask.\n",
            "[INFO|trainer.py:491] 2021-04-06 16:21:43,622 >> The following columns in the evaluation set  don't have a corresponding argument in `BertForMaskedLM.forward` and have been ignored: special_tokens_mask.\n",
            "[INFO|trainer.py:1013] 2021-04-06 16:21:43,815 >> ***** Running training *****\n",
            "[INFO|trainer.py:1014] 2021-04-06 16:21:43,815 >>   Num examples = 78\n",
            "[INFO|trainer.py:1015] 2021-04-06 16:21:43,815 >>   Num Epochs = 3\n",
            "[INFO|trainer.py:1016] 2021-04-06 16:21:43,815 >>   Instantaneous batch size per device = 8\n",
            "[INFO|trainer.py:1017] 2021-04-06 16:21:43,815 >>   Total train batch size (w. parallel, distributed & accumulation) = 8\n",
            "[INFO|trainer.py:1018] 2021-04-06 16:21:43,815 >>   Gradient Accumulation steps = 1\n",
            "[INFO|trainer.py:1019] 2021-04-06 16:21:43,815 >>   Total optimization steps = 30\n",
            "100% 30/30 [00:55<00:00,  1.76s/it][INFO|trainer.py:1196] 2021-04-06 16:22:38,989 >> \n",
            "\n",
            "Training completed. Do not forget to share your model on huggingface.co/models =)\n",
            "\n",
            "\n",
            "{'train_runtime': 55.1732, 'train_samples_per_second': 0.544, 'epoch': 3.0}\n",
            "100% 30/30 [00:55<00:00,  1.84s/it]\n",
            "[INFO|trainer.py:1648] 2021-04-06 16:22:39,785 >> Saving model checkpoint to /content/bert_model\n",
            "[INFO|configuration_utils.py:329] 2021-04-06 16:22:39,786 >> Configuration saved in /content/bert_model/config.json\n",
            "[INFO|modeling_utils.py:831] 2021-04-06 16:22:40,776 >> Model weights saved in /content/bert_model/pytorch_model.bin\n",
            "[INFO|tokenization_utils_base.py:1901] 2021-04-06 16:22:40,777 >> tokenizer config file saved in /content/bert_model/tokenizer_config.json\n",
            "[INFO|tokenization_utils_base.py:1907] 2021-04-06 16:22:40,777 >> Special tokens file saved in /content/bert_model/special_tokens_map.json\n",
            "[INFO|trainer_pt_utils.py:722] 2021-04-06 16:22:40,813 >> ***** train metrics *****\n",
            "[INFO|trainer_pt_utils.py:727] 2021-04-06 16:22:40,814 >>   epoch                      =        3.0\n",
            "[INFO|trainer_pt_utils.py:727] 2021-04-06 16:22:40,814 >>   init_mem_cpu_alloc_delta   =     1016MB\n",
            "[INFO|trainer_pt_utils.py:727] 2021-04-06 16:22:40,814 >>   init_mem_cpu_peaked_delta  =        0MB\n",
            "[INFO|trainer_pt_utils.py:727] 2021-04-06 16:22:40,814 >>   init_mem_gpu_alloc_delta   =      413MB\n",
            "[INFO|trainer_pt_utils.py:727] 2021-04-06 16:22:40,814 >>   init_mem_gpu_peaked_delta  =        0MB\n",
            "[INFO|trainer_pt_utils.py:727] 2021-04-06 16:22:40,814 >>   train_mem_cpu_alloc_delta  =        9MB\n",
            "[INFO|trainer_pt_utils.py:727] 2021-04-06 16:22:40,814 >>   train_mem_cpu_peaked_delta =        0MB\n",
            "[INFO|trainer_pt_utils.py:727] 2021-04-06 16:22:40,814 >>   train_mem_gpu_alloc_delta  =     1298MB\n",
            "[INFO|trainer_pt_utils.py:727] 2021-04-06 16:22:40,814 >>   train_mem_gpu_peaked_delta =     7999MB\n",
            "[INFO|trainer_pt_utils.py:727] 2021-04-06 16:22:40,814 >>   train_runtime              = 0:00:55.17\n",
            "[INFO|trainer_pt_utils.py:727] 2021-04-06 16:22:40,815 >>   train_samples              =         78\n",
            "[INFO|trainer_pt_utils.py:727] 2021-04-06 16:22:40,815 >>   train_samples_per_second   =      0.544\n",
            "04/06/2021 16:22:40 - INFO - __main__ -   *** Evaluate ***\n",
            "[INFO|trainer.py:1865] 2021-04-06 16:22:40,942 >> ***** Running Evaluation *****\n",
            "[INFO|trainer.py:1866] 2021-04-06 16:22:40,942 >>   Num examples = 11\n",
            "[INFO|trainer.py:1867] 2021-04-06 16:22:40,942 >>   Batch size = 8\n",
            "100% 2/2 [00:00<00:00,  2.40it/s]\n",
            "[INFO|trainer_pt_utils.py:722] 2021-04-06 16:22:42,029 >> ***** eval metrics *****\n",
            "[INFO|trainer_pt_utils.py:727] 2021-04-06 16:22:42,029 >>   epoch                     =        3.0\n",
            "[INFO|trainer_pt_utils.py:727] 2021-04-06 16:22:42,029 >>   eval_loss                 =     3.0458\n",
            "[INFO|trainer_pt_utils.py:727] 2021-04-06 16:22:42,029 >>   eval_mem_cpu_alloc_delta  =        0MB\n",
            "[INFO|trainer_pt_utils.py:727] 2021-04-06 16:22:42,029 >>   eval_mem_cpu_peaked_delta =        0MB\n",
            "[INFO|trainer_pt_utils.py:727] 2021-04-06 16:22:42,029 >>   eval_mem_gpu_alloc_delta  =        0MB\n",
            "[INFO|trainer_pt_utils.py:727] 2021-04-06 16:22:42,029 >>   eval_mem_gpu_peaked_delta =      920MB\n",
            "[INFO|trainer_pt_utils.py:727] 2021-04-06 16:22:42,029 >>   eval_runtime              = 0:00:00.88\n",
            "[INFO|trainer_pt_utils.py:727] 2021-04-06 16:22:42,030 >>   eval_samples              =         11\n",
            "[INFO|trainer_pt_utils.py:727] 2021-04-06 16:22:42,030 >>   eval_samples_per_second   =     12.368\n",
            "[INFO|trainer_pt_utils.py:727] 2021-04-06 16:22:42,030 >>   perplexity                =    21.0279\n"
          ],
          "name": "stdout"
        }
      ]
    },
    {
      "cell_type": "markdown",
      "metadata": {
        "id": "71Sq8RNgrz4V"
      },
      "source": [
        "### Now use pytorch_model.bin (model weights from language model training) to fine tune our classification task."
      ]
    },
    {
      "cell_type": "code",
      "metadata": {
        "id": "KAzNPAA3a2Gu",
        "colab": {
          "base_uri": "https://localhost:8080/"
        },
        "outputId": "d63126dd-4e6e-4b10-fb59-33e2178b7e14"
      },
      "source": [
        "# import required libraries\n",
        "import pandas as pd\n",
        "import numpy as np\n",
        "import time\n",
        "import datetime\n",
        "import seaborn as sns\n",
        "from matplotlib import rc\n",
        "from pylab import rcParams\n",
        "import matplotlib.pyplot as plt\n",
        "from textwrap import wrap\n",
        "from collections import defaultdict\n",
        "from sklearn.model_selection import train_test_split\n",
        "from sklearn.preprocessing import LabelEncoder\n",
        "from sklearn.metrics import confusion_matrix, classification_report\n",
        "from sklearn.metrics import precision_recall_curve,auc,f1_score\n",
        "\n",
        "from statistics import mean\n",
        "\n",
        "import transformers\n",
        "from transformers import BertModel, BertTokenizer, BertForSequenceClassification,BertConfig\n",
        "from transformers import AdamW, get_linear_schedule_with_warmup\n",
        "\n",
        "import torch\n",
        "from torch import nn,optim\n",
        "from torch.utils.data import Dataset,DataLoader,TensorDataset, RandomSampler, SequentialSampler\n",
        "import torch.nn as nn  \n",
        "import torch.nn.functional as F  \n",
        "device=torch.device('cuda:0' if torch.cuda.is_available() else 'cpu');\n",
        "\n",
        "%matplotlib inline\n",
        "%config InlineBackend.figure_format='retina'\n",
        "\n",
        "sns.set(style='whitegrid',palette='muted',font_scale=1.2)\n",
        "color_palette=['#01BEFE','#FFDD00','#FF7D00','#FF006D','#ADFF02','#8F00FF']\n",
        "sns.set_palette(sns.color_palette(color_palette))\n",
        "\n",
        "rcParams['figure.figsize']= 12,6\n",
        "\n",
        "import warnings\n",
        "warnings.filterwarnings('ignore')\n",
        "\n",
        "seed=42\n",
        "np.random.seed(seed)\n",
        "torch.manual_seed(seed)"
      ],
      "execution_count": null,
      "outputs": [
        {
          "output_type": "execute_result",
          "data": {
            "text/plain": [
              "<torch._C.Generator at 0x7f757e09b1d0>"
            ]
          },
          "metadata": {
            "tags": []
          },
          "execution_count": 9
        }
      ]
    },
    {
      "cell_type": "markdown",
      "metadata": {
        "id": "C4rPQLBqsVjp"
      },
      "source": [
        "### Read the datasets"
      ]
    },
    {
      "cell_type": "code",
      "metadata": {
        "colab": {
          "base_uri": "https://localhost:8080/",
          "height": 238
        },
        "id": "ZOXV2iSDsRuw",
        "outputId": "19d7a5bc-69f8-4fea-9a1d-41879857ae77"
      },
      "source": [
        "# Train dataset\n",
        "df_train=pd.read_csv('/content/train_preprocessed.csv')\n",
        "print('There are {} observations (tweets) & {} features in the Train dataset'.format(df_train.shape[0],df_train.shape[1]))\n",
        "print('Look at the Train dataset:')\n",
        "df_train.head()"
      ],
      "execution_count": null,
      "outputs": [
        {
          "output_type": "stream",
          "text": [
            "There are 528 observations (tweets) & 2 features in the Train dataset\n",
            "Look at the Train dataset:\n"
          ],
          "name": "stdout"
        },
        {
          "output_type": "execute_result",
          "data": {
            "text/html": [
              "<div>\n",
              "<style scoped>\n",
              "    .dataframe tbody tr th:only-of-type {\n",
              "        vertical-align: middle;\n",
              "    }\n",
              "\n",
              "    .dataframe tbody tr th {\n",
              "        vertical-align: top;\n",
              "    }\n",
              "\n",
              "    .dataframe thead th {\n",
              "        text-align: right;\n",
              "    }\n",
              "</style>\n",
              "<table border=\"1\" class=\"dataframe\">\n",
              "  <thead>\n",
              "    <tr style=\"text-align: right;\">\n",
              "      <th></th>\n",
              "      <th>claim</th>\n",
              "      <th>label</th>\n",
              "    </tr>\n",
              "  </thead>\n",
              "  <tbody>\n",
              "    <tr>\n",
              "      <th>0</th>\n",
              "      <td>Viral image Says BBC prematurely reported “Ghi...</td>\n",
              "      <td>false</td>\n",
              "    </tr>\n",
              "    <tr>\n",
              "      <th>1</th>\n",
              "      <td>The coronavirus is “simply the common cold.”</td>\n",
              "      <td>false</td>\n",
              "    </tr>\n",
              "    <tr>\n",
              "      <th>2</th>\n",
              "      <td>Instagram posts Says no one has died from the ...</td>\n",
              "      <td>false</td>\n",
              "    </tr>\n",
              "    <tr>\n",
              "      <th>3</th>\n",
              "      <td>An audio message lists five ways people can pr...</td>\n",
              "      <td>false</td>\n",
              "    </tr>\n",
              "    <tr>\n",
              "      <th>4</th>\n",
              "      <td>This is COVID-19, not COVID-1, folks. And so y...</td>\n",
              "      <td>false</td>\n",
              "    </tr>\n",
              "  </tbody>\n",
              "</table>\n",
              "</div>"
            ],
            "text/plain": [
              "                                               claim  label\n",
              "0  Viral image Says BBC prematurely reported “Ghi...  false\n",
              "1       The coronavirus is “simply the common cold.”  false\n",
              "2  Instagram posts Says no one has died from the ...  false\n",
              "3  An audio message lists five ways people can pr...  false\n",
              "4  This is COVID-19, not COVID-1, folks. And so y...  false"
            ]
          },
          "metadata": {
            "tags": []
          },
          "execution_count": 10
        }
      ]
    },
    {
      "cell_type": "code",
      "metadata": {
        "colab": {
          "base_uri": "https://localhost:8080/",
          "height": 238
        },
        "id": "v_i4zwj1shuI",
        "outputId": "d5bf9e86-d6ae-49a5-a4d5-201ad3972995"
      },
      "source": [
        "# Validation dataset\n",
        "df_dev=pd.read_csv('/content/dev_preprocessed.csv')\n",
        "print('There are {} observations (tweets) & {} features in the Train dataset'.format(df_dev.shape[0],df_dev.shape[1]))\n",
        "print('Look at the Validation (dev) dataset:')\n",
        "df_dev.head()"
      ],
      "execution_count": null,
      "outputs": [
        {
          "output_type": "stream",
          "text": [
            "There are 69 observations (tweets) & 2 features in the Train dataset\n",
            "Look at the Validation (dev) dataset:\n"
          ],
          "name": "stdout"
        },
        {
          "output_type": "execute_result",
          "data": {
            "text/html": [
              "<div>\n",
              "<style scoped>\n",
              "    .dataframe tbody tr th:only-of-type {\n",
              "        vertical-align: middle;\n",
              "    }\n",
              "\n",
              "    .dataframe tbody tr th {\n",
              "        vertical-align: top;\n",
              "    }\n",
              "\n",
              "    .dataframe thead th {\n",
              "        text-align: right;\n",
              "    }\n",
              "</style>\n",
              "<table border=\"1\" class=\"dataframe\">\n",
              "  <thead>\n",
              "    <tr style=\"text-align: right;\">\n",
              "      <th></th>\n",
              "      <th>claim</th>\n",
              "      <th>label</th>\n",
              "    </tr>\n",
              "  </thead>\n",
              "  <tbody>\n",
              "    <tr>\n",
              "      <th>0</th>\n",
              "      <td>Microsoft owns patent \"666,\" which involves in...</td>\n",
              "      <td>false</td>\n",
              "    </tr>\n",
              "    <tr>\n",
              "      <th>1</th>\n",
              "      <td>The seasonal flu kills more people every year ...</td>\n",
              "      <td>false</td>\n",
              "    </tr>\n",
              "    <tr>\n",
              "      <th>2</th>\n",
              "      <td>“President Trump has come into contact with a ...</td>\n",
              "      <td>false</td>\n",
              "    </tr>\n",
              "    <tr>\n",
              "      <th>3</th>\n",
              "      <td>Sanitizer will do nothing for the coronavirus.</td>\n",
              "      <td>false</td>\n",
              "    </tr>\n",
              "    <tr>\n",
              "      <th>4</th>\n",
              "      <td>Chain message Says \"special military helicopte...</td>\n",
              "      <td>false</td>\n",
              "    </tr>\n",
              "  </tbody>\n",
              "</table>\n",
              "</div>"
            ],
            "text/plain": [
              "                                               claim  label\n",
              "0  Microsoft owns patent \"666,\" which involves in...  false\n",
              "1  The seasonal flu kills more people every year ...  false\n",
              "2  “President Trump has come into contact with a ...  false\n",
              "3     Sanitizer will do nothing for the coronavirus.  false\n",
              "4  Chain message Says \"special military helicopte...  false"
            ]
          },
          "metadata": {
            "tags": []
          },
          "execution_count": 11
        }
      ]
    },
    {
      "cell_type": "code",
      "metadata": {
        "colab": {
          "base_uri": "https://localhost:8080/",
          "height": 238
        },
        "id": "LQleyTDnsrGh",
        "outputId": "fb5aec76-7b74-4f48-c356-663477c558cf"
      },
      "source": [
        "# Test dataset\n",
        "df_test=pd.read_csv('/content/test_preprocessed.csv')\n",
        "print('There are {} observations (tweets) & {} features in the Train dataset'.format(df_test.shape[0],df_test.shape[1]))\n",
        "print('Look at the Test dataset:')\n",
        "df_test.head()"
      ],
      "execution_count": null,
      "outputs": [
        {
          "output_type": "stream",
          "text": [
            "There are 68 observations (tweets) & 2 features in the Train dataset\n",
            "Look at the Test dataset:\n"
          ],
          "name": "stdout"
        },
        {
          "output_type": "execute_result",
          "data": {
            "text/html": [
              "<div>\n",
              "<style scoped>\n",
              "    .dataframe tbody tr th:only-of-type {\n",
              "        vertical-align: middle;\n",
              "    }\n",
              "\n",
              "    .dataframe tbody tr th {\n",
              "        vertical-align: top;\n",
              "    }\n",
              "\n",
              "    .dataframe thead th {\n",
              "        text-align: right;\n",
              "    }\n",
              "</style>\n",
              "<table border=\"1\" class=\"dataframe\">\n",
              "  <thead>\n",
              "    <tr style=\"text-align: right;\">\n",
              "      <th></th>\n",
              "      <th>claim</th>\n",
              "      <th>label</th>\n",
              "    </tr>\n",
              "  </thead>\n",
              "  <tbody>\n",
              "    <tr>\n",
              "      <th>0</th>\n",
              "      <td>Viral image Says 80% of novel coronavirus case...</td>\n",
              "      <td>true</td>\n",
              "    </tr>\n",
              "    <tr>\n",
              "      <th>1</th>\n",
              "      <td>“While California is dying … Gavin (Newsom) is...</td>\n",
              "      <td>false</td>\n",
              "    </tr>\n",
              "    <tr>\n",
              "      <th>2</th>\n",
              "      <td>The WHO coronavirus test “was a bad test.”</td>\n",
              "      <td>false</td>\n",
              "    </tr>\n",
              "    <tr>\n",
              "      <th>3</th>\n",
              "      <td>Facebook post Says \"there is no\" COVID-19 virus.</td>\n",
              "      <td>false</td>\n",
              "    </tr>\n",
              "    <tr>\n",
              "      <th>4</th>\n",
              "      <td>Facebook post Says businesses will give you fr...</td>\n",
              "      <td>false</td>\n",
              "    </tr>\n",
              "  </tbody>\n",
              "</table>\n",
              "</div>"
            ],
            "text/plain": [
              "                                               claim  label\n",
              "0  Viral image Says 80% of novel coronavirus case...   true\n",
              "1  “While California is dying … Gavin (Newsom) is...  false\n",
              "2         The WHO coronavirus test “was a bad test.”  false\n",
              "3   Facebook post Says \"there is no\" COVID-19 virus.  false\n",
              "4  Facebook post Says businesses will give you fr...  false"
            ]
          },
          "metadata": {
            "tags": []
          },
          "execution_count": 12
        }
      ]
    },
    {
      "cell_type": "markdown",
      "metadata": {
        "id": "jCx7HRQ7s5lH"
      },
      "source": [
        "Let's check missing values if there are any."
      ]
    },
    {
      "cell_type": "code",
      "metadata": {
        "colab": {
          "base_uri": "https://localhost:8080/"
        },
        "id": "P2tC6dbKszCL",
        "outputId": "ec438bdc-9611-4c78-c2e0-f61efe75addd"
      },
      "source": [
        "df_train.info()"
      ],
      "execution_count": null,
      "outputs": [
        {
          "output_type": "stream",
          "text": [
            "<class 'pandas.core.frame.DataFrame'>\n",
            "RangeIndex: 528 entries, 0 to 527\n",
            "Data columns (total 2 columns):\n",
            " #   Column  Non-Null Count  Dtype \n",
            "---  ------  --------------  ----- \n",
            " 0   claim   528 non-null    object\n",
            " 1   label   528 non-null    object\n",
            "dtypes: object(2)\n",
            "memory usage: 8.4+ KB\n"
          ],
          "name": "stdout"
        }
      ]
    },
    {
      "cell_type": "code",
      "metadata": {
        "colab": {
          "base_uri": "https://localhost:8080/"
        },
        "id": "302kdQWPs8xw",
        "outputId": "4ebb082b-e7bf-4915-e61b-e622c27d67c1"
      },
      "source": [
        "df_dev.info()"
      ],
      "execution_count": null,
      "outputs": [
        {
          "output_type": "stream",
          "text": [
            "<class 'pandas.core.frame.DataFrame'>\n",
            "RangeIndex: 69 entries, 0 to 68\n",
            "Data columns (total 2 columns):\n",
            " #   Column  Non-Null Count  Dtype \n",
            "---  ------  --------------  ----- \n",
            " 0   claim   69 non-null     object\n",
            " 1   label   69 non-null     object\n",
            "dtypes: object(2)\n",
            "memory usage: 1.2+ KB\n"
          ],
          "name": "stdout"
        }
      ]
    },
    {
      "cell_type": "code",
      "metadata": {
        "colab": {
          "base_uri": "https://localhost:8080/"
        },
        "id": "w7q4bHBhtBRc",
        "outputId": "76dea874-2ecd-4742-fe13-5a02cb1bb593"
      },
      "source": [
        "df_test.info()"
      ],
      "execution_count": null,
      "outputs": [
        {
          "output_type": "stream",
          "text": [
            "<class 'pandas.core.frame.DataFrame'>\n",
            "RangeIndex: 68 entries, 0 to 67\n",
            "Data columns (total 2 columns):\n",
            " #   Column  Non-Null Count  Dtype \n",
            "---  ------  --------------  ----- \n",
            " 0   claim   68 non-null     object\n",
            " 1   label   68 non-null     object\n",
            "dtypes: object(2)\n",
            "memory usage: 1.2+ KB\n"
          ],
          "name": "stdout"
        }
      ]
    },
    {
      "cell_type": "markdown",
      "metadata": {
        "id": "m-stRFa0tOsQ"
      },
      "source": [
        "We have not found any null values in train, dev, & test dataset."
      ]
    },
    {
      "cell_type": "markdown",
      "metadata": {
        "id": "0RJoxEXZtSO4"
      },
      "source": [
        "### Count plot for label"
      ]
    },
    {
      "cell_type": "code",
      "metadata": {
        "colab": {
          "base_uri": "https://localhost:8080/",
          "height": 415
        },
        "id": "DnI34fB3tLaU",
        "outputId": "39fa51b5-a0e1-49fb-a1dd-7b1221192ee3"
      },
      "source": [
        "sns.countplot(df_train.label)\n",
        "plt.xlabel('label')"
      ],
      "execution_count": null,
      "outputs": [
        {
          "output_type": "execute_result",
          "data": {
            "text/plain": [
              "Text(0.5, 0, 'label')"
            ]
          },
          "metadata": {
            "tags": []
          },
          "execution_count": 16
        },
        {
          "output_type": "display_data",
          "data": {
            "image/png": "[encoded data removed]",
            "text/plain": [
              "<Figure size 864x432 with 1 Axes>"
            ]
          },
          "metadata": {
            "tags": [],
            "image/png": {
              "width": 736,
              "height": 381
            }
          }
        }
      ]
    },
    {
      "cell_type": "markdown",
      "metadata": {
        "id": "1zVRuw13taWi"
      },
      "source": [
        "We need only 3 classes (false, true, & mixture) for this task. So drop unproven class from dataset."
      ]
    },
    {
      "cell_type": "code",
      "metadata": {
        "colab": {
          "base_uri": "https://localhost:8080/",
          "height": 432
        },
        "id": "8DJlRyULtXGQ",
        "outputId": "37d6390d-21d0-4890-aaa7-7b8a16cae120"
      },
      "source": [
        "df_train=df_train[~(df_train.label=='unproven')]\n",
        "print('Train dataset shape : {}'.format(df_train.shape))\n",
        "sns.countplot(df_train.label)\n",
        "plt.xlabel('label')"
      ],
      "execution_count": null,
      "outputs": [
        {
          "output_type": "stream",
          "text": [
            "Train dataset shape : (521, 2)\n"
          ],
          "name": "stdout"
        },
        {
          "output_type": "execute_result",
          "data": {
            "text/plain": [
              "Text(0.5, 0, 'label')"
            ]
          },
          "metadata": {
            "tags": []
          },
          "execution_count": 17
        },
        {
          "output_type": "display_data",
          "data": {
            "image/png": "[encoded data removed]",
            "text/plain": [
              "<Figure size 864x432 with 1 Axes>"
            ]
          },
          "metadata": {
            "tags": [],
            "image/png": {
              "width": 736,
              "height": 381
            }
          }
        }
      ]
    },
    {
      "cell_type": "markdown",
      "metadata": {
        "id": "tXirAWz7tkXZ"
      },
      "source": [
        "### Encode out text labels to numeric."
      ]
    },
    {
      "cell_type": "code",
      "metadata": {
        "colab": {
          "base_uri": "https://localhost:8080/"
        },
        "id": "GwZ7rR5oteg6",
        "outputId": "83d17ed7-ca62-47bc-ddb5-6fa5bb752d82"
      },
      "source": [
        "# Initiate LabelEncoder class\n",
        "le =LabelEncoder()\n",
        "# Training dataset\n",
        "df_train['label'] = le.fit_transform(df_train['label'])\n",
        "df_train.label.value_counts()   # 0 -false, 2-true, 1-mixture"
      ],
      "execution_count": null,
      "outputs": [
        {
          "output_type": "execute_result",
          "data": {
            "text/plain": [
              "0    338\n",
              "2    110\n",
              "1     73\n",
              "Name: label, dtype: int64"
            ]
          },
          "metadata": {
            "tags": []
          },
          "execution_count": 18
        }
      ]
    },
    {
      "cell_type": "code",
      "metadata": {
        "colab": {
          "base_uri": "https://localhost:8080/"
        },
        "id": "Oj8vuTnktoC5",
        "outputId": "5d4454f5-09b8-446e-ced3-fc3a8aad6841"
      },
      "source": [
        "# Dev dataset\n",
        "df_dev=df_dev[~(df_dev.label=='unproven')]   # only 3 classes\n",
        "df_dev['label'] = le.transform(df_dev['label'])\n",
        "df_dev.label.value_counts()   # 0 -false, 2-true, 1-mixture"
      ],
      "execution_count": null,
      "outputs": [
        {
          "output_type": "execute_result",
          "data": {
            "text/plain": [
              "0    51\n",
              "2    10\n",
              "1     6\n",
              "Name: label, dtype: int64"
            ]
          },
          "metadata": {
            "tags": []
          },
          "execution_count": 19
        }
      ]
    },
    {
      "cell_type": "code",
      "metadata": {
        "colab": {
          "base_uri": "https://localhost:8080/"
        },
        "id": "3JN8GAnRtr-b",
        "outputId": "3e969710-4af4-4d34-e122-4be5de767ef8"
      },
      "source": [
        "# Test dataset\n",
        "df_test=df_test[~(df_test.label=='unproven')]   # only 3 classes\n",
        "df_test['label'] = le.transform(df_test['label'])\n",
        "df_test.label.value_counts()   # 0 -false, 2-true, 1-mixture"
      ],
      "execution_count": null,
      "outputs": [
        {
          "output_type": "execute_result",
          "data": {
            "text/plain": [
              "0    49\n",
              "2    13\n",
              "1     6\n",
              "Name: label, dtype: int64"
            ]
          },
          "metadata": {
            "tags": []
          },
          "execution_count": 20
        }
      ]
    },
    {
      "cell_type": "markdown",
      "metadata": {
        "id": "avGKPdDSt0BC"
      },
      "source": [
        "### Define pre-trained model"
      ]
    },
    {
      "cell_type": "code",
      "metadata": {
        "id": "K5lhID51twVL"
      },
      "source": [
        "Pre_trained_model='bert-base-cased'\n",
        "custom_model = '/content/bert_model/'   # fine tuned language model weights"
      ],
      "execution_count": null,
      "outputs": []
    },
    {
      "cell_type": "markdown",
      "metadata": {
        "id": "14nv26jQuAxy"
      },
      "source": [
        "### Load the BERT tokenizer:"
      ]
    },
    {
      "cell_type": "code",
      "metadata": {
        "id": "7jkE6OQet8_y"
      },
      "source": [
        "tokenizer=BertTokenizer.from_pretrained(Pre_trained_model)"
      ],
      "execution_count": null,
      "outputs": []
    },
    {
      "cell_type": "code",
      "metadata": {
        "id": "4dgwJuF5uO1c"
      },
      "source": [
        "# Convert to list\n",
        "train_explanations = df_train.explanation.tolist()\n",
        "dev_explanations = df_dev.explanation.tolist()\n",
        "test_explanations = df_test.explanation.tolist()"
      ],
      "execution_count": null,
      "outputs": []
    },
    {
      "cell_type": "code",
      "metadata": {
        "id": "9Jvnk_nNukqm"
      },
      "source": [
        "# Create token ids (input ids) for each explanation\n",
        "# Train dataset\n",
        "train_input_ids = [tokenizer.encode(train_explanations[i],add_special_tokens = True) for i in range(0,len(train_explanations))]\n",
        "# dev dataset\n",
        "dev_input_ids = [tokenizer.encode(dev_explanations[i],add_special_tokens = True) for i in range(0,len(dev_explanations))]\n",
        "# Test dataset\n",
        "test_input_ids = [tokenizer.encode(test_explanations[i],add_special_tokens = True) for i in range(0,len(test_explanations))]"
      ],
      "execution_count": null,
      "outputs": []
    },
    {
      "cell_type": "markdown",
      "metadata": {
        "id": "JRQkdrZput8j"
      },
      "source": [
        "### Padding & Truncating"
      ]
    },
    {
      "cell_type": "markdown",
      "metadata": {
        "id": "9Hi1dbE3uzar"
      },
      "source": [
        "Pad and truncate our sequences so that they all have the same length, Maximum explanation length."
      ]
    },
    {
      "cell_type": "code",
      "metadata": {
        "colab": {
          "base_uri": "https://localhost:8080/"
        },
        "id": "-mFZFy3_uokl",
        "outputId": "c3134a67-50e3-4fb5-aa84-781253502d1e"
      },
      "source": [
        "print('Max explanation length for train data: ', max([len(exp) for exp in train_input_ids]))\n",
        "print('Max explanation length for dev/validation data: ', max([len(exp) for exp in dev_input_ids]))\n",
        "print('Max explanation length for test data: ', max([len(exp) for exp in test_input_ids]))"
      ],
      "execution_count": null,
      "outputs": [
        {
          "output_type": "stream",
          "text": [
            "Max explanation length for train data:  296\n",
            "Max explanation length for dev/validation data:  228\n",
            "Max explanation length for test data:  171\n"
          ],
          "name": "stdout"
        }
      ]
    },
    {
      "cell_type": "code",
      "metadata": {
        "colab": {
          "base_uri": "https://localhost:8080/"
        },
        "id": "dubrQM4Eu5A_",
        "outputId": "b52bba5b-28ef-46b8-f079-b86071ef0ad6"
      },
      "source": [
        "from keras.preprocessing.sequence import pad_sequences    # Pad utility function to pad sequences to maximum length.\n",
        " \n",
        "# Train dataset\n",
        "Max_length = 320   # We consider maximum length of explanations more than 296 just to be on safer side.\n",
        "print('\\nPadding/truncating all sentences to %d values for train dataset...' % Max_length)\n",
        "# Pad our input tokens with value 0.\n",
        "# \"post\" indicates that we want to pad and truncate at the end of the sequence\n",
        "train_input_ids = pad_sequences(train_input_ids, maxlen=Max_length, dtype=\"long\", \n",
        "                          value=0, truncating=\"post\", padding=\"post\")\n",
        "\n",
        "# dev dataset\n",
        "Max_length = 228   # We consider maximum length of explanations more than 250 just to be on safer side.\n",
        "print('\\nPadding/truncating all sentences to %d values for dev dataset...' % Max_length)\n",
        "dev_input_ids = pad_sequences(dev_input_ids, maxlen=Max_length, dtype=\"long\", \n",
        "                          value=0, truncating=\"post\", padding=\"post\")\n",
        "\n",
        "# Test dataset\n",
        "Max_length = 171   # We consider maximum length of explanations more than 200 just to be on safer side.\n",
        "print('\\nPadding/truncating all sentences to %d values for test dataset' % Max_length)\n",
        "test_input_ids = pad_sequences(test_input_ids, maxlen=Max_length, dtype=\"long\", \n",
        "                          value=0, truncating=\"post\", padding=\"post\")\n",
        "print('\\n All are done.')"
      ],
      "execution_count": null,
      "outputs": [
        {
          "output_type": "stream",
          "text": [
            "\n",
            "Padding/truncating all sentences to 320 values for train dataset...\n",
            "\n",
            "Padding/truncating all sentences to 228 values for dev dataset...\n",
            "\n",
            "Padding/truncating all sentences to 171 values for test dataset\n",
            "\n",
            " All are done.\n"
          ],
          "name": "stdout"
        }
      ]
    },
    {
      "cell_type": "markdown",
      "metadata": {
        "id": "PJ82rUsPvArI"
      },
      "source": [
        "### Attention Masks"
      ]
    },
    {
      "cell_type": "code",
      "metadata": {
        "id": "zNltZBNnu8zF"
      },
      "source": [
        "# Create attention masks\n",
        "\n",
        "# Train dataset\n",
        "train_attention_masks = [[int(token_id > 0) for token_id in exp]\n",
        "                         for exp in train_input_ids]\n",
        "# dev dataset\n",
        "dev_attention_masks = [[int(token_id > 0) for token_id in exp]\n",
        "                         for exp in dev_input_ids]\n",
        "# Test dataset\n",
        "test_attention_masks = [[int(token_id > 0) for token_id in exp]\n",
        "                         for exp in test_input_ids]"
      ],
      "execution_count": null,
      "outputs": []
    },
    {
      "cell_type": "code",
      "metadata": {
        "id": "XXaeiJlIvJ2t"
      },
      "source": [
        "# Convert all inputs and labels into torch tensors, the required datatype \n",
        "# for our model.\n",
        "\n",
        "# input_ids\n",
        "train_inputs = torch.tensor(train_input_ids)\n",
        "dev_inputs = torch.tensor(dev_input_ids)\n",
        "test_inputs = torch.tensor(test_input_ids)\n",
        "# labels\n",
        "train_labels = torch.tensor(df_train.label.values)\n",
        "dev_labels = torch.tensor(df_dev.label.values)\n",
        "test_labels = torch.tensor(df_test.label.values)\n",
        "# attention masks\n",
        "train_masks = torch.tensor(train_attention_masks)\n",
        "dev_masks = torch.tensor(dev_attention_masks)\n",
        "test_masks = torch.tensor(test_attention_masks)"
      ],
      "execution_count": null,
      "outputs": []
    },
    {
      "cell_type": "code",
      "metadata": {
        "id": "Po0z_YCRvMoG"
      },
      "source": [
        "# Create a DataLoader to load our datasets\n",
        "\n",
        "batch_size = 8\n",
        "\n",
        "# Create the DataLoader for our training set.\n",
        "train_data = TensorDataset(train_inputs, train_masks, train_labels)\n",
        "train_sampler = RandomSampler(train_data)\n",
        "train_dataloader = DataLoader(train_data, sampler=train_sampler, batch_size=batch_size)\n",
        "\n",
        "# Create the DataLoader for our dev set.\n",
        "dev_data = TensorDataset(dev_inputs, dev_masks, dev_labels)\n",
        "dev_sampler = SequentialSampler(dev_data)\n",
        "dev_dataloader = DataLoader(dev_data, sampler=dev_sampler, batch_size=batch_size)\n",
        "\n",
        "# Create the DataLoader for our test set.\n",
        "test_data = TensorDataset(test_inputs, test_masks, test_labels)\n",
        "test_sampler = SequentialSampler(test_data)\n",
        "test_dataloader = DataLoader(test_data, sampler=test_sampler, batch_size=batch_size)"
      ],
      "execution_count": null,
      "outputs": []
    },
    {
      "cell_type": "code",
      "metadata": {
        "colab": {
          "base_uri": "https://localhost:8080/"
        },
        "id": "ELNUggcYvWCP",
        "outputId": "5b16414b-b193-4f85-b7c9-3522122a2eab"
      },
      "source": [
        "data1 = next(iter(test_dataloader))\n",
        "data1[2]"
      ],
      "execution_count": null,
      "outputs": [
        {
          "output_type": "execute_result",
          "data": {
            "text/plain": [
              "tensor([2, 0, 0, 0, 0, 0, 0, 0])"
            ]
          },
          "metadata": {
            "tags": []
          },
          "execution_count": 26
        }
      ]
    },
    {
      "cell_type": "markdown",
      "metadata": {
        "id": "tU3loY8Tvdnh"
      },
      "source": [
        "### Build a Fact Checking Classifier"
      ]
    },
    {
      "cell_type": "markdown",
      "metadata": {
        "id": "WhguyxnUvhKv"
      },
      "source": [
        "### BertForSequenceClassification"
      ]
    },
    {
      "cell_type": "code",
      "metadata": {
        "id": "hbpAXcPpvY7p"
      },
      "source": [
        "# Number of classes / labels\n",
        "n_classes = df_train['label'].nunique()"
      ],
      "execution_count": null,
      "outputs": []
    },
    {
      "cell_type": "code",
      "metadata": {
        "colab": {
          "base_uri": "https://localhost:8080/"
        },
        "id": "gnD8lyDEvndI",
        "outputId": "624f8566-ac44-48c0-ffdc-0d8b351c17e2"
      },
      "source": [
        "bert_model = BertForSequenceClassification.from_pretrained(custom_model,num_labels = n_classes,\n",
        "                                                          output_attentions = False,output_hidden_states = False )"
      ],
      "execution_count": null,
      "outputs": [
        {
          "output_type": "stream",
          "text": [
            "Some weights of the model checkpoint at /content/bert_model/ were not used when initializing BertForSequenceClassification: ['cls.predictions.bias', 'cls.predictions.transform.dense.weight', 'cls.predictions.transform.dense.bias', 'cls.predictions.transform.LayerNorm.weight', 'cls.predictions.transform.LayerNorm.bias', 'cls.predictions.decoder.weight', 'cls.predictions.decoder.bias']\n",
            "- This IS expected if you are initializing BertForSequenceClassification from the checkpoint of a model trained on another task or with another architecture (e.g. initializing a BertForSequenceClassification model from a BertForPreTraining model).\n",
            "- This IS NOT expected if you are initializing BertForSequenceClassification from the checkpoint of a model that you expect to be exactly identical (initializing a BertForSequenceClassification model from a BertForSequenceClassification model).\n",
            "Some weights of BertForSequenceClassification were not initialized from the model checkpoint at /content/bert_model/ and are newly initialized: ['bert.pooler.dense.weight', 'bert.pooler.dense.bias', 'classifier.weight', 'classifier.bias']\n",
            "You should probably TRAIN this model on a down-stream task to be able to use it for predictions and inference.\n"
          ],
          "name": "stderr"
        }
      ]
    },
    {
      "cell_type": "code",
      "metadata": {
        "colab": {
          "base_uri": "https://localhost:8080/"
        },
        "id": "A_NvnsBYvu9a",
        "outputId": "310a1f89-c0cf-4555-fd5d-5140bb10aefe"
      },
      "source": [
        "# Put our model in training mode as it is in evaluation mode by default\n",
        "bert_model.train()"
      ],
      "execution_count": null,
      "outputs": [
        {
          "output_type": "execute_result",
          "data": {
            "text/plain": [
              "BertForSequenceClassification(\n",
              "  (bert): BertModel(\n",
              "    (embeddings): BertEmbeddings(\n",
              "      (word_embeddings): Embedding(28996, 768, padding_idx=0)\n",
              "      (position_embeddings): Embedding(512, 768)\n",
              "      (token_type_embeddings): Embedding(2, 768)\n",
              "      (LayerNorm): LayerNorm((768,), eps=1e-12, elementwise_affine=True)\n",
              "      (dropout): Dropout(p=0.1, inplace=False)\n",
              "    )\n",
              "    (encoder): BertEncoder(\n",
              "      (layer): ModuleList(\n",
              "        (0): BertLayer(\n",
              "          (attention): BertAttention(\n",
              "            (self): BertSelfAttention(\n",
              "              (query): Linear(in_features=768, out_features=768, bias=True)\n",
              "              (key): Linear(in_features=768, out_features=768, bias=True)\n",
              "              (value): Linear(in_features=768, out_features=768, bias=True)\n",
              "              (dropout): Dropout(p=0.1, inplace=False)\n",
              "            )\n",
              "            (output): BertSelfOutput(\n",
              "              (dense): Linear(in_features=768, out_features=768, bias=True)\n",
              "              (LayerNorm): LayerNorm((768,), eps=1e-12, elementwise_affine=True)\n",
              "              (dropout): Dropout(p=0.1, inplace=False)\n",
              "            )\n",
              "          )\n",
              "          (intermediate): BertIntermediate(\n",
              "            (dense): Linear(in_features=768, out_features=3072, bias=True)\n",
              "          )\n",
              "          (output): BertOutput(\n",
              "            (dense): Linear(in_features=3072, out_features=768, bias=True)\n",
              "            (LayerNorm): LayerNorm((768,), eps=1e-12, elementwise_affine=True)\n",
              "            (dropout): Dropout(p=0.1, inplace=False)\n",
              "          )\n",
              "        )\n",
              "        (1): BertLayer(\n",
              "          (attention): BertAttention(\n",
              "            (self): BertSelfAttention(\n",
              "              (query): Linear(in_features=768, out_features=768, bias=True)\n",
              "              (key): Linear(in_features=768, out_features=768, bias=True)\n",
              "              (value): Linear(in_features=768, out_features=768, bias=True)\n",
              "              (dropout): Dropout(p=0.1, inplace=False)\n",
              "            )\n",
              "            (output): BertSelfOutput(\n",
              "              (dense): Linear(in_features=768, out_features=768, bias=True)\n",
              "              (LayerNorm): LayerNorm((768,), eps=1e-12, elementwise_affine=True)\n",
              "              (dropout): Dropout(p=0.1, inplace=False)\n",
              "            )\n",
              "          )\n",
              "          (intermediate): BertIntermediate(\n",
              "            (dense): Linear(in_features=768, out_features=3072, bias=True)\n",
              "          )\n",
              "          (output): BertOutput(\n",
              "            (dense): Linear(in_features=3072, out_features=768, bias=True)\n",
              "            (LayerNorm): LayerNorm((768,), eps=1e-12, elementwise_affine=True)\n",
              "            (dropout): Dropout(p=0.1, inplace=False)\n",
              "          )\n",
              "        )\n",
              "        (2): BertLayer(\n",
              "          (attention): BertAttention(\n",
              "            (self): BertSelfAttention(\n",
              "              (query): Linear(in_features=768, out_features=768, bias=True)\n",
              "              (key): Linear(in_features=768, out_features=768, bias=True)\n",
              "              (value): Linear(in_features=768, out_features=768, bias=True)\n",
              "              (dropout): Dropout(p=0.1, inplace=False)\n",
              "            )\n",
              "            (output): BertSelfOutput(\n",
              "              (dense): Linear(in_features=768, out_features=768, bias=True)\n",
              "              (LayerNorm): LayerNorm((768,), eps=1e-12, elementwise_affine=True)\n",
              "              (dropout): Dropout(p=0.1, inplace=False)\n",
              "            )\n",
              "          )\n",
              "          (intermediate): BertIntermediate(\n",
              "            (dense): Linear(in_features=768, out_features=3072, bias=True)\n",
              "          )\n",
              "          (output): BertOutput(\n",
              "            (dense): Linear(in_features=3072, out_features=768, bias=True)\n",
              "            (LayerNorm): LayerNorm((768,), eps=1e-12, elementwise_affine=True)\n",
              "            (dropout): Dropout(p=0.1, inplace=False)\n",
              "          )\n",
              "        )\n",
              "        (3): BertLayer(\n",
              "          (attention): BertAttention(\n",
              "            (self): BertSelfAttention(\n",
              "              (query): Linear(in_features=768, out_features=768, bias=True)\n",
              "              (key): Linear(in_features=768, out_features=768, bias=True)\n",
              "              (value): Linear(in_features=768, out_features=768, bias=True)\n",
              "              (dropout): Dropout(p=0.1, inplace=False)\n",
              "            )\n",
              "            (output): BertSelfOutput(\n",
              "              (dense): Linear(in_features=768, out_features=768, bias=True)\n",
              "              (LayerNorm): LayerNorm((768,), eps=1e-12, elementwise_affine=True)\n",
              "              (dropout): Dropout(p=0.1, inplace=False)\n",
              "            )\n",
              "          )\n",
              "          (intermediate): BertIntermediate(\n",
              "            (dense): Linear(in_features=768, out_features=3072, bias=True)\n",
              "          )\n",
              "          (output): BertOutput(\n",
              "            (dense): Linear(in_features=3072, out_features=768, bias=True)\n",
              "            (LayerNorm): LayerNorm((768,), eps=1e-12, elementwise_affine=True)\n",
              "            (dropout): Dropout(p=0.1, inplace=False)\n",
              "          )\n",
              "        )\n",
              "        (4): BertLayer(\n",
              "          (attention): BertAttention(\n",
              "            (self): BertSelfAttention(\n",
              "              (query): Linear(in_features=768, out_features=768, bias=True)\n",
              "              (key): Linear(in_features=768, out_features=768, bias=True)\n",
              "              (value): Linear(in_features=768, out_features=768, bias=True)\n",
              "              (dropout): Dropout(p=0.1, inplace=False)\n",
              "            )\n",
              "            (output): BertSelfOutput(\n",
              "              (dense): Linear(in_features=768, out_features=768, bias=True)\n",
              "              (LayerNorm): LayerNorm((768,), eps=1e-12, elementwise_affine=True)\n",
              "              (dropout): Dropout(p=0.1, inplace=False)\n",
              "            )\n",
              "          )\n",
              "          (intermediate): BertIntermediate(\n",
              "            (dense): Linear(in_features=768, out_features=3072, bias=True)\n",
              "          )\n",
              "          (output): BertOutput(\n",
              "            (dense): Linear(in_features=3072, out_features=768, bias=True)\n",
              "            (LayerNorm): LayerNorm((768,), eps=1e-12, elementwise_affine=True)\n",
              "            (dropout): Dropout(p=0.1, inplace=False)\n",
              "          )\n",
              "        )\n",
              "        (5): BertLayer(\n",
              "          (attention): BertAttention(\n",
              "            (self): BertSelfAttention(\n",
              "              (query): Linear(in_features=768, out_features=768, bias=True)\n",
              "              (key): Linear(in_features=768, out_features=768, bias=True)\n",
              "              (value): Linear(in_features=768, out_features=768, bias=True)\n",
              "              (dropout): Dropout(p=0.1, inplace=False)\n",
              "            )\n",
              "            (output): BertSelfOutput(\n",
              "              (dense): Linear(in_features=768, out_features=768, bias=True)\n",
              "              (LayerNorm): LayerNorm((768,), eps=1e-12, elementwise_affine=True)\n",
              "              (dropout): Dropout(p=0.1, inplace=False)\n",
              "            )\n",
              "          )\n",
              "          (intermediate): BertIntermediate(\n",
              "            (dense): Linear(in_features=768, out_features=3072, bias=True)\n",
              "          )\n",
              "          (output): BertOutput(\n",
              "            (dense): Linear(in_features=3072, out_features=768, bias=True)\n",
              "            (LayerNorm): LayerNorm((768,), eps=1e-12, elementwise_affine=True)\n",
              "            (dropout): Dropout(p=0.1, inplace=False)\n",
              "          )\n",
              "        )\n",
              "        (6): BertLayer(\n",
              "          (attention): BertAttention(\n",
              "            (self): BertSelfAttention(\n",
              "              (query): Linear(in_features=768, out_features=768, bias=True)\n",
              "              (key): Linear(in_features=768, out_features=768, bias=True)\n",
              "              (value): Linear(in_features=768, out_features=768, bias=True)\n",
              "              (dropout): Dropout(p=0.1, inplace=False)\n",
              "            )\n",
              "            (output): BertSelfOutput(\n",
              "              (dense): Linear(in_features=768, out_features=768, bias=True)\n",
              "              (LayerNorm): LayerNorm((768,), eps=1e-12, elementwise_affine=True)\n",
              "              (dropout): Dropout(p=0.1, inplace=False)\n",
              "            )\n",
              "          )\n",
              "          (intermediate): BertIntermediate(\n",
              "            (dense): Linear(in_features=768, out_features=3072, bias=True)\n",
              "          )\n",
              "          (output): BertOutput(\n",
              "            (dense): Linear(in_features=3072, out_features=768, bias=True)\n",
              "            (LayerNorm): LayerNorm((768,), eps=1e-12, elementwise_affine=True)\n",
              "            (dropout): Dropout(p=0.1, inplace=False)\n",
              "          )\n",
              "        )\n",
              "        (7): BertLayer(\n",
              "          (attention): BertAttention(\n",
              "            (self): BertSelfAttention(\n",
              "              (query): Linear(in_features=768, out_features=768, bias=True)\n",
              "              (key): Linear(in_features=768, out_features=768, bias=True)\n",
              "              (value): Linear(in_features=768, out_features=768, bias=True)\n",
              "              (dropout): Dropout(p=0.1, inplace=False)\n",
              "            )\n",
              "            (output): BertSelfOutput(\n",
              "              (dense): Linear(in_features=768, out_features=768, bias=True)\n",
              "              (LayerNorm): LayerNorm((768,), eps=1e-12, elementwise_affine=True)\n",
              "              (dropout): Dropout(p=0.1, inplace=False)\n",
              "            )\n",
              "          )\n",
              "          (intermediate): BertIntermediate(\n",
              "            (dense): Linear(in_features=768, out_features=3072, bias=True)\n",
              "          )\n",
              "          (output): BertOutput(\n",
              "            (dense): Linear(in_features=3072, out_features=768, bias=True)\n",
              "            (LayerNorm): LayerNorm((768,), eps=1e-12, elementwise_affine=True)\n",
              "            (dropout): Dropout(p=0.1, inplace=False)\n",
              "          )\n",
              "        )\n",
              "        (8): BertLayer(\n",
              "          (attention): BertAttention(\n",
              "            (self): BertSelfAttention(\n",
              "              (query): Linear(in_features=768, out_features=768, bias=True)\n",
              "              (key): Linear(in_features=768, out_features=768, bias=True)\n",
              "              (value): Linear(in_features=768, out_features=768, bias=True)\n",
              "              (dropout): Dropout(p=0.1, inplace=False)\n",
              "            )\n",
              "            (output): BertSelfOutput(\n",
              "              (dense): Linear(in_features=768, out_features=768, bias=True)\n",
              "              (LayerNorm): LayerNorm((768,), eps=1e-12, elementwise_affine=True)\n",
              "              (dropout): Dropout(p=0.1, inplace=False)\n",
              "            )\n",
              "          )\n",
              "          (intermediate): BertIntermediate(\n",
              "            (dense): Linear(in_features=768, out_features=3072, bias=True)\n",
              "          )\n",
              "          (output): BertOutput(\n",
              "            (dense): Linear(in_features=3072, out_features=768, bias=True)\n",
              "            (LayerNorm): LayerNorm((768,), eps=1e-12, elementwise_affine=True)\n",
              "            (dropout): Dropout(p=0.1, inplace=False)\n",
              "          )\n",
              "        )\n",
              "        (9): BertLayer(\n",
              "          (attention): BertAttention(\n",
              "            (self): BertSelfAttention(\n",
              "              (query): Linear(in_features=768, out_features=768, bias=True)\n",
              "              (key): Linear(in_features=768, out_features=768, bias=True)\n",
              "              (value): Linear(in_features=768, out_features=768, bias=True)\n",
              "              (dropout): Dropout(p=0.1, inplace=False)\n",
              "            )\n",
              "            (output): BertSelfOutput(\n",
              "              (dense): Linear(in_features=768, out_features=768, bias=True)\n",
              "              (LayerNorm): LayerNorm((768,), eps=1e-12, elementwise_affine=True)\n",
              "              (dropout): Dropout(p=0.1, inplace=False)\n",
              "            )\n",
              "          )\n",
              "          (intermediate): BertIntermediate(\n",
              "            (dense): Linear(in_features=768, out_features=3072, bias=True)\n",
              "          )\n",
              "          (output): BertOutput(\n",
              "            (dense): Linear(in_features=3072, out_features=768, bias=True)\n",
              "            (LayerNorm): LayerNorm((768,), eps=1e-12, elementwise_affine=True)\n",
              "            (dropout): Dropout(p=0.1, inplace=False)\n",
              "          )\n",
              "        )\n",
              "        (10): BertLayer(\n",
              "          (attention): BertAttention(\n",
              "            (self): BertSelfAttention(\n",
              "              (query): Linear(in_features=768, out_features=768, bias=True)\n",
              "              (key): Linear(in_features=768, out_features=768, bias=True)\n",
              "              (value): Linear(in_features=768, out_features=768, bias=True)\n",
              "              (dropout): Dropout(p=0.1, inplace=False)\n",
              "            )\n",
              "            (output): BertSelfOutput(\n",
              "              (dense): Linear(in_features=768, out_features=768, bias=True)\n",
              "              (LayerNorm): LayerNorm((768,), eps=1e-12, elementwise_affine=True)\n",
              "              (dropout): Dropout(p=0.1, inplace=False)\n",
              "            )\n",
              "          )\n",
              "          (intermediate): BertIntermediate(\n",
              "            (dense): Linear(in_features=768, out_features=3072, bias=True)\n",
              "          )\n",
              "          (output): BertOutput(\n",
              "            (dense): Linear(in_features=3072, out_features=768, bias=True)\n",
              "            (LayerNorm): LayerNorm((768,), eps=1e-12, elementwise_affine=True)\n",
              "            (dropout): Dropout(p=0.1, inplace=False)\n",
              "          )\n",
              "        )\n",
              "        (11): BertLayer(\n",
              "          (attention): BertAttention(\n",
              "            (self): BertSelfAttention(\n",
              "              (query): Linear(in_features=768, out_features=768, bias=True)\n",
              "              (key): Linear(in_features=768, out_features=768, bias=True)\n",
              "              (value): Linear(in_features=768, out_features=768, bias=True)\n",
              "              (dropout): Dropout(p=0.1, inplace=False)\n",
              "            )\n",
              "            (output): BertSelfOutput(\n",
              "              (dense): Linear(in_features=768, out_features=768, bias=True)\n",
              "              (LayerNorm): LayerNorm((768,), eps=1e-12, elementwise_affine=True)\n",
              "              (dropout): Dropout(p=0.1, inplace=False)\n",
              "            )\n",
              "          )\n",
              "          (intermediate): BertIntermediate(\n",
              "            (dense): Linear(in_features=768, out_features=3072, bias=True)\n",
              "          )\n",
              "          (output): BertOutput(\n",
              "            (dense): Linear(in_features=3072, out_features=768, bias=True)\n",
              "            (LayerNorm): LayerNorm((768,), eps=1e-12, elementwise_affine=True)\n",
              "            (dropout): Dropout(p=0.1, inplace=False)\n",
              "          )\n",
              "        )\n",
              "      )\n",
              "    )\n",
              "    (pooler): BertPooler(\n",
              "      (dense): Linear(in_features=768, out_features=768, bias=True)\n",
              "      (activation): Tanh()\n",
              "    )\n",
              "  )\n",
              "  (dropout): Dropout(p=0.1, inplace=False)\n",
              "  (classifier): Linear(in_features=768, out_features=3, bias=True)\n",
              ")"
            ]
          },
          "metadata": {
            "tags": []
          },
          "execution_count": 29
        }
      ]
    },
    {
      "cell_type": "code",
      "metadata": {
        "id": "bP3weQ_3xpxb"
      },
      "source": [
        "## Move model to the GPU\n",
        "bert_model = bert_model.to(device) "
      ],
      "execution_count": null,
      "outputs": []
    },
    {
      "cell_type": "markdown",
      "metadata": {
        "id": "h3Ssp6x3x74b"
      },
      "source": [
        "### Optimizer & Learning Rate Scheduler"
      ]
    },
    {
      "cell_type": "markdown",
      "metadata": {
        "id": "eeJyeKcCyArH"
      },
      "source": [
        "As per original paper on BERT, we will use AdamW optimizer for correcting weight decay. We will also use, linear scheduler with no warm up steps:"
      ]
    },
    {
      "cell_type": "code",
      "metadata": {
        "id": "11EVSLNOx2c5"
      },
      "source": [
        "epochs=10\n",
        "# Define optimizer for updating weights\n",
        "optimizer=AdamW(bert_model.parameters(),lr=5e-5)\n",
        "total_steps=len(train_dataloader)*epochs\n",
        "\n",
        "# Scheduler for learning rate change\n",
        "scheduler=get_linear_schedule_with_warmup(\n",
        "    optimizer,\n",
        "    num_warmup_steps=0,\n",
        "    num_training_steps=total_steps\n",
        ")\n",
        " # Define loss function & move it to GPU\n",
        "loss_fn=nn.CrossEntropyLoss().to(device)"
      ],
      "execution_count": null,
      "outputs": []
    },
    {
      "cell_type": "markdown",
      "metadata": {
        "id": "n9pPv0GoyHFJ"
      },
      "source": [
        "### Train our model"
      ]
    },
    {
      "cell_type": "markdown",
      "metadata": {
        "id": "e4dL8zwmyLcp"
      },
      "source": [
        "Define a function for calculating elapsed time."
      ]
    },
    {
      "cell_type": "code",
      "metadata": {
        "id": "IbRFVLVsyEJG"
      },
      "source": [
        "def format_time(elapsed):\n",
        "    # Round to the nearest second\n",
        "    elapsed_round = int(round(elapsed))\n",
        "    # Format time in hh:mm:ss\n",
        "    return str(datetime.timedelta(seconds = elapsed_round))"
      ],
      "execution_count": null,
      "outputs": []
    },
    {
      "cell_type": "markdown",
      "metadata": {
        "id": "_J_yovx_yT0t"
      },
      "source": [
        "Define a function to calculate accuracy"
      ]
    },
    {
      "cell_type": "code",
      "metadata": {
        "id": "3mdBRzOryQ-B"
      },
      "source": [
        "def accuracy(preds, labels):\n",
        "    preds = np.argmax(preds, axis=1).flatten()\n",
        "    labels = labels.flatten()\n",
        "    return np.sum(preds == labels) / len(labels)"
      ],
      "execution_count": null,
      "outputs": []
    },
    {
      "cell_type": "markdown",
      "metadata": {
        "id": "rs7MZRxEyaoi"
      },
      "source": [
        "### Start training..."
      ]
    },
    {
      "cell_type": "code",
      "metadata": {
        "colab": {
          "base_uri": "https://localhost:8080/"
        },
        "id": "QaaTUpRJyXmK",
        "outputId": "31c9c52b-411a-49c8-a0c7-246e2c18918b"
      },
      "source": [
        "# Store loss value for each epoch\n",
        "loss_values = []\n",
        "\n",
        "for epoch in range(0,epochs):\n",
        "     \n",
        "        # Perform forward pass over the training dataset\n",
        "        print(\"\\n ======== Epoch {:}/{:} ========\".format(epoch+1,epochs))\n",
        "        print('Training....')\n",
        "        \n",
        "        # Measure how long a epoch takes\n",
        "        t0 = time.time()\n",
        "        # Reset total loss for this epoch\n",
        "        total_loss = 0\n",
        "        \n",
        "        # Put the model in training mode\n",
        "        bert_model.train()\n",
        "        \n",
        "        # For each training batch\n",
        "        for step,batch in enumerate(train_dataloader):\n",
        "            # Update progress for 50 steps\n",
        "            if step % 50 ==0 & step !=0:\n",
        "                # Calculate elapsed time in minutes\n",
        "                elapsed = format_time(time.time(),t0)\n",
        "                # Report progress\n",
        "                print(' Batch {:>5,} of {:>5,}. Elapsed:{:}.'.format(step,len(train_loader),elapsed))\n",
        "            \n",
        "            # Unpack training batch from trainloader & move to GPU\n",
        "            b_input_ids = batch[0].to(device)  # 0 - input ids\n",
        "            b_attention_mask = batch[1].to(device) # 1 - input masks\n",
        "            b_labels = batch[2].to(device)     # 2 - labels\n",
        "            \n",
        "            # Clear default gradients accumulated in Pytorch\n",
        "            bert_model.zero_grad()\n",
        "            \n",
        "            # Output the results\n",
        "            outputs = bert_model(input_ids = b_input_ids,attention_mask = b_attention_mask,labels=b_labels) # Return tuple\n",
        "            # Loss value from output\n",
        "            loss = outputs[0]   # 0 - loss\n",
        "            \n",
        "            # Update total loss\n",
        "            total_loss += loss.item()\n",
        "            \n",
        "            # Perform a backward pass to calculate gradients\n",
        "            loss.backward()\n",
        "            \n",
        "            # To avoid exploding vanishing gradients problem,clip the norm of the gradients to 1.0\n",
        "            torch.nn.utils.clip_grad_norm_(bert_model.parameters(),1.0)\n",
        "            \n",
        "            # Update the parameters (weights)\n",
        "            optimizer.step()\n",
        "            \n",
        "            # Update the learning rate\n",
        "            scheduler.step()\n",
        "            \n",
        "        # Calculate the average loss over training data\n",
        "        avg_total_loss = total_loss/len(train_dataloader)\n",
        "            \n",
        "        # Store the loss values\n",
        "        loss_values.append(avg_total_loss)\n",
        "        \n",
        "        print('\\n Average training loss : {0:.2f}'.format(avg_total_loss))\n",
        "        print('Training epoch took: {:}'.format(format_time(time.time()- t0)))\n",
        "        \n",
        "        ####### Validation #######\n",
        "        # After each epoch perform validation to check model performance\n",
        "        print('\\n Running validation...')\n",
        "        \n",
        "        t0 = time.time()\n",
        "        #put model in evaluation mode\n",
        "        bert_model.eval()\n",
        "        \n",
        "        # Tracking variables\n",
        "        eval_loss,eval_acc = 0,0\n",
        "        nb_eval_steps,nb_eval_examples = 0,0\n",
        "        \n",
        "        # Evaluate dev data for each epoch\n",
        "        for batch in dev_dataloader:\n",
        "            # Move batch to GPU\n",
        "            batch = tuple(t.to(device) for t in batch)\n",
        "            # Unpack inputs from dev dataloader\n",
        "            b_input_ids,b_attention_mask,b_labels = batch\n",
        "            # Tell model not to compute gradients to save memory & speed up validation\n",
        "            with torch.no_grad():\n",
        "                # Forward pass, calculate logit prediction\n",
        "                outputs = bert_model(input_ids=b_input_ids,attention_mask=b_attention_mask)\n",
        "            # logits are class probabilities & get them from outputs\n",
        "            logits = outputs[0]\n",
        "            \n",
        "            # Move logits & labels to CPU\n",
        "            logits = logits.detach().cpu().numpy()\n",
        "            labels = b_labels.to('cpu').numpy()\n",
        "                \n",
        "            # Calculate accuracy for this batch\n",
        "            eval_accuracy = accuracy(logits,labels)\n",
        "                \n",
        "            # Accumulate total evaluation accuracy\n",
        "            eval_acc += eval_accuracy\n",
        "                \n",
        "            # Track the number of steps\n",
        "            nb_eval_steps += 1\n",
        "                \n",
        "        # Report the final validation accuracy\n",
        "        print(' Accuracy {0:.2f}'.format(eval_acc/nb_eval_steps))\n",
        "        print(' Validation took : {:}'.format(format_time(time.time() - t0)))\n",
        "            \n",
        "            \n",
        "print('\\n Training completed!')"
      ],
      "execution_count": null,
      "outputs": [
        {
          "output_type": "stream",
          "text": [
            "\n",
            " ======== Epoch 1/10 ========\n",
            "Training....\n",
            "\n",
            " Average training loss : 0.88\n",
            "Training epoch took: 0:00:30\n",
            "\n",
            " Running validation...\n",
            " Accuracy 0.69\n",
            " Validation took : 0:00:01\n",
            "\n",
            " ======== Epoch 2/10 ========\n",
            "Training....\n",
            "\n",
            " Average training loss : 0.70\n",
            "Training epoch took: 0:00:32\n",
            "\n",
            " Running validation...\n",
            " Accuracy 0.61\n",
            " Validation took : 0:00:01\n",
            "\n",
            " ======== Epoch 3/10 ========\n",
            "Training....\n",
            "\n",
            " Average training loss : 0.37\n",
            "Training epoch took: 0:00:32\n",
            "\n",
            " Running validation...\n",
            " Accuracy 0.55\n",
            " Validation took : 0:00:01\n",
            "\n",
            " ======== Epoch 4/10 ========\n",
            "Training....\n",
            "\n",
            " Average training loss : 0.17\n",
            "Training epoch took: 0:00:32\n",
            "\n",
            " Running validation...\n",
            " Accuracy 0.71\n",
            " Validation took : 0:00:01\n",
            "\n",
            " ======== Epoch 5/10 ========\n",
            "Training....\n",
            "\n",
            " Average training loss : 0.07\n",
            "Training epoch took: 0:00:32\n",
            "\n",
            " Running validation...\n",
            " Accuracy 0.70\n",
            " Validation took : 0:00:01\n",
            "\n",
            " ======== Epoch 6/10 ========\n",
            "Training....\n",
            "\n",
            " Average training loss : 0.01\n",
            "Training epoch took: 0:00:32\n",
            "\n",
            " Running validation...\n",
            " Accuracy 0.66\n",
            " Validation took : 0:00:01\n",
            "\n",
            " ======== Epoch 7/10 ========\n",
            "Training....\n",
            "\n",
            " Average training loss : 0.00\n",
            "Training epoch took: 0:00:32\n",
            "\n",
            " Running validation...\n",
            " Accuracy 0.70\n",
            " Validation took : 0:00:01\n",
            "\n",
            " ======== Epoch 8/10 ========\n",
            "Training....\n",
            "\n",
            " Average training loss : 0.00\n",
            "Training epoch took: 0:00:32\n",
            "\n",
            " Running validation...\n",
            " Accuracy 0.70\n",
            " Validation took : 0:00:01\n",
            "\n",
            " ======== Epoch 9/10 ========\n",
            "Training....\n",
            "\n",
            " Average training loss : 0.00\n",
            "Training epoch took: 0:00:32\n",
            "\n",
            " Running validation...\n",
            " Accuracy 0.70\n",
            " Validation took : 0:00:01\n",
            "\n",
            " ======== Epoch 10/10 ========\n",
            "Training....\n",
            "\n",
            " Average training loss : 0.00\n",
            "Training epoch took: 0:00:32\n",
            "\n",
            " Running validation...\n",
            " Accuracy 0.70\n",
            " Validation took : 0:00:01\n",
            "\n",
            " Training completed!\n"
          ],
          "name": "stdout"
        }
      ]
    },
    {
      "cell_type": "markdown",
      "metadata": {
        "id": "p56shnZY0hIe"
      },
      "source": [
        "Let's look at training vs validation loss:"
      ]
    },
    {
      "cell_type": "code",
      "metadata": {
        "colab": {
          "base_uri": "https://localhost:8080/",
          "height": 415
        },
        "id": "uYzC9_rAyh-K",
        "outputId": "27f058d2-41f5-4c28-ba53-f4d4050d340a"
      },
      "source": [
        "df = pd.DataFrame(loss_values,columns=['Loss'])\n",
        "sns.lineplot(data=df,x=df.index,y=df.Loss)\n",
        "plt.xlabel('Epoch')\n",
        "plt.ylabel('Loss')"
      ],
      "execution_count": null,
      "outputs": [
        {
          "output_type": "execute_result",
          "data": {
            "text/plain": [
              "Text(0, 0.5, 'Loss')"
            ]
          },
          "metadata": {
            "tags": []
          },
          "execution_count": 35
        },
        {
          "output_type": "display_data",
          "data": {
            "image/png": "[encoded data removed]",
            "text/plain": [
              "<Figure size 864x432 with 1 Axes>"
            ]
          },
          "metadata": {
            "tags": [],
            "image/png": {
              "width": 732,
              "height": 381
            }
          }
        }
      ]
    },
    {
      "cell_type": "code",
      "metadata": {
        "colab": {
          "base_uri": "https://localhost:8080/"
        },
        "id": "J8FDQYQ00luR",
        "outputId": "08748420-a8f9-49cd-e835-a163f0d0b36a"
      },
      "source": [
        "# Model performance on unseen data (test data)\n",
        "print('\\n Running testing on unseen data...')\n",
        "\n",
        "#put model in evaluation model\n",
        "bert_model.eval()\n",
        "\n",
        "# Tracking variables\n",
        "# Tracking variables\n",
        "predictions , true_labels = [], []\n",
        "\n",
        "# Evaluate test data\n",
        "for batch in test_dataloader:\n",
        "    # Move batch to GPU\n",
        "    batch = tuple(t.to(device) for t in batch)\n",
        "    # Unpack inputs from test dataloader\n",
        "    b_input_ids,b_attention_mask,b_labels = batch\n",
        "    # Tell model not to compute gradients to save memory & speed up validation\n",
        "    with torch.no_grad():\n",
        "        # Forward pass, calculate logit prediction\n",
        "        outputs = bert_model(input_ids=b_input_ids,attention_mask=b_attention_mask)\n",
        "    # logits are class probabilities & get them from outputs\n",
        "    logits = outputs[0]\n",
        "\n",
        "    # Move logits & labels to CPU\n",
        "    logits = logits.detach().cpu().numpy()\n",
        "    labels = b_labels.to('cpu').numpy()\n",
        "    \n",
        "    # Store predictions and true labels\n",
        "    predictions.append(logits)\n",
        "    true_labels.append(labels)\n",
        "\n",
        "print('Done')"
      ],
      "execution_count": null,
      "outputs": [
        {
          "output_type": "stream",
          "text": [
            "\n",
            " Running testing on unseen data...\n",
            "Done\n"
          ],
          "name": "stdout"
        }
      ]
    },
    {
      "cell_type": "code",
      "metadata": {
        "id": "c74g62Cy0qQZ"
      },
      "source": [
        "F1_score = []\n",
        "\n",
        "# For each batch\n",
        "for i in range(len(true_labels)):\n",
        "    preds_labels = np.argmax(predictions[i],axis=1).flatten()\n",
        "    score = f1_score(true_labels[i],preds_labels,pos_label= 0,average = 'weighted')\n",
        "    F1_score.append(score)"
      ],
      "execution_count": null,
      "outputs": []
    },
    {
      "cell_type": "code",
      "metadata": {
        "colab": {
          "base_uri": "https://localhost:8080/"
        },
        "id": "glrAexQC0ye7",
        "outputId": "cf081205-2ffb-454c-f8b7-61fc00129c1b"
      },
      "source": [
        "print('Average f1-score for test dataset : {0:0.2f}'.format(mean(F1_score)))"
      ],
      "execution_count": null,
      "outputs": [
        {
          "output_type": "stream",
          "text": [
            "Average f1-score for test dataset : 0.72\n"
          ],
          "name": "stdout"
        }
      ]
    },
    {
      "cell_type": "markdown",
      "metadata": {
        "id": "YzC2nCFo05Z0"
      },
      "source": [
        "Checking model performance on random tweets."
      ]
    },
    {
      "cell_type": "code",
      "metadata": {
        "id": "82_V1zXI01iY"
      },
      "source": [
        "twt_df = pd.read_csv('/content/tweets_100_cleaned.csv')"
      ],
      "execution_count": null,
      "outputs": []
    },
    {
      "cell_type": "code",
      "metadata": {
        "colab": {
          "base_uri": "https://localhost:8080/",
          "height": 204
        },
        "id": "-WuP0fWm1BdN",
        "outputId": "0ffedc09-01ae-44c0-e664-27bfcbc476de"
      },
      "source": [
        "twt_df.head()"
      ],
      "execution_count": null,
      "outputs": [
        {
          "output_type": "execute_result",
          "data": {
            "text/html": [
              "<div>\n",
              "<style scoped>\n",
              "    .dataframe tbody tr th:only-of-type {\n",
              "        vertical-align: middle;\n",
              "    }\n",
              "\n",
              "    .dataframe tbody tr th {\n",
              "        vertical-align: top;\n",
              "    }\n",
              "\n",
              "    .dataframe thead th {\n",
              "        text-align: right;\n",
              "    }\n",
              "</style>\n",
              "<table border=\"1\" class=\"dataframe\">\n",
              "  <thead>\n",
              "    <tr style=\"text-align: right;\">\n",
              "      <th></th>\n",
              "      <th>tweet</th>\n",
              "      <th>label</th>\n",
              "    </tr>\n",
              "  </thead>\n",
              "  <tbody>\n",
              "    <tr>\n",
              "      <th>0</th>\n",
              "      <td>CDC COVID-19 Survival Rates\\n\\nAge 0-19 — 99.9...</td>\n",
              "      <td>False</td>\n",
              "    </tr>\n",
              "    <tr>\n",
              "      <th>1</th>\n",
              "      <td>BREAKING: 2,000,000 people worldwide have died...</td>\n",
              "      <td>True</td>\n",
              "    </tr>\n",
              "    <tr>\n",
              "      <th>2</th>\n",
              "      <td>So Bavaria just made FFP2 mask mandatory #COVI...</td>\n",
              "      <td>True</td>\n",
              "    </tr>\n",
              "    <tr>\n",
              "      <th>3</th>\n",
              "      <td>A Night Time curfew has been imposed for Entir...</td>\n",
              "      <td>True</td>\n",
              "    </tr>\n",
              "    <tr>\n",
              "      <th>4</th>\n",
              "      <td>#BREAKING ____The German government says it is...</td>\n",
              "      <td>True</td>\n",
              "    </tr>\n",
              "  </tbody>\n",
              "</table>\n",
              "</div>"
            ],
            "text/plain": [
              "                                               tweet  label\n",
              "0  CDC COVID-19 Survival Rates\\n\\nAge 0-19 — 99.9...  False\n",
              "1  BREAKING: 2,000,000 people worldwide have died...   True\n",
              "2  So Bavaria just made FFP2 mask mandatory #COVI...   True\n",
              "3  A Night Time curfew has been imposed for Entir...   True\n",
              "4  #BREAKING ____The German government says it is...   True"
            ]
          },
          "metadata": {
            "tags": []
          },
          "execution_count": 40
        }
      ]
    },
    {
      "cell_type": "code",
      "metadata": {
        "id": "Sr5K5Su61HSW"
      },
      "source": [
        "# Convert to list\n",
        "raw_explanations = twt_df.tweet.tolist()"
      ],
      "execution_count": null,
      "outputs": []
    },
    {
      "cell_type": "code",
      "metadata": {
        "id": "7Bl0ilhe1Kfw"
      },
      "source": [
        "# Create token ids (input ids) for each tweet\n",
        "# raw dataset\n",
        "raw_input_ids = [tokenizer.encode(raw_explanations[i],add_special_tokens = True) for i in range(0,len(raw_explanations))]"
      ],
      "execution_count": null,
      "outputs": []
    },
    {
      "cell_type": "code",
      "metadata": {
        "colab": {
          "base_uri": "https://localhost:8080/"
        },
        "id": "tefoou8G1NCF",
        "outputId": "2e476fc1-5ffd-485a-dbe8-d6d24f39c1e1"
      },
      "source": [
        "print('Max explanation length for raw data: ', max([len(exp) for exp in raw_input_ids]))\n"
      ],
      "execution_count": null,
      "outputs": [
        {
          "output_type": "stream",
          "text": [
            "Max explanation length for raw data:  113\n"
          ],
          "name": "stdout"
        }
      ]
    },
    {
      "cell_type": "code",
      "metadata": {
        "colab": {
          "base_uri": "https://localhost:8080/"
        },
        "id": "hZwltLGD1Q8O",
        "outputId": "91dbe136-e824-4b4a-edb7-6c3dee6cfcab"
      },
      "source": [
        "# raw dataset\n",
        "Max_length = 120   # We consider maximum length of explanations more than 120 just to be on safer side.\n",
        "print('\\nPadding/truncating all sentences to %d values for raw dataset...' % Max_length)\n",
        "# Pad our input tokens with value 0.\n",
        "# \"post\" indicates that we want to pad and truncate at the end of the sequence\n",
        "raw_input_ids = pad_sequences(raw_input_ids, maxlen=Max_length, dtype=\"long\", \n",
        "                          value=0, truncating=\"post\", padding=\"post\")"
      ],
      "execution_count": null,
      "outputs": [
        {
          "output_type": "stream",
          "text": [
            "\n",
            "Padding/truncating all sentences to 120 values for raw dataset...\n"
          ],
          "name": "stdout"
        }
      ]
    },
    {
      "cell_type": "code",
      "metadata": {
        "id": "WFnRB5Ry1Tnb"
      },
      "source": [
        "# Create attention masks\n",
        "\n",
        "# raw dataset\n",
        "raw_attention_masks = [[int(token_id > 0) for token_id in exp]\n",
        "                         for exp in raw_input_ids]"
      ],
      "execution_count": null,
      "outputs": []
    },
    {
      "cell_type": "code",
      "metadata": {
        "id": "kB2j03Xv1W1h"
      },
      "source": [
        "def apply(label):\n",
        "    if label ==False:\n",
        "        return 0\n",
        "    else:\n",
        "        return 2"
      ],
      "execution_count": null,
      "outputs": []
    },
    {
      "cell_type": "code",
      "metadata": {
        "id": "IYmm2YG91aK9"
      },
      "source": [
        "twt_df.label = twt_df.label.apply(lambda x:apply(x))"
      ],
      "execution_count": null,
      "outputs": []
    },
    {
      "cell_type": "code",
      "metadata": {
        "id": "1QYEpaF51c2f"
      },
      "source": [
        "# Convert all inputs and labels into torch tensors, the required datatype \n",
        "# for our model.\n",
        "\n",
        "# input_ids\n",
        "raw_inputs = torch.tensor(raw_input_ids)\n",
        "# labels\n",
        "raw_labels = torch.tensor(twt_df.label.values)\n",
        "# attention masks\n",
        "raw_masks = torch.tensor(raw_attention_masks)"
      ],
      "execution_count": null,
      "outputs": []
    },
    {
      "cell_type": "code",
      "metadata": {
        "id": "FyV9tYdq1fTB"
      },
      "source": [
        "# Create a DataLoader to load our datasets\n",
        "\n",
        "batch_size = 8\n",
        "\n",
        "# Create the DataLoader for our raw set.\n",
        "raw_data = TensorDataset(raw_inputs, raw_masks, raw_labels)\n",
        "raw_sampler = RandomSampler(raw_data)\n",
        "raw_dataloader = DataLoader(raw_data, sampler=raw_sampler, batch_size=batch_size)"
      ],
      "execution_count": null,
      "outputs": []
    },
    {
      "cell_type": "code",
      "metadata": {
        "colab": {
          "base_uri": "https://localhost:8080/"
        },
        "id": "Vkz1uNmU1iA6",
        "outputId": "d2396a3f-e03d-4897-aabc-e559e498b694"
      },
      "source": [
        "# Model performance on random tweets data (raw data)\n",
        "print('\\n Running prediction on raw data...')\n",
        "\n",
        "#put model in evaluation model\n",
        "bert_model.eval()\n",
        "\n",
        "# Tracking variables\n",
        "# Tracking variables\n",
        "preds , true_labels = [], []\n",
        "\n",
        "# Evaluate test data\n",
        "for batch in raw_dataloader:\n",
        "    # Move batch to GPU\n",
        "    batch = tuple(t.to(device) for t in batch)\n",
        "    # Unpack inputs from test dataloader\n",
        "    b_input_ids,b_attention_mask,b_labels = batch\n",
        "    # Tell model not to compute gradients to save memory & speed up validation\n",
        "    with torch.no_grad():\n",
        "        # Forward pass, calculate logit prediction\n",
        "        outputs = bert_model(input_ids=b_input_ids,attention_mask=b_attention_mask)\n",
        "    # logits are class probabilities & get them from outputs\n",
        "    logits = outputs[0]\n",
        "\n",
        "    # Move logits & labels to CPU\n",
        "    logits = logits.detach().cpu().numpy()\n",
        "    labels = b_labels.to('cpu').numpy()\n",
        "    \n",
        "    # Store predictions and true labels\n",
        "    preds.append(logits)\n",
        "    true_labels.append(labels)\n",
        "\n",
        "print('Done')"
      ],
      "execution_count": null,
      "outputs": [
        {
          "output_type": "stream",
          "text": [
            "\n",
            " Running prediction on raw data...\n",
            "Done\n"
          ],
          "name": "stdout"
        }
      ]
    },
    {
      "cell_type": "code",
      "metadata": {
        "id": "fRdpJcg-1od-"
      },
      "source": [
        "f1 = []\n",
        "\n",
        "# For each batch\n",
        "for i in range(len(true_labels)):\n",
        "    preds_labels = np.argmax(preds[i],axis=1).flatten()\n",
        "    score = f1_score(true_labels[i],preds_labels,pos_label=0,average = 'weighted')\n",
        "    f1.append(score)"
      ],
      "execution_count": null,
      "outputs": []
    },
    {
      "cell_type": "code",
      "metadata": {
        "colab": {
          "base_uri": "https://localhost:8080/"
        },
        "id": "Haayhr1L1t3u",
        "outputId": "42c953d7-ab70-43ad-bd19-d05798dd5c48"
      },
      "source": [
        "print('Average f1-score for raw data: {0:0.2f}'.format(mean(f1)))\n"
      ],
      "execution_count": null,
      "outputs": [
        {
          "output_type": "stream",
          "text": [
            "Average f1-score for raw data: 0.62\n"
          ],
          "name": "stdout"
        }
      ]
    },
    {
      "cell_type": "markdown",
      "metadata": {
        "id": "eZIebBTH10ne"
      },
      "source": [
        "Check an example batch."
      ]
    },
    {
      "cell_type": "code",
      "metadata": {
        "colab": {
          "base_uri": "https://localhost:8080/"
        },
        "id": "sueGmrjG1xid",
        "outputId": "2647e183-a3ae-4cb7-8558-7cf5c2b110e6"
      },
      "source": [
        "print(f'True labels :{true_labels[0]}')\n",
        "print(f'\\n Predicted labels : {np.argmax(preds[0],axis=1).flatten()}')"
      ],
      "execution_count": null,
      "outputs": [
        {
          "output_type": "stream",
          "text": [
            "True labels :[0 0 2 0 0 0 0 0]\n",
            "\n",
            " Predicted labels : [2 0 2 0 0 0 2 0]\n"
          ],
          "name": "stdout"
        }
      ]
    },
    {
      "cell_type": "code",
      "metadata": {
        "id": "9bOIAKXP144W"
      },
      "source": [
        ""
      ],
      "execution_count": null,
      "outputs": []
    }
  ]
}
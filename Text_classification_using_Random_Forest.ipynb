{
  "nbformat": 4,
  "nbformat_minor": 0,
  "metadata": {
    "colab": {
      "name": "Text classification using Random Forest.ipynb",
      "provenance": [],
      "collapsed_sections": []
    },
    "kernelspec": {
      "display_name": "Python 3",
      "name": "python3"
    },
    "language_info": {
      "name": "python"
    }
  },
  "cells": [
    {
      "cell_type": "code",
      "metadata": {
        "colab": {
          "base_uri": "https://localhost:8080/"
        },
        "id": "C-U1hA0IRy0B",
        "outputId": "e1848247-43ba-4589-e1f1-486c00a83644"
      },
      "source": [
        "from google.colab import drive \n",
        "drive.mount('/content/drive')"
      ],
      "execution_count": null,
      "outputs": [
        {
          "output_type": "stream",
          "name": "stdout",
          "text": [
            "Mounted at /content/drive\n"
          ]
        }
      ]
    },
    {
      "cell_type": "code",
      "metadata": {
        "colab": {
          "base_uri": "https://localhost:8080/"
        },
        "id": "KJRuDSyRxYF_",
        "outputId": "fb7a5167-0ad7-4c5a-e8c5-9aabdacc2b8c"
      },
      "source": [
        "!pip install scikit-plot"
      ],
      "execution_count": null,
      "outputs": [
        {
          "output_type": "stream",
          "name": "stdout",
          "text": [
            "Collecting scikit-plot\n",
            "  Downloading scikit_plot-0.3.7-py3-none-any.whl (33 kB)\n",
            "Requirement already satisfied: joblib>=0.10 in /usr/local/lib/python3.7/dist-packages (from scikit-plot) (1.0.1)\n",
            "Requirement already satisfied: matplotlib>=1.4.0 in /usr/local/lib/python3.7/dist-packages (from scikit-plot) (3.2.2)\n",
            "Requirement already satisfied: scipy>=0.9 in /usr/local/lib/python3.7/dist-packages (from scikit-plot) (1.4.1)\n",
            "Requirement already satisfied: scikit-learn>=0.18 in /usr/local/lib/python3.7/dist-packages (from scikit-plot) (0.22.2.post1)\n",
            "Requirement already satisfied: pyparsing!=2.0.4,!=2.1.2,!=2.1.6,>=2.0.1 in /usr/local/lib/python3.7/dist-packages (from matplotlib>=1.4.0->scikit-plot) (2.4.7)\n",
            "Requirement already satisfied: kiwisolver>=1.0.1 in /usr/local/lib/python3.7/dist-packages (from matplotlib>=1.4.0->scikit-plot) (1.3.2)\n",
            "Requirement already satisfied: numpy>=1.11 in /usr/local/lib/python3.7/dist-packages (from matplotlib>=1.4.0->scikit-plot) (1.19.5)\n",
            "Requirement already satisfied: python-dateutil>=2.1 in /usr/local/lib/python3.7/dist-packages (from matplotlib>=1.4.0->scikit-plot) (2.8.2)\n",
            "Requirement already satisfied: cycler>=0.10 in /usr/local/lib/python3.7/dist-packages (from matplotlib>=1.4.0->scikit-plot) (0.10.0)\n",
            "Requirement already satisfied: six in /usr/local/lib/python3.7/dist-packages (from cycler>=0.10->matplotlib>=1.4.0->scikit-plot) (1.15.0)\n",
            "Installing collected packages: scikit-plot\n",
            "Successfully installed scikit-plot-0.3.7\n"
          ]
        }
      ]
    },
    {
      "cell_type": "code",
      "metadata": {
        "id": "IodtbG50ShMz"
      },
      "source": [
        "# Import the required libraries\n",
        "import pandas as pd \n",
        "import numpy as np \n",
        "import matplotlib.pyplot as plt \n",
        "import seaborn as sns\n",
        "\n",
        "from sklearn.model_selection import train_test_split\n",
        "from sklearn.feature_extraction.text import CountVectorizer, TfidfVectorizer\n",
        "from sklearn.feature_selection import SelectKBest\n",
        "from sklearn.feature_selection import f_classif\n",
        "\n",
        "import warnings\n",
        "warnings.filterwarnings('ignore')"
      ],
      "execution_count": null,
      "outputs": []
    },
    {
      "cell_type": "code",
      "metadata": {
        "colab": {
          "base_uri": "https://localhost:8080/",
          "height": 445
        },
        "id": "qJzM0khJUSMq",
        "outputId": "550e3f06-2d01-4aa4-9c96-c7ccdb92df50"
      },
      "source": [
        "# Read the data\n",
        "data = pd.read_csv('/content/drive/MyDrive/Text classification using Random Forest/data.csv')\n",
        "data.head()"
      ],
      "execution_count": null,
      "outputs": [
        {
          "output_type": "execute_result",
          "data": {
            "text/html": [
              "<div>\n",
              "<style scoped>\n",
              "    .dataframe tbody tr th:only-of-type {\n",
              "        vertical-align: middle;\n",
              "    }\n",
              "\n",
              "    .dataframe tbody tr th {\n",
              "        vertical-align: top;\n",
              "    }\n",
              "\n",
              "    .dataframe thead th {\n",
              "        text-align: right;\n",
              "    }\n",
              "</style>\n",
              "<table border=\"1\" class=\"dataframe\">\n",
              "  <thead>\n",
              "    <tr style=\"text-align: right;\">\n",
              "      <th></th>\n",
              "      <th>Unnamed: 0</th>\n",
              "      <th>Unnamed: 0.1</th>\n",
              "      <th>ID</th>\n",
              "      <th>OID</th>\n",
              "      <th>Date</th>\n",
              "      <th>Relevance</th>\n",
              "      <th>Text</th>\n",
              "      <th>Geo</th>\n",
              "      <th>Place</th>\n",
              "      <th>Unnamed: 4</th>\n",
              "      <th>98136</th>\n",
              "      <th>9.9724844744185E+017</th>\n",
              "      <th>5ec248621c9b498cdbf214f9</th>\n",
              "      <th>2018-05-17 22:52:12+00:00</th>\n",
              "      <th>ôüí´©å ôç£huge eruption at hawaii's kilauea volcanoôçø\\n\\nhttps://t.co/4spppy6s4s</th>\n",
              "      <th>Unnamed: 5</th>\n",
              "      <th>Unnamed: 6</th>\n",
              "      <th>1</th>\n",
              "      <th>Unnamed: 8</th>\n",
              "    </tr>\n",
              "  </thead>\n",
              "  <tbody>\n",
              "    <tr>\n",
              "      <th>0</th>\n",
              "      <td>0</td>\n",
              "      <td>42279.0</td>\n",
              "      <td>1.005710e+18</td>\n",
              "      <td>5ec248611c9b498cdbf13ac8</td>\n",
              "      <td>2018-06-10 07:08:50+00:00</td>\n",
              "      <td>0.0</td>\n",
              "      <td>\"why is guatemalaôçös volcano deadlier than ha...</td>\n",
              "      <td>NaN</td>\n",
              "      <td>NaN</td>\n",
              "      <td>NaN</td>\n",
              "      <td>NaN</td>\n",
              "      <td>NaN</td>\n",
              "      <td>NaN</td>\n",
              "      <td>NaN</td>\n",
              "      <td>NaN</td>\n",
              "      <td>NaN</td>\n",
              "      <td>NaN</td>\n",
              "      <td>NaN</td>\n",
              "      <td>NaN</td>\n",
              "    </tr>\n",
              "    <tr>\n",
              "      <th>1</th>\n",
              "      <td>1</td>\n",
              "      <td>115620.0</td>\n",
              "      <td>9.957570e+17</td>\n",
              "      <td>5ec24b1c7e6c5671a017d5d6</td>\n",
              "      <td>2018-05-13 20:06:37+00:00</td>\n",
              "      <td>1.0</td>\n",
              "      <td>@cnn #news- new crack from hawaii volcano is s...</td>\n",
              "      <td>NaN</td>\n",
              "      <td>NaN</td>\n",
              "      <td>NaN</td>\n",
              "      <td>NaN</td>\n",
              "      <td>NaN</td>\n",
              "      <td>NaN</td>\n",
              "      <td>NaN</td>\n",
              "      <td>NaN</td>\n",
              "      <td>NaN</td>\n",
              "      <td>NaN</td>\n",
              "      <td>NaN</td>\n",
              "      <td>NaN</td>\n",
              "    </tr>\n",
              "    <tr>\n",
              "      <th>2</th>\n",
              "      <td>2</td>\n",
              "      <td>155248.0</td>\n",
              "      <td>9.922960e+17</td>\n",
              "      <td>5ec24b1c7e6c5671a01870a2</td>\n",
              "      <td>2018-05-04 06:54:01+00:00</td>\n",
              "      <td>1.0</td>\n",
              "      <td>i liked a @youtube video https://t.co/hz73xihp...</td>\n",
              "      <td>NaN</td>\n",
              "      <td>NaN</td>\n",
              "      <td>NaN</td>\n",
              "      <td>NaN</td>\n",
              "      <td>NaN</td>\n",
              "      <td>NaN</td>\n",
              "      <td>NaN</td>\n",
              "      <td>NaN</td>\n",
              "      <td>NaN</td>\n",
              "      <td>NaN</td>\n",
              "      <td>NaN</td>\n",
              "      <td>NaN</td>\n",
              "    </tr>\n",
              "    <tr>\n",
              "      <th>3</th>\n",
              "      <td>3</td>\n",
              "      <td>23626.0</td>\n",
              "      <td>1.013800e+18</td>\n",
              "      <td>5ec248611c9b498cdbf0f1eb</td>\n",
              "      <td>2018-07-02 15:10:38+00:00</td>\n",
              "      <td>1.0</td>\n",
              "      <td>news alert - hawaii's kilauea volcano is a dis...</td>\n",
              "      <td>NaN</td>\n",
              "      <td>NaN</td>\n",
              "      <td>NaN</td>\n",
              "      <td>NaN</td>\n",
              "      <td>NaN</td>\n",
              "      <td>NaN</td>\n",
              "      <td>NaN</td>\n",
              "      <td>NaN</td>\n",
              "      <td>NaN</td>\n",
              "      <td>NaN</td>\n",
              "      <td>NaN</td>\n",
              "      <td>NaN</td>\n",
              "    </tr>\n",
              "    <tr>\n",
              "      <th>4</th>\n",
              "      <td>4</td>\n",
              "      <td>139689.0</td>\n",
              "      <td>9.930930e+17</td>\n",
              "      <td>5ec24b1c7e6c5671a01833db</td>\n",
              "      <td>2018-05-06 11:40:41+00:00</td>\n",
              "      <td>1.0</td>\n",
              "      <td>#kilauea #volcano eruption on #hawaii there is...</td>\n",
              "      <td>NaN</td>\n",
              "      <td>NaN</td>\n",
              "      <td>NaN</td>\n",
              "      <td>NaN</td>\n",
              "      <td>NaN</td>\n",
              "      <td>NaN</td>\n",
              "      <td>NaN</td>\n",
              "      <td>NaN</td>\n",
              "      <td>NaN</td>\n",
              "      <td>NaN</td>\n",
              "      <td>NaN</td>\n",
              "      <td>NaN</td>\n",
              "    </tr>\n",
              "  </tbody>\n",
              "</table>\n",
              "</div>"
            ],
            "text/plain": [
              "   Unnamed: 0  Unnamed: 0.1            ID  ... Unnamed: 6   1  Unnamed: 8\n",
              "0           0       42279.0  1.005710e+18  ...        NaN NaN         NaN\n",
              "1           1      115620.0  9.957570e+17  ...        NaN NaN         NaN\n",
              "2           2      155248.0  9.922960e+17  ...        NaN NaN         NaN\n",
              "3           3       23626.0  1.013800e+18  ...        NaN NaN         NaN\n",
              "4           4      139689.0  9.930930e+17  ...        NaN NaN         NaN\n",
              "\n",
              "[5 rows x 19 columns]"
            ]
          },
          "metadata": {},
          "execution_count": 4
        }
      ]
    },
    {
      "cell_type": "code",
      "metadata": {
        "colab": {
          "base_uri": "https://localhost:8080/"
        },
        "id": "uSHkeuBOVOSt",
        "outputId": "95ec2b94-ce5f-4fff-a10a-34c177baba0a"
      },
      "source": [
        "data.shape"
      ],
      "execution_count": null,
      "outputs": [
        {
          "output_type": "execute_result",
          "data": {
            "text/plain": [
              "(3227, 19)"
            ]
          },
          "metadata": {},
          "execution_count": 5
        }
      ]
    },
    {
      "cell_type": "code",
      "metadata": {
        "colab": {
          "base_uri": "https://localhost:8080/"
        },
        "id": "qZ-Op3pCW6fr",
        "outputId": "874143e6-b0d2-444c-9c14-eb8bc5188f6e"
      },
      "source": [
        "# Check missing values\n",
        "data.isnull().sum()"
      ],
      "execution_count": null,
      "outputs": [
        {
          "output_type": "execute_result",
          "data": {
            "text/plain": [
              "Unnamed: 0                                                                              0\n",
              "Unnamed: 0.1                                                                          227\n",
              "ID                                                                                    227\n",
              "OID                                                                                   227\n",
              "Date                                                                                  227\n",
              "Relevance                                                                            1227\n",
              "Text                                                                                  227\n",
              "Geo                                                                                  3216\n",
              "Place                                                                                3159\n",
              "Unnamed: 4                                                                           2227\n",
              "98136                                                                                3000\n",
              "9.9724844744185E+017                                                                 3000\n",
              "5ec248621c9b498cdbf214f9                                                             3000\n",
              "2018-05-17 22:52:12+00:00                                                            3000\n",
              "ôüí´©å ôç£huge eruption at hawaii's kilauea volcanoôçø\\n\\nhttps://t.co/4spppy6s4s    3000\n",
              "Unnamed: 5                                                                           3225\n",
              "Unnamed: 6                                                                           3225\n",
              "1                                                                                    3002\n",
              "Unnamed: 8                                                                           3225\n",
              "dtype: int64"
            ]
          },
          "metadata": {},
          "execution_count": 6
        }
      ]
    },
    {
      "cell_type": "markdown",
      "metadata": {
        "id": "FqJjY_uFXGUg"
      },
      "source": [
        "Both Text & Relevance columns contain null values."
      ]
    },
    {
      "cell_type": "code",
      "metadata": {
        "colab": {
          "base_uri": "https://localhost:8080/",
          "height": 204
        },
        "id": "K3WL_8_RUqDH",
        "outputId": "bfcf6d4d-9373-4b24-ed14-9802c0624f0b"
      },
      "source": [
        "#select only text & relevence columns\n",
        "df = data[['Text', 'Relevance']]\n",
        "\n",
        "# Drop null values \n",
        "df = df.dropna()\n",
        "\n",
        "# Type conversion \n",
        "df['Relevance'] = df['Relevance'].astype(int)\n",
        "\n",
        "df.head()"
      ],
      "execution_count": null,
      "outputs": [
        {
          "output_type": "execute_result",
          "data": {
            "text/html": [
              "<div>\n",
              "<style scoped>\n",
              "    .dataframe tbody tr th:only-of-type {\n",
              "        vertical-align: middle;\n",
              "    }\n",
              "\n",
              "    .dataframe tbody tr th {\n",
              "        vertical-align: top;\n",
              "    }\n",
              "\n",
              "    .dataframe thead th {\n",
              "        text-align: right;\n",
              "    }\n",
              "</style>\n",
              "<table border=\"1\" class=\"dataframe\">\n",
              "  <thead>\n",
              "    <tr style=\"text-align: right;\">\n",
              "      <th></th>\n",
              "      <th>Text</th>\n",
              "      <th>Relevance</th>\n",
              "    </tr>\n",
              "  </thead>\n",
              "  <tbody>\n",
              "    <tr>\n",
              "      <th>0</th>\n",
              "      <td>\"why is guatemalaôçös volcano deadlier than ha...</td>\n",
              "      <td>0</td>\n",
              "    </tr>\n",
              "    <tr>\n",
              "      <th>1</th>\n",
              "      <td>@cnn #news- new crack from hawaii volcano is s...</td>\n",
              "      <td>1</td>\n",
              "    </tr>\n",
              "    <tr>\n",
              "      <th>2</th>\n",
              "      <td>i liked a @youtube video https://t.co/hz73xihp...</td>\n",
              "      <td>1</td>\n",
              "    </tr>\n",
              "    <tr>\n",
              "      <th>3</th>\n",
              "      <td>news alert - hawaii's kilauea volcano is a dis...</td>\n",
              "      <td>1</td>\n",
              "    </tr>\n",
              "    <tr>\n",
              "      <th>4</th>\n",
              "      <td>#kilauea #volcano eruption on #hawaii there is...</td>\n",
              "      <td>1</td>\n",
              "    </tr>\n",
              "  </tbody>\n",
              "</table>\n",
              "</div>"
            ],
            "text/plain": [
              "                                                Text  Relevance\n",
              "0  \"why is guatemalaôçös volcano deadlier than ha...          0\n",
              "1  @cnn #news- new crack from hawaii volcano is s...          1\n",
              "2  i liked a @youtube video https://t.co/hz73xihp...          1\n",
              "3  news alert - hawaii's kilauea volcano is a dis...          1\n",
              "4  #kilauea #volcano eruption on #hawaii there is...          1"
            ]
          },
          "metadata": {},
          "execution_count": 7
        }
      ]
    },
    {
      "cell_type": "code",
      "metadata": {
        "colab": {
          "base_uri": "https://localhost:8080/"
        },
        "id": "eC8Vwzm0W2ok",
        "outputId": "f47946fb-3e00-4548-bf70-bd5141ad4c3a"
      },
      "source": [
        "df.shape"
      ],
      "execution_count": null,
      "outputs": [
        {
          "output_type": "execute_result",
          "data": {
            "text/plain": [
              "(2000, 2)"
            ]
          },
          "metadata": {},
          "execution_count": 8
        }
      ]
    },
    {
      "cell_type": "markdown",
      "metadata": {
        "id": "IAlEkUaFq8KU"
      },
      "source": [
        "**Data preprocessing:**"
      ]
    },
    {
      "cell_type": "code",
      "metadata": {
        "id": "giGnXdQKrjPv"
      },
      "source": [
        "import string\n",
        "punct_to_remove = string.punctuation\n",
        "def remove_punctuation(text):\n",
        "    \"\"\"custom function to remove the punctuation\"\"\"\n",
        "    return text.translate(str.maketrans('', '', punct_to_remove))"
      ],
      "execution_count": null,
      "outputs": []
    },
    {
      "cell_type": "code",
      "metadata": {
        "colab": {
          "base_uri": "https://localhost:8080/"
        },
        "id": "wCv525Vsr-0R",
        "outputId": "d600b33b-9f54-4fbf-87c4-265c033ba32f"
      },
      "source": [
        "#Download stopwords from nltk libraries\n",
        "import nltk\n",
        "nltk.download('stopwords')\n",
        "STOPWORDS = set(nltk.corpus.stopwords.words('english'))\n",
        "def remove_stopwords(text):\n",
        "    \"\"\"custom function to remove the stopwords\"\"\"\n",
        "    return \" \".join([word for word in str(text).split() if word not in STOPWORDS])"
      ],
      "execution_count": null,
      "outputs": [
        {
          "output_type": "stream",
          "name": "stdout",
          "text": [
            "[nltk_data] Downloading package stopwords to /root/nltk_data...\n",
            "[nltk_data]   Unzipping corpora/stopwords.zip.\n"
          ]
        }
      ]
    },
    {
      "cell_type": "code",
      "metadata": {
        "colab": {
          "base_uri": "https://localhost:8080/"
        },
        "id": "68hybF_IsMp2",
        "outputId": "7244bcaf-9b58-4406-f45c-88a6eca0948b"
      },
      "source": [
        "# Download wordnet from nltk library\n",
        "from nltk.stem import WordNetLemmatizer\n",
        "nltk.download('wordnet')\n",
        "lemmatizer = WordNetLemmatizer()\n",
        "def lemmatize_words(text):\n",
        "    return \" \".join([lemmatizer.lemmatize(word) for word in text.split()])"
      ],
      "execution_count": null,
      "outputs": [
        {
          "output_type": "stream",
          "name": "stdout",
          "text": [
            "[nltk_data] Downloading package wordnet to /root/nltk_data...\n",
            "[nltk_data]   Unzipping corpora/wordnet.zip.\n"
          ]
        }
      ]
    },
    {
      "cell_type": "code",
      "metadata": {
        "id": "75MwCbcgrADC"
      },
      "source": [
        "import re\n",
        "def preprocess_data(text):\n",
        "  # Lower case the text\n",
        "  text = text.lower()\n",
        "  # Remove white spaces\n",
        "  text = text.strip()\n",
        "  # Remove links\n",
        "  text = re.sub(r'^https?:\\/\\/.*[\\r\\n]*', '', text, flags=re.MULTILINE)\n",
        "  # Removing punctuations\n",
        "  text = remove_punctuation(text)\n",
        "  # Removing stop words \n",
        "  text = remove_stopwords(text)\n",
        "  # Perform Lemmatization\n",
        "  text = lemmatize_words(text)\n",
        "  return text \n",
        "\n",
        "df['Text'] = df['Text'].apply(preprocess_data)"
      ],
      "execution_count": null,
      "outputs": []
    },
    {
      "cell_type": "code",
      "metadata": {
        "colab": {
          "base_uri": "https://localhost:8080/",
          "height": 204
        },
        "id": "WkNNBBKosvz2",
        "outputId": "100fa029-0947-4948-a0bc-2e2a9575152e"
      },
      "source": [
        "df.head()"
      ],
      "execution_count": null,
      "outputs": [
        {
          "output_type": "execute_result",
          "data": {
            "text/html": [
              "<div>\n",
              "<style scoped>\n",
              "    .dataframe tbody tr th:only-of-type {\n",
              "        vertical-align: middle;\n",
              "    }\n",
              "\n",
              "    .dataframe tbody tr th {\n",
              "        vertical-align: top;\n",
              "    }\n",
              "\n",
              "    .dataframe thead th {\n",
              "        text-align: right;\n",
              "    }\n",
              "</style>\n",
              "<table border=\"1\" class=\"dataframe\">\n",
              "  <thead>\n",
              "    <tr style=\"text-align: right;\">\n",
              "      <th></th>\n",
              "      <th>Text</th>\n",
              "      <th>Relevance</th>\n",
              "    </tr>\n",
              "  </thead>\n",
              "  <tbody>\n",
              "    <tr>\n",
              "      <th>0</th>\n",
              "      <td>guatemalaôçös volcano deadlier hawaiiôçös neet...</td>\n",
              "      <td>0</td>\n",
              "    </tr>\n",
              "    <tr>\n",
              "      <th>1</th>\n",
              "      <td>cnn news new crack hawaii volcano spewing lava...</td>\n",
              "      <td>1</td>\n",
              "    </tr>\n",
              "    <tr>\n",
              "      <th>2</th>\n",
              "      <td>liked youtube video httpstcohz73xihpcs lava re...</td>\n",
              "      <td>1</td>\n",
              "    </tr>\n",
              "    <tr>\n",
              "      <th>3</th>\n",
              "      <td>news alert hawaii kilauea volcano disaster end...</td>\n",
              "      <td>1</td>\n",
              "    </tr>\n",
              "    <tr>\n",
              "      <th>4</th>\n",
              "      <td>kilauea volcano eruption hawaii way everything...</td>\n",
              "      <td>1</td>\n",
              "    </tr>\n",
              "  </tbody>\n",
              "</table>\n",
              "</div>"
            ],
            "text/plain": [
              "                                                Text  Relevance\n",
              "0  guatemalaôçös volcano deadlier hawaiiôçös neet...          0\n",
              "1  cnn news new crack hawaii volcano spewing lava...          1\n",
              "2  liked youtube video httpstcohz73xihpcs lava re...          1\n",
              "3  news alert hawaii kilauea volcano disaster end...          1\n",
              "4  kilauea volcano eruption hawaii way everything...          1"
            ]
          },
          "metadata": {},
          "execution_count": 13
        }
      ]
    },
    {
      "cell_type": "markdown",
      "metadata": {
        "id": "XQdS9RgBfFBd"
      },
      "source": [
        "**How classes are distributed in train data?**"
      ]
    },
    {
      "cell_type": "code",
      "metadata": {
        "colab": {
          "base_uri": "https://localhost:8080/",
          "height": 296
        },
        "id": "58SBXZbzfKZY",
        "outputId": "9813f51f-3848-4c64-bfb5-4ba8943c2922"
      },
      "source": [
        "sns.countplot(df.Relevance)"
      ],
      "execution_count": null,
      "outputs": [
        {
          "output_type": "execute_result",
          "data": {
            "text/plain": [
              "<matplotlib.axes._subplots.AxesSubplot at 0x7fc35af3d1d0>"
            ]
          },
          "metadata": {},
          "execution_count": 14
        },
        {
          "output_type": "display_data",
          "data": {
            "image/png": "[encoded data removed]",
            "text/plain": [
              "<Figure size 432x288 with 1 Axes>"
            ]
          },
          "metadata": {
            "needs_background": "light"
          }
        }
      ]
    },
    {
      "cell_type": "code",
      "metadata": {
        "colab": {
          "base_uri": "https://localhost:8080/"
        },
        "id": "DoQAc_qOnwDn",
        "outputId": "6dcf8ecf-6252-41fa-e5a1-14c9fd4f3d0a"
      },
      "source": [
        "df.Relevance.value_counts()"
      ],
      "execution_count": null,
      "outputs": [
        {
          "output_type": "execute_result",
          "data": {
            "text/plain": [
              "1    1657\n",
              "0     343\n",
              "Name: Relevance, dtype: int64"
            ]
          },
          "metadata": {},
          "execution_count": 15
        }
      ]
    },
    {
      "cell_type": "markdown",
      "metadata": {
        "id": "vwOBQJFXoYnJ"
      },
      "source": [
        "Data is highly imbalanced. Relevance samples are more than the Non-relevance samples."
      ]
    },
    {
      "cell_type": "markdown",
      "metadata": {
        "id": "wYSMst_3_cNN"
      },
      "source": [
        "**Training/Test split**"
      ]
    },
    {
      "cell_type": "code",
      "metadata": {
        "colab": {
          "base_uri": "https://localhost:8080/"
        },
        "id": "CeOhbtRjuiIn",
        "outputId": "2229b7e4-fa5d-4478-88a5-533fd1f7995d"
      },
      "source": [
        "# Split the data into train(80%) & test(20%) sets \n",
        "x_train, x_test, y_train, y_test = train_test_split(df['Text'], df['Relevance'], test_size=0.2, random_state=42)\n",
        "\n",
        "print(f'Train shape : {x_train.shape}')\n",
        "print(f'Test shape : {x_test.shape}')"
      ],
      "execution_count": null,
      "outputs": [
        {
          "output_type": "stream",
          "name": "stdout",
          "text": [
            "Train shape : (1600,)\n",
            "Test shape : (400,)\n"
          ]
        }
      ]
    },
    {
      "cell_type": "markdown",
      "metadata": {
        "id": "z0cMVA0rXQJv"
      },
      "source": [
        "**Tokenizaton & Vectorization**"
      ]
    },
    {
      "cell_type": "code",
      "metadata": {
        "id": "bqcPUXn0TBIg"
      },
      "source": [
        "# Vectorization parameters\n",
        "# Range (inclusive) of n-gram sizes for tokenizing text.\n",
        "NGRAM_RANGE = (2, 2)   # Bigram\n",
        "\n",
        "# Limit on the number of features. We use the top 10K features.\n",
        "TOP_K = 10000\n",
        "\n",
        "def ngram_vectorize(train_texts, train_labels, test_texts, tfidf:bool = None):\n",
        "    \"\"\"Vectorizes texts as n-gram vectors.\n",
        "    # Arguments\n",
        "        train_texts: list, training text strings.\n",
        "        train_labels: np.ndarray, training labels.\n",
        "        val_texts: list, validation text strings.\n",
        "\n",
        "    # Returns\n",
        "        x_train, x_val: vectorized training and validation texts\n",
        "    \"\"\"\n",
        "    if tfidf:\n",
        "      # TFIDF\n",
        "      vectorizer = TfidfVectorizer(ngram_range = NGRAM_RANGE, dtype='int32')\n",
        "      x_train = vectorizer.fit_transform(train_texts)\n",
        "      x_test = vectorizer.transform(test_texts)\n",
        "      feature_names = vectorizer.get_feature_names()\n",
        "    else:\n",
        "      # CountVectorizer\n",
        "      vectorizer = CountVectorizer(ngram_range = NGRAM_RANGE, dtype='int32')\n",
        "      x_train = vectorizer.fit_transform(train_texts)\n",
        "      x_test = vectorizer.transform(test_texts)\n",
        "      feature_names = vectorizer.get_feature_names()\n",
        "\n",
        "    # Select top 'k' of the vectorized features.\n",
        "    selector = SelectKBest(f_classif, k=min(TOP_K, x_train.shape[1]))\n",
        "    selector.fit(x_train, train_labels)\n",
        "\n",
        "    mask = selector.get_support() #list of booleans\n",
        "    new_features = [] # The list of your K best features\n",
        "\n",
        "    for bool, feature in zip(mask, feature_names):\n",
        "      if bool:\n",
        "        new_features.append(feature)\n",
        "    # Transform to top 'k' of the vectorized features\n",
        "    x_train = selector.transform(x_train).astype('float32')\n",
        "    x_test = selector.transform(x_test).astype('float32')\n",
        "    return x_train, x_test, new_features"
      ],
      "execution_count": null,
      "outputs": []
    },
    {
      "cell_type": "markdown",
      "metadata": {
        "id": "NPjQDs9UMp30"
      },
      "source": [
        "## Count Vectorization"
      ]
    },
    {
      "cell_type": "code",
      "metadata": {
        "id": "6tqaQOQ2Ygn6"
      },
      "source": [
        "X_train, X_test, selected_features = ngram_vectorize(x_train, y_train, x_test)"
      ],
      "execution_count": null,
      "outputs": []
    },
    {
      "cell_type": "markdown",
      "metadata": {
        "id": "5F_RZ051Zxr0"
      },
      "source": [
        "**Random Forest Classifier**"
      ]
    },
    {
      "cell_type": "code",
      "metadata": {
        "id": "RHIYSzVwaBnI"
      },
      "source": [
        "from sklearn.ensemble import RandomForestClassifier\n",
        "from sklearn.model_selection import GridSearchCV\n",
        "from sklearn import metrics"
      ],
      "execution_count": null,
      "outputs": []
    },
    {
      "cell_type": "markdown",
      "metadata": {
        "id": "A5kMp3p9aX8U"
      },
      "source": [
        "Using training data perform k-fold cross-validation using Grid Search."
      ]
    },
    {
      "cell_type": "code",
      "metadata": {
        "colab": {
          "base_uri": "https://localhost:8080/"
        },
        "id": "qb1BpkgGYxYN",
        "outputId": "d96e5fe5-64f7-490c-f164-42e54965cce4"
      },
      "source": [
        "%%time\n",
        "#Initialize the Random Forest classifier\n",
        "estimator1 = RandomForestClassifier(random_state=42)\n",
        "\n",
        "# Grid of parameters to choose from\n",
        "parameters = {'max_depth': np.arange(2,20), \n",
        "              'min_samples_split' : [2, 3, 5, 10, 12],\n",
        "              'n_estimators' : [10, 20, 50,100, 120],\n",
        "              'class_weight' : ['balanced', 'balanced_subsample']\n",
        "             }\n",
        "\n",
        "# Type of scoring used to compare parameter combinations\n",
        "acc_scorer = metrics.make_scorer(metrics.f1_score)\n",
        "\n",
        "# Run the grid search\n",
        "grid_obj = GridSearchCV(estimator1, parameters, scoring=acc_scorer,cv=5)\n",
        "grid_obj = grid_obj.fit(X_train, y_train)\n",
        "\n",
        "print('Best parameters are:')\n",
        "print(grid_obj.best_params_)"
      ],
      "execution_count": null,
      "outputs": [
        {
          "output_type": "stream",
          "name": "stdout",
          "text": [
            "Best parameters are:\n",
            "{'class_weight': 'balanced_subsample', 'max_depth': 18, 'min_samples_split': 2, 'n_estimators': 100}\n",
            "CPU times: user 14min 3s, sys: 3.16 s, total: 14min 6s\n",
            "Wall time: 14min 5s\n"
          ]
        }
      ]
    },
    {
      "cell_type": "code",
      "metadata": {
        "colab": {
          "base_uri": "https://localhost:8080/"
        },
        "id": "phfR5KxtY47O",
        "outputId": "adc841d1-d350-4ec9-822e-185aaf0c83e2"
      },
      "source": [
        "# Fit the model using above parameters\n",
        "rf_cv = RandomForestClassifier(max_depth=18, min_samples_split=2, n_estimators=100, class_weight='balanced_subsample', random_state=42)\n",
        "rf_cv.fit(X_train, y_train)"
      ],
      "execution_count": null,
      "outputs": [
        {
          "output_type": "execute_result",
          "data": {
            "text/plain": [
              "RandomForestClassifier(bootstrap=True, ccp_alpha=0.0,\n",
              "                       class_weight='balanced_subsample', criterion='gini',\n",
              "                       max_depth=18, max_features='auto', max_leaf_nodes=None,\n",
              "                       max_samples=None, min_impurity_decrease=0.0,\n",
              "                       min_impurity_split=None, min_samples_leaf=1,\n",
              "                       min_samples_split=2, min_weight_fraction_leaf=0.0,\n",
              "                       n_estimators=100, n_jobs=None, oob_score=False,\n",
              "                       random_state=42, verbose=0, warm_start=False)"
            ]
          },
          "metadata": {},
          "execution_count": 22
        }
      ]
    },
    {
      "cell_type": "markdown",
      "metadata": {
        "id": "R5ksisCotHAe"
      },
      "source": [
        "### Feature importances for CountVectorization"
      ]
    },
    {
      "cell_type": "code",
      "metadata": {
        "colab": {
          "base_uri": "https://localhost:8080/"
        },
        "id": "px99pE9gtKna",
        "outputId": "a4fcc282-4211-4847-cfc7-8e155167214e"
      },
      "source": [
        "rf_cv.feature_importances_"
      ],
      "execution_count": null,
      "outputs": [
        {
          "output_type": "execute_result",
          "data": {
            "text/plain": [
              "array([0.        , 0.00062739, 0.00042044, ..., 0.        , 0.        ,\n",
              "       0.        ])"
            ]
          },
          "metadata": {},
          "execution_count": 23
        }
      ]
    },
    {
      "cell_type": "code",
      "metadata": {
        "colab": {
          "base_uri": "https://localhost:8080/"
        },
        "id": "xD4Sbl1htVsj",
        "outputId": "a6d00097-772e-4900-a9f7-c118403b97d3"
      },
      "source": [
        "selected_features[:10]"
      ],
      "execution_count": null,
      "outputs": [
        {
          "output_type": "execute_result",
          "data": {
            "text/plain": [
              "['01 mile',\n",
              " '021041 local',\n",
              " '021041 onto',\n",
              " '07062018 021041',\n",
              " '10 2018',\n",
              " '10 sticker',\n",
              " '10 worst',\n",
              " '10 year',\n",
              " '100 foot',\n",
              " '100 home']"
            ]
          },
          "metadata": {},
          "execution_count": 44
        }
      ]
    },
    {
      "cell_type": "code",
      "metadata": {
        "colab": {
          "base_uri": "https://localhost:8080/",
          "height": 204
        },
        "id": "0Dg7MtekyL6y",
        "outputId": "3981ae2e-c4f7-4f75-9dc4-0793ce867dee"
      },
      "source": [
        "# Get top 50 features \n",
        "feature_cv = pd.DataFrame(rf_cv.feature_importances_, columns=['Feature_importance'])\n",
        "feature_cv['Features'] = selected_features\n",
        "feature_cv = feature_cv.sort_values(by = 'Feature_importance', ascending=False).reset_index(drop=True)\n",
        "feature_cv.head()"
      ],
      "execution_count": null,
      "outputs": [
        {
          "output_type": "execute_result",
          "data": {
            "text/html": [
              "<div>\n",
              "<style scoped>\n",
              "    .dataframe tbody tr th:only-of-type {\n",
              "        vertical-align: middle;\n",
              "    }\n",
              "\n",
              "    .dataframe tbody tr th {\n",
              "        vertical-align: top;\n",
              "    }\n",
              "\n",
              "    .dataframe thead th {\n",
              "        text-align: right;\n",
              "    }\n",
              "</style>\n",
              "<table border=\"1\" class=\"dataframe\">\n",
              "  <thead>\n",
              "    <tr style=\"text-align: right;\">\n",
              "      <th></th>\n",
              "      <th>Feature_importance</th>\n",
              "      <th>Features</th>\n",
              "    </tr>\n",
              "  </thead>\n",
              "  <tbody>\n",
              "    <tr>\n",
              "      <th>0</th>\n",
              "      <td>0.045403</td>\n",
              "      <td>kilauea volcano</td>\n",
              "    </tr>\n",
              "    <tr>\n",
              "      <th>1</th>\n",
              "      <td>0.021949</td>\n",
              "      <td>hawaii kilauea</td>\n",
              "    </tr>\n",
              "    <tr>\n",
              "      <th>2</th>\n",
              "      <td>0.020916</td>\n",
              "      <td>volcano eruption</td>\n",
              "    </tr>\n",
              "    <tr>\n",
              "      <th>3</th>\n",
              "      <td>0.017010</td>\n",
              "      <td>lava flow</td>\n",
              "    </tr>\n",
              "    <tr>\n",
              "      <th>4</th>\n",
              "      <td>0.015887</td>\n",
              "      <td>volcano erupts</td>\n",
              "    </tr>\n",
              "  </tbody>\n",
              "</table>\n",
              "</div>"
            ],
            "text/plain": [
              "   Feature_importance          Features\n",
              "0            0.045403   kilauea volcano\n",
              "1            0.021949    hawaii kilauea\n",
              "2            0.020916  volcano eruption\n",
              "3            0.017010         lava flow\n",
              "4            0.015887    volcano erupts"
            ]
          },
          "metadata": {},
          "execution_count": 42
        }
      ]
    },
    {
      "cell_type": "code",
      "metadata": {
        "colab": {
          "base_uri": "https://localhost:8080/",
          "height": 733
        },
        "id": "CPd5RvXr2S3g",
        "outputId": "543f931b-7385-4378-da63-638372c07e7d"
      },
      "source": [
        "# Top 50 features\n",
        "top_50_cv = feature_cv[:50]\n",
        "\n",
        "# Plot feature importances \n",
        "plt.figure(figsize = (12, 12))\n",
        "plt.barh(top_50_cv.Features, top_50_cv.Feature_importance)\n",
        "plt.title('Top 50 features')"
      ],
      "execution_count": null,
      "outputs": [
        {
          "output_type": "execute_result",
          "data": {
            "text/plain": [
              "Text(0.5, 1.0, 'Top 50 features')"
            ]
          },
          "metadata": {},
          "execution_count": 45
        },
        {
          "output_type": "display_data",
          "data": {
            "image/png": "[encoded data removed]",
            "text/plain": [
              "<Figure size 864x864 with 1 Axes>"
            ]
          },
          "metadata": {
            "needs_background": "light"
          }
        }
      ]
    },
    {
      "cell_type": "code",
      "metadata": {
        "id": "nPKjhDpRdDXj"
      },
      "source": [
        "# Get predictions \n",
        "y_pred = rf_cv.predict(X_test)"
      ],
      "execution_count": null,
      "outputs": []
    },
    {
      "cell_type": "code",
      "metadata": {
        "colab": {
          "base_uri": "https://localhost:8080/"
        },
        "id": "57vJO2qydjFy",
        "outputId": "78ea729c-0a30-4afb-83f6-bf0bc0c9149e"
      },
      "source": [
        "# Calculate metrics\n",
        "acc_score = metrics.accuracy_score(y_test, y_pred)\n",
        "f1 = metrics.f1_score(y_test, y_pred, average='weighted')\n",
        "recall = metrics.recall_score(y_test, y_pred, average='weighted')\n",
        "precision = metrics.precision_score(y_test, y_pred, average='weighted')\n",
        "\n",
        "print(f'Accuracy : {acc_score:.3}')\n",
        "print(f'F1-score : {f1:.3}')\n",
        "print(f'Recall : {recall:.3}')\n",
        "print(f'Precision : {precision:.3}')"
      ],
      "execution_count": null,
      "outputs": [
        {
          "output_type": "stream",
          "name": "stdout",
          "text": [
            "Accuracy : 0.825\n",
            "F1-score : 0.777\n",
            "Recall : 0.825\n",
            "Precision : 0.806\n"
          ]
        }
      ]
    },
    {
      "cell_type": "markdown",
      "metadata": {
        "id": "69KOw2tNxeQ1"
      },
      "source": [
        "**Confusion matrix**"
      ]
    },
    {
      "cell_type": "code",
      "metadata": {
        "id": "wk6fpAdMxqkL"
      },
      "source": [
        "from scikitplot.metrics import plot_confusion_matrix"
      ],
      "execution_count": null,
      "outputs": []
    },
    {
      "cell_type": "code",
      "metadata": {
        "colab": {
          "base_uri": "https://localhost:8080/",
          "height": 530
        },
        "id": "-Kb0hFrnxh8L",
        "outputId": "ab69031c-7475-4cda-d6ce-6302600cd9a2"
      },
      "source": [
        "#Plot the confusion matrix\n",
        "plot_confusion_matrix(y_test, y_pred, normalize=False,figsize=(15,8))"
      ],
      "execution_count": null,
      "outputs": [
        {
          "output_type": "execute_result",
          "data": {
            "text/plain": [
              "<matplotlib.axes._subplots.AxesSubplot at 0x7fc33871d050>"
            ]
          },
          "metadata": {},
          "execution_count": 49
        },
        {
          "output_type": "display_data",
          "data": {
            "image/png": "[encoded data removed]",
            "text/plain": [
              "<Figure size 1080x576 with 2 Axes>"
            ]
          },
          "metadata": {
            "needs_background": "light"
          }
        }
      ]
    },
    {
      "cell_type": "markdown",
      "metadata": {
        "id": "xLPkphLkfo7V"
      },
      "source": [
        "**Classification Report:**"
      ]
    },
    {
      "cell_type": "code",
      "metadata": {
        "colab": {
          "base_uri": "https://localhost:8080/"
        },
        "id": "ZHb6IH_Tests",
        "outputId": "eefc4b38-3483-4ca7-c6a2-6000a29b9be8"
      },
      "source": [
        "class_report = metrics.classification_report(y_test, y_pred)\n",
        "print(class_report)"
      ],
      "execution_count": null,
      "outputs": [
        {
          "output_type": "stream",
          "name": "stdout",
          "text": [
            "              precision    recall  f1-score   support\n",
            "\n",
            "           0       0.71      0.16      0.26        77\n",
            "           1       0.83      0.98      0.90       323\n",
            "\n",
            "    accuracy                           0.82       400\n",
            "   macro avg       0.77      0.57      0.58       400\n",
            "weighted avg       0.81      0.82      0.78       400\n",
            "\n"
          ]
        }
      ]
    },
    {
      "cell_type": "markdown",
      "metadata": {
        "id": "W1uURLgKx6ze"
      },
      "source": [
        "**Plot ROC curve**"
      ]
    },
    {
      "cell_type": "code",
      "metadata": {
        "colab": {
          "base_uri": "https://localhost:8080/",
          "height": 312
        },
        "id": "ZJpkmc29f4QS",
        "outputId": "9c004f13-ad72-4a92-99f5-04cd1e4d6b4f"
      },
      "source": [
        "#ROC_AUC curve\n",
        "plt.figure()\n",
        "false_positive_rate, recall, thresholds=metrics.roc_curve(y_test, y_pred)\n",
        "roc_auc=metrics.auc(false_positive_rate, recall)\n",
        "plt.title('Reciver Operating Characteristics(ROC)')\n",
        "plt.plot(false_positive_rate, recall,'b',label='ROC(area=%0.3f)' %roc_auc)\n",
        "plt.legend()\n",
        "plt.plot([0,1],[0,1],'r--')\n",
        "plt.xlim([0.0,1.0])\n",
        "plt.ylim([0.0,1.0])\n",
        "plt.ylabel('Recall(True Positive Rate)')\n",
        "plt.xlabel('False Positive Rate')\n",
        "plt.show()\n",
        "print('AUC:',roc_auc)"
      ],
      "execution_count": null,
      "outputs": [
        {
          "output_type": "display_data",
          "data": {
            "image/png": "[encoded data removed]",
            "text/plain": [
              "<Figure size 432x288 with 1 Axes>"
            ]
          },
          "metadata": {
            "needs_background": "light"
          }
        },
        {
          "output_type": "stream",
          "name": "stdout",
          "text": [
            "AUC: 0.5701821398415826\n"
          ]
        }
      ]
    },
    {
      "cell_type": "markdown",
      "metadata": {
        "id": "oFEO5M0eNC2_"
      },
      "source": [
        "## TFIDF Vectorization"
      ]
    },
    {
      "cell_type": "code",
      "metadata": {
        "id": "MUGpgeyHNIEw"
      },
      "source": [
        "X_train, X_test, selected_features_tfidf = ngram_vectorize(x_train, y_train, x_test, tfidf=True)"
      ],
      "execution_count": null,
      "outputs": []
    },
    {
      "cell_type": "markdown",
      "metadata": {
        "id": "ceco8x4PNf_W"
      },
      "source": [
        "Cross validation using Grid Search"
      ]
    },
    {
      "cell_type": "code",
      "metadata": {
        "colab": {
          "base_uri": "https://localhost:8080/"
        },
        "id": "LGUxBTa8Neg2",
        "outputId": "8ed53a8c-6e0b-4db7-fecf-a1ff4ca817cf"
      },
      "source": [
        "%%time\n",
        "#Initialize the Random Forest classifier\n",
        "estimator2 = RandomForestClassifier(random_state=42)\n",
        "\n",
        "# Grid of parameters to choose from\n",
        "parameters = {'max_depth': np.arange(2,20), \n",
        "              'min_samples_split' : [2, 3, 5, 10, 12],\n",
        "              'n_estimators' : [10, 20, 50,100, 120],\n",
        "              'class_weight' : ['balanced', 'balanced_subsample']\n",
        "             }\n",
        "\n",
        "# Type of scoring used to compare parameter combinations\n",
        "acc_scorer = metrics.make_scorer(metrics.f1_score)\n",
        "\n",
        "# Run the grid search\n",
        "grid_obj = GridSearchCV(estimator2, parameters, scoring=acc_scorer,cv=5)\n",
        "grid_obj = grid_obj.fit(X_train, y_train)\n",
        "\n",
        "print('Best parameters are:')\n",
        "print(grid_obj.best_params_)"
      ],
      "execution_count": null,
      "outputs": [
        {
          "output_type": "stream",
          "name": "stdout",
          "text": [
            "Best parameters are:\n",
            "{'class_weight': 'balanced', 'max_depth': 15, 'min_samples_split': 2, 'n_estimators': 120}\n",
            "CPU times: user 14min 18s, sys: 3.19 s, total: 14min 21s\n",
            "Wall time: 14min 21s\n"
          ]
        }
      ]
    },
    {
      "cell_type": "code",
      "metadata": {
        "colab": {
          "base_uri": "https://localhost:8080/"
        },
        "id": "NthdZ7TuNuwO",
        "outputId": "603cda2d-9a6d-4285-9348-af9a0455658d"
      },
      "source": [
        "# Fit the model using above parameters\n",
        "rf_tfidf = RandomForestClassifier(max_depth=15, min_samples_split=2, n_estimators=120, class_weight='balanced', random_state=42)\n",
        "rf_tfidf.fit(X_train, y_train)"
      ],
      "execution_count": null,
      "outputs": [
        {
          "output_type": "execute_result",
          "data": {
            "text/plain": [
              "RandomForestClassifier(bootstrap=True, ccp_alpha=0.0, class_weight='balanced',\n",
              "                       criterion='gini', max_depth=15, max_features='auto',\n",
              "                       max_leaf_nodes=None, max_samples=None,\n",
              "                       min_impurity_decrease=0.0, min_impurity_split=None,\n",
              "                       min_samples_leaf=1, min_samples_split=2,\n",
              "                       min_weight_fraction_leaf=0.0, n_estimators=120,\n",
              "                       n_jobs=None, oob_score=False, random_state=42, verbose=0,\n",
              "                       warm_start=False)"
            ]
          },
          "metadata": {},
          "execution_count": 57
        }
      ]
    },
    {
      "cell_type": "markdown",
      "metadata": {
        "id": "6TlfxbXK5ZOh"
      },
      "source": [
        "### Feature importances for TFIDFVectorization"
      ]
    },
    {
      "cell_type": "code",
      "metadata": {
        "colab": {
          "base_uri": "https://localhost:8080/"
        },
        "id": "HZr2w6Bs5hzy",
        "outputId": "13c34031-832c-4dc9-dc97-24dcabd36a81"
      },
      "source": [
        "rf_tfidf.feature_importances_"
      ],
      "execution_count": null,
      "outputs": [
        {
          "output_type": "execute_result",
          "data": {
            "text/plain": [
              "array([0.        , 0.        , 0.00047602, ..., 0.        , 0.00041737,\n",
              "       0.        ])"
            ]
          },
          "metadata": {},
          "execution_count": 58
        }
      ]
    },
    {
      "cell_type": "code",
      "metadata": {
        "colab": {
          "base_uri": "https://localhost:8080/"
        },
        "id": "9cxkNnSf5q5L",
        "outputId": "48c23b16-e4bf-4e8f-d16e-1ce5a92e43c3"
      },
      "source": [
        "selected_features_tfidf[:10]"
      ],
      "execution_count": null,
      "outputs": [
        {
          "output_type": "execute_result",
          "data": {
            "text/plain": [
              "['006 circas',\n",
              " '01 mile',\n",
              " '021041 local',\n",
              " '021041 onto',\n",
              " '03 june',\n",
              " '04 2018',\n",
              " '07062018 021041',\n",
              " '0758am via',\n",
              " '10 2018',\n",
              " '10 fissure']"
            ]
          },
          "metadata": {},
          "execution_count": 59
        }
      ]
    },
    {
      "cell_type": "code",
      "metadata": {
        "colab": {
          "base_uri": "https://localhost:8080/",
          "height": 204
        },
        "id": "8T_lQA_P55-_",
        "outputId": "0ac34329-22eb-4733-d71d-7b83a6a38da5"
      },
      "source": [
        "# Get top 50 features \n",
        "feature_tfidf = pd.DataFrame(rf_tfidf.feature_importances_, columns=['Feature_importance'])\n",
        "feature_tfidf['Features'] = selected_features_tfidf\n",
        "feature_tfidf = feature_tfidf.sort_values(by = 'Feature_importance', ascending=False).reset_index(drop=True)\n",
        "feature_tfidf.head()"
      ],
      "execution_count": null,
      "outputs": [
        {
          "output_type": "execute_result",
          "data": {
            "text/html": [
              "<div>\n",
              "<style scoped>\n",
              "    .dataframe tbody tr th:only-of-type {\n",
              "        vertical-align: middle;\n",
              "    }\n",
              "\n",
              "    .dataframe tbody tr th {\n",
              "        vertical-align: top;\n",
              "    }\n",
              "\n",
              "    .dataframe thead th {\n",
              "        text-align: right;\n",
              "    }\n",
              "</style>\n",
              "<table border=\"1\" class=\"dataframe\">\n",
              "  <thead>\n",
              "    <tr style=\"text-align: right;\">\n",
              "      <th></th>\n",
              "      <th>Feature_importance</th>\n",
              "      <th>Features</th>\n",
              "    </tr>\n",
              "  </thead>\n",
              "  <tbody>\n",
              "    <tr>\n",
              "      <th>0</th>\n",
              "      <td>0.068042</td>\n",
              "      <td>kilauea volcano</td>\n",
              "    </tr>\n",
              "    <tr>\n",
              "      <th>1</th>\n",
              "      <td>0.037435</td>\n",
              "      <td>hawaii kilauea</td>\n",
              "    </tr>\n",
              "    <tr>\n",
              "      <th>2</th>\n",
              "      <td>0.024593</td>\n",
              "      <td>volcano eruption</td>\n",
              "    </tr>\n",
              "    <tr>\n",
              "      <th>3</th>\n",
              "      <td>0.022354</td>\n",
              "      <td>volcano erupts</td>\n",
              "    </tr>\n",
              "    <tr>\n",
              "      <th>4</th>\n",
              "      <td>0.018468</td>\n",
              "      <td>lava flow</td>\n",
              "    </tr>\n",
              "  </tbody>\n",
              "</table>\n",
              "</div>"
            ],
            "text/plain": [
              "   Feature_importance          Features\n",
              "0            0.068042   kilauea volcano\n",
              "1            0.037435    hawaii kilauea\n",
              "2            0.024593  volcano eruption\n",
              "3            0.022354    volcano erupts\n",
              "4            0.018468         lava flow"
            ]
          },
          "metadata": {},
          "execution_count": 60
        }
      ]
    },
    {
      "cell_type": "code",
      "metadata": {
        "colab": {
          "base_uri": "https://localhost:8080/",
          "height": 733
        },
        "id": "qtjBUcBv6PG0",
        "outputId": "82e49d9b-f1e3-454b-d19b-a5165eac0bcc"
      },
      "source": [
        "# Top 50 features\n",
        "top_50_tfidf = feature_tfidf[:50]\n",
        "\n",
        "# Plot feature importances \n",
        "plt.figure(figsize = (12, 12))\n",
        "plt.barh(top_50_tfidf.Features, top_50_tfidf.Feature_importance)\n",
        "plt.title('Top 50 features')"
      ],
      "execution_count": null,
      "outputs": [
        {
          "output_type": "execute_result",
          "data": {
            "text/plain": [
              "Text(0.5, 1.0, 'Top 50 features')"
            ]
          },
          "metadata": {},
          "execution_count": 61
        },
        {
          "output_type": "display_data",
          "data": {
            "image/png": "[encoded data removed]",
            "text/plain": [
              "<Figure size 864x864 with 1 Axes>"
            ]
          },
          "metadata": {
            "needs_background": "light"
          }
        }
      ]
    },
    {
      "cell_type": "code",
      "metadata": {
        "id": "vS02mtBxN_FE"
      },
      "source": [
        "# Get predictions \n",
        "y_pred = rf_tfidf.predict(X_test)"
      ],
      "execution_count": null,
      "outputs": []
    },
    {
      "cell_type": "code",
      "metadata": {
        "colab": {
          "base_uri": "https://localhost:8080/"
        },
        "id": "EE_mcPp4OEPf",
        "outputId": "60210a77-122b-4cfd-fa39-d84fe403e4e1"
      },
      "source": [
        "# Calculate metrics\n",
        "acc_score = metrics.accuracy_score(y_test, y_pred)\n",
        "f1 = metrics.f1_score(y_test, y_pred, average='weighted')\n",
        "recall = metrics.recall_score(y_test, y_pred, average='weighted')\n",
        "precision = metrics.precision_score(y_test, y_pred, average='weighted')\n",
        "\n",
        "print(f'Accuracy : {acc_score:.3}')\n",
        "print(f'F1-score : {f1:.3}')\n",
        "print(f'Recall : {recall:.3}')\n",
        "print(f'Precision : {precision:.3}')"
      ],
      "execution_count": null,
      "outputs": [
        {
          "output_type": "stream",
          "name": "stdout",
          "text": [
            "Accuracy : 0.743\n",
            "F1-score : 0.765\n",
            "Recall : 0.743\n",
            "Precision : 0.815\n"
          ]
        }
      ]
    },
    {
      "cell_type": "markdown",
      "metadata": {
        "id": "GOYt9UT7OQtx"
      },
      "source": [
        "**Confusion matrix**"
      ]
    },
    {
      "cell_type": "code",
      "metadata": {
        "colab": {
          "base_uri": "https://localhost:8080/",
          "height": 530
        },
        "id": "SfU6Nj_tOVXb",
        "outputId": "838099a9-0e87-49ca-cf57-a3199af4d60d"
      },
      "source": [
        "#Plot the confusion matrix\n",
        "plot_confusion_matrix(y_test, y_pred, normalize=False,figsize=(15,8))"
      ],
      "execution_count": null,
      "outputs": [
        {
          "output_type": "execute_result",
          "data": {
            "text/plain": [
              "<matplotlib.axes._subplots.AxesSubplot at 0x7fc341537190>"
            ]
          },
          "metadata": {},
          "execution_count": 64
        },
        {
          "output_type": "display_data",
          "data": {
            "image/png": "[encoded data removed]",
            "text/plain": [
              "<Figure size 1080x576 with 2 Axes>"
            ]
          },
          "metadata": {
            "needs_background": "light"
          }
        }
      ]
    },
    {
      "cell_type": "markdown",
      "metadata": {
        "id": "oX2HDmj9OarV"
      },
      "source": [
        "**Classification Report:**"
      ]
    },
    {
      "cell_type": "code",
      "metadata": {
        "colab": {
          "base_uri": "https://localhost:8080/"
        },
        "id": "u7kSPAP2Ofwz",
        "outputId": "c16d8594-bbdf-43db-b505-3386955b1585"
      },
      "source": [
        "class_report = metrics.classification_report(y_test, y_pred)\n",
        "print(class_report)"
      ],
      "execution_count": null,
      "outputs": [
        {
          "output_type": "stream",
          "name": "stdout",
          "text": [
            "              precision    recall  f1-score   support\n",
            "\n",
            "           0       0.40      0.70      0.51        77\n",
            "           1       0.91      0.75      0.83       323\n",
            "\n",
            "    accuracy                           0.74       400\n",
            "   macro avg       0.66      0.73      0.67       400\n",
            "weighted avg       0.82      0.74      0.76       400\n",
            "\n"
          ]
        }
      ]
    },
    {
      "cell_type": "markdown",
      "metadata": {
        "id": "2eXKF3WlOlMO"
      },
      "source": [
        "**Plot ROC curve**"
      ]
    },
    {
      "cell_type": "code",
      "metadata": {
        "colab": {
          "base_uri": "https://localhost:8080/",
          "height": 312
        },
        "id": "jD0FS8fTOp-g",
        "outputId": "6d40579d-45c9-499b-b4ef-16f29a02933e"
      },
      "source": [
        "#ROC_AUC curve\n",
        "plt.figure()\n",
        "false_positive_rate, recall, thresholds=metrics.roc_curve(y_test, y_pred)\n",
        "roc_auc=metrics.auc(false_positive_rate, recall)\n",
        "plt.title('Reciver Operating Characteristics(ROC)')\n",
        "plt.plot(false_positive_rate, recall,'b',label='ROC(area=%0.3f)' %roc_auc)\n",
        "plt.legend()\n",
        "plt.plot([0,1],[0,1],'r--')\n",
        "plt.xlim([0.0,1.0])\n",
        "plt.ylim([0.0,1.0])\n",
        "plt.ylabel('Recall(True Positive Rate)')\n",
        "plt.xlabel('False Positive Rate')\n",
        "plt.show()\n",
        "print('AUC:',roc_auc)"
      ],
      "execution_count": null,
      "outputs": [
        {
          "output_type": "display_data",
          "data": {
            "image/png": "[encoded data removed]",
            "text/plain": [
              "<Figure size 432x288 with 1 Axes>"
            ]
          },
          "metadata": {
            "needs_background": "light"
          }
        },
        {
          "output_type": "stream",
          "name": "stdout",
          "text": [
            "AUC: 0.726810341361425\n"
          ]
        }
      ]
    },
    {
      "cell_type": "code",
      "metadata": {
        "id": "ATrgpwjdfe3C"
      },
      "source": [
        ""
      ],
      "execution_count": null,
      "outputs": []
    }
  ]
}